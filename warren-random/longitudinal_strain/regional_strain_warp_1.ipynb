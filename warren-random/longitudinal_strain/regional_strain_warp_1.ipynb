{
 "cells": [
  {
   "cell_type": "markdown",
   "id": "7c076f4a-9040-4451-bcee-1949772bfc9d",
   "metadata": {},
   "source": [
    "## Isolate images into `N` subdivisions and warp them\n",
    "## We'll split the Image `I` into `N` horizontal strips of the boundary"
   ]
  },
  {
   "cell_type": "code",
   "execution_count": 1,
   "id": "b851830e-41af-47b9-8037-39a83d2cd15a",
   "metadata": {},
   "outputs": [],
   "source": [
    "model_name = \"Original_Pretrained_R2plus1DMotionSegNet.pth\"\n",
    "\n",
    "# model_name = \"dropout_v2_0_10_R2plus1DMotionSegNet.pth\"\n",
    "# model_name = \"dropout_v3_0_10_R2plus1DMotionSegNet.pth\""
   ]
  },
  {
   "cell_type": "code",
   "execution_count": 2,
   "id": "824a1dbb-1b0c-47f4-b1a9-ef70f35d9616",
   "metadata": {},
   "outputs": [
    {
     "name": "stdout",
     "output_type": "stream",
     "text": [
      "/home/wang/workspace/JupyterNoteBooksAll/fully-automated-multi-heartbeat-echocardiography-video-segmentation-and-motion-tracking\n"
     ]
    },
    {
     "name": "stderr",
     "output_type": "stream",
     "text": [
      "100%|██████████| 16/16 [00:01<00:00, 13.56it/s]\n"
     ]
    }
   ],
   "source": [
    "import os\n",
    "os.chdir(\"/home/wang/workspace/JupyterNoteBooksAll/fully-automated-multi-heartbeat-echocardiography-video-segmentation-and-motion-tracking\")\n",
    "print(os.getcwd())\n",
    "\n",
    "%config Completer.use_jedi = False\n",
    "\n",
    "import SimpleITK as itk\n",
    "from LabelFusion.wrapper import fuse_images\n",
    "\n",
    "import echonet\n",
    "from echonet.datasets import Echo\n",
    "\n",
    "import torch.nn.functional as F\n",
    "from torchvision.models.video import r2plus1d_18\n",
    "from torch.utils.data import Dataset, DataLoader, Subset\n",
    "from multiprocessing import cpu_count\n",
    "\n",
    "from src.utils.torch_utils import TransformDataset, torch_collate\n",
    "from src.utils.echo_utils import get2dPucks\n",
    "from src.utils.camus_validate import cleanupSegmentation\n",
    "from src.transform_utils import generate_2dmotion_field\n",
    "from src.visualization_utils import categorical_dice\n",
    "from src.loss_functions import huber_loss, convert_to_1hot, convert_to_1hot_tensor\n",
    "from src.echonet_dataset import EDESpairs, EchoNetDynamicDataset\n",
    "\n",
    "from src.model.R2plus1D_18_MotionNet import R2plus1D_18_MotionNet\n",
    "\n",
    "# v2 dropout (in place before motion heads, forgot to define in forward pass function, but still saw diff, weird.)\n",
    "from src.model.dropout_v2_0_00_R2plus1D_18_MotionNet import dropout_v2_0_00_R2plus1D_18_MotionNet\n",
    "from src.model.dropout_v2_0_10_R2plus1D_18_MotionNet import dropout_v2_0_10_R2plus1D_18_MotionNet\n",
    "from src.model.dropout_v2_0_25_R2plus1D_18_MotionNet import dropout_v2_0_25_R2plus1D_18_MotionNet\n",
    "from src.model.dropout_v2_0_50_R2plus1D_18_MotionNet import dropout_v2_0_50_R2plus1D_18_MotionNet\n",
    "from src.model.dropout_v2_0_75_R2plus1D_18_MotionNet import dropout_v2_0_75_R2plus1D_18_MotionNet\n",
    "# v3 dropout (one dropout layer defined in forward pass func, this should've been the correct way to do it.)\n",
    "from src.model.dropout_v3_0_00_R2plus1D_18_MotionNet import dropout_v3_0_00_R2plus1D_18_MotionNet\n",
    "from src.model.dropout_v3_0_10_R2plus1D_18_MotionNet import dropout_v3_0_10_R2plus1D_18_MotionNet\n",
    "from src.model.dropout_v3_0_25_R2plus1D_18_MotionNet import dropout_v3_0_25_R2plus1D_18_MotionNet\n",
    "from src.model.dropout_v3_0_50_R2plus1D_18_MotionNet import dropout_v3_0_50_R2plus1D_18_MotionNet\n",
    "from src.model.dropout_v3_0_75_R2plus1D_18_MotionNet import dropout_v3_0_75_R2plus1D_18_MotionNet\n",
    "# v4 dropout (4 dropout layers in different places in the forward func, I'm going to guess more \"generalizable\")\n",
    "from src.model.dropout_v4_0_00_R2plus1D_18_MotionNet import dropout_v4_0_00_R2plus1D_18_MotionNet\n",
    "from src.model.dropout_v4_0_10_R2plus1D_18_MotionNet import dropout_v4_0_10_R2plus1D_18_MotionNet\n",
    "from src.model.dropout_v4_0_25_R2plus1D_18_MotionNet import dropout_v4_0_25_R2plus1D_18_MotionNet\n",
    "from src.model.dropout_v4_0_50_R2plus1D_18_MotionNet import dropout_v4_0_50_R2plus1D_18_MotionNet\n",
    "from src.model.dropout_v4_0_75_R2plus1D_18_MotionNet import dropout_v4_0_75_R2plus1D_18_MotionNet\n",
    "\n",
    "# for finding lv seg borders\n",
    "import cv2 as cv\n",
    "\n",
    "\n",
    "# from src.visualization_utils import categorical_dice\n",
    "\n",
    "import numpy as np\n",
    "from scipy.signal import find_peaks\n",
    "import matplotlib.pyplot as plt\n",
    "\n",
    "import torch\n",
    "import torch.nn as nn\n",
    "import torch.optim as optim\n",
    "\n",
    "import random\n",
    "import pickle\n",
    "import time\n",
    "\n",
    "tic, toc = (time.time, time.time)\n",
    "\n",
    "\n",
    "device = 'cuda' if torch.cuda.is_available() else 'cpu'\n",
    "device\n",
    "\n",
    "\n",
    "batch_size = 4\n",
    "num_workers = max(4, cpu_count()//2)\n",
    "\n",
    "\n",
    "def worker_init_fn_valid(worker_id):                                                          \n",
    "    np.random.seed(np.random.get_state()[1][0] + worker_id)\n",
    "    \n",
    "\n",
    "def worker_init_fn(worker_id):\n",
    "    # See here: https://pytorch.org/docs/stable/notes/randomness.html#dataloader\n",
    "    # and the original post of the problem: https://github.com/pytorch/pytorch/issues/5059#issuecomment-817373837\n",
    "    worker_seed = torch.initial_seed() % 2 ** 32\n",
    "    print(f'worker_seed: {worker_seed}')\n",
    "    np.random.seed(worker_seed)\n",
    "    random.seed(worker_seed)\n",
    "    \n",
    "\n",
    "def permuter(list1, list2):\n",
    "    for i1 in list1:\n",
    "        for i2 in list2:\n",
    "            yield (i1, i2)\n",
    "            \n",
    "\n",
    "param_trainLoader = {'collate_fn': torch_collate,\n",
    "                     'batch_size': batch_size,\n",
    "                     'num_workers': max(4, cpu_count()//2),\n",
    "                     'worker_init_fn': worker_init_fn}\n",
    "\n",
    "param_testLoader = {'collate_fn': torch_collate,\n",
    "                    'batch_size': batch_size,\n",
    "                    'shuffle': False,\n",
    "                    'num_workers': max(4, cpu_count()//2),\n",
    "                    'worker_init_fn': worker_init_fn}\n",
    "\n",
    "paramLoader = {'train': param_trainLoader,\n",
    "               'valid': param_testLoader,\n",
    "               'test':  param_testLoader}\n",
    "\n",
    "\n",
    "with open(\"fold_indexes/stanford_valid_sampled_indices\", \"rb\") as infile:\n",
    "    valid_mask = pickle.load(infile)\n",
    "infile.close()\n",
    "\n",
    "# full_dataset = EchoNetDynamicDataset(split='val', clip_length=\"full\", subset_indices=valid_mask, period=1)\n",
    "test_dataset = EchoNetDynamicDataset(split='test', clip_length=\"full\", raise_for_es_ed=False, period=1)\n",
    "# random_test_dataset = EchoNetDynamicDataset(split='test', clip_length=32, raise_for_es_ed=True, period=1)"
   ]
  },
  {
   "cell_type": "code",
   "execution_count": 3,
   "id": "ede93113-9913-4e8e-98c9-879e1ab4f778",
   "metadata": {},
   "outputs": [
    {
     "name": "stdout",
     "output_type": "stream",
     "text": [
      "Original_Pretrained_R2plus1DMotionSegNet.pth has 31575731 parameters.\n"
     ]
    }
   ],
   "source": [
    "model_save_path = f\"save_models/{model_name}\"\n",
    "    \n",
    "if model_name == 'Original_Pretrained_R2plus1DMotionSegNet.pth':\n",
    "    model_template_obj = R2plus1D_18_MotionNet()\n",
    "elif model_name == 'dropout_v2_0_00_R2plus1DMotionSegNet.pth':\n",
    "    model_template_obj = dropout_v2_0_00_R2plus1D_18_MotionNet()\n",
    "elif model_name == 'dropout_v2_0_10_R2plus1DMotionSegNet.pth':\n",
    "    model_template_obj = dropout_v2_0_10_R2plus1D_18_MotionNet()\n",
    "\n",
    "elif model_name == \"dropout_v3_0_00_R2plus1DMotionSegNet.pth\":\n",
    "    model_template_obj = dropout_v3_0_00_R2plus1D_18_MotionNet()\n",
    "elif model_name == \"dropout_v3_0_10_R2plus1DMotionSegNet.pth\":\n",
    "    model_template_obj = dropout_v3_0_10_R2plus1D_18_MotionNet()\n",
    "elif model_name == \"dropout_v3_0_25_R2plus1DMotionSegNet.pth\":\n",
    "    model_template_obj = dropout_v3_0_25_R2plus1D_18_MotionNet()\n",
    "elif model_name == \"dropout_v4_0_00_R2plus1DMotionSegNet.pth\":\n",
    "    model_template_obj = dropout_v4_0_00_R2plus1D_18_MotionNet()\n",
    "elif model_name == \"dropout_v4_0_10_R2plus1DMotionSegNet.pth\":\n",
    "    model_template_obj = dropout_v4_0_10_R2plus1D_18_MotionNet()\n",
    "elif model_name == \"dropout_v4_0_25_R2plus1DMotionSegNet.pth\":\n",
    "    model_template_obj = dropout_v4_0_25_R2plus1D_18_MotionNet()\n",
    "\n",
    "\n",
    "model = torch.nn.DataParallel(model_template_obj)\n",
    "\n",
    "model.to(\"cuda\")\n",
    "torch.cuda.empty_cache()\n",
    "model.load_state_dict(torch.load(model_save_path)[\"model\"])\n",
    "print(f'{model_name} has {sum(p.numel() for p in model.parameters() if p.requires_grad)} parameters.')\n",
    "model.eval();"
   ]
  },
  {
   "cell_type": "code",
   "execution_count": 4,
   "id": "e22e69f4-fcfd-42b5-9484-d2edfc444a09",
   "metadata": {},
   "outputs": [],
   "source": [
    "def get_warp_data(test_pat_index, test_dataset, model):\n",
    "    '''\n",
    "    INPUT: \n",
    "    test_pat_index and test_dataset to be used like the following:\n",
    "        video, (filename, EF, es_clip_index, ed_clip_index, es_index, ed_index, es_frame, ed_frame, es_label, ed_label) = test_dataset[test_pat_index]\n",
    "    model\n",
    "        model to be used, one model at a time\n",
    "    clip_index\n",
    "        the clip we should use, determines the position of the ED and ES frame in the 32 frame clip\n",
    "        the difference in frames from ED to ES is always the same\n",
    "\n",
    "    OUTPUT:\n",
    "    es_created_from_warping_ed, ed_created_from_warping_es\n",
    "        both with shape: (1, 2, 112, 112)\n",
    "        you should double check the shape.\n",
    "    and other vars \n",
    "    '''\n",
    "    ########################### Helper functions ###########################\n",
    "    # goes thru a video and annotates where we can start clips given video length, clip length, etc.\n",
    "    def get_all_possible_start_points(ed_index, es_index, video_length, clip_length):\n",
    "        assert es_index - ed_index > 0, \"not a ED to ES clip pair\"\n",
    "        possible_shift = clip_length - (es_index - ed_index)\n",
    "        allowed_right = video_length - es_index\n",
    "        if allowed_right < possible_shift:\n",
    "            return np.arange(ed_index - possible_shift + 1, video_length - clip_length + 1)\n",
    "        if possible_shift < 0:\n",
    "            return np.array([ed_index])\n",
    "        elif ed_index < possible_shift:\n",
    "            return np.arange(ed_index + 1)\n",
    "        else:\n",
    "            return np.arange(ed_index - possible_shift + 1, ed_index + 1)\n",
    "        \n",
    "    def generate_2dmotion_field_PLAY(x, offset):\n",
    "        # Qin's code for joint_motion_seg learning works fine on our purpose too\n",
    "        # Same idea https://discuss.pytorch.org/t/warp-video-frame-from-optical-flow/6013/5\n",
    "        x_shape = x.shape\n",
    "        # print(f'x_shape: {x_shape}')\n",
    "\n",
    "        grid_w, grid_h = torch.meshgrid([torch.linspace(-1, 1, x_shape[2]), torch.linspace(-1, 1, x_shape[3])])  # (h, w)\n",
    "\n",
    "        # this should just be moving the vars to gpu mem and doing some data type conversion to some\n",
    "        # floating point precision\n",
    "        grid_w = grid_w.cuda().float()\n",
    "        grid_h = grid_h.cuda().float()\n",
    "\n",
    "        grid_w = nn.Parameter(grid_w, requires_grad=False)\n",
    "        grid_h = nn.Parameter(grid_h, requires_grad=False)\n",
    "\n",
    "        # OLD \n",
    "        # offset_h, offset_w = torch.split(offset, 1, 1)\n",
    "        # NEW , TESTING\n",
    "        offset_h, offset_w = torch.split(offset, 1)\n",
    "\n",
    "        offset_w = offset_w.contiguous().view(-1, int(x_shape[2]), int(x_shape[3]))  # (b*c, h, w)\n",
    "        offset_h = offset_h.contiguous().view(-1, int(x_shape[2]), int(x_shape[3]))  # (b*c, h, w)\n",
    "\n",
    "        offset_w = grid_w + offset_w\n",
    "        offset_h = grid_h + offset_h\n",
    "\n",
    "        offsets = torch.stack((offset_h, offset_w), 3)\n",
    "        return offsets\n",
    "\n",
    "    def categorical_dice(prediction, truth, k, epsilon=1e-5):\n",
    "        \"\"\"\n",
    "            Compute the dice overlap between the predicted labels and truth\n",
    "            Not a loss\n",
    "        \"\"\"\n",
    "        # Dice overlap metric for label value k\n",
    "        A = (prediction == k)\n",
    "        B = (truth == k)\n",
    "        return 2 * np.sum(A * B) / (np.sum(A) + np.sum(B) + epsilon)\n",
    "    \n",
    "    ########################################################################\n",
    "    # initial grabbing of the data that we'll use\n",
    "    video, (filename, EF, es_clip_index, ed_clip_index, es_index, ed_index, es_frame, ed_frame, es_label, ed_label) = test_dataset[test_pat_index]\n",
    "    \n",
    "    # get all possible start indices for 32 frame clip with ed/es in right order\n",
    "    possible_starts = get_all_possible_start_points(ed_index, es_index, video.shape[1], clip_length=32)\n",
    "    \n",
    "    # for now, let's use the last clip from our set of all possible clips to use\n",
    "    clip_index = len(possible_starts) - 1\n",
    "    # print(f'clip_index: {clip_index}')\n",
    "\n",
    "    # get the diff in frame len from ed to es\n",
    "    delta_ed_es = es_index - ed_index\n",
    "    \n",
    "    # use model to segment frames\n",
    "    segmentation_outputs = np.empty(shape=(1, 2, 32, 112, 112))\n",
    "    motion_outputs = np.empty(shape=(1, 4, 32, 112, 112))\n",
    "    for start in possible_starts:\n",
    "        one_clip = np.expand_dims(video[:, start: start + 32], 0)\n",
    "        segmentation_output, motion_output = model(torch.Tensor(one_clip))\n",
    "        segmentation_outputs = np.concatenate([segmentation_outputs, segmentation_output.cpu().detach().numpy()])\n",
    "        motion_outputs = np.concatenate([motion_outputs, motion_output.cpu().detach().numpy()])\n",
    "    segmentation_outputs = segmentation_outputs[1:]\n",
    "    motion_outputs = motion_outputs[1:]\n",
    "\n",
    "    # grab whatever clip we want\n",
    "    curr_clip_segmentations = segmentation_outputs[clip_index]\n",
    "    curr_clip_motions = motion_outputs[clip_index]\n",
    "    \n",
    "    print(f'curr_clip_segmentations: {curr_clip_segmentations.shape}')\n",
    "    print(f'curr_clip_motions: {curr_clip_motions.shape}')\n",
    "    \n",
    "    ######################## Warp from ED -> ES and ED <- ES ########################\n",
    "    \n",
    "    # remember, we will want to continuously warp the previous frame that has been warped forward in time\n",
    "    # only the first frame that we start with will be the actual seg out frame\n",
    "    flow_source = None\n",
    "    \n",
    "    print('forward warping: ')\n",
    "\n",
    "    # warping FORWARD from ED -> ES\n",
    "    # python range is [x, y), inclusive start and exclusive end\n",
    "    for frame_index in range(31 - delta_ed_es - clip_index, 31 - clip_index + 1, 1):\n",
    "        # grab forward motion\n",
    "        forward_motion = curr_clip_motions[:2, frame_index,...]\n",
    "        print(f'forward_motion.shape: {forward_motion.shape}')\n",
    "\n",
    "        # grab the ED seg out frame to warp\n",
    "        if frame_index == 0:\n",
    "            flow_source = np.array([curr_clip_segmentations[:, frame_index, ...]])\n",
    "            print(f'flow_source.shape: {flow_source.shape}')\n",
    "            flow_source = torch.from_numpy(flow_source).to(device).float()\n",
    "        else:\n",
    "            pass # use previous next_label as flow_source, should be redefined at end of previous loop iter\n",
    "\n",
    "        # convert to tensors and move to gpu with float dtype\n",
    "        forward_motion = torch.from_numpy(forward_motion).to(device).float()\n",
    "        # generate motion field for forward motion\n",
    "        motion_field = generate_2dmotion_field_PLAY(flow_source, forward_motion)\n",
    "        # create frame i+1 relative to curr frame i \n",
    "        next_label = F.grid_sample(flow_source, motion_field, align_corners=False, mode=\"bilinear\", padding_mode='border')\n",
    "        # use i+1 frame as next loop iter's i frame\n",
    "        flow_source = next_label\n",
    "        \n",
    "        print(f'loop end flow_source.shape: {flow_source.shape}')\n",
    "\n",
    "    es_created_from_warping_ed = flow_source.cpu().detach().numpy()\n",
    "\n",
    "    # warping BACKWARD from ED <- ES\n",
    "    for frame_index in range(31 - clip_index, 31 - delta_ed_es - clip_index - 1, -1):\n",
    "        # grab backward motion\n",
    "        backward_motion = curr_clip_motions[2:, frame_index,...]\n",
    "\n",
    "        # grab the ES seg out frame to start\n",
    "        if frame_index == delta_ed_es:\n",
    "            flow_source = np.array([curr_clip_segmentations[:, frame_index, ...]])\n",
    "            flow_source = torch.from_numpy(flow_source).to(device).float()\n",
    "        else:\n",
    "            pass # use previous next_label as flow_source, should be redefined at end of previous loop iter\n",
    "\n",
    "        # convert to tensors and move to gpu with float dtype\n",
    "        backward_motion = torch.from_numpy(backward_motion).to(device).float()\n",
    "        # generate motion field for backward motion\n",
    "        motion_field = generate_2dmotion_field_PLAY(flow_source, backward_motion)\n",
    "        # create frame i-1 relative to curr frame i \n",
    "        next_label = F.grid_sample(flow_source, motion_field, align_corners=False, mode=\"bilinear\", padding_mode='border')\n",
    "        # use i-1 frame as next loop iter's i frame\n",
    "        flow_source = next_label\n",
    "\n",
    "    ed_created_from_warping_es = flow_source.cpu().detach().numpy()\n",
    "    \n",
    "    ######################## ######################## ########################\n",
    "    print('before applying np.argmax:')\n",
    "    print(np.unique(ed_created_from_warping_es[0][0]))\n",
    "    print(np.unique(ed_created_from_warping_es[0][1]))\n",
    "    \n",
    "    \n",
    "    ed_created_from_warping_es = np.argmax(ed_created_from_warping_es, 1)[0]\n",
    "\n",
    "    es_created_from_warping_ed = np.argmax(es_created_from_warping_ed, 1)[0]\n",
    "    \n",
    "    print('after applying np.argmax:')\n",
    "    print(np.unique(ed_created_from_warping_es[0][0]))\n",
    "    print(np.unique(ed_created_from_warping_es[0][1]))\n",
    "\n",
    "    \n",
    "    return es_created_from_warping_ed, ed_created_from_warping_es, curr_clip_segmentations, ed_label, es_label, delta_ed_es"
   ]
  },
  {
   "cell_type": "code",
   "execution_count": 5,
   "id": "fc26d936-0c83-4b3f-ac60-ed871ce5cbbc",
   "metadata": {},
   "outputs": [],
   "source": [
    "def rmse(x, y):\n",
    "    ''' return root mean square error difference between the two values passed in'''\n",
    "    return np.sqrt((x - y) ** 2)\n",
    "\n",
    "def strain_value(l_0, l_i):\n",
    "    '''\n",
    "    inputs: l_0, l_i -- original length and new length at some time point, respectively\n",
    "    output: e -- strain value (positive for elongation, negative for compressing/shortening) as a percentage (e.g. output 0.155 == 15.5 %)\n",
    "    \n",
    "    examples: \n",
    "        l_i = 10\n",
    "        l_0 = 5\n",
    "        e == (10 - 5) / 5 = 1, factor of lengthening relative to original value\n",
    "        \n",
    "        l_i = 5\n",
    "        l_0 = 5\n",
    "        e == (5 - 5) / 5 = 0, no strain\n",
    "    '''\n",
    "    return (l_i - l_0) / l_0\n",
    "\n",
    "def give_boundary(x):\n",
    "    '''\n",
    "    input: \n",
    "        x (112, 112) one-hot encoded lv mask/segmentation\n",
    "        unique values (0,1)\n",
    "        has to be numpy ndarray on cpu mem\n",
    "    output: \n",
    "        y (112, 112) black and white picture of boundary of lv\n",
    "        unique vals (0,1)\n",
    "    '''\n",
    "    foo = np.uint8(x * 255)\n",
    "    ret, thresh = cv.threshold(foo, 127, 255, 0)\n",
    "    contours, hierarchy = cv.findContours(thresh, cv.RETR_TREE, cv.CHAIN_APPROX_SIMPLE)\n",
    "    blank = np.zeros((112,112))\n",
    "    cv.drawContours(blank, contours, -1, (255,255,255), 1)\n",
    "    \n",
    "    # return boundary image with unique values of (0,1)\n",
    "    blank = blank / 255\n",
    "    \n",
    "    return blank\n",
    "\n",
    "def boundaries_to_strain(before, after):\n",
    "    '''\n",
    "    input:\n",
    "        before (112, 112) boundary of lv\n",
    "        after (112, 112) boundary of lv\n",
    "        expect unique values of (0,1)\n",
    "        \n",
    "    output: \n",
    "        y - floating point number representing strain value, left as a decimal, NOT multiplied by 100\n",
    "    '''\n",
    "    # make sure values in image are only 0 and 1\n",
    "    check_unique_vals = np.unique(before)\n",
    "    if check_unique_vals[0] == 0 and check_unique_vals[1] == 255:\n",
    "        before = before / 255\n",
    "    check_unique_vals = np.unique(after)\n",
    "    if check_unique_vals[0] == 0 and check_unique_vals[1] == 255:\n",
    "        after = after / 255\n",
    "        \n",
    "    # cut basal plane out\n",
    "    before = cut_basal_plane_out(before)\n",
    "    after = cut_basal_plane_out(after)\n",
    "    \n",
    "    # count lv pixels\n",
    "    l_0 = np.count_nonzero(before == 1)\n",
    "    l_i = np.count_nonzero(after == 1)\n",
    "    \n",
    "    return strain_value(l_0, l_i)\n",
    "    \n",
    "def images_to_strain(ed_frame, es_frame):\n",
    "    '''\n",
    "    input:\n",
    "        ed_frame (112, 112)\n",
    "        es_frame (112, 112)\n",
    "        \n",
    "        expect vals to be one-hot encoded (1's for lv, 0's for not lv)\n",
    "    output:\n",
    "        x - floating point number\n",
    "        strain value (some decimal, should be negative)\n",
    "    '''\n",
    "    # get boundaries, then cut basal plane out\n",
    "    ed_bound = cut_basal_plane_out(give_boundary(ed_frame))\n",
    "    es_bound = cut_basal_plane_out(give_boundary(es_frame))\n",
    "    # compute strain and return\n",
    "    return boundaries_to_strain(ed_bound, es_bound)"
   ]
  },
  {
   "cell_type": "code",
   "execution_count": 6,
   "id": "68b21102-85c6-409d-b743-2d50950efadc",
   "metadata": {},
   "outputs": [],
   "source": [
    "def blot_out_given_rect(rectangle_corners, I, replace_val = 0):\n",
    "    '''\n",
    "    input:\n",
    "        rectangle_corners - shape (2,2)\n",
    "        I - shape (112, 112) \n",
    "        \n",
    "    output:\n",
    "        I_copy -- deepcopy of original image I with the defined rectangle section given zeroed out in the image\n",
    "    '''\n",
    "    \n",
    "     # i = row, j = col, we're thinking in ij/row col instead of xy\n",
    "    if rectangle_corners[0][0] < rectangle_corners[1][0]:\n",
    "        i_start = int(rectangle_corners[0][0])\n",
    "        i_end = int(rectangle_corners[1][0])\n",
    "    else:\n",
    "        i_end = int(rectangle_corners[0][0])\n",
    "        i_start = int(rectangle_corners[1][0])\n",
    "        \n",
    "    if rectangle_corners[1][1] < rectangle_corners[0][1]:\n",
    "        j_start = int(rectangle_corners[1][1])\n",
    "        j_end = int(rectangle_corners[0][1])\n",
    "    else:\n",
    "        j_end = int(rectangle_corners[1][1])\n",
    "        j_start = int(rectangle_corners[0][1])\n",
    "        \n",
    "    # make copy and alter then return\n",
    "    import copy \n",
    "    I_copy = copy.deepcopy(I)\n",
    "    \n",
    "    # zero out everything at and below the highest of the two index points (i_start)\n",
    "    I_copy[i_start : I.shape[0], 0 : I.shape[1]] = replace_val\n",
    "    \n",
    "    return I_copy"
   ]
  },
  {
   "cell_type": "code",
   "execution_count": 7,
   "id": "6118a0fe-3446-401c-b3a9-13b2db699805",
   "metadata": {},
   "outputs": [],
   "source": [
    "def blank_with_rect(rectangle_corners, I, replace_val=127):\n",
    "    '''\n",
    "    input:\n",
    "        rectangle_corners - shape (2, 2)\n",
    "    output:\n",
    "        empty image with the rectangle as defined blotted out with values of 127 -- shape (112, 112)\n",
    "    '''\n",
    "    I_rect = np.zeros(I.shape)\n",
    "    I_rect = blot_out_given_rect(rectangle_corners, I_rect, replace_val=replace_val)\n",
    "    return I_rect"
   ]
  },
  {
   "cell_type": "code",
   "execution_count": 8,
   "id": "f540ad11-26a7-4a4e-99f9-4ad160f44468",
   "metadata": {},
   "outputs": [],
   "source": [
    "def plot_rectangle(rectangle_corners, I=None, show_applied=False):\n",
    "    '''\n",
    "    input:\n",
    "        rectangle_corners - shape (2,2)\n",
    "        Well, technically rectangle corners could even have shape of (4, 2)\n",
    "    \n",
    "    plot a rectangle based on the coords given (in format of the skimage functions that get the corner pixels coords)\n",
    "    also if an image is given, plot the rectangle on top of it\n",
    "    '''\n",
    "   \n",
    "    # plot the rectangle\n",
    "    I_rect = blank_with_rect(rectangle_corners, I)\n",
    "    \n",
    "    # plot the original image if given\n",
    "    plt.figure(figsize=(10,5))\n",
    "    if I is not None:\n",
    "        # assuming I has unique values (0,1)\n",
    "        plt.imshow(I * 255, cmap='gray', zorder=1)\n",
    "        plt.imshow(I_rect, cmap='gray', zorder=2, alpha=0.5)\n",
    "        # plt.colorbar()\n",
    "    else:\n",
    "        plt.imshow(I_rect, cmap='gray')\n",
    "    \n",
    "    plt.show()\n",
    "    \n",
    "    # show another figure of using the shown rectangle to zero out original image if asked\n",
    "    if show_applied:\n",
    "        plt.figure(figsize=(10,5))\n",
    "        plt.imshow(blot_out_given_rect(rectangle_corners, I), cmap='gray')\n",
    "        plt.show()"
   ]
  },
  {
   "cell_type": "code",
   "execution_count": 9,
   "id": "6f661be1-ac0c-4802-b95d-8e87b2cda6fc",
   "metadata": {},
   "outputs": [],
   "source": [
    "def vizualize_corner_pixels_detected(I, show_plot=True, return_vars=False):\n",
    "    '''\n",
    "    input: I (112, 112), unique vals of 0,1\n",
    "    output (if requested):\n",
    "        coords - numpy ndarray\n",
    "        coords_subpix - nump ndarray\n",
    "            shapes of 2 objects above may vary...\n",
    "    \n",
    "    Prints the matplotlib figure with the corner pixels detected attached to the image\n",
    "    \n",
    "    '''\n",
    "    from skimage.feature import corner_harris, corner_subpix, corner_peaks\n",
    "\n",
    "    # make sure values in image are only 0 and 1\n",
    "    check_unique_vals = np.unique(I)\n",
    "    if check_unique_vals[0] == 0 and check_unique_vals[1] == 255:\n",
    "        I = I / 255\n",
    "    elif check_unique_vals[0] == 0 and check_unique_vals[1] != 1:\n",
    "        print('incorrect values in Image')\n",
    "        return\n",
    "\n",
    "    coords = corner_peaks(corner_harris(I), min_distance=5, threshold_rel=0.02)\n",
    "    coords_subpix = corner_subpix(I, coords, window_size=13)\n",
    "\n",
    "    if show_plot:\n",
    "        fig, ax = plt.subplots(figsize=(15, 10))\n",
    "        ax.imshow(I, cmap=plt.cm.gray)\n",
    "        ax.plot(coords[:, 1], coords[:, 0], color='cyan', marker='o',\n",
    "                linestyle='None', markersize=6)\n",
    "        ax.plot(coords_subpix[:, 1], coords_subpix[:, 0], '+r', markersize=15)\n",
    "        plt.show()\n",
    "    \n",
    "    # return quantities if requested\n",
    "    if return_vars:\n",
    "        return coords, coords_subpix"
   ]
  },
  {
   "cell_type": "code",
   "execution_count": 10,
   "id": "b52684fb-5bfe-4ac7-a88f-2ca01beb9fee",
   "metadata": {},
   "outputs": [],
   "source": [
    "def get_rectangle_corners(I):\n",
    "    '''\n",
    "    input:\n",
    "        I - shape (112, 112)\n",
    "    output:\n",
    "        rectange_corners - shape (2,2)\n",
    "    '''\n",
    "    from skimage.feature import corner_harris, corner_subpix, corner_peaks\n",
    "\n",
    "    # get corner pixels to form rectangle from\n",
    "    coords = corner_peaks(corner_harris(I), min_distance=5, threshold_rel=0.02)    \n",
    "    \n",
    "    # descending order sort all possible values along axis=0 for sorting by i / row index\n",
    "    coords[::-1].sort(axis=0)\n",
    "    \n",
    "    rectangle_corners = coords[0:2]\n",
    "\n",
    "    return rectangle_corners"
   ]
  },
  {
   "cell_type": "code",
   "execution_count": 11,
   "id": "e55fe838-ba2a-4fd0-b87c-08227b17bfe5",
   "metadata": {},
   "outputs": [],
   "source": [
    "def cut_basal_plane_out(I):\n",
    "    '''\n",
    "    input: I (112, 112) expected to have unique values of (0,1)...1 for lv, 0 for not lv\n",
    "    output: I_new (112, 112) with unique values of (0,1)... 1 for lv, 0 for not lv...this has the basal plane removed\n",
    "    \n",
    "    https://scikit-image.org/docs/dev/auto_examples/features_detection/plot_corner.html#sphx-glr-auto-examples-features-detection-plot-corner-py\n",
    "    \n",
    "    When choosing which 2 points to create a rough rectangle to zero out the bottom mitral valve / basal plane boundary\n",
    "    we will go with this ordering of points to use:\n",
    "    1. Both points from corner_subpix\n",
    "    2. One point from corner_subpix, one point from corner_peaks\n",
    "    3. Both points from corner_peaks\n",
    "    \n",
    "    If we can't get two points at the area of the basal plane from any of the three situations described above, we are out of luck. \n",
    "    We will have to do something else, but this won't work then. \n",
    "    '''  \n",
    "    # make sure values in image are only 0 and 1\n",
    "    check_unique_vals = np.unique(I)\n",
    "    if check_unique_vals[0] == 0 and check_unique_vals[1] == 255:\n",
    "        I = I / 255\n",
    "    elif check_unique_vals[0] == 0 and check_unique_vals[1] != 1:\n",
    "        print('incorrect values in Image')\n",
    "        return\n",
    "    \n",
    "    rectangle_corners = get_rectangle_corners(I)\n",
    "    return blot_out_given_rect(rectangle_corners, I)"
   ]
  },
  {
   "cell_type": "code",
   "execution_count": 12,
   "id": "1307ba17-4392-47d6-8e00-ef940f7608c0",
   "metadata": {},
   "outputs": [],
   "source": [
    "%matplotlib widget\n",
    "\n",
    "# taken from stough's dip vis_utils.py\n",
    "def vis_pair(I, J, figsize = (8,3), shared = True, \n",
    "             first_title = 'Original', second_title = 'New',\n",
    "             show_ticks = True, **kwargs):\n",
    "    '''\n",
    "    vis_pair(I, J, figsize = (8,3), shared = True, first_title = 'Original', second_title = 'New'):\n",
    "    produce a plot of images I and J together. By default takes care of sharing axes to provide\n",
    "    a little 1x2 plot without all the coding.\n",
    "    '''\n",
    "    f, ax = plt.subplots(1,2, figsize=figsize, sharex = shared, sharey = shared)\n",
    "    ax[0].imshow(I, **kwargs)\n",
    "    ax[0].set_title(first_title)\n",
    "    ax[1].imshow(J, **kwargs)\n",
    "    ax[1].set_title(second_title)\n",
    "    \n",
    "    if not show_ticks:\n",
    "        [a.axes.get_xaxis().set_visible(False) for a in ax];\n",
    "        [a.axes.get_yaxis().set_visible(False) for a in ax];\n",
    "    \n",
    "    plt.tight_layout()"
   ]
  },
  {
   "cell_type": "markdown",
   "id": "2005d808-50bf-4344-834d-f5fe7b0b8265",
   "metadata": {},
   "source": [
    "## Let's start doing things"
   ]
  },
  {
   "cell_type": "code",
   "execution_count": 13,
   "id": "b8f9c8e5-e8b7-48f7-9bee-7756491b40e7",
   "metadata": {},
   "outputs": [
    {
     "name": "stdout",
     "output_type": "stream",
     "text": [
      "61\n",
      "curr_clip_segmentations: (2, 32, 112, 112)\n",
      "curr_clip_motions: (4, 32, 112, 112)\n",
      "forward warping: \n",
      "forward_motion.shape: (2, 112, 112)\n",
      "flow_source.shape: (1, 2, 112, 112)\n",
      "loop end flow_source.shape: torch.Size([1, 2, 112, 112])\n",
      "forward_motion.shape: (2, 112, 112)\n",
      "loop end flow_source.shape: torch.Size([1, 2, 112, 112])\n",
      "forward_motion.shape: (2, 112, 112)\n",
      "loop end flow_source.shape: torch.Size([1, 2, 112, 112])\n",
      "forward_motion.shape: (2, 112, 112)\n",
      "loop end flow_source.shape: torch.Size([1, 2, 112, 112])\n",
      "forward_motion.shape: (2, 112, 112)\n",
      "loop end flow_source.shape: torch.Size([1, 2, 112, 112])\n",
      "forward_motion.shape: (2, 112, 112)\n",
      "loop end flow_source.shape: torch.Size([1, 2, 112, 112])\n",
      "forward_motion.shape: (2, 112, 112)\n",
      "loop end flow_source.shape: torch.Size([1, 2, 112, 112])\n",
      "forward_motion.shape: (2, 112, 112)\n",
      "loop end flow_source.shape: torch.Size([1, 2, 112, 112])\n",
      "forward_motion.shape: (2, 112, 112)\n",
      "loop end flow_source.shape: torch.Size([1, 2, 112, 112])\n",
      "forward_motion.shape: (2, 112, 112)\n",
      "loop end flow_source.shape: torch.Size([1, 2, 112, 112])\n",
      "forward_motion.shape: (2, 112, 112)\n",
      "loop end flow_source.shape: torch.Size([1, 2, 112, 112])\n",
      "forward_motion.shape: (2, 112, 112)\n",
      "loop end flow_source.shape: torch.Size([1, 2, 112, 112])\n",
      "forward_motion.shape: (2, 112, 112)\n",
      "loop end flow_source.shape: torch.Size([1, 2, 112, 112])\n",
      "forward_motion.shape: (2, 112, 112)\n",
      "loop end flow_source.shape: torch.Size([1, 2, 112, 112])\n",
      "forward_motion.shape: (2, 112, 112)\n",
      "loop end flow_source.shape: torch.Size([1, 2, 112, 112])\n",
      "forward_motion.shape: (2, 112, 112)\n",
      "loop end flow_source.shape: torch.Size([1, 2, 112, 112])\n",
      "before applying np.argmax:\n",
      "[-4.5845942 -4.5845556 -4.584542  ...  9.036868   9.037424   9.067766 ]\n",
      "[-9.056926  -9.022239  -9.022024  ...  4.622128   4.622143   4.6221848]\n",
      "after applying np.argmax:\n",
      "[0]\n",
      "[0]\n"
     ]
    }
   ],
   "source": [
    "test_pat_index = np.random.randint(0, len(test_dataset))\n",
    "print(test_pat_index)\n",
    "es_warp, ed_warp, curr_clip_segmentations, ed_label, es_label, delta_ed_es = get_warp_data(test_pat_index = test_pat_index, test_dataset = test_dataset, model = model)"
   ]
  },
  {
   "cell_type": "code",
   "execution_count": 14,
   "id": "ef33d339-72dc-4128-befa-26bfa055e7e9",
   "metadata": {},
   "outputs": [
    {
     "data": {
      "text/plain": [
       "(2, 32, 112, 112)"
      ]
     },
     "execution_count": 14,
     "metadata": {},
     "output_type": "execute_result"
    }
   ],
   "source": [
    "curr_clip_segmentations.shape"
   ]
  },
  {
   "cell_type": "code",
   "execution_count": null,
   "id": "39a65480-758a-4a3c-8035-23829e92ed6c",
   "metadata": {},
   "outputs": [],
   "source": []
  },
  {
   "cell_type": "code",
   "execution_count": 15,
   "id": "f6b5cc9c-ae38-471c-bd3c-61af16883add",
   "metadata": {},
   "outputs": [],
   "source": [
    "ed_seg_out = np.argmax(curr_clip_segmentations, 0)[0]\n",
    "es_seg_out = np.argmax(curr_clip_segmentations, 0)[delta_ed_es]"
   ]
  },
  {
   "cell_type": "code",
   "execution_count": 16,
   "id": "af82e4e8-0eac-481c-9b96-b298ff71714b",
   "metadata": {},
   "outputs": [
    {
     "data": {
      "text/plain": [
       "-0.16326530612244897"
      ]
     },
     "execution_count": 16,
     "metadata": {},
     "output_type": "execute_result"
    }
   ],
   "source": [
    "images_to_strain(ed_seg_out, es_seg_out)"
   ]
  },
  {
   "cell_type": "code",
   "execution_count": 17,
   "id": "f97c60de-dc14-4035-8a1c-7278f4e47887",
   "metadata": {},
   "outputs": [
    {
     "data": {
      "text/plain": [
       "-0.18556701030927836"
      ]
     },
     "execution_count": 17,
     "metadata": {},
     "output_type": "execute_result"
    }
   ],
   "source": [
    "images_to_strain(ed_label, es_label)"
   ]
  },
  {
   "cell_type": "code",
   "execution_count": 18,
   "id": "6b279578-b229-4a5a-8a63-e0020e9f5941",
   "metadata": {},
   "outputs": [
    {
     "data": {
      "text/plain": [
       "0.02230170418682939"
      ]
     },
     "execution_count": 18,
     "metadata": {},
     "output_type": "execute_result"
    }
   ],
   "source": [
    "rmse(images_to_strain(ed_seg_out, es_seg_out),images_to_strain(ed_label, es_label))"
   ]
  },
  {
   "cell_type": "code",
   "execution_count": 19,
   "id": "2f790b26-b536-4d74-8c5b-8257f36f566c",
   "metadata": {},
   "outputs": [],
   "source": [
    "def no_bottom_boundary(I):\n",
    "    return cut_basal_plane_out(give_boundary(I))"
   ]
  },
  {
   "cell_type": "code",
   "execution_count": 20,
   "id": "6a1cd2a7-c36b-4644-bfa1-0e0ef4439f72",
   "metadata": {},
   "outputs": [
    {
     "data": {
      "application/vnd.jupyter.widget-view+json": {
       "model_id": "32364519e68d4896b5ba20547acabacd",
       "version_major": 2,
       "version_minor": 0
      },
      "image/png": "[encoded data removed]",
      "text/html": [
       "\n",
       "            <div style=\"display: inline-block;\">\n",
       "                <div class=\"jupyter-widgets widget-label\" style=\"text-align: center;\">\n",
       "                    Figure\n",
       "                </div>\n",
       "                <img src='data:image/png;base64,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' width=800.0/>\n",
       "            </div>\n",
       "        "
      ],
      "text/plain": [
       "Canvas(toolbar=Toolbar(toolitems=[('Home', 'Reset original view', 'home', 'home'), ('Back', 'Back to previous …"
      ]
     },
     "metadata": {},
     "output_type": "display_data"
    }
   ],
   "source": [
    "vis_pair(no_bottom_boundary(ed_seg_out), no_bottom_boundary(es_seg_out))"
   ]
  },
  {
   "cell_type": "code",
   "execution_count": 21,
   "id": "c7f0a084-090f-4f3e-b0c4-542e869db271",
   "metadata": {},
   "outputs": [
    {
     "data": {
      "application/vnd.jupyter.widget-view+json": {
       "model_id": "acf2f2130b8540389178cc4e57fc4b2e",
       "version_major": 2,
       "version_minor": 0
      },
      "image/png": "[encoded data removed]",
      "text/html": [
       "\n",
       "            <div style=\"display: inline-block;\">\n",
       "                <div class=\"jupyter-widgets widget-label\" style=\"text-align: center;\">\n",
       "                    Figure\n",
       "                </div>\n",
       "                <img src='data:image/png;base64,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' width=800.0/>\n",
       "            </div>\n",
       "        "
      ],
      "text/plain": [
       "Canvas(toolbar=Toolbar(toolitems=[('Home', 'Reset original view', 'home', 'home'), ('Back', 'Back to previous …"
      ]
     },
     "metadata": {},
     "output_type": "display_data"
    }
   ],
   "source": [
    "vis_pair(no_bottom_boundary(ed_label), no_bottom_boundary(es_label))"
   ]
  },
  {
   "cell_type": "markdown",
   "id": "918b1f09-6228-40ae-a37e-2e54159bc14b",
   "metadata": {},
   "source": [
    "### Try to split image into `N` horizontal sections"
   ]
  },
  {
   "cell_type": "code",
   "execution_count": 22,
   "id": "a45ea811-d9d0-4fe7-91ee-8907a3929e2c",
   "metadata": {},
   "outputs": [],
   "source": [
    "N = 3"
   ]
  },
  {
   "cell_type": "code",
   "execution_count": 23,
   "id": "14a68690-9eb8-4a2c-bade-137a3e1a05d4",
   "metadata": {},
   "outputs": [],
   "source": [
    "def top_bottom_index(I):\n",
    "    '''\n",
    "    input:\n",
    "        I - shape (112, 112), unique vals (0,1)\n",
    "    output:\n",
    "        top, bot -- index vals of highest pixel with val 1 and lowest pixel with val 1\n",
    "                    i.e. range of the heart\n",
    "                    \n",
    "                    top inclusive\n",
    "                    bot exclusive\n",
    "                        Dijkstra would like me decision ;)\n",
    "    '''\n",
    "    # make sure values in image are only 0 and 1\n",
    "    check_unique_vals = np.unique(I)\n",
    "    if check_unique_vals[0] == 0 and check_unique_vals[1] == 255:\n",
    "        I = I / 255\n",
    "    elif check_unique_vals[0] == 0 and check_unique_vals[1] != 1:\n",
    "        print('incorrect values in Image')\n",
    "        return\n",
    "    \n",
    "    top = 0\n",
    "    bottom = 0\n",
    "    delta = 0\n",
    "    \n",
    "    found_top = False\n",
    "    found_bottom = False\n",
    "    \n",
    "    for row in I:\n",
    "        # find the top\n",
    "        if not found_top:\n",
    "            if 1 in row:\n",
    "                found_top = True\n",
    "                top = delta\n",
    "            \n",
    "        # find bottom\n",
    "        if not found_bottom and found_top:\n",
    "            if 1 not in row:\n",
    "                found_bottom = True\n",
    "                bottom = delta\n",
    "                \n",
    "        # leave when found both\n",
    "        if found_top and found_bottom:\n",
    "            break\n",
    "            \n",
    "        # increment row index\n",
    "        delta += 1\n",
    "            \n",
    "    return top, bottom"
   ]
  },
  {
   "cell_type": "code",
   "execution_count": 24,
   "id": "647be14a-1553-413b-8666-2bf9ba9d40c1",
   "metadata": {},
   "outputs": [],
   "source": [
    "def get_split_points(I, N, inds):\n",
    "    '''\n",
    "    input: \n",
    "        I - shape (112, 112), unique vals (0,1)\n",
    "        N - int\n",
    "        inds - list/iterable containing top and bottom index of heart (top, bot)\n",
    "    output:\n",
    "        list of N points where we divide the image\n",
    "    '''\n",
    "    top = inds[0]\n",
    "    bot = inds[1]\n",
    "    \n",
    "    lv_vert_len = bot - top\n",
    "    deltas = lv_vert_len // N\n",
    "    divide_points = [top + (deltas * i) for i in range(N)]\n",
    "    divide_points.append(bot)\n",
    "    \n",
    "    return divide_points"
   ]
  },
  {
   "cell_type": "code",
   "execution_count": 25,
   "id": "d5fc55c0-eccd-421c-9329-1449fede4632",
   "metadata": {},
   "outputs": [],
   "source": [
    "def draw_bars(I, inds):\n",
    "    '''\n",
    "    input:\n",
    "        I - shape (112, 112), unique vals (0,1)\n",
    "        inds - list/iterable of indeces of where bars should be drawn on image\n",
    "    \n",
    "    output:\n",
    "        no return val, show matplotlib fig with the top and bottom of the heart ventricle \n",
    "    '''\n",
    "    I_bars = np.zeros(I.shape)\n",
    "    \n",
    "    for ind in inds:\n",
    "        I_bars[ind:ind+1, 0:I.shape[1]] = 127\n",
    "    \n",
    "    plt.figure(figsize=(10,5))\n",
    "    plt.imshow(I * 255, cmap='gray', zorder=1) # image, bottom\n",
    "    plt.imshow(I_bars, cmap='gray', zorder=2, alpha=0.5) # bars, top"
   ]
  },
  {
   "cell_type": "code",
   "execution_count": 26,
   "id": "e0c5da78-b87d-4480-a797-4db64709a27d",
   "metadata": {},
   "outputs": [],
   "source": [
    "ed_label_processed =  no_bottom_boundary(ed_label)"
   ]
  },
  {
   "cell_type": "code",
   "execution_count": 27,
   "id": "2b6cddd1-ec0e-4e79-8e9f-f4cd7a3c3661",
   "metadata": {},
   "outputs": [
    {
     "data": {
      "text/plain": [
       "(23, 69)"
      ]
     },
     "execution_count": 27,
     "metadata": {},
     "output_type": "execute_result"
    }
   ],
   "source": [
    "top_bottom_index(ed_label_processed)"
   ]
  },
  {
   "cell_type": "code",
   "execution_count": 28,
   "id": "ba7d5161-3b0d-4714-8e34-e60ab69603ec",
   "metadata": {},
   "outputs": [
    {
     "data": {
      "text/plain": [
       "[23, 38, 53, 69]"
      ]
     },
     "execution_count": 28,
     "metadata": {},
     "output_type": "execute_result"
    }
   ],
   "source": [
    "get_split_points(ed_label_processed, N, top_bottom_index(ed_label_processed))"
   ]
  },
  {
   "cell_type": "code",
   "execution_count": 29,
   "id": "75304bfe-593b-46dd-9911-92eda99012fb",
   "metadata": {},
   "outputs": [
    {
     "data": {
      "application/vnd.jupyter.widget-view+json": {
       "model_id": "48f2a36d9e654853bdd5b847175f4dbc",
       "version_major": 2,
       "version_minor": 0
      },
      "image/png": "[encoded data removed]",
      "text/html": [
       "\n",
       "            <div style=\"display: inline-block;\">\n",
       "                <div class=\"jupyter-widgets widget-label\" style=\"text-align: center;\">\n",
       "                    Figure\n",
       "                </div>\n",
       "                <img src='data:image/png;base64,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' width=1000.0/>\n",
       "            </div>\n",
       "        "
      ],
      "text/plain": [
       "Canvas(toolbar=Toolbar(toolitems=[('Home', 'Reset original view', 'home', 'home'), ('Back', 'Back to previous …"
      ]
     },
     "metadata": {},
     "output_type": "display_data"
    }
   ],
   "source": [
    "draw_bars(ed_label_processed, get_split_points(ed_label_processed, N, top_bottom_index(ed_label_processed)))"
   ]
  },
  {
   "cell_type": "code",
   "execution_count": 30,
   "id": "b40af34e-8597-4c77-be88-a849186bdc96",
   "metadata": {},
   "outputs": [
    {
     "data": {
      "application/vnd.jupyter.widget-view+json": {
       "model_id": "9cd845f1c56e470889ef944a01942266",
       "version_major": 2,
       "version_minor": 0
      },
      "image/png": "[encoded data removed]",
      "text/html": [
       "\n",
       "            <div style=\"display: inline-block;\">\n",
       "                <div class=\"jupyter-widgets widget-label\" style=\"text-align: center;\">\n",
       "                    Figure\n",
       "                </div>\n",
       "                <img src='data:image/png;base64,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' width=1000.0/>\n",
       "            </div>\n",
       "        "
      ],
      "text/plain": [
       "Canvas(toolbar=Toolbar(toolitems=[('Home', 'Reset original view', 'home', 'home'), ('Back', 'Back to previous …"
      ]
     },
     "metadata": {},
     "output_type": "display_data"
    }
   ],
   "source": [
    "es_label_processed = no_bottom_boundary(es_label)\n",
    "draw_bars(es_label_processed, get_split_points(es_label_processed, N, top_bottom_index(es_label_processed)))"
   ]
  },
  {
   "cell_type": "markdown",
   "id": "292c38c8-dca3-4e7c-9543-60ea505db503",
   "metadata": {},
   "source": [
    "## I don't know how to label the points in bins ? \n",
    "## So we split into multiple images in the background (more unnecessary compute and mem usage for now...)\n",
    "\n",
    "When splitting, note that `[start, end)`. \n",
    "\n",
    "# <b>THIS IS WRONG</b>"
   ]
  },
  {
   "cell_type": "code",
   "execution_count": 31,
   "id": "d9eb0e6b-108b-4dd1-a5c7-ff02e5a3a5b2",
   "metadata": {},
   "outputs": [],
   "source": [
    "def split_image_pair_and_calc_strain(I_0, I_1, N):\n",
    "    '''\n",
    "    input: I_0 - shape (112, 112), unique vals (0,1)\n",
    "            I_1 - shape (112, 112), unique vals (0,1)\n",
    "            N - int\n",
    "    output:\n",
    "        N strain values for each region, from top to bottom in spatial relation\n",
    "    '''\n",
    "    import copy\n",
    "    I_0_proc = cut_basal_plane_out(give_boundary(I_0))\n",
    "    I_1_proc = cut_basal_plane_out(give_boundary(I_1))\n",
    "    \n",
    "    I_0_split_points = get_split_points(I_0_proc, N, top_bottom_index(I_0_proc))\n",
    "    I_1_split_points = get_split_points(I_1_proc, N, top_bottom_index(I_1_proc))\n",
    "\n",
    "    \n",
    "    all_strains = [0 for i in range(N)]\n",
    "    \n",
    "    # for each section\n",
    "    for i in range(N):\n",
    "        I_0_proc_copy = copy.deepcopy(I_0_proc)\n",
    "        I_1_proc_copy = copy.deepcopy(I_1_proc)\n",
    "        \n",
    "        # zero out everything outside of current range following: [start, end)\n",
    "        I_0_start = I_0_split_points[i]\n",
    "        I_0_end = I_0_split_points[i+1]\n",
    "        I_1_start = I_1_split_points[i]\n",
    "        I_1_end = I_1_split_points[i+1]\n",
    "        \n",
    "        # above, below\n",
    "        I_0_proc_copy[0:I_0_start, 0:I_0.shape[1]] = 0\n",
    "        I_0_proc_copy[I_0_end:I_0.shape[0], 0:I_0.shape[1]] = 0\n",
    "        \n",
    "        I_1_proc_copy[0:I_1_start, 0:I_1.shape[1]] = 0\n",
    "        I_1_proc_copy[I_1_end:I_1.shape[0], 0:I_1.shape[1]] = 0\n",
    "\n",
    "        # calc strain of this section\n",
    "        curr_sec_strain = boundaries_to_strain(I_0_proc_copy, I_1_proc_copy)\n",
    "        all_strains[i] = curr_sec_strain\n",
    "        \n",
    "    return all_strains"
   ]
  },
  {
   "cell_type": "code",
   "execution_count": 32,
   "id": "a44c5699-bafa-4f57-8694-fc3ca0e9ac3d",
   "metadata": {},
   "outputs": [
    {
     "data": {
      "text/plain": [
       "[-0.34285714285714286, -0.14285714285714285, -0.06666666666666667]"
      ]
     },
     "execution_count": 32,
     "metadata": {},
     "output_type": "execute_result"
    }
   ],
   "source": [
    "split_image_pair_and_calc_strain(ed_label, es_label, N)"
   ]
  },
  {
   "cell_type": "code",
   "execution_count": 33,
   "id": "65448ac9-403b-4458-8e62-4f2d1cc8acdf",
   "metadata": {},
   "outputs": [
    {
     "data": {
      "text/plain": [
       "-0.18556701030927836"
      ]
     },
     "execution_count": 33,
     "metadata": {},
     "output_type": "execute_result"
    }
   ],
   "source": [
    "images_to_strain(ed_label, es_label)"
   ]
  },
  {
   "cell_type": "code",
   "execution_count": 34,
   "id": "e89deac5-39a8-46b2-a45e-a60aadda6778",
   "metadata": {},
   "outputs": [
    {
     "data": {
      "text/plain": [
       "-0.24615384615384617"
      ]
     },
     "execution_count": 34,
     "metadata": {},
     "output_type": "execute_result"
    }
   ],
   "source": [
    "np.mean([-0.2, -0.3076923076923077, -0.23076923076923078])"
   ]
  }
 ],
 "metadata": {
  "kernelspec": {
   "display_name": "Python 3",
   "language": "python",
   "name": "python3"
  },
  "language_info": {
   "codemirror_mode": {
    "name": "ipython",
    "version": 3
   },
   "file_extension": ".py",
   "mimetype": "text/x-python",
   "name": "python",
   "nbconvert_exporter": "python",
   "pygments_lexer": "ipython3",
   "version": "3.7.6"
  }
 },
 "nbformat": 4,
 "nbformat_minor": 5
}
