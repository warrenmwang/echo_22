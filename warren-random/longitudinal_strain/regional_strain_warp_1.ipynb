{
 "cells": [
  {
   "cell_type": "markdown",
   "id": "7c076f4a-9040-4451-bcee-1949772bfc9d",
   "metadata": {},
   "source": [
    "## Isolate images into `N` subdivisions and warp them\n",
    "## We'll split the Image `I` into `N` horizontal strips of the boundary"
   ]
  },
  {
   "cell_type": "code",
   "execution_count": 1,
   "id": "b851830e-41af-47b9-8037-39a83d2cd15a",
   "metadata": {},
   "outputs": [],
   "source": [
    "model_name = \"Original_Pretrained_R2plus1DMotionSegNet.pth\"\n",
    "\n",
    "# model_name = \"dropout_v2_0_10_R2plus1DMotionSegNet.pth\"\n",
    "# model_name = \"dropout_v3_0_10_R2plus1DMotionSegNet.pth\""
   ]
  },
  {
   "cell_type": "code",
   "execution_count": 2,
   "id": "824a1dbb-1b0c-47f4-b1a9-ef70f35d9616",
   "metadata": {},
   "outputs": [
    {
     "name": "stdout",
     "output_type": "stream",
     "text": [
      "/home/wang/workspace/JupyterNoteBooksAll/fully-automated-multi-heartbeat-echocardiography-video-segmentation-and-motion-tracking\n"
     ]
    },
    {
     "name": "stderr",
     "output_type": "stream",
     "text": [
      "100%|██████████| 16/16 [00:01<00:00, 13.66it/s]\n"
     ]
    }
   ],
   "source": [
    "import os\n",
    "os.chdir(\"/home/wang/workspace/JupyterNoteBooksAll/fully-automated-multi-heartbeat-echocardiography-video-segmentation-and-motion-tracking\")\n",
    "print(os.getcwd())\n",
    "\n",
    "%config Completer.use_jedi = False\n",
    "\n",
    "import SimpleITK as itk\n",
    "from LabelFusion.wrapper import fuse_images\n",
    "\n",
    "import echonet\n",
    "from echonet.datasets import Echo\n",
    "\n",
    "import torch.nn.functional as F\n",
    "from torchvision.models.video import r2plus1d_18\n",
    "from torch.utils.data import Dataset, DataLoader, Subset\n",
    "from multiprocessing import cpu_count\n",
    "\n",
    "from src.utils.torch_utils import TransformDataset, torch_collate\n",
    "from src.utils.echo_utils import get2dPucks\n",
    "from src.utils.camus_validate import cleanupSegmentation\n",
    "from src.transform_utils import generate_2dmotion_field\n",
    "from src.visualization_utils import categorical_dice\n",
    "from src.loss_functions import huber_loss, convert_to_1hot, convert_to_1hot_tensor\n",
    "from src.echonet_dataset import EDESpairs, EchoNetDynamicDataset\n",
    "\n",
    "from src.model.R2plus1D_18_MotionNet import R2plus1D_18_MotionNet\n",
    "\n",
    "# v2 dropout (in place before motion heads, forgot to define in forward pass function, but still saw diff, weird.)\n",
    "from src.model.dropout_v2_0_00_R2plus1D_18_MotionNet import dropout_v2_0_00_R2plus1D_18_MotionNet\n",
    "from src.model.dropout_v2_0_10_R2plus1D_18_MotionNet import dropout_v2_0_10_R2plus1D_18_MotionNet\n",
    "from src.model.dropout_v2_0_25_R2plus1D_18_MotionNet import dropout_v2_0_25_R2plus1D_18_MotionNet\n",
    "from src.model.dropout_v2_0_50_R2plus1D_18_MotionNet import dropout_v2_0_50_R2plus1D_18_MotionNet\n",
    "from src.model.dropout_v2_0_75_R2plus1D_18_MotionNet import dropout_v2_0_75_R2plus1D_18_MotionNet\n",
    "# v3 dropout (one dropout layer defined in forward pass func, this should've been the correct way to do it.)\n",
    "from src.model.dropout_v3_0_00_R2plus1D_18_MotionNet import dropout_v3_0_00_R2plus1D_18_MotionNet\n",
    "from src.model.dropout_v3_0_10_R2plus1D_18_MotionNet import dropout_v3_0_10_R2plus1D_18_MotionNet\n",
    "from src.model.dropout_v3_0_25_R2plus1D_18_MotionNet import dropout_v3_0_25_R2plus1D_18_MotionNet\n",
    "from src.model.dropout_v3_0_50_R2plus1D_18_MotionNet import dropout_v3_0_50_R2plus1D_18_MotionNet\n",
    "from src.model.dropout_v3_0_75_R2plus1D_18_MotionNet import dropout_v3_0_75_R2plus1D_18_MotionNet\n",
    "# v4 dropout (4 dropout layers in different places in the forward func, I'm going to guess more \"generalizable\")\n",
    "from src.model.dropout_v4_0_00_R2plus1D_18_MotionNet import dropout_v4_0_00_R2plus1D_18_MotionNet\n",
    "from src.model.dropout_v4_0_10_R2plus1D_18_MotionNet import dropout_v4_0_10_R2plus1D_18_MotionNet\n",
    "from src.model.dropout_v4_0_25_R2plus1D_18_MotionNet import dropout_v4_0_25_R2plus1D_18_MotionNet\n",
    "from src.model.dropout_v4_0_50_R2plus1D_18_MotionNet import dropout_v4_0_50_R2plus1D_18_MotionNet\n",
    "from src.model.dropout_v4_0_75_R2plus1D_18_MotionNet import dropout_v4_0_75_R2plus1D_18_MotionNet\n",
    "\n",
    "# for finding lv seg borders\n",
    "import cv2 as cv\n",
    "\n",
    "\n",
    "# from src.visualization_utils import categorical_dice\n",
    "\n",
    "import numpy as np\n",
    "from scipy.signal import find_peaks\n",
    "import matplotlib.pyplot as plt\n",
    "\n",
    "import torch\n",
    "import torch.nn as nn\n",
    "import torch.optim as optim\n",
    "\n",
    "import random\n",
    "import pickle\n",
    "import time\n",
    "\n",
    "tic, toc = (time.time, time.time)\n",
    "\n",
    "\n",
    "device = 'cuda' if torch.cuda.is_available() else 'cpu'\n",
    "device\n",
    "\n",
    "\n",
    "batch_size = 4\n",
    "num_workers = max(4, cpu_count()//2)\n",
    "\n",
    "\n",
    "def worker_init_fn_valid(worker_id):                                                          \n",
    "    np.random.seed(np.random.get_state()[1][0] + worker_id)\n",
    "    \n",
    "\n",
    "def worker_init_fn(worker_id):\n",
    "    # See here: https://pytorch.org/docs/stable/notes/randomness.html#dataloader\n",
    "    # and the original post of the problem: https://github.com/pytorch/pytorch/issues/5059#issuecomment-817373837\n",
    "    worker_seed = torch.initial_seed() % 2 ** 32\n",
    "    print(f'worker_seed: {worker_seed}')\n",
    "    np.random.seed(worker_seed)\n",
    "    random.seed(worker_seed)\n",
    "    \n",
    "\n",
    "def permuter(list1, list2):\n",
    "    for i1 in list1:\n",
    "        for i2 in list2:\n",
    "            yield (i1, i2)\n",
    "            \n",
    "\n",
    "param_trainLoader = {'collate_fn': torch_collate,\n",
    "                     'batch_size': batch_size,\n",
    "                     'num_workers': max(4, cpu_count()//2),\n",
    "                     'worker_init_fn': worker_init_fn}\n",
    "\n",
    "param_testLoader = {'collate_fn': torch_collate,\n",
    "                    'batch_size': batch_size,\n",
    "                    'shuffle': False,\n",
    "                    'num_workers': max(4, cpu_count()//2),\n",
    "                    'worker_init_fn': worker_init_fn}\n",
    "\n",
    "paramLoader = {'train': param_trainLoader,\n",
    "               'valid': param_testLoader,\n",
    "               'test':  param_testLoader}\n",
    "\n",
    "\n",
    "with open(\"fold_indexes/stanford_valid_sampled_indices\", \"rb\") as infile:\n",
    "    valid_mask = pickle.load(infile)\n",
    "infile.close()\n",
    "\n",
    "# full_dataset = EchoNetDynamicDataset(split='val', clip_length=\"full\", subset_indices=valid_mask, period=1)\n",
    "test_dataset = EchoNetDynamicDataset(split='test', clip_length=\"full\", raise_for_es_ed=False, period=1)\n",
    "# random_test_dataset = EchoNetDynamicDataset(split='test', clip_length=32, raise_for_es_ed=True, period=1)"
   ]
  },
  {
   "cell_type": "code",
   "execution_count": 3,
   "id": "ede93113-9913-4e8e-98c9-879e1ab4f778",
   "metadata": {},
   "outputs": [
    {
     "name": "stdout",
     "output_type": "stream",
     "text": [
      "Original_Pretrained_R2plus1DMotionSegNet.pth has 31575731 parameters.\n"
     ]
    }
   ],
   "source": [
    "model_save_path = f\"save_models/{model_name}\"\n",
    "    \n",
    "if model_name == 'Original_Pretrained_R2plus1DMotionSegNet.pth':\n",
    "    model_template_obj = R2plus1D_18_MotionNet()\n",
    "elif model_name == 'dropout_v2_0_00_R2plus1DMotionSegNet.pth':\n",
    "    model_template_obj = dropout_v2_0_00_R2plus1D_18_MotionNet()\n",
    "elif model_name == 'dropout_v2_0_10_R2plus1DMotionSegNet.pth':\n",
    "    model_template_obj = dropout_v2_0_10_R2plus1D_18_MotionNet()\n",
    "\n",
    "elif model_name == \"dropout_v3_0_00_R2plus1DMotionSegNet.pth\":\n",
    "    model_template_obj = dropout_v3_0_00_R2plus1D_18_MotionNet()\n",
    "elif model_name == \"dropout_v3_0_10_R2plus1DMotionSegNet.pth\":\n",
    "    model_template_obj = dropout_v3_0_10_R2plus1D_18_MotionNet()\n",
    "elif model_name == \"dropout_v3_0_25_R2plus1DMotionSegNet.pth\":\n",
    "    model_template_obj = dropout_v3_0_25_R2plus1D_18_MotionNet()\n",
    "elif model_name == \"dropout_v4_0_00_R2plus1DMotionSegNet.pth\":\n",
    "    model_template_obj = dropout_v4_0_00_R2plus1D_18_MotionNet()\n",
    "elif model_name == \"dropout_v4_0_10_R2plus1DMotionSegNet.pth\":\n",
    "    model_template_obj = dropout_v4_0_10_R2plus1D_18_MotionNet()\n",
    "elif model_name == \"dropout_v4_0_25_R2plus1DMotionSegNet.pth\":\n",
    "    model_template_obj = dropout_v4_0_25_R2plus1D_18_MotionNet()\n",
    "\n",
    "\n",
    "model = torch.nn.DataParallel(model_template_obj)\n",
    "\n",
    "model.to(\"cuda\")\n",
    "torch.cuda.empty_cache()\n",
    "model.load_state_dict(torch.load(model_save_path)[\"model\"])\n",
    "print(f'{model_name} has {sum(p.numel() for p in model.parameters() if p.requires_grad)} parameters.')\n",
    "model.eval();"
   ]
  },
  {
   "cell_type": "code",
   "execution_count": 4,
   "id": "e22e69f4-fcfd-42b5-9484-d2edfc444a09",
   "metadata": {},
   "outputs": [],
   "source": [
    "def get_warp_data(test_pat_index, test_dataset, model):\n",
    "    '''\n",
    "    INPUT: \n",
    "    test_pat_index and test_dataset to be used like the following:\n",
    "        video, (filename, EF, es_clip_index, ed_clip_index, es_index, ed_index, es_frame, ed_frame, es_label, ed_label) = test_dataset[test_pat_index]\n",
    "    model\n",
    "        model to be used, one model at a time\n",
    "    clip_index\n",
    "        the clip we should use, determines the position of the ED and ES frame in the 32 frame clip\n",
    "        the difference in frames from ED to ES is always the same\n",
    "\n",
    "    OUTPUT:\n",
    "    es_created_from_warping_ed, ed_created_from_warping_es\n",
    "        both with shape: (1, 2, 112, 112)\n",
    "        you should double check the shape.\n",
    "    and other vars \n",
    "    '''\n",
    "    ########################### Helper functions ###########################\n",
    "    # goes thru a video and annotates where we can start clips given video length, clip length, etc.\n",
    "    def get_all_possible_start_points(ed_index, es_index, video_length, clip_length):\n",
    "        assert es_index - ed_index > 0, \"not a ED to ES clip pair\"\n",
    "        possible_shift = clip_length - (es_index - ed_index)\n",
    "        allowed_right = video_length - es_index\n",
    "        if allowed_right < possible_shift:\n",
    "            return np.arange(ed_index - possible_shift + 1, video_length - clip_length + 1)\n",
    "        if possible_shift < 0:\n",
    "            return np.array([ed_index])\n",
    "        elif ed_index < possible_shift:\n",
    "            return np.arange(ed_index + 1)\n",
    "        else:\n",
    "            return np.arange(ed_index - possible_shift + 1, ed_index + 1)\n",
    "        \n",
    "    def generate_2dmotion_field_PLAY(x, offset):\n",
    "        # Qin's code for joint_motion_seg learning works fine on our purpose too\n",
    "        # Same idea https://discuss.pytorch.org/t/warp-video-frame-from-optical-flow/6013/5\n",
    "        x_shape = x.shape\n",
    "        # print(f'x_shape: {x_shape}')\n",
    "\n",
    "        grid_w, grid_h = torch.meshgrid([torch.linspace(-1, 1, x_shape[2]), torch.linspace(-1, 1, x_shape[3])])  # (h, w)\n",
    "\n",
    "        # this should just be moving the vars to gpu mem and doing some data type conversion to some\n",
    "        # floating point precision\n",
    "        grid_w = grid_w.cuda().float()\n",
    "        grid_h = grid_h.cuda().float()\n",
    "\n",
    "        grid_w = nn.Parameter(grid_w, requires_grad=False)\n",
    "        grid_h = nn.Parameter(grid_h, requires_grad=False)\n",
    "\n",
    "        # OLD \n",
    "        # offset_h, offset_w = torch.split(offset, 1, 1)\n",
    "        # NEW , TESTING\n",
    "        offset_h, offset_w = torch.split(offset, 1)\n",
    "\n",
    "        offset_w = offset_w.contiguous().view(-1, int(x_shape[2]), int(x_shape[3]))  # (b*c, h, w)\n",
    "        offset_h = offset_h.contiguous().view(-1, int(x_shape[2]), int(x_shape[3]))  # (b*c, h, w)\n",
    "\n",
    "        offset_w = grid_w + offset_w\n",
    "        offset_h = grid_h + offset_h\n",
    "\n",
    "        offsets = torch.stack((offset_h, offset_w), 3)\n",
    "        return offsets\n",
    "\n",
    "    def categorical_dice(prediction, truth, k, epsilon=1e-5):\n",
    "        \"\"\"\n",
    "            Compute the dice overlap between the predicted labels and truth\n",
    "            Not a loss\n",
    "        \"\"\"\n",
    "        # Dice overlap metric for label value k\n",
    "        A = (prediction == k)\n",
    "        B = (truth == k)\n",
    "        return 2 * np.sum(A * B) / (np.sum(A) + np.sum(B) + epsilon)\n",
    "    \n",
    "    ########################################################################\n",
    "    # initial grabbing of the data that we'll use\n",
    "    video, (filename, EF, es_clip_index, ed_clip_index, es_index, ed_index, es_frame, ed_frame, es_label, ed_label) = test_dataset[test_pat_index]\n",
    "    \n",
    "    # get all possible start indices for 32 frame clip with ed/es in right order\n",
    "    possible_starts = get_all_possible_start_points(ed_index, es_index, video.shape[1], clip_length=32)\n",
    "    \n",
    "    # for now, let's use the last clip from our set of all possible clips to use\n",
    "    clip_index = len(possible_starts) - 1\n",
    "    # print(f'clip_index: {clip_index}')\n",
    "\n",
    "    # get the diff in frame len from ed to es\n",
    "    delta_ed_es = es_index - ed_index\n",
    "    \n",
    "    # use model to segment frames\n",
    "    segmentation_outputs = np.empty(shape=(1, 2, 32, 112, 112))\n",
    "    motion_outputs = np.empty(shape=(1, 4, 32, 112, 112))\n",
    "    for start in possible_starts:\n",
    "        one_clip = np.expand_dims(video[:, start: start + 32], 0)\n",
    "        segmentation_output, motion_output = model(torch.Tensor(one_clip))\n",
    "        segmentation_outputs = np.concatenate([segmentation_outputs, segmentation_output.cpu().detach().numpy()])\n",
    "        motion_outputs = np.concatenate([motion_outputs, motion_output.cpu().detach().numpy()])\n",
    "    segmentation_outputs = segmentation_outputs[1:]\n",
    "    motion_outputs = motion_outputs[1:]\n",
    "\n",
    "    # grab whatever clip we want\n",
    "    curr_clip_segmentations = segmentation_outputs[clip_index]\n",
    "    curr_clip_motions = motion_outputs[clip_index]\n",
    "    \n",
    "    # print(f'curr_clip_segmentations: {curr_clip_segmentations.shape}')\n",
    "    # print(f'curr_clip_motions: {curr_clip_motions.shape}')\n",
    "    \n",
    "    ######################## Warp from ED -> ES and ED <- ES ########################\n",
    "    \n",
    "    # remember, we will want to continuously warp the previous frame that has been warped forward in time\n",
    "    # only the first frame that we start with will be the actual seg out frame\n",
    "    flow_source = None\n",
    "\n",
    "    # warping FORWARD from ED -> ES\n",
    "    # python range is [x, y), inclusive start and exclusive end\n",
    "    for frame_index in range(31 - delta_ed_es - clip_index, 31 - clip_index + 1, 1):\n",
    "        # grab forward motion\n",
    "        forward_motion = curr_clip_motions[:2, frame_index,...]\n",
    "\n",
    "        # grab the ED seg out frame to warp\n",
    "        if frame_index == 0:\n",
    "            flow_source = np.array([curr_clip_segmentations[:, frame_index, ...]])\n",
    "            flow_source = torch.from_numpy(flow_source).to(device).float()\n",
    "        else:\n",
    "            pass # use previous next_label as flow_source, should be redefined at end of previous loop iter\n",
    "\n",
    "        # convert to tensors and move to gpu with float dtype\n",
    "        forward_motion = torch.from_numpy(forward_motion).to(device).float()\n",
    "        # generate motion field for forward motion\n",
    "        motion_field = generate_2dmotion_field_PLAY(flow_source, forward_motion)\n",
    "        # create frame i+1 relative to curr frame i \n",
    "        next_label = F.grid_sample(flow_source, motion_field, align_corners=False, mode=\"bilinear\", padding_mode='border')\n",
    "        # use i+1 frame as next loop iter's i frame\n",
    "        flow_source = next_label\n",
    "\n",
    "    es_created_from_warping_ed = flow_source.cpu().detach().numpy()\n",
    "\n",
    "    # warping BACKWARD from ED <- ES\n",
    "    for frame_index in range(31 - clip_index, 31 - delta_ed_es - clip_index - 1, -1):\n",
    "        # grab backward motion\n",
    "        backward_motion = curr_clip_motions[2:, frame_index,...]\n",
    "\n",
    "        # grab the ES seg out frame to start\n",
    "        if frame_index == delta_ed_es:\n",
    "            flow_source = np.array([curr_clip_segmentations[:, frame_index, ...]])\n",
    "            flow_source = torch.from_numpy(flow_source).to(device).float()\n",
    "        else:\n",
    "            pass # use previous next_label as flow_source, should be redefined at end of previous loop iter\n",
    "\n",
    "        # convert to tensors and move to gpu with float dtype\n",
    "        backward_motion = torch.from_numpy(backward_motion).to(device).float()\n",
    "        # generate motion field for backward motion\n",
    "        motion_field = generate_2dmotion_field_PLAY(flow_source, backward_motion)\n",
    "        # create frame i-1 relative to curr frame i \n",
    "        next_label = F.grid_sample(flow_source, motion_field, align_corners=False, mode=\"bilinear\", padding_mode='border')\n",
    "        # use i-1 frame as next loop iter's i frame\n",
    "        flow_source = next_label\n",
    "\n",
    "    ed_created_from_warping_es = flow_source.cpu().detach().numpy()\n",
    "    \n",
    "    ######################## ######################## ########################\n",
    "    \n",
    "    ed_created_from_warping_es = np.argmax(ed_created_from_warping_es, 1)[0]\n",
    "\n",
    "    es_created_from_warping_ed = np.argmax(es_created_from_warping_ed, 1)[0]\n",
    "\n",
    "    \n",
    "    return es_created_from_warping_ed, ed_created_from_warping_es, curr_clip_segmentations, ed_label, es_label, delta_ed_es"
   ]
  },
  {
   "cell_type": "code",
   "execution_count": 5,
   "id": "fc26d936-0c83-4b3f-ac60-ed871ce5cbbc",
   "metadata": {},
   "outputs": [],
   "source": [
    "def rmse(x, y):\n",
    "    ''' return root mean square error difference between the two values passed in'''\n",
    "    return np.sqrt((x - y) ** 2)\n",
    "\n",
    "def strain_value(l_0, l_i):\n",
    "    '''\n",
    "    inputs: l_0, l_i -- original length and new length at some time point, respectively\n",
    "    output: e -- strain value (positive for elongation, negative for compressing/shortening) as a percentage (e.g. output 0.155 == 15.5 %)\n",
    "    \n",
    "    examples: \n",
    "        l_i = 10\n",
    "        l_0 = 5\n",
    "        e == (10 - 5) / 5 = 1, factor of lengthening relative to original value\n",
    "        \n",
    "        l_i = 5\n",
    "        l_0 = 5\n",
    "        e == (5 - 5) / 5 = 0, no strain\n",
    "    '''\n",
    "    return (l_i - l_0) / l_0\n",
    "\n",
    "def give_boundary(x):\n",
    "    '''\n",
    "    input: \n",
    "        x (112, 112) one-hot encoded lv mask/segmentation\n",
    "        unique values (0,1)\n",
    "        has to be numpy ndarray on cpu mem\n",
    "    output: \n",
    "        y (112, 112) black and white picture of boundary of lv\n",
    "        unique vals (0,1)\n",
    "    '''\n",
    "    foo = np.uint8(x * 255)\n",
    "    ret, thresh = cv.threshold(foo, 127, 255, 0)\n",
    "    contours, hierarchy = cv.findContours(thresh, cv.RETR_TREE, cv.CHAIN_APPROX_SIMPLE)\n",
    "    blank = np.zeros((112,112))\n",
    "    cv.drawContours(blank, contours, -1, (255,255,255), 1)\n",
    "    \n",
    "    # return boundary image with unique values of (0,1)\n",
    "    blank = blank / 255\n",
    "    \n",
    "    return blank\n",
    "\n",
    "def boundaries_to_strain(before, after):\n",
    "    '''\n",
    "    input:\n",
    "        before (112, 112) boundary of lv\n",
    "        after (112, 112) boundary of lv\n",
    "        expect unique values of (0,1)\n",
    "        \n",
    "    output: \n",
    "        y - floating point number representing strain value, left as a decimal, NOT multiplied by 100\n",
    "    '''\n",
    "    # make sure values in image are only 0 and 1\n",
    "    check_unique_vals = np.unique(before)\n",
    "    if check_unique_vals[0] == 0 and check_unique_vals[1] == 255:\n",
    "        before = before / 255\n",
    "    check_unique_vals = np.unique(after)\n",
    "    if check_unique_vals[0] == 0 and check_unique_vals[1] == 255:\n",
    "        after = after / 255\n",
    "        \n",
    "    # cut basal plane out\n",
    "    before = cut_basal_plane_out(before)\n",
    "    after = cut_basal_plane_out(after)\n",
    "    \n",
    "    # count lv pixels\n",
    "    l_0 = np.count_nonzero(before == 1)\n",
    "    l_i = np.count_nonzero(after == 1)\n",
    "    \n",
    "    return strain_value(l_0, l_i)\n",
    "    \n",
    "def images_to_strain(ed_frame, es_frame):\n",
    "    '''\n",
    "    input:\n",
    "        ed_frame (112, 112)\n",
    "        es_frame (112, 112)\n",
    "        \n",
    "        expect vals to be one-hot encoded (1's for lv, 0's for not lv)\n",
    "    output:\n",
    "        x - floating point number\n",
    "        strain value (some decimal, should be negative)\n",
    "    '''\n",
    "    # get boundaries, then cut basal plane out\n",
    "    ed_bound = cut_basal_plane_out(give_boundary(ed_frame))\n",
    "    es_bound = cut_basal_plane_out(give_boundary(es_frame))\n",
    "    # compute strain and return\n",
    "    return boundaries_to_strain(ed_bound, es_bound)"
   ]
  },
  {
   "cell_type": "code",
   "execution_count": 6,
   "id": "68b21102-85c6-409d-b743-2d50950efadc",
   "metadata": {},
   "outputs": [],
   "source": [
    "def blot_out_given_rect(rectangle_corners, I, replace_val = 0):\n",
    "    '''\n",
    "    input:\n",
    "        rectangle_corners - shape (2,2)\n",
    "        I - shape (112, 112) \n",
    "        \n",
    "    output:\n",
    "        I_copy -- deepcopy of original image I with the defined rectangle section given zeroed out in the image\n",
    "    '''\n",
    "    \n",
    "     # i = row, j = col, we're thinking in ij/row col instead of xy\n",
    "    if rectangle_corners[0][0] < rectangle_corners[1][0]:\n",
    "        i_start = int(rectangle_corners[0][0])\n",
    "        i_end = int(rectangle_corners[1][0])\n",
    "    else:\n",
    "        i_end = int(rectangle_corners[0][0])\n",
    "        i_start = int(rectangle_corners[1][0])\n",
    "        \n",
    "    if rectangle_corners[1][1] < rectangle_corners[0][1]:\n",
    "        j_start = int(rectangle_corners[1][1])\n",
    "        j_end = int(rectangle_corners[0][1])\n",
    "    else:\n",
    "        j_end = int(rectangle_corners[1][1])\n",
    "        j_start = int(rectangle_corners[0][1])\n",
    "        \n",
    "    # make copy and alter then return\n",
    "    import copy \n",
    "    I_copy = copy.deepcopy(I)\n",
    "    \n",
    "    # zero out everything at and below the highest of the two index points (i_start)\n",
    "    I_copy[i_start : I.shape[0], 0 : I.shape[1]] = replace_val\n",
    "    \n",
    "    return I_copy"
   ]
  },
  {
   "cell_type": "code",
   "execution_count": 7,
   "id": "6118a0fe-3446-401c-b3a9-13b2db699805",
   "metadata": {},
   "outputs": [],
   "source": [
    "def blank_with_rect(rectangle_corners, I, replace_val=127):\n",
    "    '''\n",
    "    input:\n",
    "        rectangle_corners - shape (2, 2)\n",
    "    output:\n",
    "        empty image with the rectangle as defined blotted out with values of 127 -- shape (112, 112)\n",
    "    '''\n",
    "    I_rect = np.zeros(I.shape)\n",
    "    I_rect = blot_out_given_rect(rectangle_corners, I_rect, replace_val=replace_val)\n",
    "    return I_rect"
   ]
  },
  {
   "cell_type": "code",
   "execution_count": 8,
   "id": "f540ad11-26a7-4a4e-99f9-4ad160f44468",
   "metadata": {},
   "outputs": [],
   "source": [
    "def plot_rectangle(rectangle_corners, I=None, show_applied=False):\n",
    "    '''\n",
    "    input:\n",
    "        rectangle_corners - shape (2,2)\n",
    "        Well, technically rectangle corners could even have shape of (4, 2)\n",
    "    \n",
    "    plot a rectangle based on the coords given (in format of the skimage functions that get the corner pixels coords)\n",
    "    also if an image is given, plot the rectangle on top of it\n",
    "    '''\n",
    "   \n",
    "    # plot the rectangle\n",
    "    I_rect = blank_with_rect(rectangle_corners, I)\n",
    "    \n",
    "    # plot the original image if given\n",
    "    plt.figure(figsize=(10,5))\n",
    "    if I is not None:\n",
    "        # assuming I has unique values (0,1)\n",
    "        plt.imshow(I * 255, cmap='gray', zorder=1)\n",
    "        plt.imshow(I_rect, cmap='gray', zorder=2, alpha=0.5)\n",
    "        # plt.colorbar()\n",
    "    else:\n",
    "        plt.imshow(I_rect, cmap='gray')\n",
    "    \n",
    "    plt.show()\n",
    "    \n",
    "    # show another figure of using the shown rectangle to zero out original image if asked\n",
    "    if show_applied:\n",
    "        plt.figure(figsize=(10,5))\n",
    "        plt.imshow(blot_out_given_rect(rectangle_corners, I), cmap='gray')\n",
    "        plt.show()"
   ]
  },
  {
   "cell_type": "code",
   "execution_count": 9,
   "id": "6f661be1-ac0c-4802-b95d-8e87b2cda6fc",
   "metadata": {},
   "outputs": [],
   "source": [
    "def vizualize_corner_pixels_detected(I, show_plot=True, return_vars=False):\n",
    "    '''\n",
    "    input: I (112, 112), unique vals of 0,1\n",
    "    output (if requested):\n",
    "        coords - numpy ndarray\n",
    "        coords_subpix - nump ndarray\n",
    "            shapes of 2 objects above may vary...\n",
    "    \n",
    "    Prints the matplotlib figure with the corner pixels detected attached to the image\n",
    "    \n",
    "    '''\n",
    "    from skimage.feature import corner_harris, corner_subpix, corner_peaks\n",
    "\n",
    "    # make sure values in image are only 0 and 1\n",
    "    check_unique_vals = np.unique(I)\n",
    "    if check_unique_vals[0] == 0 and check_unique_vals[1] == 255:\n",
    "        I = I / 255\n",
    "    elif check_unique_vals[0] == 0 and check_unique_vals[1] != 1:\n",
    "        print('incorrect values in Image')\n",
    "        return\n",
    "\n",
    "    coords = corner_peaks(corner_harris(I), min_distance=5, threshold_rel=0.02)\n",
    "    coords_subpix = corner_subpix(I, coords, window_size=13)\n",
    "\n",
    "    if show_plot:\n",
    "        fig, ax = plt.subplots(figsize=(15, 10))\n",
    "        ax.imshow(I, cmap=plt.cm.gray)\n",
    "        ax.plot(coords[:, 1], coords[:, 0], color='cyan', marker='o',\n",
    "                linestyle='None', markersize=6)\n",
    "        ax.plot(coords_subpix[:, 1], coords_subpix[:, 0], '+r', markersize=15)\n",
    "        plt.show()\n",
    "    \n",
    "    # return quantities if requested\n",
    "    if return_vars:\n",
    "        return coords, coords_subpix"
   ]
  },
  {
   "cell_type": "code",
   "execution_count": 10,
   "id": "b52684fb-5bfe-4ac7-a88f-2ca01beb9fee",
   "metadata": {},
   "outputs": [],
   "source": [
    "def get_rectangle_corners(I):\n",
    "    '''\n",
    "    input:\n",
    "        I - shape (112, 112)\n",
    "    output:\n",
    "        rectange_corners - shape (2,2)\n",
    "    '''\n",
    "    from skimage.feature import corner_harris, corner_subpix, corner_peaks\n",
    "\n",
    "    # get corner pixels to form rectangle from\n",
    "    coords = corner_peaks(corner_harris(I), min_distance=5, threshold_rel=0.02)    \n",
    "    \n",
    "    # descending order sort all possible values along axis=0 for sorting by i / row index\n",
    "    coords[::-1].sort(axis=0)\n",
    "    \n",
    "    rectangle_corners = coords[0:2]\n",
    "\n",
    "    return rectangle_corners"
   ]
  },
  {
   "cell_type": "code",
   "execution_count": 11,
   "id": "e55fe838-ba2a-4fd0-b87c-08227b17bfe5",
   "metadata": {},
   "outputs": [],
   "source": [
    "def cut_basal_plane_out(I):\n",
    "    '''\n",
    "    input: I (112, 112) expected to have unique values of (0,1)...1 for lv, 0 for not lv\n",
    "    output: I_new (112, 112) with unique values of (0,1)... 1 for lv, 0 for not lv...this has the basal plane removed\n",
    "    \n",
    "    https://scikit-image.org/docs/dev/auto_examples/features_detection/plot_corner.html#sphx-glr-auto-examples-features-detection-plot-corner-py\n",
    "    \n",
    "    When choosing which 2 points to create a rough rectangle to zero out the bottom mitral valve / basal plane boundary\n",
    "    we will go with this ordering of points to use:\n",
    "    1. Both points from corner_subpix\n",
    "    2. One point from corner_subpix, one point from corner_peaks\n",
    "    3. Both points from corner_peaks\n",
    "    \n",
    "    If we can't get two points at the area of the basal plane from any of the three situations described above, we are out of luck. \n",
    "    We will have to do something else, but this won't work then. \n",
    "    '''  \n",
    "    # make sure values in image are only 0 and 1\n",
    "    check_unique_vals = np.unique(I)\n",
    "    if check_unique_vals[0] == 0 and check_unique_vals[1] == 255:\n",
    "        I = I / 255\n",
    "    elif check_unique_vals[0] == 0 and check_unique_vals[1] != 1:\n",
    "        print('incorrect values in Image')\n",
    "        return\n",
    "    \n",
    "    rectangle_corners = get_rectangle_corners(I)\n",
    "    return blot_out_given_rect(rectangle_corners, I)"
   ]
  },
  {
   "cell_type": "code",
   "execution_count": 12,
   "id": "1307ba17-4392-47d6-8e00-ef940f7608c0",
   "metadata": {},
   "outputs": [],
   "source": [
    "%matplotlib widget\n",
    "\n",
    "# taken from stough's dip vis_utils.py\n",
    "def vis_pair(I, J, figsize = (8,3), shared = True, \n",
    "             first_title = 'Original', second_title = 'New',\n",
    "             show_ticks = True, **kwargs):\n",
    "    '''\n",
    "    vis_pair(I, J, figsize = (8,3), shared = True, first_title = 'Original', second_title = 'New'):\n",
    "    produce a plot of images I and J together. By default takes care of sharing axes to provide\n",
    "    a little 1x2 plot without all the coding.\n",
    "    '''\n",
    "    f, ax = plt.subplots(1,2, figsize=figsize, sharex = shared, sharey = shared)\n",
    "    ax[0].imshow(I, **kwargs)\n",
    "    ax[0].set_title(first_title)\n",
    "    ax[1].imshow(J, **kwargs)\n",
    "    ax[1].set_title(second_title)\n",
    "    \n",
    "    if not show_ticks:\n",
    "        [a.axes.get_xaxis().set_visible(False) for a in ax];\n",
    "        [a.axes.get_yaxis().set_visible(False) for a in ax];\n",
    "    \n",
    "    plt.tight_layout()"
   ]
  },
  {
   "cell_type": "markdown",
   "id": "2005d808-50bf-4344-834d-f5fe7b0b8265",
   "metadata": {},
   "source": [
    "## Let's start doing things"
   ]
  },
  {
   "cell_type": "code",
   "execution_count": 13,
   "id": "b8f9c8e5-e8b7-48f7-9bee-7756491b40e7",
   "metadata": {},
   "outputs": [
    {
     "name": "stdout",
     "output_type": "stream",
     "text": [
      "309\n"
     ]
    }
   ],
   "source": [
    "test_pat_index = np.random.randint(0, len(test_dataset))\n",
    "print(test_pat_index)\n",
    "es_warp, ed_warp, curr_clip_segmentations, ed_label, es_label, delta_ed_es = get_warp_data(test_pat_index = test_pat_index, test_dataset = test_dataset, model = model)"
   ]
  },
  {
   "cell_type": "code",
   "execution_count": 14,
   "id": "f6b5cc9c-ae38-471c-bd3c-61af16883add",
   "metadata": {},
   "outputs": [],
   "source": [
    "ed_seg_out = np.argmax(curr_clip_segmentations, 0)[0]\n",
    "es_seg_out = np.argmax(curr_clip_segmentations, 0)[delta_ed_es]"
   ]
  },
  {
   "cell_type": "code",
   "execution_count": 15,
   "id": "af82e4e8-0eac-481c-9b96-b298ff71714b",
   "metadata": {},
   "outputs": [
    {
     "data": {
      "text/plain": [
       "-0.34285714285714286"
      ]
     },
     "execution_count": 15,
     "metadata": {},
     "output_type": "execute_result"
    }
   ],
   "source": [
    "images_to_strain(ed_seg_out, es_seg_out)"
   ]
  },
  {
   "cell_type": "code",
   "execution_count": 16,
   "id": "f97c60de-dc14-4035-8a1c-7278f4e47887",
   "metadata": {},
   "outputs": [
    {
     "data": {
      "text/plain": [
       "-0.23255813953488372"
      ]
     },
     "execution_count": 16,
     "metadata": {},
     "output_type": "execute_result"
    }
   ],
   "source": [
    "images_to_strain(ed_label, es_label)"
   ]
  },
  {
   "cell_type": "code",
   "execution_count": 17,
   "id": "6b279578-b229-4a5a-8a63-e0020e9f5941",
   "metadata": {},
   "outputs": [
    {
     "data": {
      "text/plain": [
       "0.11029900332225914"
      ]
     },
     "execution_count": 17,
     "metadata": {},
     "output_type": "execute_result"
    }
   ],
   "source": [
    "rmse(images_to_strain(ed_seg_out, es_seg_out),images_to_strain(ed_label, es_label))"
   ]
  },
  {
   "cell_type": "code",
   "execution_count": 18,
   "id": "2f790b26-b536-4d74-8c5b-8257f36f566c",
   "metadata": {},
   "outputs": [],
   "source": [
    "def no_bottom_boundary(I):\n",
    "    return cut_basal_plane_out(give_boundary(I))"
   ]
  },
  {
   "cell_type": "code",
   "execution_count": 21,
   "id": "6a1cd2a7-c36b-4644-bfa1-0e0ef4439f72",
   "metadata": {},
   "outputs": [
    {
     "data": {
      "application/vnd.jupyter.widget-view+json": {
       "model_id": "c4d1c848ca5b4eb0a0b3e629fc703673",
       "version_major": 2,
       "version_minor": 0
      },
      "image/png": "[encoded data removed]",
      "text/html": [
       "\n",
       "            <div style=\"display: inline-block;\">\n",
       "                <div class=\"jupyter-widgets widget-label\" style=\"text-align: center;\">\n",
       "                    Figure\n",
       "                </div>\n",
       "                <img src='data:image/png;base64,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' width=800.0/>\n",
       "            </div>\n",
       "        "
      ],
      "text/plain": [
       "Canvas(toolbar=Toolbar(toolitems=[('Home', 'Reset original view', 'home', 'home'), ('Back', 'Back to previous …"
      ]
     },
     "metadata": {},
     "output_type": "display_data"
    }
   ],
   "source": [
    "vis_pair(no_bottom_boundary(ed_seg_out), no_bottom_boundary(es_seg_out))"
   ]
  },
  {
   "cell_type": "code",
   "execution_count": 22,
   "id": "c7f0a084-090f-4f3e-b0c4-542e869db271",
   "metadata": {},
   "outputs": [
    {
     "data": {
      "application/vnd.jupyter.widget-view+json": {
       "model_id": "09136e93f7c54c658dd51eae8e61a90e",
       "version_major": 2,
       "version_minor": 0
      },
      "image/png": "[encoded data removed]",
      "text/html": [
       "\n",
       "            <div style=\"display: inline-block;\">\n",
       "                <div class=\"jupyter-widgets widget-label\" style=\"text-align: center;\">\n",
       "                    Figure\n",
       "                </div>\n",
       "                <img src='data:image/png;base64,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' width=800.0/>\n",
       "            </div>\n",
       "        "
      ],
      "text/plain": [
       "Canvas(toolbar=Toolbar(toolitems=[('Home', 'Reset original view', 'home', 'home'), ('Back', 'Back to previous …"
      ]
     },
     "metadata": {},
     "output_type": "display_data"
    }
   ],
   "source": [
    "vis_pair(no_bottom_boundary(ed_label), no_bottom_boundary(es_label))"
   ]
  },
  {
   "cell_type": "markdown",
   "id": "918b1f09-6228-40ae-a37e-2e54159bc14b",
   "metadata": {},
   "source": [
    "### Try to split image into `N` horizontal sections"
   ]
  },
  {
   "cell_type": "code",
   "execution_count": 38,
   "id": "a45ea811-d9d0-4fe7-91ee-8907a3929e2c",
   "metadata": {},
   "outputs": [],
   "source": [
    "N = 3"
   ]
  },
  {
   "cell_type": "code",
   "execution_count": 39,
   "id": "14a68690-9eb8-4a2c-bade-137a3e1a05d4",
   "metadata": {},
   "outputs": [],
   "source": [
    "def top_bottom_index(I):\n",
    "    '''\n",
    "    input:\n",
    "        I - shape (112, 112), unique vals (0,1)\n",
    "    output:\n",
    "        top, bot -- index vals of highest pixel with val 1 and lowest pixel with val 1\n",
    "                    i.e. range of the heart\n",
    "                    \n",
    "                    top inclusive\n",
    "                    bot exclusive\n",
    "                        Dijkstra would like me decision ;)\n",
    "    '''\n",
    "    # make sure values in image are only 0 and 1\n",
    "    check_unique_vals = np.unique(I)\n",
    "    if check_unique_vals[0] == 0 and check_unique_vals[1] == 255:\n",
    "        I = I / 255\n",
    "    elif check_unique_vals[0] == 0 and check_unique_vals[1] != 1:\n",
    "        print('incorrect values in Image')\n",
    "        return\n",
    "    \n",
    "    top = 0\n",
    "    bottom = 0\n",
    "    delta = 0\n",
    "    \n",
    "    found_top = False\n",
    "    found_bottom = False\n",
    "    \n",
    "    for row in I:\n",
    "        # find the top\n",
    "        if not found_top:\n",
    "            if 1 in row:\n",
    "                found_top = True\n",
    "                top = delta\n",
    "            \n",
    "        # find bottom\n",
    "        if not found_bottom and found_top:\n",
    "            if 1 not in row:\n",
    "                found_bottom = True\n",
    "                bottom = delta\n",
    "                \n",
    "        # leave when found both\n",
    "        if found_top and found_bottom:\n",
    "            break\n",
    "            \n",
    "        # increment row index\n",
    "        delta += 1\n",
    "            \n",
    "    return top, bottom"
   ]
  },
  {
   "cell_type": "code",
   "execution_count": 40,
   "id": "647be14a-1553-413b-8666-2bf9ba9d40c1",
   "metadata": {},
   "outputs": [],
   "source": [
    "def get_split_points(I, N, inds):\n",
    "    '''\n",
    "    input: \n",
    "        I - shape (112, 112), unique vals (0,1)\n",
    "        N - int\n",
    "        inds - list/iterable containing top and bottom index of heart (top, bot)\n",
    "    output:\n",
    "        list of N points where we divide the image\n",
    "    '''\n",
    "    top = inds[0]\n",
    "    bot = inds[1]\n",
    "    \n",
    "    lv_vert_len = bot - top\n",
    "    deltas = lv_vert_len // N\n",
    "    divide_points = [top + (deltas * i) for i in range(N)]\n",
    "    divide_points.append(bot)\n",
    "    \n",
    "    return divide_points"
   ]
  },
  {
   "cell_type": "code",
   "execution_count": 41,
   "id": "d5fc55c0-eccd-421c-9329-1449fede4632",
   "metadata": {},
   "outputs": [],
   "source": [
    "def draw_bars(I, inds):\n",
    "    '''\n",
    "    input:\n",
    "        I - shape (112, 112), unique vals (0,1)\n",
    "        inds - list/iterable of indeces of where bars should be drawn on image\n",
    "    \n",
    "    output:\n",
    "        no return val, show matplotlib fig with the top and bottom of the heart ventricle \n",
    "    '''\n",
    "    I_bars = np.zeros(I.shape)\n",
    "    \n",
    "    for ind in inds:\n",
    "        I_bars[ind:ind+1, 0:I.shape[1]] = 127\n",
    "    \n",
    "    plt.figure(figsize=(10,5))\n",
    "    plt.imshow(I * 255, cmap='gray', zorder=1) # image, bottom\n",
    "    plt.imshow(I_bars, cmap='gray', zorder=2, alpha=0.5) # bars, top"
   ]
  },
  {
   "cell_type": "code",
   "execution_count": 42,
   "id": "e0c5da78-b87d-4480-a797-4db64709a27d",
   "metadata": {},
   "outputs": [],
   "source": [
    "ed_label_processed =  no_bottom_boundary(ed_label)"
   ]
  },
  {
   "cell_type": "code",
   "execution_count": 43,
   "id": "2b6cddd1-ec0e-4e79-8e9f-f4cd7a3c3661",
   "metadata": {},
   "outputs": [
    {
     "data": {
      "text/plain": [
       "(34, 76)"
      ]
     },
     "execution_count": 43,
     "metadata": {},
     "output_type": "execute_result"
    }
   ],
   "source": [
    "top_bottom_index(ed_label_processed)"
   ]
  },
  {
   "cell_type": "code",
   "execution_count": 44,
   "id": "ba7d5161-3b0d-4714-8e34-e60ab69603ec",
   "metadata": {},
   "outputs": [
    {
     "data": {
      "text/plain": [
       "[34, 48, 62, 76]"
      ]
     },
     "execution_count": 44,
     "metadata": {},
     "output_type": "execute_result"
    }
   ],
   "source": [
    "get_split_points(ed_label_processed, N, top_bottom_index(ed_label_processed))"
   ]
  },
  {
   "cell_type": "code",
   "execution_count": 45,
   "id": "75304bfe-593b-46dd-9911-92eda99012fb",
   "metadata": {},
   "outputs": [
    {
     "data": {
      "application/vnd.jupyter.widget-view+json": {
       "model_id": "e1469b6880664ae388080068004e4131",
       "version_major": 2,
       "version_minor": 0
      },
      "image/png": "[encoded data removed]",
      "text/html": [
       "\n",
       "            <div style=\"display: inline-block;\">\n",
       "                <div class=\"jupyter-widgets widget-label\" style=\"text-align: center;\">\n",
       "                    Figure\n",
       "                </div>\n",
       "                <img src='data:image/png;base64,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' width=1000.0/>\n",
       "            </div>\n",
       "        "
      ],
      "text/plain": [
       "Canvas(toolbar=Toolbar(toolitems=[('Home', 'Reset original view', 'home', 'home'), ('Back', 'Back to previous …"
      ]
     },
     "metadata": {},
     "output_type": "display_data"
    }
   ],
   "source": [
    "draw_bars(ed_label_processed, get_split_points(ed_label_processed, N, top_bottom_index(ed_label_processed)))"
   ]
  },
  {
   "cell_type": "markdown",
   "id": "292c38c8-dca3-4e7c-9543-60ea505db503",
   "metadata": {},
   "source": [
    "## I don't know how to label the points in bins ? \n",
    "## So we split into multiple images in the background (more unnecessary compute and mem usage for now...)\n",
    "\n",
    "When splitting, note that `[start, end)`. "
   ]
  },
  {
   "cell_type": "code",
   "execution_count": 46,
   "id": "d9eb0e6b-108b-4dd1-a5c7-ff02e5a3a5b2",
   "metadata": {},
   "outputs": [],
   "source": [
    "def split_image_pair_and_calc_strain(I_0, I_1, N):\n",
    "    '''\n",
    "    input: I_0 - shape (112, 112), unique vals (0,1)\n",
    "            I_1 - shape (112, 112), unique vals (0,1)\n",
    "            N - int\n",
    "    output:\n",
    "        N strain values for each region, from top to bottom in spatial relation\n",
    "    '''\n",
    "    import copy\n",
    "    I_0_proc = cut_basal_plane_out(give_boundary(I_0))\n",
    "    I_1_proc = cut_basal_plane_out(give_boundary(I_1))\n",
    "    \n",
    "    I_0_split_points = get_split_points(I_0_proc, N, top_bottom_index(I_0_proc))\n",
    "    I_1_split_points = get_split_points(I_1_proc, N, top_bottom_index(I_1_proc))\n",
    "\n",
    "    \n",
    "    all_strains = [0 for i in range(N)]\n",
    "    \n",
    "    # for each section\n",
    "    for i in range(N):\n",
    "        I_0_proc_copy = copy.deepcopy(I_0_proc)\n",
    "        I_1_proc_copy = copy.deepcopy(I_1_proc)\n",
    "        \n",
    "        # zero out everything outside of current range following: [start, end)\n",
    "        I_0_start = I_0_split_points[i]\n",
    "        I_0_end = I_0_split_points[i+1]\n",
    "        I_1_start = I_1_split_points[i]\n",
    "        I_1_end = I_1_split_points[i+1]\n",
    "        \n",
    "        # above, below\n",
    "        I_0_proc_copy[0:I_0_start, 0:I_0.shape[1]] = 0\n",
    "        I_0_proc_copy[I_0_end:I_0.shape[0], 0:I_0.shape[1]] = 0\n",
    "        \n",
    "        I_1_proc_copy[0:I_1_start, 0:I_1.shape[1]] = 0\n",
    "        I_1_proc_copy[I_1_end:I_1.shape[0], 0:I_1.shape[1]] = 0\n",
    "\n",
    "        # calc strain of this section\n",
    "        curr_sec_strain = boundaries_to_strain(I_0_proc_copy, I_1_proc_copy)\n",
    "        all_strains[i] = curr_sec_strain\n",
    "        \n",
    "    return all_strains"
   ]
  },
  {
   "cell_type": "code",
   "execution_count": 47,
   "id": "a44c5699-bafa-4f57-8694-fc3ca0e9ac3d",
   "metadata": {},
   "outputs": [
    {
     "data": {
      "text/plain": [
       "[-0.2, -0.3076923076923077, -0.23076923076923078]"
      ]
     },
     "execution_count": 47,
     "metadata": {},
     "output_type": "execute_result"
    }
   ],
   "source": [
    "split_image_pair_and_calc_strain(ed_label, es_label, N)"
   ]
  },
  {
   "cell_type": "code",
   "execution_count": 48,
   "id": "65448ac9-403b-4458-8e62-4f2d1cc8acdf",
   "metadata": {},
   "outputs": [
    {
     "data": {
      "text/plain": [
       "-0.23255813953488372"
      ]
     },
     "execution_count": 48,
     "metadata": {},
     "output_type": "execute_result"
    }
   ],
   "source": [
    "images_to_strain(ed_label, es_label)"
   ]
  },
  {
   "cell_type": "code",
   "execution_count": 49,
   "id": "e89deac5-39a8-46b2-a45e-a60aadda6778",
   "metadata": {},
   "outputs": [
    {
     "data": {
      "text/plain": [
       "-0.24615384615384617"
      ]
     },
     "execution_count": 49,
     "metadata": {},
     "output_type": "execute_result"
    }
   ],
   "source": [
    "np.mean([-0.2, -0.3076923076923077, -0.23076923076923078])"
   ]
  }
 ],
 "metadata": {
  "kernelspec": {
   "display_name": "Python 3",
   "language": "python",
   "name": "python3"
  },
  "language_info": {
   "codemirror_mode": {
    "name": "ipython",
    "version": 3
   },
   "file_extension": ".py",
   "mimetype": "text/x-python",
   "name": "python",
   "nbconvert_exporter": "python",
   "pygments_lexer": "ipython3",
   "version": "3.7.6"
  }
 },
 "nbformat": 4,
 "nbformat_minor": 5
}
