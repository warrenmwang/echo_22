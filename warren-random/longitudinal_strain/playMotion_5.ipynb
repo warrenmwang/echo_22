{
 "cells": [
  {
   "cell_type": "markdown",
   "id": "a8df8484-02e5-419c-a0ae-6ae546ea9317",
   "metadata": {},
   "source": [
    "## 1. preliminary work, load in data and model"
   ]
  },
  {
   "cell_type": "code",
   "execution_count": 1,
   "id": "ffe1dfa0-7788-44cb-aed3-d0eec8ab5ab8",
   "metadata": {},
   "outputs": [
    {
     "name": "stdout",
     "output_type": "stream",
     "text": [
      "/home/wang/workspace/JupyterNoteBooksAll/fully-automated-multi-heartbeat-echocardiography-video-segmentation-and-motion-tracking\n"
     ]
    },
    {
     "name": "stderr",
     "output_type": "stream",
     "text": [
      "100%|██████████| 16/16 [00:01<00:00, 13.28it/s]\n",
      "100%|██████████| 16/16 [00:01<00:00, 13.84it/s]\n",
      "100%|██████████| 16/16 [00:01<00:00, 13.90it/s]\n"
     ]
    },
    {
     "name": "stdout",
     "output_type": "stream",
     "text": [
      "Original_Pretrained_R2plus1DMotionSegNet.pth has 31575731 parameters.\n",
      "1\n",
      "16\n",
      "[117 118 119 120 121 122 123 124 125 126 127 128 129 130 131 132]\n",
      "delta_ed_es: 16\n"
     ]
    }
   ],
   "source": [
    "model_names = [\"Original_Pretrained_R2plus1DMotionSegNet.pth\"]\n",
    "\n",
    "import os\n",
    "os.chdir(\"/home/wang/workspace/JupyterNoteBooksAll/fully-automated-multi-heartbeat-echocardiography-video-segmentation-and-motion-tracking\")\n",
    "print(os.getcwd())\n",
    "\n",
    "%config Completer.use_jedi = False\n",
    "\n",
    "import SimpleITK as itk\n",
    "from LabelFusion.wrapper import fuse_images\n",
    "\n",
    "import echonet\n",
    "from echonet.datasets import Echo\n",
    "\n",
    "import torch.nn.functional as F\n",
    "from torchvision.models.video import r2plus1d_18\n",
    "from torch.utils.data import Dataset, DataLoader, Subset\n",
    "from multiprocessing import cpu_count\n",
    "\n",
    "from src.utils.torch_utils import TransformDataset, torch_collate\n",
    "from src.utils.echo_utils import get2dPucks\n",
    "from src.utils.camus_validate import cleanupSegmentation\n",
    "from src.transform_utils import generate_2dmotion_field\n",
    "from src.visualization_utils import categorical_dice\n",
    "from src.loss_functions import huber_loss, convert_to_1hot, convert_to_1hot_tensor\n",
    "from src.echonet_dataset import EDESpairs, EchoNetDynamicDataset\n",
    "\n",
    "from src.model.R2plus1D_18_MotionNet import R2plus1D_18_MotionNet\n",
    "\n",
    "# v1 dropout, not in place dropout\n",
    "from src.model.dropout_0_10_R2plus1D_18_MotionNet import dropout_0_10_R2plus1D_18_MotionNet\n",
    "from src.model.dropout_0_25_R2plus1D_18_MotionNet import dropout_0_25_R2plus1D_18_MotionNet\n",
    "from src.model.dropout_0_50_R2plus1D_18_MotionNet import dropout_0_50_R2plus1D_18_MotionNet\n",
    "from src.model.dropout_0_75_R2plus1D_18_MotionNet import dropout_0_75_R2plus1D_18_MotionNet\n",
    "\n",
    "# v2 dropout (in place before motion heads)\n",
    "from src.model.dropout_v2_0_00_R2plus1D_18_MotionNet import dropout_v2_0_00_R2plus1D_18_MotionNet\n",
    "from src.model.dropout_v2_0_10_R2plus1D_18_MotionNet import dropout_v2_0_10_R2plus1D_18_MotionNet\n",
    "from src.model.dropout_v2_0_25_R2plus1D_18_MotionNet import dropout_v2_0_25_R2plus1D_18_MotionNet\n",
    "\n",
    "\n",
    "\n",
    "# from src.visualization_utils import categorical_dice\n",
    "\n",
    "import numpy as np\n",
    "from scipy.signal import find_peaks\n",
    "import matplotlib.pyplot as plt\n",
    "\n",
    "import torch\n",
    "import torch.nn as nn\n",
    "import torch.optim as optim\n",
    "\n",
    "import random\n",
    "import pickle\n",
    "import time\n",
    "\n",
    "tic, toc = (time.time, time.time)\n",
    "\n",
    "\n",
    "device = 'cuda' if torch.cuda.is_available() else 'cpu'\n",
    "device\n",
    "\n",
    "\n",
    "batch_size = 4\n",
    "num_workers = max(4, cpu_count()//2)\n",
    "\n",
    "\n",
    "def worker_init_fn_valid(worker_id):                                                          \n",
    "    np.random.seed(np.random.get_state()[1][0] + worker_id)\n",
    "    \n",
    "\n",
    "def worker_init_fn(worker_id):\n",
    "    # See here: https://pytorch.org/docs/stable/notes/randomness.html#dataloader\n",
    "    # and the original post of the problem: https://github.com/pytorch/pytorch/issues/5059#issuecomment-817373837\n",
    "    worker_seed = torch.initial_seed() % 2 ** 32\n",
    "    print(f'worker_seed: {worker_seed}')\n",
    "    np.random.seed(worker_seed)\n",
    "    random.seed(worker_seed)\n",
    "    \n",
    "\n",
    "def permuter(list1, list2):\n",
    "    for i1 in list1:\n",
    "        for i2 in list2:\n",
    "            yield (i1, i2)\n",
    "            \n",
    "\n",
    "param_trainLoader = {'collate_fn': torch_collate,\n",
    "                     'batch_size': batch_size,\n",
    "                     'num_workers': max(4, cpu_count()//2),\n",
    "                     'worker_init_fn': worker_init_fn}\n",
    "\n",
    "param_testLoader = {'collate_fn': torch_collate,\n",
    "                    'batch_size': batch_size,\n",
    "                    'shuffle': False,\n",
    "                    'num_workers': max(4, cpu_count()//2),\n",
    "                    'worker_init_fn': worker_init_fn}\n",
    "\n",
    "paramLoader = {'train': param_trainLoader,\n",
    "               'valid': param_testLoader,\n",
    "               'test':  param_testLoader}\n",
    "\n",
    "\n",
    "with open(\"fold_indexes/stanford_valid_sampled_indices\", \"rb\") as infile:\n",
    "    valid_mask = pickle.load(infile)\n",
    "infile.close()\n",
    "\n",
    "full_dataset = EchoNetDynamicDataset(split='val', clip_length=\"full\", subset_indices=valid_mask, period=1)\n",
    "test_dataset = EchoNetDynamicDataset(split='test', clip_length=\"full\", raise_for_es_ed=False, period=1)\n",
    "random_test_dataset = EchoNetDynamicDataset(split='test', clip_length=32, raise_for_es_ed=True, period=1)\n",
    "\n",
    "\n",
    "loaded_in_models = []\n",
    "\n",
    "for model_name in model_names:\n",
    "    model_save_path = f\"save_models/{model_name}\"\n",
    "     \n",
    "    \n",
    "    if model_name == 'Original_Pretrained_R2plus1DMotionSegNet.pth':\n",
    "        model_template_obj = R2plus1D_18_MotionNet()\n",
    "    elif model_name == 'dropout_v2_0_00_R2plus1DMotionSegNet.pth':\n",
    "        model_template_obj = dropout_v2_0_00_R2plus1D_18_MotionNet()\n",
    "        \n",
    "    elif model_name == \"dropout_v3_0_00_R2plus1D_18_MotionNet.pth\":\n",
    "        model_template_obj = dropout_v3_0_00_R2plus1D_18_MotionNet()\n",
    "    elif model_name == \"dropout_v3_0_10_R2plus1D_18_MotionNet.pth\":\n",
    "        model_template_obj = dropout_v3_0_10_R2plus1D_18_MotionNet()\n",
    "    elif model_name == \"dropout_v3_0_25_R2plus1D_18_MotionNet.pth\":\n",
    "        model_template_obj = dropout_v3_0_25_R2plus1D_18_MotionNet()\n",
    "    elif model_name == \"dropout_v4_0_00_R2plus1D_18_MotionNet.pth\":\n",
    "        model_template_obj = dropout_v4_0_00_R2plus1D_18_MotionNet()\n",
    "    elif model_name == \"dropout_v4_0_10_R2plus1D_18_MotionNet.pth\":\n",
    "        model_template_obj = dropout_v4_0_10_R2plus1D_18_MotionNet()\n",
    "    elif model_name == \"dropout_v4_0_25_R2plus1D_18_MotionNet.pth\":\n",
    "        model_template_obj = dropout_v4_0_25_R2plus1D_18_MotionNet()\n",
    "\n",
    "\n",
    "    model = torch.nn.DataParallel(model_template_obj)\n",
    "\n",
    "\n",
    "    \n",
    "    model.to(\"cuda\")\n",
    "    torch.cuda.empty_cache()\n",
    "    model.load_state_dict(torch.load(model_save_path)[\"model\"])\n",
    "    print(f'{model_name} has {sum(p.numel() for p in model.parameters() if p.requires_grad)} parameters.')\n",
    "    model.eval();\n",
    "    \n",
    "    loaded_in_models.append((model_name, model))\n",
    "\n",
    "print(len(loaded_in_models))\n",
    "\n",
    "\n",
    "\n",
    "# test_pat_index = np.random.randint(len(test_dataset))\n",
    "test_pat_index = 0 \n",
    "\n",
    "video, (filename, EF, es_clip_index, ed_clip_index, es_index, ed_index, es_frame, ed_frame, es_label, ed_label) = test_dataset[test_pat_index]\n",
    "\n",
    "\n",
    "\n",
    "def divide_to_consecutive_clips(video, clip_length=32, interpolate_last=False):\n",
    "    source_video = video.copy()\n",
    "    video_length = video.shape[1]\n",
    "    left = video_length % clip_length\n",
    "    if left != 0 and interpolate_last:\n",
    "        source_video = torch.Tensor(source_video).unsqueeze(0)\n",
    "        source_video = F.interpolate(source_video, size=(int(np.round(video_length / clip_length) * clip_length), 112, 112),\n",
    "                                     mode=\"trilinear\", align_corners=False)\n",
    "        source_video = source_video.squeeze(0).squeeze(0)\n",
    "        source_video = source_video.numpy()\n",
    "    \n",
    "    videos = np.empty(shape=(1, 3, clip_length, 112, 112))\n",
    "\n",
    "    for start in range(0, int(clip_length * np.round(video_length / clip_length)), clip_length):\n",
    "        one_clip = source_video[:, start: start + clip_length]\n",
    "        one_clip = np.expand_dims(one_clip, 0)\n",
    "        videos = np.concatenate([videos, one_clip])\n",
    "    return videos[1:]\n",
    "\n",
    "\n",
    "# goes thru a video and annotates where we can start clips given video length, clip length, etc.\n",
    "def get_all_possible_start_points(ed_index, es_index, video_length, clip_length):\n",
    "    assert es_index - ed_index > 0, \"not a ED to ES clip pair\"\n",
    "    possible_shift = clip_length - (es_index - ed_index)\n",
    "    allowed_right = video_length - es_index\n",
    "    if allowed_right < possible_shift:\n",
    "        return np.arange(ed_index - possible_shift + 1, video_length - clip_length + 1)\n",
    "    if possible_shift < 0:\n",
    "        return np.array([ed_index])\n",
    "    elif ed_index < possible_shift:\n",
    "        return np.arange(ed_index + 1)\n",
    "    else:\n",
    "        return np.arange(ed_index - possible_shift + 1, ed_index + 1)\n",
    "\n",
    "    \n",
    "    \n",
    "\n",
    "    \n",
    "    \n",
    "possible_starts = get_all_possible_start_points(ed_index, es_index, video.shape[1], clip_length=32)\n",
    "print(len(possible_starts))\n",
    "print(possible_starts)\n",
    "\n",
    "\n",
    "delta_ed_es = es_index - ed_index\n",
    "print(f'delta_ed_es: {delta_ed_es}')\n",
    "\n"
   ]
  },
  {
   "cell_type": "code",
   "execution_count": 2,
   "id": "49840a83-dea6-4824-a6e7-387c4ff129af",
   "metadata": {},
   "outputs": [
    {
     "data": {
      "text/plain": [
       "((3, 248, 112, 112), 132, 148)"
      ]
     },
     "execution_count": 2,
     "metadata": {},
     "output_type": "execute_result"
    }
   ],
   "source": [
    "video.shape, ed_index, es_index"
   ]
  },
  {
   "cell_type": "code",
   "execution_count": 3,
   "id": "83c4b98d-3d25-46b0-bb55-9de120399c52",
   "metadata": {},
   "outputs": [
    {
     "data": {
      "text/plain": [
       "163"
      ]
     },
     "execution_count": 3,
     "metadata": {},
     "output_type": "execute_result"
    }
   ],
   "source": [
    "148+15"
   ]
  },
  {
   "cell_type": "code",
   "execution_count": 4,
   "id": "a841d0a9-abf3-4667-95d3-3f46f67d9035",
   "metadata": {},
   "outputs": [],
   "source": [
    "def generate_2dmotion_field_PLAY(x, offset):\n",
    "    # Qin's code for joint_motion_seg learning works fine on our purpose too\n",
    "    # Same idea https://discuss.pytorch.org/t/warp-video-frame-from-optical-flow/6013/5\n",
    "    # print(x.shape)\n",
    "    \n",
    "    \n",
    "    x_shape = x.shape\n",
    "    # print(f'x_shape: {x_shape}')\n",
    "    \n",
    "    grid_w, grid_h = torch.meshgrid([torch.linspace(-1, 1, x_shape[2]), torch.linspace(-1, 1, x_shape[3])])  # (h, w)\n",
    "    # print(f'grid_w.shape (meshgrid): {grid_w.shape}')\n",
    "    # print(f'grid_h.shape (meshgrid): {grid_h.shape}')\n",
    "    \n",
    "    # this should just be moving the vars to gpu mem and doing some data type conversion to some\n",
    "    # floating point precision\n",
    "    grid_w = grid_w.cuda().float()\n",
    "    grid_h = grid_h.cuda().float()\n",
    "    \n",
    "    # print(f'grid_w.shape .cuda().float(): {grid_w.shape}')\n",
    "    # print(f'grid_h.shape .cuda().float(): {grid_h.shape}')\n",
    "\n",
    "    grid_w = nn.Parameter(grid_w, requires_grad=False)\n",
    "    grid_h = nn.Parameter(grid_h, requires_grad=False)\n",
    "    # print(f'grid_w.shape (nn.Param): {grid_w.shape}')\n",
    "    # print(f'grid_h.shape (nn.Param): {grid_h.shape}')\n",
    "\n",
    "\n",
    "    # OLD \n",
    "    # offset_h, offset_w = torch.split(offset, 1, 1)\n",
    "    # NEW , TESTING\n",
    "    offset_h, offset_w = torch.split(offset, 1)\n",
    "    \n",
    "    # print(f'offset_h.shape (split): {offset_h.shape}')\n",
    "    # print(f'offset_w.shape (split): {offset_w.shape}')\n",
    "    \n",
    "    offset_w = offset_w.contiguous().view(-1, int(x_shape[2]), int(x_shape[3]))  # (b*c, h, w)\n",
    "    offset_h = offset_h.contiguous().view(-1, int(x_shape[2]), int(x_shape[3]))  # (b*c, h, w)\n",
    "    \n",
    "    # print(f'offset_h.shape (contiguous): {offset_h.shape}')\n",
    "    # print(f'offset_w.shape (contiguous): {offset_w.shape}')\n",
    "    \n",
    "    offset_w = grid_w + offset_w\n",
    "    offset_h = grid_h + offset_h\n",
    "    \n",
    "    # print(f'offset_w (grid_w + offset_w): {offset_w.shape}')\n",
    "    # print(f'offset_h (grid_h + offset_h): {offset_h.shape}')\n",
    "    \n",
    "    offsets = torch.stack((offset_h, offset_w), 3)\n",
    "    \n",
    "    # print(f'offsets (stack): {offsets.shape}')\n",
    "\n",
    "    # print('leaving generate_2dmotion_field')\n",
    "    return offsets\n",
    "\n",
    "def categorical_dice(prediction, truth, k, epsilon=1e-5):\n",
    "    \"\"\"\n",
    "        Compute the dice overlap between the predicted labels and truth\n",
    "        Not a loss\n",
    "    \"\"\"\n",
    "    # Dice overlap metric for label value k\n",
    "    A = (prediction == k)\n",
    "    B = (truth == k)\n",
    "    return 2 * np.sum(A * B) / (np.sum(A) + np.sum(B) + epsilon)"
   ]
  },
  {
   "cell_type": "markdown",
   "id": "815b5259-1bb3-4408-85f2-ac738e3af66c",
   "metadata": {},
   "source": [
    "## 2. Pass first video's data thru the model"
   ]
  },
  {
   "cell_type": "code",
   "execution_count": 5,
   "id": "314223ce-2e30-41f0-9601-b56b370bdc2c",
   "metadata": {},
   "outputs": [],
   "source": [
    "# segment using all models\n",
    "all_segmentation_outputs = []\n",
    "all_motion_outputs = []\n",
    "\n",
    "# for each model, segment the clips\n",
    "for name, model in loaded_in_models:\n",
    "    \n",
    "    segmentation_outputs = np.empty(shape=(1, 2, 32, 112, 112))\n",
    "    motion_outputs = np.empty(shape=(1, 4, 32, 112, 112))\n",
    "    for start in possible_starts:\n",
    "        one_clip = np.expand_dims(video[:, start: start + 32], 0)\n",
    "        segmentation_output, motion_output = model(torch.Tensor(one_clip))\n",
    "        segmentation_outputs = np.concatenate([segmentation_outputs, segmentation_output.cpu().detach().numpy()])\n",
    "        motion_outputs = np.concatenate([motion_outputs, motion_output.cpu().detach().numpy()])\n",
    "    segmentation_outputs = segmentation_outputs[1:]\n",
    "    motion_outputs = motion_outputs[1:]\n",
    "    \n",
    "    # save \n",
    "    all_segmentation_outputs.append(segmentation_outputs)\n",
    "    all_motion_outputs.append(motion_outputs)\n"
   ]
  },
  {
   "cell_type": "markdown",
   "id": "39ff9652-8136-4d78-84fb-460c39c54a7c",
   "metadata": {},
   "source": [
    "### 3. The fun part, we need to make sure our objects have the right shapes in order to pass them thru the motion manipulation functions that do the actual warping of the seg out images via the motion tracking information"
   ]
  },
  {
   "cell_type": "code",
   "execution_count": 6,
   "id": "c3ea716d-4176-4d2d-a797-36a071fe21fd",
   "metadata": {},
   "outputs": [
    {
     "data": {
      "text/plain": [
       "((16, 2, 32, 112, 112), (16, 4, 32, 112, 112))"
      ]
     },
     "execution_count": 6,
     "metadata": {},
     "output_type": "execute_result"
    }
   ],
   "source": [
    "motion_trackings = all_motion_outputs[0]\n",
    "segmentations = all_segmentation_outputs[0]\n",
    "segmentations.shape, motion_trackings.shape"
   ]
  },
  {
   "cell_type": "code",
   "execution_count": 7,
   "id": "919629cc-66e1-48c5-b0e7-45e1ae12abac",
   "metadata": {},
   "outputs": [
    {
     "data": {
      "text/plain": [
       "((2, 32, 112, 112), (4, 32, 112, 112))"
      ]
     },
     "execution_count": 7,
     "metadata": {},
     "output_type": "execute_result"
    }
   ],
   "source": [
    "last_clip_segmentations = segmentations[-1]\n",
    "last_clip_motions = motion_trackings[-1]\n",
    "last_clip_segmentations.shape, last_clip_motions.shape"
   ]
  },
  {
   "cell_type": "code",
   "execution_count": 8,
   "id": "4fab4046-0e1f-45f2-94e6-675775a1beb2",
   "metadata": {},
   "outputs": [
    {
     "data": {
      "text/plain": [
       "(1, 2, 112, 112)"
      ]
     },
     "execution_count": 8,
     "metadata": {},
     "output_type": "execute_result"
    }
   ],
   "source": [
    "# remember, we will want to continuously warp the previous frame that has been warped forward in time\n",
    "# only the first frame that we start with will be the actual seg out frame\n",
    "\n",
    "flow_source = None\n",
    "\n",
    "# warping FORWARD from ED -> ES\n",
    "for frame_index in range(delta_ed_es):\n",
    "    # grab forward motion\n",
    "    forward_motion = last_clip_motions[:2, frame_index,...]\n",
    "    \n",
    "    # grab the ED seg out frame to warp\n",
    "    if frame_index == 0:\n",
    "        flow_source = np.array([last_clip_segmentations[:, frame_index, ...]])\n",
    "        flow_source = torch.from_numpy(flow_source).to(device).float()\n",
    "    else:\n",
    "        pass # use previous next_label as flow_source, should be redefined at end of previous loop iter\n",
    "    \n",
    "    # convert to tensors and move to gpu with float dtype\n",
    "    forward_motion = torch.from_numpy(forward_motion).to(device).float()\n",
    "    # generate motion field for forward motion\n",
    "    motion_field = generate_2dmotion_field_PLAY(flow_source, forward_motion)\n",
    "    # create frame i+1 relative to curr frame i \n",
    "    next_label = F.grid_sample(flow_source, motion_field, align_corners=False, mode=\"bilinear\", padding_mode='border')\n",
    "    # use i+1 frame as next loop iter's i frame\n",
    "    flow_source = next_label\n",
    "    \n",
    "#     # looking at it\n",
    "#     next_frame = next_label.cpu().detach().numpy()\n",
    "    \n",
    "#     next_frame = np.argmax(next_frame, 1)\n",
    "\n",
    "#     plt.imshow(next_frame[0], cmap='gray')\n",
    "#     plt.colorbar()\n",
    "\n",
    "es_created_from_warping_ed = flow_source.cpu().detach().numpy()\n",
    "es_created_from_warping_ed.shape\n",
    "\n",
    "# warping BACKWARD from ED <- ES\n",
    "for frame_index in range(delta_ed_es, -1, -1):\n",
    "    # grab backward motion\n",
    "    backward_motion = last_clip_motions[2:, frame_index,...]\n",
    "\n",
    "    # grab the ES seg out frame to start\n",
    "    if frame_index == delta_ed_es:\n",
    "        flow_source = np.array([last_clip_segmentations[:, frame_index, ...]])\n",
    "        flow_source = torch.from_numpy(flow_source).to(device).float()\n",
    "    else:\n",
    "        pass # use previous next_label as flow_source, should be redefined at end of previous loop iter\n",
    "    \n",
    "    # convert to tensors and move to gpu with float dtype\n",
    "    backward_motion = torch.from_numpy(backward_motion).to(device).float()\n",
    "    # generate motion field for backward motion\n",
    "    motion_field = generate_2dmotion_field_PLAY(flow_source, backward_motion)\n",
    "    # create frame i-1 relative to curr frame i \n",
    "    next_label = F.grid_sample(flow_source, motion_field, align_corners=False, mode=\"bilinear\", padding_mode='border')\n",
    "    # use i-1 frame as next loop iter's i frame\n",
    "    flow_source = next_label\n",
    "\n",
    "ed_created_from_warping_es = flow_source.cpu().detach().numpy()\n",
    "ed_created_from_warping_es.shape"
   ]
  },
  {
   "cell_type": "code",
   "execution_count": 9,
   "id": "3c28459c-c328-433b-98a6-5ea75b757088",
   "metadata": {},
   "outputs": [],
   "source": [
    "ed_created_from_warping_es_display_version = np.argmax(ed_created_from_warping_es, 1)[0]\n",
    "\n",
    "es_created_from_warping_ed_display_version = np.argmax(es_created_from_warping_ed, 1)[0]\n",
    "\n",
    "# plt.imshow(es_created_from_ed_warping_display_version, cmap='gray')"
   ]
  },
  {
   "cell_type": "markdown",
   "id": "af57b744-3502-4c0e-8813-1b936a405c79",
   "metadata": {
    "tags": []
   },
   "source": [
    "### Compare the 3 ES that we now have. \n",
    "#### 1. ES Ground Truth <br> 2. ES Seg Out <br> 3. ES warped from ED Seg Out\n",
    "\n",
    "#### Do the same for the different ED's"
   ]
  },
  {
   "cell_type": "code",
   "execution_count": 10,
   "id": "bacb1935-68f2-4bf3-a381-434919c7b12b",
   "metadata": {},
   "outputs": [
    {
     "name": "stdout",
     "output_type": "stream",
     "text": [
      "Dice (GT, Seg): 0.9272270958141337\n",
      "Dice (GT, Warp): 0.9288860860359592\n",
      "Dice (Seg, Warp): 0.9899467712007879\n"
     ]
    },
    {
     "data": {
      "image/png": "[encoded data removed]",
      "text/plain": [
       "<Figure size 720x360 with 3 Axes>"
      ]
     },
     "metadata": {
      "needs_background": "light"
     },
     "output_type": "display_data"
    }
   ],
   "source": [
    "fig, (ax1, ax2, ax3) = plt.subplots(1, 3, figsize=(10, 5))\n",
    "\n",
    "es_seg_out = np.argmax(last_clip_segmentations, 0)[delta_ed_es]\n",
    "\n",
    "ax1.set_title('ES Ground Truth')\n",
    "ax1.imshow(es_label, cmap='gray')\n",
    "\n",
    "ax2.set_title('ES Seg Out')\n",
    "ax2.imshow(es_seg_out, cmap='gray')\n",
    "\n",
    "ax3.set_title('ES from warping ED')\n",
    "ax3.imshow(es_created_from_warping_ed_display_version, cmap='gray')\n",
    "\n",
    "print(f'Dice (GT, Seg): {categorical_dice(es_seg_out, es_label, k=1, epsilon=1e-5)}')\n",
    "print(f'Dice (GT, Warp): {categorical_dice(es_created_from_warping_ed_display_version, es_label, k=1, epsilon=1e-5)}')\n",
    "print(f'Dice (Seg, Warp): {categorical_dice(es_created_from_warping_ed_display_version, es_seg_out, k=1, epsilon=1e-5)}')"
   ]
  },
  {
   "cell_type": "code",
   "execution_count": 11,
   "id": "97817eb8-425a-4df0-b26f-c6c24335d83a",
   "metadata": {},
   "outputs": [
    {
     "name": "stdout",
     "output_type": "stream",
     "text": [
      "Dice (GT, Seg): 0.9661082938601157\n",
      "Dice (GT, Warp): 0.9603998425205695\n",
      "Dice (Seg, Warp): 0.9855732688474819\n"
     ]
    },
    {
     "data": {
      "image/png": "[encoded data removed]",
      "text/plain": [
       "<Figure size 720x360 with 3 Axes>"
      ]
     },
     "metadata": {
      "needs_background": "light"
     },
     "output_type": "display_data"
    }
   ],
   "source": [
    "fig, (ax1, ax2, ax3) = plt.subplots(1, 3, figsize=(10, 5))\n",
    "\n",
    "ed_seg_out = np.argmax(last_clip_segmentations, 0)[0]\n",
    "\n",
    "ax1.set_title('ED Ground Truth')\n",
    "ax1.imshow(ed_label, cmap='gray')\n",
    "\n",
    "ax2.set_title('ED Seg Out')\n",
    "ax2.imshow(ed_seg_out, cmap='gray')\n",
    "\n",
    "ax3.set_title('ED from warping ED')\n",
    "ax3.imshow(ed_created_from_warping_es_display_version, cmap='gray')\n",
    "\n",
    "print(f'Dice (GT, Seg): {categorical_dice(ed_seg_out, ed_label, k=1, epsilon=1e-5)}')\n",
    "print(f'Dice (GT, Warp): {categorical_dice(ed_created_from_warping_es_display_version, ed_label, k=1, epsilon=1e-5)}')\n",
    "print(f'Dice (Seg, Warp): {categorical_dice(ed_created_from_warping_es_display_version, ed_seg_out, k=1, epsilon=1e-5)}')"
   ]
  },
  {
   "cell_type": "code",
   "execution_count": null,
   "id": "6a879c32-4f1b-475a-b4b7-5eef9172e81c",
   "metadata": {},
   "outputs": [],
   "source": []
  }
 ],
 "metadata": {
  "kernelspec": {
   "display_name": "Python 3",
   "language": "python",
   "name": "python3"
  },
  "language_info": {
   "codemirror_mode": {
    "name": "ipython",
    "version": 3
   },
   "file_extension": ".py",
   "mimetype": "text/x-python",
   "name": "python",
   "nbconvert_exporter": "python",
   "pygments_lexer": "ipython3",
   "version": "3.7.6"
  }
 },
 "nbformat": 4,
 "nbformat_minor": 5
}
