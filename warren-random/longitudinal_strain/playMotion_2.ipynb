{
 "cells": [
  {
   "cell_type": "code",
   "execution_count": 1,
   "id": "8affbebe-5fb0-4fd2-990b-9a17dd285b4b",
   "metadata": {},
   "outputs": [
    {
     "name": "stderr",
     "output_type": "stream",
     "text": [
      "100%|██████████| 16/16 [00:01<00:00, 12.77it/s]\n",
      "100%|██████████| 16/16 [00:01<00:00, 13.45it/s]\n"
     ]
    }
   ],
   "source": [
    "import os\n",
    "os.chdir(\"/home/wang/workspace/JupyterNoteBooksAll/fully-automated-multi-heartbeat-echocardiography-video-segmentation-and-motion-tracking\")\n",
    "\n",
    "%config Completer.use_jedi = False\n",
    "\n",
    "import echonet\n",
    "from echonet.datasets import Echo\n",
    "\n",
    "import torch.nn.functional as F\n",
    "from torchvision.models.video import r2plus1d_18\n",
    "from torch.utils.data import Dataset, DataLoader, Subset\n",
    "from multiprocessing import cpu_count\n",
    "\n",
    "from src.utils.torch_utils import TransformDataset, torch_collate\n",
    "from src.transform_utils import generate_2dmotion_field\n",
    "from src.loss_functions import huber_loss, convert_to_1hot, convert_to_1hot_tensor\n",
    "from src.model.R2plus1D_18_MotionNet import R2plus1D_18_MotionNet\n",
    "from src.echonet_dataset import EchoNetDynamicDataset\n",
    "from src.clasfv_losses import deformation_motion_loss, motion_seg_loss, DiceLoss, categorical_dice\n",
    "from src.train_test import train, test\n",
    "\n",
    "import numpy as np\n",
    "import matplotlib.pyplot as plt\n",
    "\n",
    "import torch\n",
    "import torch.nn as nn\n",
    "import torch.optim as optim\n",
    "\n",
    "import random\n",
    "import pickle\n",
    "import time\n",
    "\n",
    "tic, toc = (time.time, time.time)\n",
    "\n",
    "with open(\"fold_indexes/stanford_train_sampled_indices\", \"rb\") as infile:\n",
    "    train_mask = pickle.load(infile)\n",
    "infile.close()\n",
    "\n",
    "with open(\"fold_indexes/stanford_valid_sampled_indices\", \"rb\") as infile:\n",
    "    valid_mask = pickle.load(infile)\n",
    "infile.close()\n",
    "\n",
    "batch_size = 4\n",
    "num_workers = max(4, cpu_count()//2)\n",
    "\n",
    "def worker_init_fn_valid(worker_id):                                                          \n",
    "    np.random.seed(np.random.get_state()[1][0] + worker_id)\n",
    "    \n",
    "\n",
    "def worker_init_fn(worker_id):\n",
    "    # See here: https://pytorch.org/docs/stable/notes/randomness.html#dataloader\n",
    "    # and the original post of the problem: https://github.com/pytorch/pytorch/issues/5059#issuecomment-817373837\n",
    "    worker_seed = torch.initial_seed() % 2 ** 32\n",
    "    np.random.seed(worker_seed)\n",
    "    random.seed(worker_seed)\n",
    "    \n",
    "\n",
    "def permuter(list1, list2):\n",
    "    for i1 in list1:\n",
    "        for i2 in list2:\n",
    "            yield (i1, i2)\n",
    "            \n",
    "\n",
    "param_trainLoader = {'collate_fn': torch_collate,\n",
    "                     'batch_size': batch_size,\n",
    "                     'num_workers': max(4, cpu_count()//2),\n",
    "                     'worker_init_fn': worker_init_fn}\n",
    "\n",
    "param_testLoader = {'collate_fn': torch_collate,\n",
    "                    'batch_size': batch_size,\n",
    "                    'shuffle': False,\n",
    "                    'num_workers': max(4, cpu_count()//2),\n",
    "                    'worker_init_fn': worker_init_fn}\n",
    "\n",
    "paramLoader = {'train': param_trainLoader,\n",
    "               'valid': param_testLoader,\n",
    "               'test':  param_testLoader}\n",
    "\n",
    "train_dataset = EchoNetDynamicDataset(split='train', subset_indices=train_mask, period=1)\n",
    "valid_dataset = EchoNetDynamicDataset(split='val', subset_indices=valid_mask, period=1)\n",
    "\n",
    "train_dataloader = DataLoader(train_dataset, batch_size=batch_size, \n",
    "                              num_workers=num_workers, \n",
    "                              shuffle=True, pin_memory=(\"cuda\"), \n",
    "                              worker_init_fn=worker_init_fn,\n",
    "                              drop_last=True)\n",
    "\n",
    "valid_dataloader = DataLoader(valid_dataset, batch_size=batch_size, \n",
    "                              num_workers=num_workers,\n",
    "                              shuffle=False, pin_memory=(\"cuda\"),\n",
    "                              worker_init_fn=worker_init_fn_valid\n",
    "                             )"
   ]
  },
  {
   "cell_type": "code",
   "execution_count": 2,
   "id": "9c1c4c62-5640-4c7e-a1ec-7ef8127e7289",
   "metadata": {},
   "outputs": [
    {
     "name": "stdout",
     "output_type": "stream",
     "text": [
      "R2+1D MotionNet has 31575731 parameters.\n"
     ]
    }
   ],
   "source": [
    "model = torch.nn.DataParallel(R2plus1D_18_MotionNet())\n",
    "model.to(\"cuda\")\n",
    "\n",
    "print(f'R2+1D MotionNet has {sum(p.numel() for p in model.parameters() if p.requires_grad)} parameters.')\n",
    "\n",
    "lr_T = 1e-4 \n",
    "optimizer = optim.Adam(model.parameters(), lr=lr_T)"
   ]
  },
  {
   "cell_type": "code",
   "execution_count": 3,
   "id": "91600703-e239-4db0-a017-4fa45699f81f",
   "metadata": {},
   "outputs": [],
   "source": [
    "for batch_idx, batch in enumerate(train_dataloader, 1):\n",
    "    break"
   ]
  },
  {
   "cell_type": "code",
   "execution_count": 4,
   "id": "a0b25563-5f02-4212-98de-0eb7f3ba0a5e",
   "metadata": {},
   "outputs": [],
   "source": [
    "Tensor = torch.cuda.FloatTensor\n",
    "\n",
    "video_clips = torch.Tensor(batch[0])\n",
    "video_clips = video_clips.type(Tensor)\n",
    "filename, EF, es_clip_index, ed_clip_index, es_index, ed_index, es_frame, ed_frame, es_label, ed_label = batch[1]"
   ]
  },
  {
   "cell_type": "code",
   "execution_count": 5,
   "id": "10afae33-6f34-42d4-a546-6f967b076d2e",
   "metadata": {},
   "outputs": [],
   "source": [
    "# len(foo_list)"
   ]
  },
  {
   "cell_type": "code",
   "execution_count": 6,
   "id": "c216fc8a-7679-4224-a9cb-0e0b2a77e267",
   "metadata": {},
   "outputs": [],
   "source": [
    "# filename, EF, es_clip_index, ed_clip_index, es_index, ed_index, es_frame, ed_frame, es_label, ed_label = foo_list"
   ]
  },
  {
   "cell_type": "code",
   "execution_count": 7,
   "id": "92fdb84b-94f2-4933-b7b1-982810ed2c79",
   "metadata": {},
   "outputs": [
    {
     "data": {
      "text/plain": [
       "torch.Size([4, 3, 112, 112])"
      ]
     },
     "execution_count": 7,
     "metadata": {},
     "output_type": "execute_result"
    }
   ],
   "source": [
    "ed_frame.shape"
   ]
  },
  {
   "cell_type": "markdown",
   "id": "aaeb8d96-b4c3-4db2-b490-ff696e7735ae",
   "metadata": {},
   "source": [
    "There are 4 videos per batch, 3 channels per video, and all frames are 112 x 112 in the videos."
   ]
  },
  {
   "cell_type": "code",
   "execution_count": 8,
   "id": "50e8a7fa-bcf0-48b8-b632-485c697c8cb8",
   "metadata": {},
   "outputs": [
    {
     "data": {
      "text/plain": [
       "<matplotlib.image.AxesImage at 0x7f89e6f9ed10>"
      ]
     },
     "execution_count": 8,
     "metadata": {},
     "output_type": "execute_result"
    },
    {
     "data": {
      "image/png": "[encoded data removed]",
      "text/plain": [
       "<Figure size 432x288 with 1 Axes>"
      ]
     },
     "metadata": {
      "needs_background": "light"
     },
     "output_type": "display_data"
    }
   ],
   "source": [
    "plt.imshow(ed_frame[0][0], cmap='gray')"
   ]
  },
  {
   "cell_type": "code",
   "execution_count": 9,
   "id": "8715af98-f2fe-4b97-9cd9-f2c8d8f13550",
   "metadata": {},
   "outputs": [
    {
     "data": {
      "text/plain": [
       "<matplotlib.image.AxesImage at 0x7f89e7addf10>"
      ]
     },
     "execution_count": 9,
     "metadata": {},
     "output_type": "execute_result"
    },
    {
     "data": {
      "image/png": "[encoded data removed]",
      "text/plain": [
       "<Figure size 432x288 with 1 Axes>"
      ]
     },
     "metadata": {
      "needs_background": "light"
     },
     "output_type": "display_data"
    }
   ],
   "source": [
    "plt.imshow(ed_label[0], cmap='gray')"
   ]
  },
  {
   "cell_type": "markdown",
   "id": "7365dbd2-34b8-484b-bbd1-8a0de1633134",
   "metadata": {},
   "source": [
    "### This is the shape of the batch object that goes thru the model during training\n",
    "#### What do these numbers mean?\n",
    "4 - number of clips (batch_size)<br>\n",
    "3 - channels<br>\n",
    "32 - number of frames per clip<br>\n",
    "112 x 112 - width x height<br>"
   ]
  },
  {
   "cell_type": "markdown",
   "id": "c42ce9cc-3da0-4e01-beda-56cd7064c4f8",
   "metadata": {},
   "source": [
    "### Now let's try to skip to the motion part in the training function"
   ]
  },
  {
   "cell_type": "code",
   "execution_count": 10,
   "id": "c7bb2885-ab1b-4ad5-a45c-1843a2ac8983",
   "metadata": {},
   "outputs": [],
   "source": [
    "def motion_seg_loss(label_ed, label_es, ed_index, es_index, motion_output, seg_softmax, \n",
    "                    start=0, end=32, seg_criterion=DiceLoss()):\n",
    "    \"\"\"\n",
    "        SGS loss that spatially transform the true ED and true ES fully forward to the end of video\n",
    "        and backward to the beginning. Then, compare the forward and backward transformed pseudo labels with\n",
    "        segmentation at all frames.\n",
    "    \"\"\"\n",
    "    flow_source = convert_to_1hot(label_ed, 2)\n",
    "    loss_forward = 0\n",
    "    OTS_loss = 0\n",
    "    OTS_criterion = DiceLoss()\n",
    "    \n",
    "    # Forward from ed to the end of video\n",
    "    for frame_index in range(ed_index, end - 1):\n",
    "        forward_motion = motion_output[:, :2, frame_index,...]\n",
    "        motion_field = generate_2dmotion_field(flow_source, forward_motion)\n",
    "        next_label = F.grid_sample(flow_source, motion_field, align_corners=False, mode=\"bilinear\", padding_mode='border')\n",
    "        \n",
    "        if frame_index == (es_index - 1):\n",
    "            one_hot_ES = convert_to_1hot(label_es, 2)\n",
    "            OTS_loss += OTS_criterion(next_label, one_hot_ES)\n",
    "        else:\n",
    "            loss_forward += seg_criterion(seg_softmax[:, :, frame_index + 1, ...], next_label)\n",
    "        flow_source = next_label\n",
    "    \n",
    "    # Forward from es to the end of video\n",
    "    flow_source = convert_to_1hot(label_es, 2)\n",
    "    for frame_index in range(es_index, end - 1):\n",
    "        forward_motion = motion_output[:, :2, frame_index,...]\n",
    "        motion_field = generate_2dmotion_field(flow_source, forward_motion)\n",
    "        next_label = F.grid_sample(flow_source, motion_field, align_corners=False, mode=\"bilinear\", padding_mode='border')\n",
    "\n",
    "        loss_forward += seg_criterion(seg_softmax[:, :, frame_index + 1, ...], next_label)\n",
    "        flow_source = next_label\n",
    "\n",
    "    flow_source = convert_to_1hot(label_es, 2)\n",
    "    loss_backward = 0\n",
    "    \n",
    "    # Backward from es to the beginning of video\n",
    "    for frame_index in range(es_index, start, -1):\n",
    "        backward_motion = motion_output[:, 2:, frame_index,...]\n",
    "        motion_field = generate_2dmotion_field(flow_source, backward_motion)\n",
    "        next_label = F.grid_sample(flow_source, motion_field, align_corners=False, mode=\"bilinear\", padding_mode='border')\n",
    "        \n",
    "        if frame_index == ed_index + 1:\n",
    "            one_hot_ED = convert_to_1hot(label_ed, 2)\n",
    "            OTS_loss += OTS_criterion(next_label, one_hot_ED)\n",
    "        else:\n",
    "            loss_backward += seg_criterion(seg_softmax[:, :, frame_index - 1, ...], next_label)\n",
    "        flow_source = next_label\n",
    "    \n",
    "    flow_source = convert_to_1hot(label_ed, 2)\n",
    "    # Backward from ed to the beginning of video\n",
    "    for frame_index in range(ed_index, start, -1):\n",
    "        backward_motion = motion_output[:, 2:, frame_index,...]\n",
    "        motion_field = generate_2dmotion_field(flow_source, backward_motion)\n",
    "        next_label = F.grid_sample(flow_source, motion_field, align_corners=False, mode=\"bilinear\", padding_mode='border')\n",
    "        \n",
    "        loss_backward += seg_criterion(seg_softmax[:, :, frame_index - 1, ...], next_label)\n",
    "        flow_source = next_label\n",
    "        \n",
    "    # Averaging the resulting dice\n",
    "    flow_loss = (loss_forward + loss_backward) / ((motion_output.shape[2] - 2) * 2)\n",
    "    OTS_loss = OTS_loss / 2 \n",
    "    \n",
    "    return flow_loss, OTS_loss"
   ]
  },
  {
   "cell_type": "code",
   "execution_count": 11,
   "id": "c070af36-067e-4de1-b546-bcc4d9c38261",
   "metadata": {},
   "outputs": [
    {
     "ename": "NameError",
     "evalue": "name 'seg_softmax' is not defined",
     "output_type": "error",
     "traceback": [
      "\u001b[0;31m---------------------------------------------------------------------------\u001b[0m",
      "\u001b[0;31mNameError\u001b[0m                                 Traceback (most recent call last)",
      "\u001b[0;32m<ipython-input-11-236169eac349>\u001b[0m in \u001b[0;36m<module>\u001b[0;34m\u001b[0m\n\u001b[1;32m      9\u001b[0m                 \u001b[0mes_index\u001b[0m \u001b[0;34m=\u001b[0m \u001b[0mes_index\u001b[0m\u001b[0;34m,\u001b[0m\u001b[0;34m\u001b[0m\u001b[0;34m\u001b[0m\u001b[0m\n\u001b[1;32m     10\u001b[0m                 \u001b[0mmotion_output\u001b[0m \u001b[0;34m=\u001b[0m \u001b[0mmotion_output\u001b[0m\u001b[0;34m,\u001b[0m\u001b[0;34m\u001b[0m\u001b[0;34m\u001b[0m\u001b[0m\n\u001b[0;32m---> 11\u001b[0;31m                 \u001b[0mseg_softmax\u001b[0m \u001b[0;34m=\u001b[0m \u001b[0mseg_softmax\u001b[0m\u001b[0;34m,\u001b[0m\u001b[0;34m\u001b[0m\u001b[0;34m\u001b[0m\u001b[0m\n\u001b[0m\u001b[1;32m     12\u001b[0m                 \u001b[0mstart\u001b[0m\u001b[0;34m=\u001b[0m\u001b[0;36m0\u001b[0m\u001b[0;34m,\u001b[0m\u001b[0;34m\u001b[0m\u001b[0;34m\u001b[0m\u001b[0m\n\u001b[1;32m     13\u001b[0m                 \u001b[0mend\u001b[0m\u001b[0;34m=\u001b[0m\u001b[0;36m32\u001b[0m\u001b[0;34m,\u001b[0m\u001b[0;34m\u001b[0m\u001b[0;34m\u001b[0m\u001b[0m\n",
      "\u001b[0;31mNameError\u001b[0m: name 'seg_softmax' is not defined"
     ]
    }
   ],
   "source": [
    "# pass the current batch thru the model\n",
    "video_clips = torch.Tensor(batch[0])\n",
    "video_clips = video_clips.type(Tensor)\n",
    "segmentation_output, motion_output = model(video_clips)\n",
    "\n",
    "motion_seg_loss(label_ed = ed_label, \n",
    "                label_es = es_label, \n",
    "                ed_index = ed_index, \n",
    "                es_index = es_index, \n",
    "                motion_output = motion_output, \n",
    "                seg_softmax = seg_softmax, \n",
    "                start=0, \n",
    "                end=32, \n",
    "                seg_criterion=DiceLoss())\n",
    "\n",
    "\n",
    "segmentation_one_loss, motion_one_loss = motion_seg_loss(label_ed, \n",
    "                                                         label_es, \n",
    "                                                         ed_one_index, \n",
    "                                                         es_one_index, \n",
    "                                                         motion_one_output, \n",
    "                                                         segmentation_one_output, \n",
    "                                                         0, video_clips.shape[2], \n",
    "                                                         F.binary_cross_entropy_with_logits)\n"
   ]
  },
  {
   "cell_type": "code",
   "execution_count": null,
   "id": "26140bf9-3f6c-48ed-9a3e-0fa75defdf2b",
   "metadata": {},
   "outputs": [],
   "source": []
  }
 ],
 "metadata": {
  "kernelspec": {
   "display_name": "Python 3",
   "language": "python",
   "name": "python3"
  },
  "language_info": {
   "codemirror_mode": {
    "name": "ipython",
    "version": 3
   },
   "file_extension": ".py",
   "mimetype": "text/x-python",
   "name": "python",
   "nbconvert_exporter": "python",
   "pygments_lexer": "ipython3",
   "version": "3.7.6"
  }
 },
 "nbformat": 4,
 "nbformat_minor": 5
}
