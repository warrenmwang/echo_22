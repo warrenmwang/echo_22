{
 "cells": [
  {
   "cell_type": "markdown",
   "id": "8d951376-c35a-4a36-b664-e3abeeaf3ead",
   "metadata": {},
   "source": [
    "## How to calculate Longitudinal Strain from Our Motion Tracking Information"
   ]
  },
  {
   "cell_type": "code",
   "execution_count": 59,
   "id": "43d022a0-9edd-4ec9-a600-c02256d16b7d",
   "metadata": {},
   "outputs": [],
   "source": [
    "def strain_value(l_0, l_i):\n",
    "    '''\n",
    "    inputs: l_0, l_i -- original length and new length at some time point, respectively\n",
    "    output: e -- strain value (positive for elongation, negative for compressing/shortening)\n",
    "    \n",
    "    examples: \n",
    "        l_i = 10\n",
    "        l_0 = 5\n",
    "        e == (10 - 5) / 5 = 1, factor of lengthening relative to original value\n",
    "        \n",
    "        l_i = 5\n",
    "        l_0 = 5\n",
    "        e == (5 - 5) / 5 = 0, no strain\n",
    "    '''\n",
    "    return (l_i - l_0) / l_0"
   ]
  },
  {
   "cell_type": "markdown",
   "id": "cb5ccf53-763e-48bf-83aa-6e7b05a944d3",
   "metadata": {},
   "source": [
    "### Let's import our models and the test dataset, then do inference on one video, then grab motion tracking information\n",
    "\n",
    "1. Import Models\n",
    "2. Import Test Dataset\n",
    "3. Inference on 1 test video\n",
    "4. Choose a specific region of interest to calculate strain of, for now let's try to focus on the apical region of the left ventricle\n",
    "5. Use motion tracking information to warp from the ED frame to the ES frame. \n",
    "6. Calculate the strain on a specific pixel on the apical region of the LV using `l_0` to be a pixel from the ED frame and the `l_i` to be a pixel from the ES frame"
   ]
  },
  {
   "cell_type": "code",
   "execution_count": 2,
   "id": "1df1c4b0-04b6-4894-bfb0-f6e55c8094e8",
   "metadata": {},
   "outputs": [],
   "source": [
    "import os\n",
    "os.chdir(\"../..\")\n",
    "\n",
    "%config Completer.use_jedi = False\n",
    "\n",
    "import SimpleITK as itk\n",
    "from LabelFusion.wrapper import fuse_images\n",
    "\n",
    "import echonet\n",
    "from echonet.datasets import Echo\n",
    "\n",
    "import torch.nn.functional as F\n",
    "from torchvision.models.video import r2plus1d_18\n",
    "from torch.utils.data import Dataset, DataLoader, Subset\n",
    "from multiprocessing import cpu_count\n",
    "\n",
    "from src.utils.torch_utils import TransformDataset, torch_collate\n",
    "from src.utils.echo_utils import get2dPucks\n",
    "from src.utils.camus_validate import cleanupSegmentation\n",
    "from src.transform_utils import generate_2dmotion_field\n",
    "from src.visualization_utils import categorical_dice\n",
    "from src.loss_functions import huber_loss, convert_to_1hot, convert_to_1hot_tensor\n",
    "from src.echonet_dataset import EDESpairs, EchoNetDynamicDataset\n",
    "\n",
    "\n",
    "from src.model.R2plus1D_18_MotionNet import R2plus1D_18_MotionNet \n",
    "\n",
    "# v1 dropout, not in place dropout\n",
    "from src.model.dropout_0_10_R2plus1D_18_MotionNet import dropout_0_10_R2plus1D_18_MotionNet\n",
    "from src.model.dropout_0_25_R2plus1D_18_MotionNet import dropout_0_25_R2plus1D_18_MotionNet\n",
    "from src.model.dropout_0_50_R2plus1D_18_MotionNet import dropout_0_50_R2plus1D_18_MotionNet\n",
    "from src.model.dropout_0_75_R2plus1D_18_MotionNet import dropout_0_75_R2plus1D_18_MotionNet\n",
    "\n",
    "# v2 dropout (in place before motion heads)\n",
    "from src.model.dropout_v2_0_00_R2plus1D_18_MotionNet import dropout_v2_0_00_R2plus1D_18_MotionNet\n",
    "from src.model.dropout_v2_0_10_R2plus1D_18_MotionNet import dropout_v2_0_10_R2plus1D_18_MotionNet\n",
    "from src.model.dropout_v2_0_25_R2plus1D_18_MotionNet import dropout_v2_0_25_R2plus1D_18_MotionNet\n",
    "from src.model.dropout_v2_0_50_R2plus1D_18_MotionNet import dropout_v2_0_50_R2plus1D_18_MotionNet\n",
    "from src.model.dropout_v2_0_75_R2plus1D_18_MotionNet import dropout_v2_0_75_R2plus1D_18_MotionNet\n",
    "\n",
    "\n",
    "\n",
    "# from src.visualization_utils import categorical_dice\n",
    "%matplotlib widget\n",
    "import numpy as np\n",
    "from scipy.signal import find_peaks\n",
    "import matplotlib.pyplot as plt\n",
    "\n",
    "import torch\n",
    "import torch.nn as nn\n",
    "import torch.optim as optim\n",
    "\n",
    "import random\n",
    "import pickle\n",
    "import time\n",
    "\n",
    "tic, toc = (time.time, time.time)"
   ]
  },
  {
   "cell_type": "code",
   "execution_count": 3,
   "id": "f3c4889b-30b5-4c81-9403-1088714a3a28",
   "metadata": {},
   "outputs": [],
   "source": [
    "batch_size = 4\n",
    "num_workers = max(4, cpu_count()//2)\n",
    "\n",
    "def worker_init_fn_valid(worker_id):                                                          \n",
    "    np.random.seed(np.random.get_state()[1][0] + worker_id)\n",
    "    \n",
    "\n",
    "def worker_init_fn(worker_id):\n",
    "    # See here: https://pytorch.org/docs/stable/notes/randomness.html#dataloader\n",
    "    # and the original post of the problem: https://github.com/pytorch/pytorch/issues/5059#issuecomment-817373837\n",
    "    worker_seed = torch.initial_seed() % 2 ** 32\n",
    "    np.random.seed(worker_seed)\n",
    "    random.seed(worker_seed)\n",
    "    \n",
    "\n",
    "def permuter(list1, list2):\n",
    "    for i1 in list1:\n",
    "        for i2 in list2:\n",
    "            yield (i1, i2)\n",
    "            \n",
    "\n",
    "param_trainLoader = {'collate_fn': torch_collate,\n",
    "                     'batch_size': batch_size,\n",
    "                     'num_workers': max(4, cpu_count()//2),\n",
    "                     'worker_init_fn': worker_init_fn}\n",
    "\n",
    "param_testLoader = {'collate_fn': torch_collate,\n",
    "                    'batch_size': batch_size,\n",
    "                    'shuffle': False,\n",
    "                    'num_workers': max(4, cpu_count()//2),\n",
    "                    'worker_init_fn': worker_init_fn}\n",
    "\n",
    "paramLoader = {'train': param_trainLoader,\n",
    "               'valid': param_testLoader,\n",
    "               'test':  param_testLoader}"
   ]
  },
  {
   "cell_type": "code",
   "execution_count": 4,
   "id": "ebfd5800-7841-499d-b711-528cd1f155aa",
   "metadata": {},
   "outputs": [
    {
     "name": "stderr",
     "output_type": "stream",
     "text": [
      "100%|██████████| 16/16 [00:01<00:00, 13.68it/s]\n",
      "100%|██████████| 16/16 [00:01<00:00, 13.62it/s]\n"
     ]
    }
   ],
   "source": [
    "with open(\"fold_indexes/stanford_valid_sampled_indices\", \"rb\") as infile:\n",
    "    valid_mask = pickle.load(infile)\n",
    "infile.close()\n",
    "\n",
    "full_dataset = EchoNetDynamicDataset(split='val', clip_length=\"full\", raise_for_es_ed=False, subset_indices=valid_mask, period=1)\n",
    "test_dataset = EchoNetDynamicDataset(split='test', clip_length=\"full\", raise_for_es_ed=False, period=1)"
   ]
  },
  {
   "cell_type": "code",
   "execution_count": 5,
   "id": "4ddf2ead-0e20-4644-a473-27fad09bf001",
   "metadata": {},
   "outputs": [
    {
     "data": {
      "text/plain": [
       "1276"
      ]
     },
     "execution_count": 5,
     "metadata": {},
     "output_type": "execute_result"
    }
   ],
   "source": [
    "len(test_dataset)"
   ]
  },
  {
   "cell_type": "code",
   "execution_count": 6,
   "id": "c4bb84b5-46b5-4821-aaef-dfe25bea41a4",
   "metadata": {},
   "outputs": [],
   "source": [
    "def divide_to_consecutive_clips(video, clip_length=32, interpolate_last=False):\n",
    "    source_video = video.copy()\n",
    "    video_length = video.shape[1]\n",
    "    left = video_length % clip_length\n",
    "    if left != 0 and interpolate_last:\n",
    "        source_video = torch.Tensor(source_video).unsqueeze(0)\n",
    "        source_video = F.interpolate(source_video, size=(int(np.round(video_length / clip_length) * clip_length), 112, 112),\n",
    "                                     mode=\"trilinear\", align_corners=False)\n",
    "        source_video = source_video.squeeze(0).squeeze(0)\n",
    "        source_video = source_video.numpy()\n",
    "    \n",
    "    videos = np.empty(shape=(1, 3, clip_length, 112, 112))\n",
    "\n",
    "    for start in range(0, int(clip_length * np.round(video_length / clip_length)), clip_length):\n",
    "        one_clip = source_video[:, start: start + clip_length]\n",
    "        one_clip = np.expand_dims(one_clip, 0)\n",
    "        videos = np.concatenate([videos, one_clip])\n",
    "    return videos[1:]\n",
    "\n",
    "\n",
    "def get_all_possible_start_points(ed_index, es_index, video_length, clip_length):\n",
    "    assert es_index - ed_index > 0, \"not a ED to ES clip pair\"\n",
    "    possible_shift = clip_length - (es_index - ed_index)\n",
    "    allowed_right = video_length - es_index\n",
    "    if allowed_right < possible_shift:\n",
    "        return np.arange(ed_index - possible_shift + 1, video_length - clip_length + 1)\n",
    "    if possible_shift < 0:\n",
    "        return np.array([ed_index])\n",
    "    elif ed_index < possible_shift:\n",
    "        return np.arange(ed_index + 1)\n",
    "    else:\n",
    "        return np.arange(ed_index - possible_shift + 1, ed_index + 1)"
   ]
  },
  {
   "cell_type": "code",
   "execution_count": 7,
   "id": "57de37bd-85cb-43b6-9d0a-578405980a55",
   "metadata": {},
   "outputs": [],
   "source": [
    "# model_names = [\"Original-Pretrained-R2plus1DMotionSegNet_model.pth\", \"dropout-0_10-R2plus1DMotionSegNet_model.pth\", \"dropout-0_25-R2plus1DMotionSegNet_model.pth\", \"dropout-0_50-R2plus1DMotionSegNet_model.pth\", \"dropout-0_75-R2plus1DMotionSegNet_model.pth\"]\n",
    "\n",
    "model_names = ['Original-Pretrained-R2plus1DMotionSegNet_model.pth']"
   ]
  },
  {
   "cell_type": "code",
   "execution_count": 8,
   "id": "0cb49870-d88d-4a9c-b9df-39a9e151783a",
   "metadata": {},
   "outputs": [
    {
     "name": "stdout",
     "output_type": "stream",
     "text": [
      "Original-Pretrained-R2plus1DMotionSegNet_model.pth has 31575731 parameters.\n",
      "1\n"
     ]
    }
   ],
   "source": [
    "loaded_in_models = []\n",
    "\n",
    "for model_name in model_names:\n",
    "    model_save_path = f\"save_models/{model_name}\"\n",
    "    \n",
    "    # original model\n",
    "    if model_name == \"Original-Pretrained-R2plus1DMotionSegNet_model.pth\":\n",
    "        # model = DDP(R2plus1D_18_MotionNet())\n",
    "         model = torch.nn.DataParallel(R2plus1D_18_MotionNet(), device_ids = [1, 0])\n",
    "        \n",
    "    # altered models\n",
    "    if model_name == \"dropout-0_75-R2plus1DMotionSegNet_model.pth\":\n",
    "        # model = DDP(dropout_0_75_R2plus1D_18_MotionNet())\n",
    "        model = torch.nn.DataParallel(dropout_0_75_R2plus1D_18_MotionNet())\n",
    "    if model_name == \"dropout-0_50-R2plus1DMotionSegNet_model.pth\":\n",
    "        # model = DDP(dropout_0_50_R2plus1D_18_MotionNet())\n",
    "        model = torch.nn.DataParallel(dropout_0_50_R2plus1D_18_MotionNet())\n",
    "    if model_name == \"dropout-0_25-R2plus1DMotionSegNet_model.pth\":\n",
    "        # model = DDP(dropout_0_25_R2plus1D_18_MotionNet())\n",
    "        model = torch.nn.DataParallel(dropout_0_25_R2plus1D_18_MotionNet())\n",
    "    if model_name == \"dropout-0_10-R2plus1DMotionSegNet_model.pth\":\n",
    "        # model = DDP(dropout_0_10_R2plus1D_18_MotionNet())\n",
    "        model = torch.nn.DataParallel(dropout_0_10_R2plus1D_18_MotionNet())\n",
    "    \n",
    "    # dropout v2 models\n",
    "    if model_name == 'dropout_v2-0_10-R2plus1DMotionSegNet_model.pth':\n",
    "        model = torch.nn.DataParallel(dropout_v2_0_10_R2plus1D_18_MotionNet())\n",
    "    \n",
    "    #### TEMPORARY: use GPU 2 (cuda:1) because we were training another model simultaneously at the moment of writing.\n",
    "    \n",
    "    \n",
    "    model.to(f'cuda:{model.device_ids[0]}')\n",
    "    # model.to(\"cuda:1\")\n",
    "    torch.cuda.empty_cache()\n",
    "    model.load_state_dict(torch.load(model_save_path)[\"model\"])\n",
    "    print(f'{model_name} has {sum(p.numel() for p in model.parameters() if p.requires_grad)} parameters.')\n",
    "    model.eval();\n",
    "    \n",
    "    loaded_in_models.append((model_name, model))\n",
    "\n",
    "print(len(loaded_in_models))"
   ]
  },
  {
   "cell_type": "code",
   "execution_count": 9,
   "id": "ddfebcd2-9c84-46fe-934b-a35c00167f96",
   "metadata": {},
   "outputs": [
    {
     "data": {
      "text/plain": [
       "(3, 248, 112, 112)"
      ]
     },
     "execution_count": 9,
     "metadata": {},
     "output_type": "execute_result"
    }
   ],
   "source": [
    "# test_pat_index = np.random.randint(len(test_dataset))\n",
    "test_pat_index = 0  # first video from test dataset\n",
    "\n",
    "\n",
    "video, (filename, EF, es_clip_index, ed_clip_index, es_index, ed_index, es_frame, ed_frame, es_label, ed_label) = test_dataset[test_pat_index]\n",
    "\n",
    "video.shape\n",
    "\n",
    "# shape is RGB, total num frames, Width, Height"
   ]
  },
  {
   "cell_type": "code",
   "execution_count": 10,
   "id": "647a0bce-5da3-41b4-90c7-d1ce32de228c",
   "metadata": {},
   "outputs": [
    {
     "name": "stdout",
     "output_type": "stream",
     "text": [
      "ed_index: 132, es_index: 148\n"
     ]
    }
   ],
   "source": [
    "# find the ED and ES index\n",
    "print(f'ed_index: {ed_index}, es_index: {es_index}')"
   ]
  },
  {
   "cell_type": "code",
   "execution_count": 11,
   "id": "7d4125de-7d7d-45c6-b717-e07018857b78",
   "metadata": {},
   "outputs": [
    {
     "data": {
      "text/plain": [
       "(132, 148)"
      ]
     },
     "execution_count": 11,
     "metadata": {},
     "output_type": "execute_result"
    }
   ],
   "source": [
    "ed_clip_index, es_clip_index"
   ]
  },
  {
   "cell_type": "code",
   "execution_count": 12,
   "id": "e4a518a0-b4c0-49a0-85e6-e9dec85da99d",
   "metadata": {},
   "outputs": [
    {
     "data": {
      "text/plain": [
       "((3, 112, 112), (3, 112, 112))"
      ]
     },
     "execution_count": 12,
     "metadata": {},
     "output_type": "execute_result"
    }
   ],
   "source": [
    "ed_frame.shape, es_frame.shape"
   ]
  },
  {
   "cell_type": "markdown",
   "id": "58728111-2821-469c-8353-082294e8f979",
   "metadata": {},
   "source": [
    "### Get all possible 32-Frame Clips that covers ED-ES"
   ]
  },
  {
   "cell_type": "code",
   "execution_count": 13,
   "id": "9854bd5b-d269-43ae-8a0d-7e26baf95cc2",
   "metadata": {},
   "outputs": [
    {
     "name": "stdout",
     "output_type": "stream",
     "text": [
      "len: 16, [117 118 119 120 121 122 123 124 125 126 127 128 129 130 131 132]\n",
      "132\n"
     ]
    }
   ],
   "source": [
    "possible_starts = get_all_possible_start_points(ed_index, es_index, video.shape[1], clip_length=32)\n",
    "print(f'len: {len(possible_starts)}, {possible_starts}')\n",
    "print(possible_starts[-1])"
   ]
  },
  {
   "cell_type": "code",
   "execution_count": 14,
   "id": "d0231bc2-7bb9-432b-9151-00f6d49fc3a6",
   "metadata": {},
   "outputs": [
    {
     "name": "stdout",
     "output_type": "stream",
     "text": [
      "148 == 148\n"
     ]
    }
   ],
   "source": [
    "# prove to ourselves that in the first clip as listed above, our es index is the last frame (32nd frame) in our [0, 31] frames\n",
    "print(f'{possible_starts[0] + 31} == {es_index}')"
   ]
  },
  {
   "cell_type": "markdown",
   "id": "5cf6058f-e623-436c-b717-ffcf16211b88",
   "metadata": {},
   "source": [
    "## Grab a clip from the raw video data where the ED frame is the first frame."
   ]
  },
  {
   "cell_type": "code",
   "execution_count": 15,
   "id": "da7d0a05-9cb2-480c-bd6f-15b162a806b7",
   "metadata": {},
   "outputs": [
    {
     "data": {
      "text/plain": [
       "(3, 248, 112, 112)"
      ]
     },
     "execution_count": 15,
     "metadata": {},
     "output_type": "execute_result"
    }
   ],
   "source": [
    "video.shape"
   ]
  },
  {
   "cell_type": "code",
   "execution_count": 16,
   "id": "80467f85-5fa3-456b-854b-e592384fa3cd",
   "metadata": {},
   "outputs": [
    {
     "data": {
      "text/plain": [
       "(3, 32, 112, 112)"
      ]
     },
     "execution_count": 16,
     "metadata": {},
     "output_type": "execute_result"
    }
   ],
   "source": [
    "# last clip in all possible starts will be where ED is first frame, ES some number of frames later\n",
    "video_clip = video[:, possible_starts[-1] : possible_starts[-1] + 32, :, :]\n",
    "video_clip.shape"
   ]
  },
  {
   "cell_type": "markdown",
   "id": "3da14ac6-a92f-4b8f-8985-794a3b599e8c",
   "metadata": {},
   "source": [
    "### Segment the 32-Frame video clips that do cover ED-ES (NOT CONSECUTIVE)\n",
    "If the video length is not a multiple of 32 (32-frame video clips), then interpolate the video so its length equals to the nearest multiple of 32.\n",
    "\n",
    "For example, a video with length 88 will be interpolated to 96, and a video with length 72 will be interpolated to 64."
   ]
  },
  {
   "cell_type": "code",
   "execution_count": 17,
   "id": "ceff7646-d691-4a00-8df8-1d47d1e61e3a",
   "metadata": {
    "tags": []
   },
   "outputs": [],
   "source": [
    "# segment using all models\n",
    "all_segmentation_outputs = []\n",
    "all_motion_outputs = []\n",
    "\n",
    "# for each model, segment the clips\n",
    "for name, model in loaded_in_models:\n",
    "    \n",
    "    segmentation_outputs = np.empty(shape=(1, 2, 32, 112, 112))\n",
    "    motion_outputs = np.empty(shape=(1, 4, 32, 112, 112))\n",
    "    for start in possible_starts:\n",
    "        one_clip = np.expand_dims(video[:, start: start + 32], 0)\n",
    "        segmentation_output, motion_output = model(torch.Tensor(one_clip))\n",
    "        segmentation_outputs = np.concatenate([segmentation_outputs, segmentation_output.cpu().detach().numpy()])\n",
    "        motion_outputs = np.concatenate([motion_outputs, motion_output.cpu().detach().numpy()])\n",
    "    segmentation_outputs = segmentation_outputs[1:]\n",
    "    motion_outputs = motion_outputs[1:]\n",
    "    \n",
    "    # save \n",
    "    all_segmentation_outputs.append(segmentation_outputs)\n",
    "    all_motion_outputs.append(motion_outputs)"
   ]
  },
  {
   "cell_type": "code",
   "execution_count": 18,
   "id": "625b818a-f19b-4b1f-b11c-e73f9aa11618",
   "metadata": {},
   "outputs": [
    {
     "data": {
      "text/plain": [
       "(16, 4, 32, 112, 112)"
      ]
     },
     "execution_count": 18,
     "metadata": {},
     "output_type": "execute_result"
    }
   ],
   "source": [
    "all_motion_outputs[0].shape\n",
    "# should have number of possible clips, 4 directions, 32 frames, W, H"
   ]
  },
  {
   "cell_type": "markdown",
   "id": "88286b4f-cf69-4c62-9879-93aa4711ffec",
   "metadata": {},
   "source": [
    "### Now that we have the motion outputs, let us start from the ED frame, warp continously until we hit the ES frame\n",
    "\n",
    "1. What does a single warp look like? well, let us go into the loss functions to see where Yida is applying a warp and comparing a warped frame with the actual frame to compute a loss.\n",
    "2. Knowing how to apply the warp, let us also visualize that.\n",
    "3. Then, let us define functions to warp from ED to ES continuously (and make sure it's doing what you think it's doing, continuously warping the previous frame till ES frame index)\n",
    "4. First, define a single pixel in the ED frame to be `l_0`. Now, calculate how far a single pixel has travel from the ED to the ES frame, call that `l_i`. Calculate strain...\n",
    "5. Then, compare with ? I'm still not sure how to calculate a \"ground truth strain\" to compare against and calculate a loss for. "
   ]
  },
  {
   "cell_type": "code",
   "execution_count": 19,
   "id": "a8e01987-d206-48b4-9b10-6dbf7acdb200",
   "metadata": {},
   "outputs": [],
   "source": [
    "# from transform_utils.py\n",
    "def generate_2dmotion_field(x, offset):\n",
    "    # Qin's code for joint_motion_seg learning works fine on our purpose too\n",
    "    # Same idea https://discuss.pytorch.org/t/warp-video-frame-from-optical-flow/6013/5\n",
    "    x_shape = x.size()\n",
    "    grid_w, grid_h = torch.meshgrid([torch.linspace(-1, 1, x_shape[2]), torch.linspace(-1, 1, x_shape[3])])  # (h, w)\n",
    "    grid_w = grid_w.cuda().float()\n",
    "    grid_h = grid_h.cuda().float()\n",
    "\n",
    "    grid_w = nn.Parameter(grid_w, requires_grad=False)\n",
    "    grid_h = nn.Parameter(grid_h, requires_grad=False)\n",
    "\n",
    "    offset_h, offset_w = torch.split(offset, 1, 1)\n",
    "    offset_w = offset_w.contiguous().view(-1, int(x_shape[2]), int(x_shape[3]))  # (b*c, h, w)\n",
    "    offset_h = offset_h.contiguous().view(-1, int(x_shape[2]), int(x_shape[3]))  # (b*c, h, w)\n",
    "\n",
    "    offset_w = grid_w + offset_w\n",
    "    offset_h = grid_h + offset_h\n",
    "    \n",
    "    offsets = torch.stack((offset_h, offset_w), 3)\n",
    "\n",
    "    return offsets\n",
    "\n",
    "\n",
    "# from the clasfv_losses.py \n",
    "def deformation_motion_loss(source_videos, motion_field):\n",
    "    \"\"\"\n",
    "        OTA loss for motion tracking on echocardiographic frames\n",
    "    \"\"\"\n",
    "    mse_criterion = nn.MSELoss()\n",
    "    mse_loss = 0\n",
    "    smooth_loss = 0\n",
    "    \n",
    "    # Deform both forward and backward from beginning to the end of video clip \n",
    "    for index in range(source_videos.shape[2] - 1):\n",
    "        forward_motion = motion_field[:, :2, index,...]\n",
    "        backward_motion = motion_field[:, 2:, index + 1,...]\n",
    "        \n",
    "        grid_forward = generate_2dmotion_field(source_videos[:, :, index,...], forward_motion)\n",
    "        grid_backward = generate_2dmotion_field(source_videos[:, :, index + 1,...], backward_motion)\n",
    "        \n",
    "        pred_image_forward = F.grid_sample(source_videos[:, :, index,...], grid_forward, \n",
    "                                           align_corners=False, padding_mode='border')\n",
    "        pred_image_backward = F.grid_sample(source_videos[:, :, index + 1,...], grid_backward, \n",
    "                                            align_corners=False, padding_mode='border')\n",
    "        \n",
    "        mse_loss += mse_criterion(source_videos[:, :, index + 1,...], pred_image_forward)\n",
    "        mse_loss += mse_criterion(source_videos[:, :, index,...], pred_image_backward)\n",
    "        \n",
    "        smooth_loss += huber_loss(forward_motion)\n",
    "        smooth_loss += huber_loss(backward_motion)\n",
    "    \n",
    "    # Averaging the resulting loss\n",
    "    return (0.005 * smooth_loss + mse_loss) / 2 / (source_videos.shape[2] - 1)"
   ]
  },
  {
   "cell_type": "markdown",
   "id": "d72e3403-3024-47cb-aa04-bd77023a1544",
   "metadata": {
    "tags": []
   },
   "source": [
    "#### Looking at this, we could also create forward and backward to have 2 values of longitudinal strain and see if they match, and ideally they should be as close to each other as possible.\n",
    "\n",
    "1. Transform ED -> ES, compute strain A.\n",
    "2. Transform ED <- ES, compute strain B.\n",
    "3. Compare A with B. They should be as close to one another's value as possible in terms of magnitude.\n",
    "4. Compare A and B with a ground truth value (TODO: how to calculate a 'ground truth' strain value)\n",
    "\n",
    "\n",
    "1. Grab a portion of the motion tracking output info for some clip of 32 frames that should have a ED -> ES frame.\n",
    "2. Need to grab the ED and ES frame index within this 32 frames clip."
   ]
  },
  {
   "cell_type": "code",
   "execution_count": 20,
   "id": "81e1cec5-a231-456c-a312-feeac0a69662",
   "metadata": {},
   "outputs": [
    {
     "data": {
      "text/plain": [
       "(4, 32, 112, 112)"
      ]
     },
     "execution_count": 20,
     "metadata": {},
     "output_type": "execute_result"
    }
   ],
   "source": [
    "all_motion_outputs[0][-1].shape # grab the last 32 frame clip, frame 0 of this clip will be ED frame"
   ]
  },
  {
   "cell_type": "code",
   "execution_count": 21,
   "id": "1db8bb99-5c9c-47d9-88a2-073f96f136c3",
   "metadata": {},
   "outputs": [
    {
     "data": {
      "text/plain": [
       "16"
      ]
     },
     "execution_count": 21,
     "metadata": {},
     "output_type": "execute_result"
    }
   ],
   "source": [
    "# how many frames ahead is the ES frame relative to the ED frame?\n",
    "delta_ed_es_frames = es_index - ed_index\n",
    "delta_ed_es_frames"
   ]
  },
  {
   "cell_type": "markdown",
   "id": "35b6b3cd-a349-4597-9ac3-f688be78d29c",
   "metadata": {},
   "source": [
    "### Now we know that in the [0, 31] frames, ED @ i = 0, ES @ i = 16"
   ]
  },
  {
   "cell_type": "code",
   "execution_count": 22,
   "id": "dec8d891-ca39-4360-8dd9-a0c9cca43c11",
   "metadata": {},
   "outputs": [
    {
     "data": {
      "text/plain": [
       "(4, 32, 112, 112)"
      ]
     },
     "execution_count": 22,
     "metadata": {},
     "output_type": "execute_result"
    }
   ],
   "source": [
    "original_32_frame_clip_motion_outputs = all_motion_outputs[0][-1]\n",
    "original_32_frame_clip_motion_outputs.shape"
   ]
  },
  {
   "cell_type": "code",
   "execution_count": 23,
   "id": "0bff5178-f165-4053-b50a-02751c520670",
   "metadata": {},
   "outputs": [
    {
     "data": {
      "text/plain": [
       "(3, 32, 112, 112)"
      ]
     },
     "execution_count": 23,
     "metadata": {},
     "output_type": "execute_result"
    }
   ],
   "source": [
    "video_clip.shape"
   ]
  },
  {
   "cell_type": "code",
   "execution_count": 24,
   "id": "fa87eb7a-7147-4cde-b355-7af513f383ca",
   "metadata": {},
   "outputs": [],
   "source": [
    "def warp_one_forward(frame, motion_field, index):\n",
    "    '''\n",
    "    warp forward from frame_i -> frame_iplus1\n",
    "    return new frame\n",
    "    \n",
    "    frame: (3, 32, 112, 112)\n",
    "    motion_field: (4, 32, 112, 112)\n",
    "    '''\n",
    "    # convert numpy ndarrays to tensor objects\n",
    "    frame = torch.from_numpy(frame)\n",
    "    motion_field = torch.from_numpy(motion_field)\n",
    "    \n",
    "    \n",
    "    # create the forward grid from forward motion and adjust shapes\n",
    "    forward_motion = motion_field[:2, index, ...]\n",
    "    frame = frame[:, index, ...]\n",
    "    \n",
    "    # create forward prediction frame\n",
    "    forward_pred_frame = F.grid_sample(frame, forward_motion,\n",
    "                                       align_corners=False, padding_mode='border')\n",
    "    \n",
    "    return forward_pred_frame\n",
    "    \n",
    "\n",
    "def warp_one_backward(frame, motion_field, index):\n",
    "    '''\n",
    "    warp backward from frame_i -> fram_iminus1\n",
    "    return new frame\n",
    "    \n",
    "    frame: (3, 32, 112, 112)\n",
    "    motion_field: (4, 32, 112, 112)\n",
    "    '''\n",
    "    # create the backward grid from backward motion\n",
    "    backward_motion = motion_field[:2, ...]\n",
    "    \n",
    "    # create forward prediction frame\n",
    "    backward_pred_frame = F.grid_sample(frame[:, index, ...], backward_motion,\n",
    "                                       align_corners=False, padding_mode='border')\n",
    "    \n",
    "    return backward_pred_frame"
   ]
  },
  {
   "cell_type": "code",
   "execution_count": 25,
   "id": "21ab5097-edd1-4c2d-8e7f-18bd701181e1",
   "metadata": {
    "tags": []
   },
   "outputs": [],
   "source": [
    "# for_warp_holder = video_clip\n",
    "# for_warp_holder = for_warp_holder.astype(\"double\")\n",
    "# motion_field = original_32_frame_clip_motion_outputs.astype(\"double\")\n",
    "\n",
    "# print(for_warp_holder.dtype, motion_field.dtype)\n",
    "\n",
    "# for i in range(32):\n",
    "#     for_warp_holder = warp_one_forward(for_warp_holder, motion_field, i)"
   ]
  },
  {
   "cell_type": "markdown",
   "id": "c72d6e91-4ce7-4726-91a8-69ba839d587e",
   "metadata": {},
   "source": [
    "Train cycle uses batches from the trainloader. The size of the `video_clips` that is passed into the function of interest `deformation_motion_loss` has shape of `4, 3, 32, 112, 112`. <br>\n",
    "An original video clip loaded in from the test dataset for example (`test_pat_index = 0`) has shape of `(3, 248, 112, 112)` <br>\n",
    "Then the segment `source_videos.shape[2] - 1` from `deformation_motion_loss` function would be: `32 - 1 = 31`. Therefore, the for loop `for index in range(source_videos.shape[2] - 1):` would loop from `[0, 30]` indeces for the frames. <br>\n",
    "Note that we skip the last frame. I'm not sure why as of now. I suppose there is no forward frame from the last frame to compare to. However, if that is the case why did we not skip `0` and start with `1` if we are also performing backwards warping, as there is no frame before the `0`th frame to compare to as well."
   ]
  },
  {
   "cell_type": "code",
   "execution_count": null,
   "id": "06f5bf1d-315b-4807-b551-3389015c3e07",
   "metadata": {},
   "outputs": [],
   "source": []
  },
  {
   "cell_type": "code",
   "execution_count": 26,
   "id": "491d6d4c-0359-43d3-a183-d491a4bedbff",
   "metadata": {},
   "outputs": [],
   "source": [
    "# with open(\"fold_indexes/stanford_train_sampled_indices\", \"rb\") as infile:\n",
    "#     train_mask = pickle.load(infile)\n",
    "# infile.close()\n",
    "# train_dataset = EchoNetDynamicDataset(split='train', subset_indices=train_mask, period=1)\n",
    "\n",
    "# train_dataloader = DataLoader(train_dataset, batch_size=batch_size, \n",
    "#                               num_workers=num_workers, \n",
    "#                               shuffle=True, pin_memory=(\"cuda\"), \n",
    "#                               worker_init_fn=worker_init_fn,\n",
    "#                               drop_last=True)\n"
   ]
  },
  {
   "cell_type": "code",
   "execution_count": 27,
   "id": "069ebdaa-868a-411a-b8c8-d40f887813d0",
   "metadata": {},
   "outputs": [],
   "source": [
    "# Tensor = torch.cuda.FloatTensor\n",
    "# for batch_idx, batch in enumerate(train_dataloader, 1):\n",
    "#     video_clips = torch.Tensor(batch[0])\n",
    "#     video_clips = video_clips.type(Tensor)\n",
    "    \n",
    "#     print(video_clips.shape)\n",
    "#     filename, EF, es_clip_index, ed_clip_index, es_index, ed_index, es_frame, ed_frame, es_label, ed_label = batch[1]\n",
    "#     break"
   ]
  },
  {
   "cell_type": "markdown",
   "id": "1d08ab4d-f10c-4bfe-8315-5f3a1c714e9d",
   "metadata": {
    "tags": []
   },
   "source": [
    "## Can we draw a polygon of the outline of the LV from the segmentation output from the model?"
   ]
  },
  {
   "cell_type": "code",
   "execution_count": 28,
   "id": "9109667d-3a7f-4f08-b0c1-140db81369b5",
   "metadata": {},
   "outputs": [
    {
     "data": {
      "text/plain": [
       "(16, 2, 32, 112, 112)"
      ]
     },
     "execution_count": 28,
     "metadata": {},
     "output_type": "execute_result"
    }
   ],
   "source": [
    "all_segmentation_outputs[0].shape"
   ]
  },
  {
   "cell_type": "code",
   "execution_count": 29,
   "id": "f83a6f28-6b14-4a95-bdb5-7648d04fd8b4",
   "metadata": {
    "tags": []
   },
   "outputs": [
    {
     "data": {
      "text/plain": [
       "(2, 32, 112, 112)"
      ]
     },
     "execution_count": 29,
     "metadata": {},
     "output_type": "execute_result"
    }
   ],
   "source": [
    "clip_with_ed_frame_index_0 = all_segmentation_outputs[0][-1] # grab the last clip where ED frame is the first frame\\\n",
    "\n",
    "clip_with_ed_frame_index_0.shape"
   ]
  },
  {
   "cell_type": "code",
   "execution_count": 30,
   "id": "4af49857-c0f9-4a19-86a1-a979b5d706a2",
   "metadata": {},
   "outputs": [
    {
     "data": {
      "text/plain": [
       "((112, 112), (112, 112), (112, 112), (112, 112))"
      ]
     },
     "execution_count": 30,
     "metadata": {},
     "output_type": "execute_result"
    }
   ],
   "source": [
    "# for the dimension of 2 for seg out, 0 is background, 1 for lv\n",
    "\n",
    "ed_frame_background_seg = clip_with_ed_frame_index_0[0][0]\n",
    "es_frame_background_seg = clip_with_ed_frame_index_0[0][delta_ed_es_frames]\n",
    "\n",
    "\n",
    "ed_frame_lv_seg = clip_with_ed_frame_index_0[1][0] # 1 for lv, 0 for ed frame index\n",
    "es_frame_lv_seg = clip_with_ed_frame_index_0[1][delta_ed_es_frames] # 1 for lv, delta_ed_es_frames for es frame index\n",
    "\n",
    "\n",
    "ed_frame_lv_seg.shape, es_frame_lv_seg.shape, ed_frame_background_seg.shape, es_frame_background_seg.shape"
   ]
  },
  {
   "cell_type": "code",
   "execution_count": 53,
   "id": "0a8507ff-59a4-4921-a949-7973e844c83b",
   "metadata": {},
   "outputs": [
    {
     "data": {
      "text/plain": [
       "<matplotlib.colorbar.Colorbar at 0x7f121059ccd0>"
      ]
     },
     "execution_count": 53,
     "metadata": {},
     "output_type": "execute_result"
    }
   ],
   "source": [
    "# try to look at the two layers\n",
    "# plt.imshow(x[0][0], vmin=0, vmax=1)   # first one is the background mask\n",
    "plt.title('ed frame lv seg')\n",
    "plt.imshow(ed_frame_lv_seg, cmap=\"gray\")\n",
    "plt.colorbar()\n",
    "# fig.colorbar(ax4_img, ax=ax4)"
   ]
  },
  {
   "cell_type": "code",
   "execution_count": 32,
   "id": "2116249a-c202-45e3-86c8-4bc083dc67da",
   "metadata": {},
   "outputs": [
    {
     "data": {
      "text/plain": [
       "<matplotlib.colorbar.Colorbar at 0x7f120cf21fd0>"
      ]
     },
     "execution_count": 32,
     "metadata": {},
     "output_type": "execute_result"
    }
   ],
   "source": [
    "plt.title('es frame lv seg')\n",
    "plt.imshow(es_frame_lv_seg)  # this one is the labeling of the left ventricle segmentation\n",
    "plt.colorbar()"
   ]
  },
  {
   "cell_type": "code",
   "execution_count": 33,
   "id": "7673a655-bc4e-4707-8570-ddaeca8be818",
   "metadata": {},
   "outputs": [
    {
     "name": "stdout",
     "output_type": "stream",
     "text": [
      "should be opposites: -8.109314918518066 8.144218444824219\n",
      "should be opposites: -8.063018798828125 8.074203491210938\n"
     ]
    }
   ],
   "source": [
    "# convert these into binary masks.\n",
    "# want larger value translated into 1, smaller value translated into 0\n",
    "print('should be opposites:', ed_frame_lv_seg[0][0], ed_frame_background_seg[0][0])\n",
    "print('should be opposites:', es_frame_lv_seg[0][0], es_frame_background_seg[0][0])"
   ]
  },
  {
   "cell_type": "code",
   "execution_count": 34,
   "id": "415cdd7b-3221-4582-bb75-d46511939458",
   "metadata": {},
   "outputs": [
    {
     "data": {
      "text/plain": [
       "(32, 112, 112)"
      ]
     },
     "execution_count": 34,
     "metadata": {},
     "output_type": "execute_result"
    }
   ],
   "source": [
    "foo = np.argmax(clip_with_ed_frame_index_0, axis=0)\n",
    "foo.shape"
   ]
  },
  {
   "cell_type": "code",
   "execution_count": 35,
   "id": "a6aea88b-23ca-4c98-9b47-c233159dbf5f",
   "metadata": {},
   "outputs": [
    {
     "data": {
      "text/plain": [
       "<matplotlib.colorbar.Colorbar at 0x7f120b366610>"
      ]
     },
     "execution_count": 35,
     "metadata": {},
     "output_type": "execute_result"
    }
   ],
   "source": [
    "plt.title('binary mask of ed lv seg ??')\n",
    "plt.imshow(foo[0])\n",
    "plt.colorbar()"
   ]
  },
  {
   "cell_type": "code",
   "execution_count": 36,
   "id": "e5436ca3-f0e3-49da-91ca-b7799bca2ba4",
   "metadata": {},
   "outputs": [
    {
     "data": {
      "text/plain": [
       "<matplotlib.colorbar.Colorbar at 0x7f120c416650>"
      ]
     },
     "execution_count": 36,
     "metadata": {},
     "output_type": "execute_result"
    }
   ],
   "source": [
    "plt.title('binary mask of es lv seg ??')\n",
    "plt.imshow(foo[delta_ed_es_frames])\n",
    "plt.colorbar()"
   ]
  },
  {
   "cell_type": "markdown",
   "id": "0a8135eb-3240-4c72-b628-237ce6dfe894",
   "metadata": {},
   "source": [
    "## In OpenCV, finding contours is like finding white object from black background. So remember, object to be found should be white and background should be black.\n",
    "\n",
    "so we need to multiply our values by 255"
   ]
  },
  {
   "cell_type": "code",
   "execution_count": 37,
   "id": "73b2dc1f-b38b-4ca5-8632-c692dd8954fa",
   "metadata": {},
   "outputs": [],
   "source": [
    "foo_times_255 = 255 * foo"
   ]
  },
  {
   "cell_type": "code",
   "execution_count": 55,
   "id": "38afd670-7e07-449b-a9b9-c2567a8d1fe2",
   "metadata": {},
   "outputs": [
    {
     "data": {
      "text/plain": [
       "<matplotlib.colorbar.Colorbar at 0x7f12108dfb90>"
      ]
     },
     "execution_count": 55,
     "metadata": {},
     "output_type": "execute_result"
    },
    {
     "data": {
      "application/vnd.jupyter.widget-view+json": {
       "model_id": "09341aafd94e425d8341c029e4f9b24f",
       "version_major": 2,
       "version_minor": 0
      },
      "image/png": "[encoded data removed]",
      "text/html": [
       "\n",
       "            <div style=\"display: inline-block;\">\n",
       "                <div class=\"jupyter-widgets widget-label\" style=\"text-align: center;\">\n",
       "                    Figure\n",
       "                </div>\n",
       "                <img src='data:image/png;base64,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' width=640.0/>\n",
       "            </div>\n",
       "        "
      ],
      "text/plain": [
       "Canvas(toolbar=Toolbar(toolitems=[('Home', 'Reset original view', 'home', 'home'), ('Back', 'Back to previous …"
      ]
     },
     "metadata": {},
     "output_type": "display_data"
    }
   ],
   "source": [
    "plt.figure()\n",
    "plt.title('ed lv seg')\n",
    "plt.imshow(foo_times_255[0], cmap='gray')\n",
    "plt.colorbar()"
   ]
  },
  {
   "cell_type": "code",
   "execution_count": 57,
   "id": "1b0c6a46-a828-4c9e-8ed0-d89f04a05dea",
   "metadata": {},
   "outputs": [
    {
     "data": {
      "text/plain": [
       "<matplotlib.colorbar.Colorbar at 0x7f11f26625d0>"
      ]
     },
     "execution_count": 57,
     "metadata": {},
     "output_type": "execute_result"
    },
    {
     "data": {
      "application/vnd.jupyter.widget-view+json": {
       "model_id": "aba2f68655d64c7bbc0f4e9a97a38a5c",
       "version_major": 2,
       "version_minor": 0
      },
      "image/png": "[encoded data removed]",
      "text/html": [
       "\n",
       "            <div style=\"display: inline-block;\">\n",
       "                <div class=\"jupyter-widgets widget-label\" style=\"text-align: center;\">\n",
       "                    Figure\n",
       "                </div>\n",
       "                <img src='data:image/png;base64,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' width=640.0/>\n",
       "            </div>\n",
       "        "
      ],
      "text/plain": [
       "Canvas(toolbar=Toolbar(toolitems=[('Home', 'Reset original view', 'home', 'home'), ('Back', 'Back to previous …"
      ]
     },
     "metadata": {},
     "output_type": "display_data"
    }
   ],
   "source": [
    "plt.figure()\n",
    "plt.title('es lv seg')\n",
    "plt.imshow(foo_times_255[delta_ed_es_frames], cmap='gray')\n",
    "plt.colorbar()"
   ]
  },
  {
   "cell_type": "code",
   "execution_count": 40,
   "id": "c57b3834-7cb7-4dd6-a291-fbcd989350ea",
   "metadata": {},
   "outputs": [],
   "source": [
    "# use this to get contour ? https://stackoverflow.com/questions/58885816/how-to-obtain-boundary-coordinates-of-binary-mask-with-holes\n",
    "\n",
    "image_8bit = np.uint8(foo * 255)   # convert to black and white and use 8-bit int data type\n",
    "\n",
    "ed_im = image_8bit[0]\n",
    "es_im = image_8bit[delta_ed_es_frames]\n",
    "\n",
    "import cv2 as cv\n",
    "\n",
    "ret, thresh = cv.threshold(ed_im, 127, 255, 0)\n",
    "ed_contours, hierarchy = cv.findContours(thresh, cv.RETR_TREE, cv.CHAIN_APPROX_SIMPLE)\n",
    "\n",
    "ret, thresh = cv.threshold(es_im, 127, 255, 0)\n",
    "es_contours, hierarchy = cv.findContours(thresh, cv.RETR_TREE, cv.CHAIN_APPROX_SIMPLE)"
   ]
  },
  {
   "cell_type": "code",
   "execution_count": 42,
   "id": "95783bb1-cd30-440d-823a-18478a58f569",
   "metadata": {},
   "outputs": [
    {
     "data": {
      "text/plain": [
       "(tuple, tuple)"
      ]
     },
     "execution_count": 42,
     "metadata": {},
     "output_type": "execute_result"
    }
   ],
   "source": [
    "type(ed_contours), type(es_contours)"
   ]
  },
  {
   "cell_type": "code",
   "execution_count": 44,
   "id": "5854c0a6-fe69-4049-919b-800b71ffcea0",
   "metadata": {},
   "outputs": [
    {
     "data": {
      "text/plain": [
       "(1, 1)"
      ]
     },
     "execution_count": 44,
     "metadata": {},
     "output_type": "execute_result"
    }
   ],
   "source": [
    "len(ed_contours), len(es_contours)"
   ]
  },
  {
   "cell_type": "code",
   "execution_count": 46,
   "id": "71cb18bf-5066-4cfb-9e76-2be59dcbf97f",
   "metadata": {},
   "outputs": [
    {
     "data": {
      "text/plain": [
       "(52, 1, 2)"
      ]
     },
     "execution_count": 46,
     "metadata": {},
     "output_type": "execute_result"
    }
   ],
   "source": [
    "ed_contours[0].shape"
   ]
  },
  {
   "cell_type": "code",
   "execution_count": 47,
   "id": "1cc1d68e-a725-448a-840d-abf3104914e8",
   "metadata": {},
   "outputs": [
    {
     "data": {
      "text/plain": [
       "array([[48, 23]], dtype=int32)"
      ]
     },
     "execution_count": 47,
     "metadata": {},
     "output_type": "execute_result"
    }
   ],
   "source": [
    "ed_contours[0][0]"
   ]
  },
  {
   "cell_type": "code",
   "execution_count": 48,
   "id": "e0c7f10b-0e73-4c00-a952-4baac5036ae7",
   "metadata": {},
   "outputs": [
    {
     "data": {
      "text/plain": [
       "(1, 1, 4)"
      ]
     },
     "execution_count": 48,
     "metadata": {},
     "output_type": "execute_result"
    }
   ],
   "source": [
    "hierarchy.shape"
   ]
  },
  {
   "cell_type": "code",
   "execution_count": 58,
   "id": "85b903ac-d345-40a3-a2f3-e92857e310d5",
   "metadata": {},
   "outputs": [
    {
     "data": {
      "application/vnd.jupyter.widget-view+json": {
       "model_id": "9c054b92a7ab4a71a1ee26ad96840e5a",
       "version_major": 2,
       "version_minor": 0
      },
      "image/png": "[encoded data removed]",
      "text/html": [
       "\n",
       "            <div style=\"display: inline-block;\">\n",
       "                <div class=\"jupyter-widgets widget-label\" style=\"text-align: center;\">\n",
       "                    Figure\n",
       "                </div>\n",
       "                <img src='data:image/png;base64,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' width=1000.0/>\n",
       "            </div>\n",
       "        "
      ],
      "text/plain": [
       "Canvas(toolbar=Toolbar(toolitems=[('Home', 'Reset original view', 'home', 'home'), ('Back', 'Back to previous …"
      ]
     },
     "metadata": {},
     "output_type": "display_data"
    }
   ],
   "source": [
    "borders_list = []\n",
    "\n",
    "fig, (ax1, ax2) = plt.subplots(1, 2, figsize=(10,5), sharex=True, sharey=True)\n",
    "blank = np.zeros((112,112))\n",
    "\n",
    "ax1.imshow(cv.drawContours(blank, ed_contours, -1, (255,255,255), 1), cmap='gray')\n",
    "ax1.set_title(\"ed lv border\")\n",
    "borders_list.append(blank)\n",
    "\n",
    "blank = np.zeros((112,112))\n",
    "ax2.imshow(cv.drawContours(blank, es_contours, -1, (255,255,255), 1), cmap='gray')\n",
    "ax2.set_title(\"es lv border\")\n",
    "borders_list.append(blank)"
   ]
  },
  {
   "cell_type": "code",
   "execution_count": 50,
   "id": "9b241c49-d6e1-4f28-ba8f-b23fc4f630b1",
   "metadata": {},
   "outputs": [
    {
     "data": {
      "text/plain": [
       "2"
      ]
     },
     "execution_count": 50,
     "metadata": {},
     "output_type": "execute_result"
    }
   ],
   "source": [
    "len(borders_list)"
   ]
  },
  {
   "cell_type": "code",
   "execution_count": 51,
   "id": "5a967788-c74c-4cd2-a729-8268cdb65ef7",
   "metadata": {},
   "outputs": [
    {
     "data": {
      "text/plain": [
       "135"
      ]
     },
     "execution_count": 51,
     "metadata": {},
     "output_type": "execute_result"
    }
   ],
   "source": [
    "np.count_nonzero(borders_list[0] == 255)"
   ]
  },
  {
   "cell_type": "code",
   "execution_count": 52,
   "id": "268bbfb1-cf26-4e9a-8733-157a234eb276",
   "metadata": {},
   "outputs": [
    {
     "data": {
      "text/plain": [
       "114"
      ]
     },
     "execution_count": 52,
     "metadata": {},
     "output_type": "execute_result"
    }
   ],
   "source": [
    "np.count_nonzero(borders_list[1] == 255)"
   ]
  },
  {
   "cell_type": "markdown",
   "id": "19ffe11a-dcae-4109-a0a0-a964010e9fbd",
   "metadata": {},
   "source": [
    "### So the number of pixels representing the border in the ED frame is not the same in the ES frame. I suppose this makes sense because the ED frame has a bigger border as compared to the ES frame being the smallest the lv border is possibly ever.\n",
    "\n",
    "### Now, at least we have an idea of how to get the border pixels at the ED and ES frames from the model segmentation outputs.\n",
    "\n",
    "### Start from ED Boundary mask and transform it forward the number of frames between the ED and ES frames using the motion tracking information. Then, \n",
    "\n",
    "\n",
    "### Wait, why not just compute longitudinal strain from the segmentation outputs? We don't even need the motion tracking. I suppose, we could do both:\n",
    "#### 1. Compute strain using our segmentation outputs\n",
    "#### 2. Compute strain using both segmentation and motion outputs\n",
    "#### 3. Compute strain using the boundary taken from the mask of the ED LV from the raw dataset and transform it using the motion tracking information."
   ]
  },
  {
   "cell_type": "markdown",
   "id": "d0d290c0-f071-444a-9355-cec3c1ef5094",
   "metadata": {},
   "source": [
    "#### 0. Let's try to look at the perimeter as lengths (in this case we are just using the count of the pixels of the border)"
   ]
  },
  {
   "cell_type": "code",
   "execution_count": 62,
   "id": "4c7facf7-bd93-4d8c-a8c9-801c7ea2f6ab",
   "metadata": {},
   "outputs": [
    {
     "data": {
      "text/plain": [
       "-0.15555555555555556"
      ]
     },
     "execution_count": 62,
     "metadata": {},
     "output_type": "execute_result"
    }
   ],
   "source": [
    "l_0 = np.count_nonzero(borders_list[0] == 255)\n",
    "l_i = np.count_nonzero(borders_list[1] == 255)\n",
    "strain_value(l_0, l_i)"
   ]
  },
  {
   "cell_type": "markdown",
   "id": "fc0408db-c96b-4313-9440-a826c599f8ed",
   "metadata": {},
   "source": [
    "### You know, ~ -15% strain means that we contracted by about 15% length....this is a reasonable number but this calculation feels wrong. However, I need some ground truth value to compare against, and I haven't done that yet."
   ]
  },
  {
   "cell_type": "code",
   "execution_count": null,
   "id": "45eb7297-bd2b-4286-a521-4447a3c7035b",
   "metadata": {},
   "outputs": [],
   "source": []
  }
 ],
 "metadata": {
  "kernelspec": {
   "display_name": "Python 3",
   "language": "python",
   "name": "python3"
  },
  "language_info": {
   "codemirror_mode": {
    "name": "ipython",
    "version": 3
   },
   "file_extension": ".py",
   "mimetype": "text/x-python",
   "name": "python",
   "nbconvert_exporter": "python",
   "pygments_lexer": "ipython3",
   "version": "3.7.6"
  }
 },
 "nbformat": 4,
 "nbformat_minor": 5
}
