{
 "cells": [
  {
   "cell_type": "code",
   "execution_count": 1,
   "id": "8a761fa6-0d9f-4f08-851f-df7c04efcdb7",
   "metadata": {},
   "outputs": [],
   "source": [
    "# model_name = \"Original_Pretrained_R2plus1DMotionSegNet.pth\"\n",
    "\n",
    "# model_name = \"dropout_v2_0_25_R2plus1DMotionSegNet.pth\"\n",
    "model_name = \"dropout_v3_0_10_R2plus1DMotionSegNet.pth\""
   ]
  },
  {
   "cell_type": "code",
   "execution_count": 2,
   "id": "717be964-7b1c-452c-909b-3df0df5c6fc9",
   "metadata": {},
   "outputs": [
    {
     "name": "stdout",
     "output_type": "stream",
     "text": [
      "/home/wang/workspace/JupyterNoteBooksAll/fully-automated-multi-heartbeat-echocardiography-video-segmentation-and-motion-tracking\n"
     ]
    }
   ],
   "source": [
    "import os\n",
    "os.chdir(\"../..\")\n",
    "print(os.getcwd())\n",
    "\n",
    "%config Completer.use_jedi = False\n",
    "\n",
    "import SimpleITK as itk\n",
    "from LabelFusion.wrapper import fuse_images\n",
    "\n",
    "import echonet\n",
    "from echonet.datasets import Echo\n",
    "\n",
    "import torch.nn.functional as F\n",
    "from torchvision.models.video import r2plus1d_18\n",
    "from torch.utils.data import Dataset, DataLoader, Subset\n",
    "from multiprocessing import cpu_count\n",
    "\n",
    "from src.utils.torch_utils import TransformDataset, torch_collate\n",
    "from src.utils.echo_utils import get2dPucks\n",
    "from src.utils.camus_validate import cleanupSegmentation\n",
    "from src.transform_utils import generate_2dmotion_field\n",
    "from src.visualization_utils import categorical_dice\n",
    "from src.loss_functions import huber_loss, convert_to_1hot, convert_to_1hot_tensor\n",
    "from src.echonet_dataset import EDESpairs, EchoNetDynamicDataset\n",
    "\n",
    "from src.model.R2plus1D_18_MotionNet import R2plus1D_18_MotionNet\n",
    "\n",
    "# v2 dropout (in place before motion heads, forgot to define in forward pass function, but still saw diff, weird.)\n",
    "from src.model.dropout_v2_0_00_R2plus1D_18_MotionNet import dropout_v2_0_00_R2plus1D_18_MotionNet\n",
    "from src.model.dropout_v2_0_10_R2plus1D_18_MotionNet import dropout_v2_0_10_R2plus1D_18_MotionNet\n",
    "from src.model.dropout_v2_0_25_R2plus1D_18_MotionNet import dropout_v2_0_25_R2plus1D_18_MotionNet\n",
    "from src.model.dropout_v2_0_50_R2plus1D_18_MotionNet import dropout_v2_0_50_R2plus1D_18_MotionNet\n",
    "from src.model.dropout_v2_0_75_R2plus1D_18_MotionNet import dropout_v2_0_75_R2plus1D_18_MotionNet\n",
    "# v3 dropout (one dropout layer defined in forward pass func, this should've been the correct way to do it.)\n",
    "from src.model.dropout_v3_0_00_R2plus1D_18_MotionNet import dropout_v3_0_00_R2plus1D_18_MotionNet\n",
    "from src.model.dropout_v3_0_10_R2plus1D_18_MotionNet import dropout_v3_0_10_R2plus1D_18_MotionNet\n",
    "from src.model.dropout_v3_0_25_R2plus1D_18_MotionNet import dropout_v3_0_25_R2plus1D_18_MotionNet\n",
    "from src.model.dropout_v3_0_50_R2plus1D_18_MotionNet import dropout_v3_0_50_R2plus1D_18_MotionNet\n",
    "from src.model.dropout_v3_0_75_R2plus1D_18_MotionNet import dropout_v3_0_75_R2plus1D_18_MotionNet\n",
    "# v4 dropout (4 dropout layers in different places in the forward func, I'm going to guess more \"generalizable\")\n",
    "from src.model.dropout_v4_0_00_R2plus1D_18_MotionNet import dropout_v4_0_00_R2plus1D_18_MotionNet\n",
    "from src.model.dropout_v4_0_10_R2plus1D_18_MotionNet import dropout_v4_0_10_R2plus1D_18_MotionNet\n",
    "from src.model.dropout_v4_0_25_R2plus1D_18_MotionNet import dropout_v4_0_25_R2plus1D_18_MotionNet\n",
    "from src.model.dropout_v4_0_50_R2plus1D_18_MotionNet import dropout_v4_0_50_R2plus1D_18_MotionNet\n",
    "from src.model.dropout_v4_0_75_R2plus1D_18_MotionNet import dropout_v4_0_75_R2plus1D_18_MotionNet\n",
    "\n",
    "# for finding lv seg borders\n",
    "import cv2 as cv\n",
    "\n",
    "# for storing vector snapshots\n",
    "import copy\n",
    "\n",
    "# from src.visualization_utils import categorical_dice\n",
    "\n",
    "import numpy as np\n",
    "from scipy.signal import find_peaks\n",
    "import matplotlib.pyplot as plt\n",
    "\n",
    "import torch\n",
    "import torch.nn as nn\n",
    "import torch.optim as optim\n",
    "\n",
    "import random\n",
    "import pickle\n",
    "import time\n",
    "\n",
    "tic, toc = (time.time, time.time)\n",
    "\n",
    "\n",
    "device = 'cuda' if torch.cuda.is_available() else 'cpu'\n",
    "\n"
   ]
  },
  {
   "cell_type": "code",
   "execution_count": 3,
   "id": "3bd6a6f5-5fa2-4d33-a886-7a14905ad09e",
   "metadata": {},
   "outputs": [
    {
     "name": "stderr",
     "output_type": "stream",
     "text": [
      "100%|██████████| 16/16 [00:01<00:00, 13.74it/s]\n"
     ]
    }
   ],
   "source": [
    "epoch = 1\n",
    "batch_size = 4\n",
    "num_workers = max(4, cpu_count()//2)\n",
    "\n",
    "def worker_init_fn_valid(worker_id):                                                          \n",
    "    np.random.seed(np.random.get_state()[1][0] + worker_id)\n",
    "    \n",
    "\n",
    "def worker_init_fn(worker_id):\n",
    "    # See here: https://pytorch.org/docs/stable/notes/randomness.html#dataloader\n",
    "    # and the original post of the problem: https://github.com/pytorch/pytorch/issues/5059#issuecomment-817373837\n",
    "    worker_seed = torch.initial_seed() % 2 ** 32\n",
    "    np.random.seed(worker_seed)\n",
    "    random.seed(worker_seed)\n",
    "\n",
    "\n",
    "def permuter(list1, list2):\n",
    "    for i1 in list1:\n",
    "        for i2 in list2:\n",
    "            yield (i1, i2)\n",
    "            \n",
    "\n",
    "param_trainLoader = {'collate_fn': torch_collate,\n",
    "                     'batch_size': batch_size,\n",
    "                     'num_workers': max(4, cpu_count()//2),\n",
    "                     'worker_init_fn': worker_init_fn}\n",
    "\n",
    "param_testLoader = {'collate_fn': torch_collate,\n",
    "                    'batch_size': batch_size,\n",
    "                    'shuffle': False,\n",
    "                    'num_workers': max(4, cpu_count()//2),\n",
    "                    'worker_init_fn': worker_init_fn}\n",
    "\n",
    "paramLoader = {'train': param_trainLoader,\n",
    "               'valid': param_testLoader,\n",
    "               'test':  param_testLoader}\n",
    "\n",
    "\n",
    "with open(\"fold_indexes/stanford_valid_sampled_indices\", \"rb\") as infile:\n",
    "    valid_mask = pickle.load(infile)\n",
    "infile.close()\n",
    "\n",
    "# test_dataset = EchoNetDynamicDataset(split='test', clip_length=\"full\", raise_for_es_ed=False, period=1)\n",
    "\n",
    "# test_loader = DataLoader(test_dataset, batch_size=batch_size, \n",
    "#                               num_workers=num_workers,\n",
    "#                               shuffle=False, pin_memory=(\"cuda\"),\n",
    "#                               worker_init_fn=worker_init_fn_valid )\n",
    "\n",
    "valid_dataset = EchoNetDynamicDataset(split='val', subset_indices=valid_mask, period=1)\n",
    "valid_dataloader = DataLoader(valid_dataset, batch_size=batch_size, \n",
    "                              num_workers=num_workers,\n",
    "                              shuffle=False, pin_memory=(\"cuda\"),\n",
    "                              worker_init_fn=worker_init_fn_valid\n",
    "                             )"
   ]
  },
  {
   "cell_type": "code",
   "execution_count": 4,
   "id": "e3a74f85-9882-45cb-9e1a-e3ce8580a9a0",
   "metadata": {},
   "outputs": [],
   "source": [
    "input_data_loader = valid_dataloader"
   ]
  },
  {
   "cell_type": "markdown",
   "id": "0a05a7ea-d9bc-46d4-89ab-98506e141c68",
   "metadata": {},
   "source": [
    "## When using the `test_dataset` to create the dataloader I run into a `RuntimeError: stack expects each tensor to be equal size` bc we have different length videos\n",
    "## I don't know what Yida did to solve this problem for validating the model using the validation data split, but I will simply use the validation data split and put that into a dataloader and then feed that into the model\n",
    "## for the purpose of figuring out what the motion tracking is doing\n",
    "\n"
   ]
  },
  {
   "cell_type": "code",
   "execution_count": 5,
   "id": "37e09d81-5a35-42b9-a6cc-48134b48f19c",
   "metadata": {},
   "outputs": [
    {
     "name": "stdout",
     "output_type": "stream",
     "text": [
      "dropout_v3_0_10_R2plus1DMotionSegNet.pth has 31575731 parameters.\n"
     ]
    }
   ],
   "source": [
    "model_save_path = f\"save_models/{model_name}\"\n",
    "    \n",
    "if model_name == 'Original_Pretrained_R2plus1DMotionSegNet.pth':\n",
    "    model_template_obj = R2plus1D_18_MotionNet()\n",
    "elif model_name == 'dropout_v2_0_00_R2plus1DMotionSegNet.pth':\n",
    "    model_template_obj = dropout_v2_0_00_R2plus1D_18_MotionNet()\n",
    "elif model_name == 'dropout_v2_0_10_R2plus1DMotionSegNet.pth':\n",
    "    model_template_obj = dropout_v2_0_10_R2plus1D_18_MotionNet()\n",
    "elif model_name == 'dropout_v2_0_25_R2plus1DMotionSegNet.pth':\n",
    "    model_template_obj = dropout_v2_0_25_R2plus1D_18_MotionNet()\n",
    "\n",
    "\n",
    "elif model_name == \"dropout_v3_0_00_R2plus1DMotionSegNet.pth\":\n",
    "    model_template_obj = dropout_v3_0_00_R2plus1D_18_MotionNet()\n",
    "elif model_name == \"dropout_v3_0_10_R2plus1DMotionSegNet.pth\":\n",
    "    model_template_obj = dropout_v3_0_10_R2plus1D_18_MotionNet()\n",
    "elif model_name == \"dropout_v3_0_25_R2plus1DMotionSegNet.pth\":\n",
    "    model_template_obj = dropout_v3_0_25_R2plus1D_18_MotionNet()\n",
    "elif model_name == \"dropout_v4_0_00_R2plus1DMotionSegNet.pth\":\n",
    "    model_template_obj = dropout_v4_0_00_R2plus1D_18_MotionNet()\n",
    "elif model_name == \"dropout_v4_0_10_R2plus1DMotionSegNet.pth\":\n",
    "    model_template_obj = dropout_v4_0_10_R2plus1D_18_MotionNet()\n",
    "elif model_name == \"dropout_v4_0_25_R2plus1DMotionSegNet.pth\":\n",
    "    model_template_obj = dropout_v4_0_25_R2plus1D_18_MotionNet()\n",
    "\n",
    "\n",
    "model = torch.nn.DataParallel(model_template_obj)\n",
    "\n",
    "model.to(\"cuda\")\n",
    "torch.cuda.empty_cache()\n",
    "model.load_state_dict(torch.load(model_save_path)[\"model\"])\n",
    "print(f'{model_name} has {sum(p.numel() for p in model.parameters() if p.requires_grad)} parameters.')\n",
    "model.eval();"
   ]
  },
  {
   "cell_type": "code",
   "execution_count": 6,
   "id": "46fff3bd-7fc6-438b-9b78-061ff26c526d",
   "metadata": {},
   "outputs": [],
   "source": [
    "from src.strain import *"
   ]
  },
  {
   "cell_type": "code",
   "execution_count": 7,
   "id": "bb07fd27-38c5-40f1-938f-7a4a56b9ee32",
   "metadata": {},
   "outputs": [],
   "source": [
    "%matplotlib widget"
   ]
  },
  {
   "cell_type": "markdown",
   "id": "7ff3aec5-e3d9-473e-b8e5-881cf167f330",
   "metadata": {},
   "source": [
    "### We want to look at how the motion tracking is changing the frames, so let's capture all those frames in a dict/hashmasp"
   ]
  },
  {
   "cell_type": "code",
   "execution_count": 29,
   "id": "40a70683-1194-4598-9662-b5779708c30a",
   "metadata": {},
   "outputs": [],
   "source": [
    "frames_to_study = {}"
   ]
  },
  {
   "cell_type": "code",
   "execution_count": 10,
   "id": "56610dd9-72a0-4493-830c-665467773b3e",
   "metadata": {},
   "outputs": [],
   "source": [
    "class DiceLoss(nn.Module):\n",
    "    \"\"\"\n",
    "        Dice loss\n",
    "        See here: https://www.kaggle.com/bigironsphere/loss-function-library-keras-pytorch?scriptVersionId=68471013&cellId=4\n",
    "    \"\"\"\n",
    "    def __init__(self, weight=None, size_average=True):\n",
    "        super(DiceLoss, self).__init__()\n",
    "\n",
    "    def forward(self, inputs, targets, smooth=1):\n",
    "        inputs = inputs.reshape(-1)\n",
    "        targets = targets.reshape(-1)\n",
    "        \n",
    "        intersection = (inputs * targets).sum()                            \n",
    "        dice = (2.*intersection + smooth)/(inputs.sum() + targets.sum() + smooth)  \n",
    "        \n",
    "        return 1 - dice"
   ]
  },
  {
   "cell_type": "code",
   "execution_count": 12,
   "id": "7af0e49f-0def-42a4-bec4-b262d4b16d51",
   "metadata": {},
   "outputs": [],
   "source": [
    "def generate_2dmotion_field(x, offset):\n",
    "    # Qin's code for joint_motion_seg learning works fine on our purpose too\n",
    "    # Same idea https://discuss.pytorch.org/t/warp-video-frame-from-optical-flow/6013/5\n",
    "    \n",
    "    global frames_to_study\n",
    "    \n",
    "    frames_to_study['generate_2dmotion_field'] = {}\n",
    "    frames_to_study['generate_2dmotion_field'][\n",
    "    \n",
    "    # shape: (B, C, H, W)\n",
    "    x_shape = x.size()\n",
    "    grid_w, grid_h = torch.meshgrid([torch.linspace(-1, 1, x_shape[2]), torch.linspace(-1, 1, x_shape[3])])  # (h, w)\n",
    "    grid_w = grid_w.cuda().float()\n",
    "    grid_h = grid_h.cuda().float()\n",
    "\n",
    "    grid_w = nn.Parameter(grid_w, requires_grad=False)\n",
    "    grid_h = nn.Parameter(grid_h, requires_grad=False)\n",
    "\n",
    "    # split forward x,y into separate forward x and y grids\n",
    "    # assuming that h = x, w = y -- that doesn't make intuitive sense since h is along the vertical axis which is the y dimension by convention?, but im \n",
    "    # basing my assumption off of the ordering of these variables\n",
    "    # it would make sense if it were forward x,y\n",
    "    offset_h, offset_w = torch.split(offset, 1, 1)\n",
    "    offset_w = offset_w.contiguous().view(-1, int(x_shape[2]), int(x_shape[3]))  # (b*c, h, w)\n",
    "    offset_h = offset_h.contiguous().view(-1, int(x_shape[2]), int(x_shape[3]))  # (b*c, h, w)\n",
    "\n",
    "    offset_w = grid_w + offset_w\n",
    "    offset_h = grid_h + offset_h\n",
    "    \n",
    "    offsets = torch.stack((offset_h, offset_w), 3)\n",
    "\n",
    "    return offsets"
   ]
  },
  {
   "cell_type": "code",
   "execution_count": 13,
   "id": "0cbb652e-61bf-45f4-a140-a258d1df7e4a",
   "metadata": {},
   "outputs": [],
   "source": [
    "def motion_seg_loss(label_ed, label_es, ed_index, es_index, motion_output, seg_softmax, \n",
    "                    start=0, end=32, seg_criterion=DiceLoss()):\n",
    "    \"\"\"\n",
    "        SGS loss that spatially transform the true ED and true ES fully forward to the end of video\n",
    "        and backward to the beginning. Then, compare the forward and backward transformed pseudo labels with\n",
    "        segmentation at all frames.\n",
    "    \"\"\"\n",
    "    flow_source = convert_to_1hot(label_ed, 2)\n",
    "    loss_forward = 0\n",
    "    OTS_loss = 0\n",
    "    OTS_criterion = DiceLoss()\n",
    "    \n",
    "    global frames_to_study\n",
    "    \n",
    "    frames_to_study['one hot label_ed'] = flow_source\n",
    "    \n",
    "    # Forward from ed to the end of video\n",
    "    print('Forward from ed to the end of video')\n",
    "    frames_to_study['Forward from ed to the end of video'] = {}\n",
    "    frames_to_study['Forward from ed to the end of video']['flow_sources'] = []\n",
    "    frames_to_study['Forward from ed to the end of video']['motion_fields'] = []\n",
    "    frames_to_study['Forward from ed to the end of video']['forward_motions'] = []\n",
    "\n",
    "    \n",
    "    for frame_index in range(ed_index, end - 1):\n",
    "        forward_motion = motion_output[:, :2, frame_index,...]\n",
    "        motion_field = generate_2dmotion_field(flow_source, forward_motion)\n",
    "        next_label = F.grid_sample(flow_source, motion_field, align_corners=False, mode=\"bilinear\", padding_mode='border')\n",
    "        \n",
    "        if frame_index == (es_index - 1):\n",
    "            one_hot_ES = convert_to_1hot(label_es, 2)\n",
    "            OTS_loss += OTS_criterion(next_label, one_hot_ES)\n",
    "        else:\n",
    "            loss_forward += seg_criterion(seg_softmax[:, :, frame_index + 1, ...], next_label)\n",
    "        flow_source = next_label\n",
    "        \n",
    "        frames_to_study['Forward from ed to the end of video']['forward_motions'].append([frame_index, forward_motion])\n",
    "        frames_to_study['Forward from ed to the end of video']['motion_fields'].append([frame_index, motion_field])\n",
    "        frames_to_study['Forward from ed to the end of video']['flow_sources'].append([frame_index, flow_source])\n",
    "        \n",
    "    # Forward from es to the end of video\n",
    "    frames_to_study['Forward from es to the end of video'] = []\n",
    "    print('Forward from es to the end of video')\n",
    "    flow_source = convert_to_1hot(label_es, 2)\n",
    "    for frame_index in range(es_index, end - 1):\n",
    "        forward_motion = motion_output[:, :2, frame_index,...]\n",
    "        motion_field = generate_2dmotion_field(flow_source, forward_motion)\n",
    "        next_label = F.grid_sample(flow_source, motion_field, align_corners=False, mode=\"bilinear\", padding_mode='border')\n",
    "\n",
    "        loss_forward += seg_criterion(seg_softmax[:, :, frame_index + 1, ...], next_label)\n",
    "        flow_source = next_label\n",
    "        \n",
    "        \n",
    "        frames_to_study['Forward from es to the end of video'].append([frame_index, flow_source])\n",
    "\n",
    "        \n",
    "    flow_source = convert_to_1hot(label_es, 2)\n",
    "    loss_backward = 0\n",
    "    \n",
    "    frames_to_study['one hot label_es'] = flow_source\n",
    "    \n",
    "    # Backward from es to the beginning of video\n",
    "    frames_to_study['Backward from es to the beginning of video'] = []\n",
    "    print('Backward from es to the beginning of video')\n",
    "\n",
    "    for frame_index in range(es_index, start, -1):\n",
    "        backward_motion = motion_output[:, 2:, frame_index,...]\n",
    "        motion_field = generate_2dmotion_field(flow_source, backward_motion)\n",
    "        next_label = F.grid_sample(flow_source, motion_field, align_corners=False, mode=\"bilinear\", padding_mode='border')\n",
    "        \n",
    "        if frame_index == ed_index + 1:\n",
    "            one_hot_ED = convert_to_1hot(label_ed, 2)\n",
    "            OTS_loss += OTS_criterion(next_label, one_hot_ED)\n",
    "        else:\n",
    "            loss_backward += seg_criterion(seg_softmax[:, :, frame_index - 1, ...], next_label)\n",
    "        flow_source = next_label\n",
    "        \n",
    "        frames_to_study['Backward from es to the beginning of video'].append([frame_index, flow_source])\n",
    "    \n",
    "    \n",
    "    flow_source = convert_to_1hot(label_ed, 2)\n",
    "    \n",
    "    \n",
    "    # Backward from ed to the beginning of video\n",
    "    frames_to_study['Backward from ed to the beginning of video'] = []\n",
    "    print('Backward from ed to the beginning of video')\n",
    "\n",
    "    \n",
    "    for frame_index in range(ed_index, start, -1):\n",
    "        backward_motion = motion_output[:, 2:, frame_index,...]\n",
    "        motion_field = generate_2dmotion_field(flow_source, backward_motion)\n",
    "        next_label = F.grid_sample(flow_source, motion_field, align_corners=False, mode=\"bilinear\", padding_mode='border')\n",
    "        \n",
    "        loss_backward += seg_criterion(seg_softmax[:, :, frame_index - 1, ...], next_label)\n",
    "        flow_source = next_label\n",
    "        \n",
    "        frames_to_study['Backward from ed to the beginning of video'].append([frame_index, flow_source])\n",
    "\n",
    "        \n",
    "    # Averaging the resulting dice\n",
    "    flow_loss = (loss_forward + loss_backward) / ((motion_output.shape[2] - 2) * 2)\n",
    "    OTS_loss = OTS_loss / 2 \n",
    "    \n",
    "    return flow_loss, OTS_loss"
   ]
  },
  {
   "cell_type": "markdown",
   "id": "48bf2536-2dd4-4a6e-8e30-294bc4178200",
   "metadata": {},
   "source": [
    "## apply the test function to the fully trained model and see what happens"
   ]
  },
  {
   "cell_type": "code",
   "execution_count": 15,
   "id": "720dc08c-65fa-4476-ba61-c4c53b31dfab",
   "metadata": {},
   "outputs": [],
   "source": [
    "def deformation_motion_loss(source_videos, motion_field):\n",
    "    \"\"\"\n",
    "        OTA loss for motion tracking on echocardiographic frames\n",
    "    \"\"\"\n",
    "    mse_criterion = nn.MSELoss()\n",
    "    mse_loss = 0\n",
    "    smooth_loss = 0\n",
    "    \n",
    "    # Deform both forward and backward from beginning to the end of video clip \n",
    "    for index in range(source_videos.shape[2] - 1):\n",
    "        forward_motion = motion_field[:, :2, index,...]\n",
    "        backward_motion = motion_field[:, 2:, index + 1,...]\n",
    "        \n",
    "        grid_forward = generate_2dmotion_field(source_videos[:, :, index,...], forward_motion)\n",
    "        grid_backward = generate_2dmotion_field(source_videos[:, :, index + 1,...], backward_motion)\n",
    "        \n",
    "        pred_image_forward = F.grid_sample(source_videos[:, :, index,...], grid_forward, \n",
    "                                           align_corners=False, padding_mode='border')\n",
    "        pred_image_backward = F.grid_sample(source_videos[:, :, index + 1,...], grid_backward, \n",
    "                                            align_corners=False, padding_mode='border')\n",
    "        \n",
    "        mse_loss += mse_criterion(source_videos[:, :, index + 1,...], pred_image_forward)\n",
    "        mse_loss += mse_criterion(source_videos[:, :, index,...], pred_image_backward)\n",
    "        \n",
    "        smooth_loss += huber_loss(forward_motion)\n",
    "        smooth_loss += huber_loss(backward_motion)\n",
    "    \n",
    "    # Averaging the resulting loss\n",
    "    return (0.005 * smooth_loss + mse_loss) / 2 / (source_videos.shape[2] - 1)"
   ]
  },
  {
   "cell_type": "code",
   "execution_count": 14,
   "id": "a5d2bed9-f803-4686-9dca-292d2ef48ca9",
   "metadata": {},
   "outputs": [],
   "source": [
    "# altered from the original test function, removed the param optimizer bc I don't see it being used\n",
    "def test(epoch, test_loader, model):\n",
    "    \n",
    "    global frames_to_study\n",
    "    \n",
    "    model.eval()\n",
    "    epoch_loss = []\n",
    "    ed_lv_dice = 0\n",
    "    es_lv_dice = 0\n",
    "    \n",
    "    for batch_idx, batch in enumerate(test_loader, 1):\n",
    "        filename, EF, es_clip_index, ed_clip_index, es_index, ed_index, es_frame, ed_frame, es_label, ed_label = batch[1]\n",
    "        with torch.no_grad():\n",
    "            video_clips = torch.Tensor(batch[0])\n",
    "            video_clips = video_clips.type(Tensor)\n",
    "\n",
    "        # Get the motion tracking output from the motion tracking head using the feature map\n",
    "        segmentation_output, motion_output = model(video_clips)\n",
    "        \n",
    "        frames_to_study['raw_seg_out'] = segmentation_output\n",
    "        frames_to_study['raw_motion_out'] = motion_output\n",
    "        \n",
    "        frames_to_study['ed_index'] = ed_index\n",
    "        frames_to_study['es_index'] = es_index\n",
    "        \n",
    "        frames_to_study['delta_ed_es'] = es_index - ed_index\n",
    "        frames_to_study['filename'] = filename\n",
    "        \n",
    "        loss = 0\n",
    "        deform_loss = deformation_motion_loss(video_clips, motion_output)\n",
    "        loss += deform_loss\n",
    "\n",
    "        segmentation_loss = 0\n",
    "        motion_loss = 0\n",
    "        print(f'for i in range(video_clips.shape[0]={video_clips.shape[0]}')\n",
    "        for i in range(video_clips.shape[0]):\n",
    "            print(f'i={i}')\n",
    "            label_ed = np.expand_dims(ed_label.numpy(), 1).astype(\"int\")\n",
    "            label_es = np.expand_dims(es_label.numpy(), 1).astype(\"int\")\n",
    "\n",
    "            label_ed = label_ed[i]\n",
    "            label_es = label_es[i]\n",
    "\n",
    "            label_ed = np.expand_dims(label_ed, 0)\n",
    "            label_es = np.expand_dims(label_es, 0)\n",
    "\n",
    "            motion_one_output = motion_output[i].unsqueeze(0)\n",
    "            segmentation_one_output = segmentation_output[i].unsqueeze(0)\n",
    "\n",
    "            ed_one_index = ed_clip_index[i]\n",
    "            es_one_index = es_clip_index[i]\n",
    "\n",
    "            print('Enter: motion_seg_loss')\n",
    "            segmentation_one_loss, motion_one_loss = motion_seg_loss(label_ed, label_es, \n",
    "                                                                     ed_one_index, es_one_index, \n",
    "                                                                     motion_one_output, segmentation_one_output, \n",
    "                                                                     0, video_clips.shape[2], \n",
    "                                                                     F.binary_cross_entropy_with_logits)\n",
    "            print('Leave: motion_seg_loss')\n",
    "            segmentation_loss += segmentation_one_loss\n",
    "            motion_loss += motion_one_loss\n",
    "            \n",
    "            frames_to_study['segmentation_loss'] = segmentation_loss\n",
    "            frames_to_study['motion_loss'] = motion_loss\n",
    "            \n",
    "            break # just do one iteration\n",
    "            \n",
    "        return # ignore other stuff, just focus on the loss that uses the motion tracking.\n",
    "            \n",
    "        loss += (segmentation_loss / video_clips.shape[0])\n",
    "        loss += (motion_loss / video_clips.shape[0])\n",
    "        \n",
    "        ed_segmentations = torch.Tensor([]).type(Tensor)\n",
    "        es_segmentations = torch.Tensor([]).type(Tensor)\n",
    "        for i in range(len(ed_clip_index)):\n",
    "            ed_one_index = ed_clip_index[i]\n",
    "            es_one_index = es_clip_index[i]\n",
    "            \n",
    "            ed_seg = segmentation_output[i, :, ed_one_index].unsqueeze(0)\n",
    "            ed_segmentations = torch.cat([ed_segmentations, ed_seg])\n",
    "            \n",
    "            es_seg = segmentation_output[i, :, es_one_index].unsqueeze(0)\n",
    "            es_segmentations = torch.cat([es_segmentations, es_seg])\n",
    "            \n",
    "            \n",
    "        ed_es_seg_loss = 0\n",
    "        ed_es_seg_loss += F.binary_cross_entropy_with_logits(ed_segmentations, \n",
    "                                                             convert_to_1hot(np.expand_dims(ed_label.numpy().astype(\"int\"), 1), 2), \n",
    "                                                             reduction=\"mean\") \n",
    "        \n",
    "        ed_es_seg_loss += F.binary_cross_entropy_with_logits(es_segmentations, \n",
    "                                                             convert_to_1hot(np.expand_dims(es_label.numpy().astype(\"int\"), 1), 2), \n",
    "                                                             reduction=\"mean\") \n",
    "        ed_es_seg_loss /= 2\n",
    "        \n",
    "        loss += ed_es_seg_loss\n",
    "        \n",
    "        epoch_loss.append(loss.item())\n",
    "        \n",
    "        ed_segmentation_argmax = torch.argmax(ed_segmentations, 1).cpu().detach().numpy()\n",
    "        es_segmentation_argmax = torch.argmax(es_segmentations, 1).cpu().detach().numpy()\n",
    "        \n",
    "        ed_lv_dice += categorical_dice(ed_segmentation_argmax, ed_label.numpy(), 1)\n",
    "        es_lv_dice += categorical_dice(es_segmentation_argmax, es_label.numpy(), 1)\n",
    "    \n",
    "    print(\"-\" * 30 + \"Validation\" + \"-\" * 30)\n",
    "    print(\"\\nED LV: {:.3f}\".format(ed_lv_dice / batch_idx))\n",
    "    print(\"ES LV: {:.3f}\".format(es_lv_dice / batch_idx))\n",
    "        \n",
    "        # Printing the intermediate training statistics\n",
    "        \n",
    "    print('\\nValid set: Average loss: {:.4f}\\n'.format(np.mean(epoch_loss)))\n",
    "    \n",
    "    return epoch_loss"
   ]
  },
  {
   "cell_type": "code",
   "execution_count": 16,
   "id": "fcabe1a3-fb56-439d-841f-d7f3f8f03507",
   "metadata": {},
   "outputs": [],
   "source": [
    "Tensor = torch.cuda.FloatTensor"
   ]
  },
  {
   "cell_type": "code",
   "execution_count": 17,
   "id": "a1b796d6-874d-4c66-aecd-8ed54b696d04",
   "metadata": {},
   "outputs": [
    {
     "name": "stdout",
     "output_type": "stream",
     "text": [
      "for i in range(video_clips.shape[0]=4\n",
      "i=0\n",
      "Enter: motion_seg_loss\n",
      "Forward from ed to the end of video\n",
      "Forward from es to the end of video\n",
      "Backward from es to the beginning of video\n",
      "Backward from ed to the beginning of video\n",
      "Leave: motion_seg_loss\n"
     ]
    }
   ],
   "source": [
    "epoch_loss = test(epoch, input_data_loader, model)"
   ]
  },
  {
   "cell_type": "code",
   "execution_count": 18,
   "id": "82acfeab-bfc4-4f9a-bbe2-a452f93b905c",
   "metadata": {},
   "outputs": [],
   "source": [
    "def vis_single_point_set_from_vectors(ps_vectors):\n",
    "    ''' ps_vectors - (N, ) np array storing vectors with format (x, y, delta_x, delta_y) '''\n",
    "    f, ax = plt.subplots(1, 1, figsize=(4, 5))\n",
    "    x = []\n",
    "    y = []\n",
    "    for v in ps_vectors:\n",
    "        x.append(v.tail_x)\n",
    "        y.append(v.tail_y)\n",
    "    ax.scatter(x, y, marker='.', color='b')\n",
    "    ax.invert_yaxis()"
   ]
  },
  {
   "cell_type": "code",
   "execution_count": 19,
   "id": "7b2b3736-4a81-4114-877f-2f765ee372b6",
   "metadata": {},
   "outputs": [],
   "source": [
    "def vis_single_point_set(ps):\n",
    "    ''' ps - (N, 2) stored in (x,y)'''\n",
    "    f, ax = plt.subplots(1, 1, figsize=(4, 5))\n",
    "    ax.scatter(ps[:, 0], ps[:, 1], marker='.', color='b')\n",
    "    ax.invert_yaxis()"
   ]
  },
  {
   "cell_type": "code",
   "execution_count": 20,
   "id": "b2c58f3a-3c50-493b-aabc-f660213d17b3",
   "metadata": {},
   "outputs": [],
   "source": [
    "def image_to_whole_point_set(I):\n",
    "    '''\n",
    "    I - (112, 112) whole image segmentation\n",
    "    points - (N, 2) stored in x, y\n",
    "    '''\n",
    "    I = give_boundary_no_basal_plane(I)\n",
    "    points = []\n",
    "    for i in range(I.shape[0]):\n",
    "        for j in range(I.shape[1]):\n",
    "            if I[i][j] == 1:\n",
    "                points.append(np.array([j, i]))\n",
    "    return np.array(points)"
   ]
  },
  {
   "cell_type": "code",
   "execution_count": 21,
   "id": "24e0db04-c9f7-4d90-8acd-59662d18f4db",
   "metadata": {},
   "outputs": [],
   "source": [
    "def convert_point_set_ij_into_xy(ps_ij):\n",
    "    ''' \n",
    "    converts a point set of shape (M, 2) of points in the (i,j) format into \n",
    "    point set of shape (M, 2) of points in the (x,y) format where\n",
    "    x = j\n",
    "    y = i\n",
    "    \n",
    "    input: ps_ij - (M , 2)\n",
    "    output: ps_xy - (M, 2)\n",
    "        \n",
    "    '''\n",
    "    ps_xy = []\n",
    "    for point in ps_ij:\n",
    "        ps_xy.append(np.array([point[1], point[0]]))\n",
    "    return np.array(ps_xy)"
   ]
  },
  {
   "cell_type": "code",
   "execution_count": 22,
   "id": "5bb37279-9bd3-4bab-84c3-d14551fd7633",
   "metadata": {},
   "outputs": [],
   "source": [
    "def convert_point_set_xy_into_vectors(ps_xy):\n",
    "    '''\n",
    "    converts a single point set passed in of shape (M, 2) into a np array of vector adts of shape (M, ) \n",
    "    vectors will have x,y with zero magnitudes representing deltas\n",
    "    \n",
    "    assumes the Vector ADT class definition is accessible in global scope\n",
    " \n",
    "    input: ps_xy - (M, 2)\n",
    "    output: ps_vectors - (M, )\n",
    "    '''\n",
    "    ps_vectors = []\n",
    "    for point in ps_xy:\n",
    "        ps_vectors.append(Vector(point[0], point[1], 0, 0))\n",
    "    return np.array(ps_vectors)"
   ]
  },
  {
   "cell_type": "code",
   "execution_count": 23,
   "id": "288a938d-abea-45da-8ea1-65f51956ab72",
   "metadata": {},
   "outputs": [],
   "source": [
    "def warp_one_vector_forward_once(v, frame, motion, scale=1.0):\n",
    "    '''\n",
    "    input: \n",
    "        v - vector to warp\n",
    "            should have base values: (x_i, y_j, 0, 0)\n",
    "        frame - frame integer index\n",
    "        motion - motion object of shape (4, 32, 112, 112)\n",
    "    output:\n",
    "        v_new - vector after warped from given frame\n",
    "            base values: (x_i+1, y_j+1, 0, 0)\n",
    "            \n",
    "    frame given determines what motion tracking information to use\n",
    "    as the frame integer value will be used to index motion\n",
    "    '''\n",
    "    # get surrounding vectors forming the unit square\n",
    "    inted_i, inted_j = int(v.tail_y), int(v.tail_x)\n",
    "    surr_vec_tails = [ [inted_i, inted_j],\n",
    "                       [inted_i, inted_j+1],\n",
    "                       [inted_i+1, inted_j],\n",
    "                       [inted_i+1, inted_j+1] ]\n",
    "    \n",
    "    surround_vectors = []\n",
    "\n",
    "    for _ in surr_vec_tails:\n",
    "        i,j = _[0], _[1]\n",
    "        x = j\n",
    "        y = i\n",
    "\n",
    "        forward_x = motion[0][frame][i][j]\n",
    "        forward_y = motion[1][frame][i][j]\n",
    "\n",
    "        surround_vectors.append(Vector(x, y, forward_x, forward_y))\n",
    "        \n",
    "    # convert magnitudes into polar, bilinearly interpolate new vector magnitude in polar\n",
    "    # to the input vector v's tail_x, tail_y, convert back into \n",
    "    # cartesian, apply the warp, clear out conversion value holders\n",
    "    v_new = vector_bilinear_interpolation(vectors=surround_vectors, new_vector=v)\n",
    "    v_new.update_mag_xy_from_conversion()\n",
    "    \n",
    "    v_new.mag_x *= scale\n",
    "    v_new.mag_y *= scale\n",
    "    \n",
    "    v_new.update_tails_from_mags()\n",
    "    \n",
    "    v_new.clear_conversion_mags_xy()\n",
    "    v_new.clear_conversion_mags_rhotheta()\n",
    "    v_new.clear_magnitudes()\n",
    "    \n",
    "    return v_new"
   ]
  },
  {
   "cell_type": "code",
   "execution_count": 24,
   "id": "2d34bd1d-db4e-4160-87ba-e7cb767d7752",
   "metadata": {},
   "outputs": [],
   "source": [
    "def warp_one_vector_forward_delta_times(v, motion, delta, scale=1.0):\n",
    "    ''' \n",
    "    handles warping forward a single vector specifically delta times and returns the new vector \n",
    "    \n",
    "    input:\n",
    "        v - vector to warp\n",
    "        motion - motion object of shape (4, 32, 112, 112)\n",
    "        delta - integer telling us how many times to warp\n",
    "    '''\n",
    "    for i in range(delta):\n",
    "        v = warp_one_vector_forward_once(v, i, motion, scale)\n",
    "    return v"
   ]
  },
  {
   "cell_type": "code",
   "execution_count": 25,
   "id": "63df3348-a2aa-4869-a01d-e53ecfe6a586",
   "metadata": {},
   "outputs": [],
   "source": [
    "def warp_one_point_set_forward_delta_times(ps_vectors, motion, delta, scale=1.0):\n",
    "    '''\n",
    "    input:\n",
    "        ps_vectors - (M, )\n",
    "            input vectors of base values (x_i, y_i, 0, 0)\n",
    "        motion - motion object of shape (4, 32, 112, 112)\n",
    "        delta - integer telling us how many times to warp\n",
    "    output:\n",
    "        ps_vectors_new - (M, )\n",
    "            new vectors of base values (x_i+delta, y_i+delta, 0, 0)\n",
    "                if save_mag flag is False\n",
    "    '''\n",
    "    ps_vectors = copy.deepcopy(ps_vectors)\n",
    "    \n",
    "    ps_vectors_new = []\n",
    "    for v in ps_vectors:\n",
    "        ps_vectors_new.append(warp_one_vector_forward_delta_times(v, motion, delta, scale))\n",
    "    return np.array(ps_vectors_new)"
   ]
  },
  {
   "cell_type": "code",
   "execution_count": 26,
   "id": "e33e1866-3fe6-474e-8605-b04668b77434",
   "metadata": {},
   "outputs": [],
   "source": [
    "def vis_double_three_point_sets(vectors_dict, title='ED Blue | ES Red'):\n",
    "    '''\n",
    "    vectors_dict - two keys 'ED' and 'ES'\n",
    "        each point to an array of three point sets representing regional points (apical, mid, basal) ... or more depending on N...well it's hardcoded for now\n",
    "    '''\n",
    "    fig, ax = plt.subplots(1,3, figsize=(10,7), sharex = True, sharey = True)\n",
    "    x = []\n",
    "    y = []\n",
    "    for v in vectors_dict['ED'][0]:\n",
    "        x.append(v.tail_x)\n",
    "        y.append(v.tail_y)\n",
    "    ax[0].scatter(x, y, marker='.', color='b', zorder=1)     # ED\n",
    "    \n",
    "    x.clear()\n",
    "    y.clear()\n",
    "    for v in vectors_dict['ES'][0]:\n",
    "        x.append(v.tail_x)\n",
    "        y.append(v.tail_y)\n",
    "    ax[0].scatter(x, y, marker='.', color='r', zorder=2) # ES\n",
    "    ax[0].invert_yaxis()\n",
    "    ax[0].set_title('Apical')\n",
    "\n",
    "    \n",
    "    x.clear()\n",
    "    y.clear()\n",
    "    for v in vectors_dict['ED'][1]:\n",
    "        x.append(v.tail_x)\n",
    "        y.append(v.tail_y)\n",
    "    ax[1].scatter(x, y, marker='.', color='b', zorder=1)    # ED\n",
    "    \n",
    "    x.clear()\n",
    "    y.clear()\n",
    "    for v in vectors_dict['ES'][1]:\n",
    "        x.append(v.tail_x)\n",
    "        y.append(v.tail_y)\n",
    "    ax[1].scatter(x, y, marker='.', color='r', zorder=2)# ES\n",
    "    ax[1].invert_yaxis()\n",
    "    ax[1].set_title('Mid')\n",
    "\n",
    "    \n",
    "    x.clear()\n",
    "    y.clear()\n",
    "    for v in vectors_dict['ED'][2]:\n",
    "        x.append(v.tail_x)\n",
    "        y.append(v.tail_y)\n",
    "    ax[2].scatter(x, y, marker='.', color='b', zorder=1)    # ED\n",
    "    \n",
    "    x.clear()\n",
    "    y.clear()\n",
    "    for v in vectors_dict['ES'][2]:\n",
    "        x.append(v.tail_x)\n",
    "        y.append(v.tail_y)\n",
    "    ax[2].scatter(x, y, marker='.', color='r', zorder=2)# ES\n",
    "    ax[2].invert_yaxis()\n",
    "    ax[2].set_title('Basal')\n",
    "    \n",
    "    fig.suptitle(title)"
   ]
  },
  {
   "cell_type": "code",
   "execution_count": null,
   "id": "b97e908a-dd89-479f-9042-2301b6a3dab7",
   "metadata": {},
   "outputs": [],
   "source": []
  },
  {
   "cell_type": "code",
   "execution_count": 27,
   "id": "962e1fcd-eb4e-4a10-83b1-63e8206ef680",
   "metadata": {},
   "outputs": [
    {
     "data": {
      "text/plain": [
       "dict_keys(['raw_seg_out', 'raw_motion_out', 'ed_index', 'es_index', 'delta_ed_es', 'filename', 'one hot label_ed', 'Forward from ed to the end of video', 'Forward from es to the end of video', 'one hot label_es', 'Backward from es to the beginning of video', 'Backward from ed to the beginning of video', 'segmentation_loss', 'motion_loss'])"
      ]
     },
     "execution_count": 27,
     "metadata": {},
     "output_type": "execute_result"
    }
   ],
   "source": [
    "frames_to_study.keys()"
   ]
  },
  {
   "cell_type": "code",
   "execution_count": 26,
   "id": "de6dd9f8-bc2d-426e-a23e-fffb6f7edcd0",
   "metadata": {},
   "outputs": [
    {
     "data": {
      "text/plain": [
       "torch.Size([4, 4, 32, 112, 112])"
      ]
     },
     "execution_count": 26,
     "metadata": {},
     "output_type": "execute_result"
    }
   ],
   "source": [
    "frames_to_study['raw_motion_out'].shape"
   ]
  },
  {
   "cell_type": "code",
   "execution_count": 27,
   "id": "7408d03c-c9bb-419e-8cc1-655df03dfb5a",
   "metadata": {},
   "outputs": [
    {
     "data": {
      "text/plain": [
       "15"
      ]
     },
     "execution_count": 27,
     "metadata": {},
     "output_type": "execute_result"
    }
   ],
   "source": [
    "delta_ed_es = frames_to_study['delta_ed_es'].cpu().detach().numpy()[0]\n",
    "delta_ed_es"
   ]
  },
  {
   "cell_type": "code",
   "execution_count": 28,
   "id": "08c9046a-9792-49da-b781-a8e50f7a0a62",
   "metadata": {},
   "outputs": [
    {
     "data": {
      "text/plain": [
       "(4, 32, 112, 112)"
      ]
     },
     "execution_count": 28,
     "metadata": {},
     "output_type": "execute_result"
    }
   ],
   "source": [
    "motion_tracking = frames_to_study['raw_motion_out'].cpu().detach().numpy()[0]\n",
    "motion_tracking.shape"
   ]
  },
  {
   "cell_type": "code",
   "execution_count": 29,
   "id": "dc8401db-138f-4b99-a73c-6dcd39f4876e",
   "metadata": {},
   "outputs": [],
   "source": [
    "I_ed = np.argmax(frames_to_study['one hot label_ed'].cpu().detach().numpy()[0], axis=0)\n",
    "I_es = np.argmax(frames_to_study['one hot label_es'].cpu().detach().numpy()[0], axis=0)"
   ]
  },
  {
   "cell_type": "code",
   "execution_count": 30,
   "id": "5a2602b8-9b3b-4a9a-8bc2-c84bbb4fa2e5",
   "metadata": {},
   "outputs": [
    {
     "name": "stderr",
     "output_type": "stream",
     "text": [
      "/home/wang/workspace/JupyterNoteBooksAll/fully-automated-multi-heartbeat-echocardiography-video-segmentation-and-motion-tracking/src/strain.py:1156: VisibleDeprecationWarning: Creating an ndarray from ragged nested sequences (which is a list-or-tuple of lists-or-tuples-or ndarrays with different lengths or shapes) is deprecated. If you meant to do this, you must specify 'dtype=object' when creating the ndarray\n",
      "  I_regional_point_sets = np.array(I_regional_point_sets)\n"
     ]
    }
   ],
   "source": [
    "I_ed_point_sets = image_to_regional_point_sets(I_ed)\n",
    "I_es_point_sets = image_to_regional_point_sets(I_es)"
   ]
  },
  {
   "cell_type": "code",
   "execution_count": 31,
   "id": "5d8d502e-2085-42db-8e99-cfc57e615ddf",
   "metadata": {},
   "outputs": [
    {
     "data": {
      "text/plain": [
       "array([17, 50])"
      ]
     },
     "execution_count": 31,
     "metadata": {},
     "output_type": "execute_result"
    }
   ],
   "source": [
    "I_ed_point_sets[0][0]"
   ]
  },
  {
   "cell_type": "code",
   "execution_count": 32,
   "id": "c04e4cbb-cf83-4247-af44-3ad41c6ef225",
   "metadata": {},
   "outputs": [
    {
     "name": "stdout",
     "output_type": "stream",
     "text": [
      "0.0042625065\n",
      "0.0021055778\n",
      "0.0008075687\n",
      "0.00025259424\n",
      "-0.00041940666\n",
      "-0.00072489574\n",
      "-0.0005991314\n",
      "-0.0005071493\n",
      "-0.0004448392\n",
      "-0.0004339353\n",
      "-0.00070861715\n",
      "-0.0009044234\n",
      "-0.0010364024\n",
      "-0.0011681545\n",
      "-0.0012850387\n"
     ]
    }
   ],
   "source": [
    "for i in range(delta_ed_es):\n",
    "    print(motion_tracking[0][i][0][0])"
   ]
  },
  {
   "cell_type": "code",
   "execution_count": 33,
   "id": "286da18c-2a9e-49fa-a300-1e97abbe95bf",
   "metadata": {},
   "outputs": [
    {
     "name": "stdout",
     "output_type": "stream",
     "text": [
      "0.0022264682\n",
      "0.0054255435\n",
      "0.0059281937\n",
      "0.0052648606\n",
      "0.005218978\n",
      "0.004823075\n",
      "0.0059061595\n",
      "0.006691875\n",
      "0.007909376\n",
      "0.008100013\n",
      "0.0085044755\n",
      "0.00958732\n",
      "0.007976787\n",
      "0.0060316054\n",
      "0.00426033\n"
     ]
    }
   ],
   "source": [
    "for i in range(delta_ed_es):\n",
    "    print(motion_tracking[0][i][50][17])"
   ]
  },
  {
   "cell_type": "markdown",
   "id": "97f15cf2-6716-4f22-bab0-91932e176e10",
   "metadata": {},
   "source": [
    "## AHAH, I am trolling myself. Taking a look at the offset x and y at coordinates near or on the points of interest, the offsets are small. The larger offsets are not actually related to my points."
   ]
  },
  {
   "cell_type": "code",
   "execution_count": 34,
   "id": "51a50570-5806-4dd5-8dcd-9b5ac0f1b254",
   "metadata": {},
   "outputs": [],
   "source": [
    "I_ED_and_ES_regional_point_sets_as_vectors = {}\n",
    "I_ED_and_ES_regional_point_sets_as_vectors['ED'] = []\n",
    "I_ED_and_ES_regional_point_sets_as_vectors['ES'] = []\n",
    "N = 3\n",
    "\n",
    "for IND in range(N):\n",
    "    ps = I_ed_point_sets[IND]\n",
    "\n",
    "    ps = convert_point_set_ij_into_xy(ps)\n",
    "\n",
    "    ps = convert_point_set_xy_into_vectors(ps)\n",
    "\n",
    "    new_ps = warp_one_point_set_forward_delta_times(ps_vectors = ps, \n",
    "                                           motion = motion_tracking,\n",
    "                                           delta = delta_ed_es)\n",
    "\n",
    "    I_ED_and_ES_regional_point_sets_as_vectors['ED'].append(ps)\n",
    "    I_ED_and_ES_regional_point_sets_as_vectors['ES'].append(new_ps)"
   ]
  },
  {
   "cell_type": "code",
   "execution_count": 35,
   "id": "c688b1ad-547d-45fb-a86b-93920ec92725",
   "metadata": {},
   "outputs": [
    {
     "data": {
      "application/vnd.jupyter.widget-view+json": {
       "model_id": "121ae97ea0594c40b600a64930f0bdc2",
       "version_major": 2,
       "version_minor": 0
      },
      "image/png": "[encoded data removed]",
      "text/html": [
       "\n",
       "            <div style=\"display: inline-block;\">\n",
       "                <div class=\"jupyter-widgets widget-label\" style=\"text-align: center;\">\n",
       "                    Figure\n",
       "                </div>\n",
       "                <img src='data:image/png;base64,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' width=1000.0/>\n",
       "            </div>\n",
       "        "
      ],
      "text/plain": [
       "Canvas(toolbar=Toolbar(toolitems=[('Home', 'Reset original view', 'home', 'home'), ('Back', 'Back to previous …"
      ]
     },
     "metadata": {},
     "output_type": "display_data"
    }
   ],
   "source": [
    "vis_double_three_point_sets(vectors_dict = I_ED_and_ES_regional_point_sets_as_vectors)"
   ]
  },
  {
   "cell_type": "code",
   "execution_count": null,
   "id": "41231782-0288-44fc-8415-60838aff6078",
   "metadata": {},
   "outputs": [],
   "source": []
  },
  {
   "cell_type": "code",
   "execution_count": null,
   "id": "a4a48bcd-36ce-41ed-829e-85e865e8f211",
   "metadata": {},
   "outputs": [],
   "source": []
  }
 ],
 "metadata": {
  "kernelspec": {
   "display_name": "Python 3",
   "language": "python",
   "name": "python3"
  },
  "language_info": {
   "codemirror_mode": {
    "name": "ipython",
    "version": 3
   },
   "file_extension": ".py",
   "mimetype": "text/x-python",
   "name": "python",
   "nbconvert_exporter": "python",
   "pygments_lexer": "ipython3",
   "version": "3.7.6"
  },
  "vscode": {
   "interpreter": {
    "hash": "d0d9022c7ca413a14cfa3f0210acf5b06ecffaf655f6ebca341f32aa2b4ac5a6"
   }
  }
 },
 "nbformat": 4,
 "nbformat_minor": 5
}
