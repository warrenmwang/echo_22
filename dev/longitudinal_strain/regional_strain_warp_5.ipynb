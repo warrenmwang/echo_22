{
 "cells": [
  {
   "cell_type": "code",
   "execution_count": 1,
   "id": "a35609a7-9d6b-41b7-996c-efd568cc2de3",
   "metadata": {},
   "outputs": [],
   "source": [
    "# model_name = \"Original_Pretrained_R2plus1DMotionSegNet.pth\"\n",
    "\n",
    "model_name = \"dropout_v2_0_25_R2plus1DMotionSegNet.pth\"\n",
    "# model_name = \"dropout_v3_0_10_R2plus1DMotionSegNet.pth\""
   ]
  },
  {
   "cell_type": "code",
   "execution_count": 2,
   "id": "a4e90b74-be28-47cc-850c-fe8866507a27",
   "metadata": {},
   "outputs": [
    {
     "name": "stdout",
     "output_type": "stream",
     "text": [
      "/home/wang/workspace/JupyterNoteBooksAll/fully-automated-multi-heartbeat-echocardiography-video-segmentation-and-motion-tracking\n"
     ]
    },
    {
     "name": "stderr",
     "output_type": "stream",
     "text": [
      "100%|██████████| 16/16 [00:01<00:00, 14.87it/s]\n"
     ]
    }
   ],
   "source": [
    "import os\n",
    "os.chdir(\"../..\")\n",
    "print(os.getcwd())\n",
    "\n",
    "%config Completer.use_jedi = False\n",
    "\n",
    "import SimpleITK as itk\n",
    "from LabelFusion.wrapper import fuse_images\n",
    "\n",
    "import echonet\n",
    "from echonet.datasets import Echo\n",
    "\n",
    "import torch.nn.functional as F\n",
    "from torchvision.models.video import r2plus1d_18\n",
    "from torch.utils.data import Dataset, DataLoader, Subset\n",
    "from multiprocessing import cpu_count\n",
    "\n",
    "from src.utils.torch_utils import TransformDataset, torch_collate\n",
    "from src.utils.echo_utils import get2dPucks\n",
    "from src.utils.camus_validate import cleanupSegmentation\n",
    "from src.transform_utils import generate_2dmotion_field\n",
    "from src.visualization_utils import categorical_dice\n",
    "from src.loss_functions import huber_loss, convert_to_1hot, convert_to_1hot_tensor\n",
    "from src.echonet_dataset import EDESpairs, EchoNetDynamicDataset\n",
    "\n",
    "from src.model.R2plus1D_18_MotionNet import R2plus1D_18_MotionNet\n",
    "\n",
    "# v2 dropout (in place before motion heads, forgot to define in forward pass function, but still saw diff, weird.)\n",
    "from src.model.dropout_v2_0_00_R2plus1D_18_MotionNet import dropout_v2_0_00_R2plus1D_18_MotionNet\n",
    "from src.model.dropout_v2_0_10_R2plus1D_18_MotionNet import dropout_v2_0_10_R2plus1D_18_MotionNet\n",
    "from src.model.dropout_v2_0_25_R2plus1D_18_MotionNet import dropout_v2_0_25_R2plus1D_18_MotionNet\n",
    "from src.model.dropout_v2_0_50_R2plus1D_18_MotionNet import dropout_v2_0_50_R2plus1D_18_MotionNet\n",
    "from src.model.dropout_v2_0_75_R2plus1D_18_MotionNet import dropout_v2_0_75_R2plus1D_18_MotionNet\n",
    "# v3 dropout (one dropout layer defined in forward pass func, this should've been the correct way to do it.)\n",
    "from src.model.dropout_v3_0_00_R2plus1D_18_MotionNet import dropout_v3_0_00_R2plus1D_18_MotionNet\n",
    "from src.model.dropout_v3_0_10_R2plus1D_18_MotionNet import dropout_v3_0_10_R2plus1D_18_MotionNet\n",
    "from src.model.dropout_v3_0_25_R2plus1D_18_MotionNet import dropout_v3_0_25_R2plus1D_18_MotionNet\n",
    "from src.model.dropout_v3_0_50_R2plus1D_18_MotionNet import dropout_v3_0_50_R2plus1D_18_MotionNet\n",
    "from src.model.dropout_v3_0_75_R2plus1D_18_MotionNet import dropout_v3_0_75_R2plus1D_18_MotionNet\n",
    "# v4 dropout (4 dropout layers in different places in the forward func, I'm going to guess more \"generalizable\")\n",
    "from src.model.dropout_v4_0_00_R2plus1D_18_MotionNet import dropout_v4_0_00_R2plus1D_18_MotionNet\n",
    "from src.model.dropout_v4_0_10_R2plus1D_18_MotionNet import dropout_v4_0_10_R2plus1D_18_MotionNet\n",
    "from src.model.dropout_v4_0_25_R2plus1D_18_MotionNet import dropout_v4_0_25_R2plus1D_18_MotionNet\n",
    "from src.model.dropout_v4_0_50_R2plus1D_18_MotionNet import dropout_v4_0_50_R2plus1D_18_MotionNet\n",
    "from src.model.dropout_v4_0_75_R2plus1D_18_MotionNet import dropout_v4_0_75_R2plus1D_18_MotionNet\n",
    "\n",
    "# for finding lv seg borders\n",
    "import cv2 as cv\n",
    "\n",
    "\n",
    "# from src.visualization_utils import categorical_dice\n",
    "\n",
    "import numpy as np\n",
    "from scipy.signal import find_peaks\n",
    "import matplotlib.pyplot as plt\n",
    "\n",
    "import torch\n",
    "import torch.nn as nn\n",
    "import torch.optim as optim\n",
    "\n",
    "import random\n",
    "import pickle\n",
    "import time\n",
    "\n",
    "tic, toc = (time.time, time.time)\n",
    "\n",
    "\n",
    "device = 'cuda' if torch.cuda.is_available() else 'cpu'\n",
    "device\n",
    "\n",
    "\n",
    "batch_size = 4\n",
    "num_workers = max(4, cpu_count()//2)\n",
    "\n",
    "\n",
    "def worker_init_fn_valid(worker_id):                                                          \n",
    "    np.random.seed(np.random.get_state()[1][0] + worker_id)\n",
    "    \n",
    "\n",
    "def worker_init_fn(worker_id):\n",
    "    # See here: https://pytorch.org/docs/stable/notes/randomness.html#dataloader\n",
    "    # and the original post of the problem: https://github.com/pytorch/pytorch/issues/5059#issuecomment-817373837\n",
    "    worker_seed = torch.initial_seed() % 2 ** 32\n",
    "    print(f'worker_seed: {worker_seed}')\n",
    "    np.random.seed(worker_seed)\n",
    "    random.seed(worker_seed)\n",
    "    \n",
    "\n",
    "def permuter(list1, list2):\n",
    "    for i1 in list1:\n",
    "        for i2 in list2:\n",
    "            yield (i1, i2)\n",
    "            \n",
    "\n",
    "param_trainLoader = {'collate_fn': torch_collate,\n",
    "                     'batch_size': batch_size,\n",
    "                     'num_workers': max(4, cpu_count()//2),\n",
    "                     'worker_init_fn': worker_init_fn}\n",
    "\n",
    "param_testLoader = {'collate_fn': torch_collate,\n",
    "                    'batch_size': batch_size,\n",
    "                    'shuffle': False,\n",
    "                    'num_workers': max(4, cpu_count()//2),\n",
    "                    'worker_init_fn': worker_init_fn}\n",
    "\n",
    "paramLoader = {'train': param_trainLoader,\n",
    "               'valid': param_testLoader,\n",
    "               'test':  param_testLoader}\n",
    "\n",
    "\n",
    "with open(\"fold_indexes/stanford_valid_sampled_indices\", \"rb\") as infile:\n",
    "    valid_mask = pickle.load(infile)\n",
    "infile.close()\n",
    "\n",
    "# full_dataset = EchoNetDynamicDataset(split='val', clip_length=\"full\", subset_indices=valid_mask, period=1)\n",
    "test_dataset = EchoNetDynamicDataset(split='test', clip_length=\"full\", raise_for_es_ed=False, period=1)\n",
    "# random_test_dataset = EchoNetDynamicDataset(split='test', clip_length=32, raise_for_es_ed=True, period=1)"
   ]
  },
  {
   "cell_type": "code",
   "execution_count": 4,
   "id": "6782e5be-c609-413e-8338-e2c9c69402ef",
   "metadata": {},
   "outputs": [
    {
     "name": "stdout",
     "output_type": "stream",
     "text": [
      "dropout_v2_0_25_R2plus1DMotionSegNet.pth has 31575731 parameters.\n"
     ]
    }
   ],
   "source": [
    "model_save_path = f\"save_models/{model_name}\"\n",
    "    \n",
    "if model_name == 'Original_Pretrained_R2plus1DMotionSegNet.pth':\n",
    "    model_template_obj = R2plus1D_18_MotionNet()\n",
    "elif model_name == 'dropout_v2_0_00_R2plus1DMotionSegNet.pth':\n",
    "    model_template_obj = dropout_v2_0_00_R2plus1D_18_MotionNet()\n",
    "elif model_name == 'dropout_v2_0_10_R2plus1DMotionSegNet.pth':\n",
    "    model_template_obj = dropout_v2_0_10_R2plus1D_18_MotionNet()\n",
    "elif model_name == 'dropout_v2_0_25_R2plus1DMotionSegNet.pth':\n",
    "    model_template_obj = dropout_v2_0_25_R2plus1D_18_MotionNet()\n",
    "\n",
    "\n",
    "elif model_name == \"dropout_v3_0_00_R2plus1DMotionSegNet.pth\":\n",
    "    model_template_obj = dropout_v3_0_00_R2plus1D_18_MotionNet()\n",
    "elif model_name == \"dropout_v3_0_10_R2plus1DMotionSegNet.pth\":\n",
    "    model_template_obj = dropout_v3_0_10_R2plus1D_18_MotionNet()\n",
    "elif model_name == \"dropout_v3_0_25_R2plus1DMotionSegNet.pth\":\n",
    "    model_template_obj = dropout_v3_0_25_R2plus1D_18_MotionNet()\n",
    "elif model_name == \"dropout_v4_0_00_R2plus1DMotionSegNet.pth\":\n",
    "    model_template_obj = dropout_v4_0_00_R2plus1D_18_MotionNet()\n",
    "elif model_name == \"dropout_v4_0_10_R2plus1DMotionSegNet.pth\":\n",
    "    model_template_obj = dropout_v4_0_10_R2plus1D_18_MotionNet()\n",
    "elif model_name == \"dropout_v4_0_25_R2plus1DMotionSegNet.pth\":\n",
    "    model_template_obj = dropout_v4_0_25_R2plus1D_18_MotionNet()\n",
    "\n",
    "\n",
    "model = torch.nn.DataParallel(model_template_obj)\n",
    "\n",
    "model.to(\"cuda\")\n",
    "torch.cuda.empty_cache()\n",
    "model.load_state_dict(torch.load(model_save_path)[\"model\"])\n",
    "print(f'{model_name} has {sum(p.numel() for p in model.parameters() if p.requires_grad)} parameters.')\n",
    "model.eval();"
   ]
  },
  {
   "cell_type": "code",
   "execution_count": 5,
   "id": "8a6510c2-f74a-4a6a-bb8b-bce0c46bb915",
   "metadata": {},
   "outputs": [],
   "source": [
    "from src.strain import *"
   ]
  },
  {
   "cell_type": "code",
   "execution_count": 6,
   "id": "81c0e5e6-2763-4258-aaf9-56b2b2c2fece",
   "metadata": {},
   "outputs": [],
   "source": [
    "%matplotlib widget"
   ]
  },
  {
   "cell_type": "code",
   "execution_count": 7,
   "id": "71039625-f964-4d4f-a772-17fbead22e3f",
   "metadata": {},
   "outputs": [
    {
     "data": {
      "application/vnd.jupyter.widget-view+json": {
       "model_id": "5d7370755b7a4ce491f502d6d63e1cbb",
       "version_major": 2,
       "version_minor": 0
      },
      "image/png": "[encoded data removed]",
      "text/html": [
       "\n",
       "            <div style=\"display: inline-block;\">\n",
       "                <div class=\"jupyter-widgets widget-label\" style=\"text-align: center;\">\n",
       "                    Figure\n",
       "                </div>\n",
       "                <img src='data:image/png;base64,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' width=800.0/>\n",
       "            </div>\n",
       "        "
      ],
      "text/plain": [
       "Canvas(toolbar=Toolbar(toolitems=[('Home', 'Reset original view', 'home', 'home'), ('Back', 'Back to previous …"
      ]
     },
     "metadata": {},
     "output_type": "display_data"
    },
    {
     "data": {
      "application/vnd.jupyter.widget-view+json": {
       "model_id": "e9d5cd245c7448ab825eb1f6891b922f",
       "version_major": 2,
       "version_minor": 0
      },
      "image/png": "[encoded data removed]",
      "text/html": [
       "\n",
       "            <div style=\"display: inline-block;\">\n",
       "                <div class=\"jupyter-widgets widget-label\" style=\"text-align: center;\">\n",
       "                    Figure\n",
       "                </div>\n",
       "                <img src='data:image/png;base64,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' width=800.0/>\n",
       "            </div>\n",
       "        "
      ],
      "text/plain": [
       "Canvas(toolbar=Toolbar(toolitems=[('Home', 'Reset original view', 'home', 'home'), ('Back', 'Back to previous …"
      ]
     },
     "metadata": {},
     "output_type": "display_data"
    },
    {
     "data": {
      "application/vnd.jupyter.widget-view+json": {
       "model_id": "96c32f977fee4c5db95fa1394e485fec",
       "version_major": 2,
       "version_minor": 0
      },
      "image/png": "[encoded data removed]",
      "text/html": [
       "\n",
       "            <div style=\"display: inline-block;\">\n",
       "                <div class=\"jupyter-widgets widget-label\" style=\"text-align: center;\">\n",
       "                    Figure\n",
       "                </div>\n",
       "                <img src='data:image/png;base64,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' width=800.0/>\n",
       "            </div>\n",
       "        "
      ],
      "text/plain": [
       "Canvas(toolbar=Toolbar(toolitems=[('Home', 'Reset original view', 'home', 'home'), ('Back', 'Back to previous …"
      ]
     },
     "metadata": {},
     "output_type": "display_data"
    }
   ],
   "source": [
    "N = 3\n",
    "test_pat_index = 0\n",
    "\n",
    "curr_clip_segmentations, curr_clip_motions, delta_ed_es, clip_index, ed_label, es_label = get_seg_and_warp_data(model = model,\n",
    "                                                                                            test_dataset = test_dataset,\n",
    "                                                                                            test_pat_index = test_pat_index)\n",
    "    \n",
    "ed_raw_seg_out = curr_clip_segmentations[:,0,...]\n",
    "\n",
    "ed_one_hot_seg_out = one_hot(ed_raw_seg_out)\n",
    "\n",
    "split_points = get_split_points(ed_one_hot_seg_out, N, top_bottom_index(ed_one_hot_seg_out))\n",
    "\n",
    "I = ed_one_hot_seg_out\n",
    "\n",
    "I = cut_basal_plane_out(give_boundary(I))\n",
    "\n",
    "I_regional_splits = [None for i in range(N)]\n",
    "\n",
    "import copy\n",
    "for i in range(N):\n",
    "    I_copy = copy.deepcopy(I)\n",
    "\n",
    "    start = split_points[i]\n",
    "    end = split_points[i+1]\n",
    "\n",
    "    I_copy[0:start, 0:I_copy.shape[1]] = 0\n",
    "    I_copy[end:I_copy.shape[0], 0:I_copy.shape[1]] = 0\n",
    "    \n",
    "    I_regional_splits[i] = I_copy\n",
    "    \n",
    "    vis_single(I_copy, cmap='gray')"
   ]
  },
  {
   "cell_type": "code",
   "execution_count": 8,
   "id": "a211b69d-922b-4e89-8212-fc48a579f136",
   "metadata": {},
   "outputs": [],
   "source": [
    "def foo(coords, delta_ed_es, curr_clip_motions):\n",
    "    '''\n",
    "    coords - (N, 2) ndarray not tensor\n",
    "    delta_ed_es - int\n",
    "    '''\n",
    "    coords_return = None\n",
    "    in_coords_len = coords.shape[0]\n",
    "    \n",
    "    for frame in range(delta_ed_es):\n",
    "        # first warp from ED -> ED+1\n",
    "        if frame == 0:\n",
    "            # warp forward all the current points\n",
    "            coords_1 = []\n",
    "            for _ in range(len(coords)):\n",
    "                pair = coords[_]\n",
    "\n",
    "                i_0,j_0 = pair[0],pair[1]\n",
    "\n",
    "                # forward change in y\n",
    "                delta_i = curr_clip_motions[1][frame][i_0][j_0]\n",
    "\n",
    "                # forward change in x\n",
    "                delta_j = curr_clip_motions[0][frame][i_0][j_0]\n",
    "\n",
    "                i_1, j_1 = i_0 + delta_i , j_0 + delta_j\n",
    "\n",
    "                coords_1.append([i_1, j_1])\n",
    "            # for second iteration\n",
    "            coords_return = coords_1\n",
    "        else:\n",
    "            # all other warps starting from ED+1 -> ED+2\n",
    "            # to final warp ED+(n-1) -> ED+n\n",
    "            coords_2 = []\n",
    "\n",
    "            for _ in coords_return:\n",
    "                i,j = _[0], _[1]\n",
    "\n",
    "                # get an average displacement for this point from the nearest integer displacements\n",
    "                # first round down\n",
    "                i_int = int(i)\n",
    "                j_int = int(j)\n",
    "\n",
    "                reference_i_js = [ [i_int, j_int],\n",
    "                                   [i_int - 1, j_int - 0],\n",
    "                                   [i_int - 0, j_int - 1],\n",
    "                                   [i_int - 1, j_int - 1],\n",
    "                                   [i_int + 1, j_int + 0],\n",
    "                                   [i_int + 0, j_int + 1],\n",
    "                                   [i_int + 1, j_int + 1],\n",
    "                                   [i_int + 1, j_int - 1],\n",
    "                                   [i_int - 1, j_int + 1] ]\n",
    "\n",
    "                delta_i = 0.0\n",
    "                delta_j = 0.0\n",
    "                count = 0 \n",
    "\n",
    "                for pair in reference_i_js:\n",
    "                    i_tmp, j_tmp = pair[0], pair[1]\n",
    "\n",
    "                    delta_j_tmp = curr_clip_motions[0][frame][i_tmp][j_tmp] # forward x = forward j\n",
    "                    delta_i_tmp = curr_clip_motions[1][frame][i_tmp][j_tmp] # forward y = forward i\n",
    "\n",
    "                    delta_i += delta_i_tmp\n",
    "                    delta_j += delta_j_tmp\n",
    "\n",
    "                    count += 1\n",
    "\n",
    "                i_new = i + (delta_i / count)\n",
    "                j_new = j + (delta_j / count)\n",
    "\n",
    "                coords_2.append([i_new, j_new])\n",
    "                \n",
    "            # prep for next iter\n",
    "            coords_return = coords_2\n",
    "            \n",
    "    return np.array(coords_return)"
   ]
  },
  {
   "cell_type": "code",
   "execution_count": 9,
   "id": "53969dfe-ec25-4e46-9c0b-1c070ff7d338",
   "metadata": {},
   "outputs": [],
   "source": [
    "def get_distance(x2,y2,x1,y1):\n",
    "    return np.sqrt((x2-x1)**2 + (y2-y1)**2)"
   ]
  },
  {
   "cell_type": "code",
   "execution_count": 10,
   "id": "0c2da3ac-8d3b-4756-8401-a23dd0e48ee1",
   "metadata": {},
   "outputs": [
    {
     "name": "stderr",
     "output_type": "stream",
     "text": [
      "/opt/conda/conda-bld/pytorch_1587428398394/work/torch/csrc/utils/python_arg_parser.cpp:756: UserWarning: This overload of nonzero is deprecated:\n",
      "\tnonzero(Tensor input, *, Tensor out)\n",
      "Consider using one of the following signatures instead:\n",
      "\tnonzero(Tensor input, *, bool as_tuple)\n"
     ]
    }
   ],
   "source": [
    "all_section_diffs = []\n",
    "\n",
    "for section_part in range(N):\n",
    "    I_section = I_regional_splits[section_part]\n",
    "    ED_coords = torch.nonzero(torch.tensor(I_section)).numpy()\n",
    "    ED_coords_i_vals = ED_coords[:, 0]\n",
    "    ED_coords_j_vals = ED_coords[:, 1]\n",
    "    \n",
    "    ES_coords = foo(ED_coords, delta_ed_es, curr_clip_motions)\n",
    "    ES_coords_i_vals = ES_coords[:, 0]\n",
    "    ES_coords_j_vals = ES_coords[:, 1]\n",
    "\n",
    "    total_diff = 0\n",
    "    for i_0, j_0, i_1, j_1 in zip(ED_coords_i_vals, ED_coords_j_vals, ES_coords_i_vals, ES_coords_j_vals):\n",
    "        total_diff += get_distance(j_1,i_1,j_0,i_0)\n",
    "        \n",
    "    all_section_diffs.append(total_diff)"
   ]
  },
  {
   "cell_type": "code",
   "execution_count": 11,
   "id": "2b531ca8-a99f-4c78-b8ee-83835ca5bba0",
   "metadata": {},
   "outputs": [
    {
     "data": {
      "text/plain": [
       "[6.498985713789292, 5.253069450996514, 3.3591845756039316]"
      ]
     },
     "execution_count": 11,
     "metadata": {},
     "output_type": "execute_result"
    }
   ],
   "source": [
    "all_section_diffs"
   ]
  },
  {
   "cell_type": "code",
   "execution_count": null,
   "id": "b08f093c-4526-4196-b8d5-799a4c763539",
   "metadata": {},
   "outputs": [],
   "source": []
  }
 ],
 "metadata": {
  "kernelspec": {
   "display_name": "Python 3",
   "language": "python",
   "name": "python3"
  },
  "language_info": {
   "codemirror_mode": {
    "name": "ipython",
    "version": 3
   },
   "file_extension": ".py",
   "mimetype": "text/x-python",
   "name": "python",
   "nbconvert_exporter": "python",
   "pygments_lexer": "ipython3",
   "version": "3.7.6"
  }
 },
 "nbformat": 4,
 "nbformat_minor": 5
}
