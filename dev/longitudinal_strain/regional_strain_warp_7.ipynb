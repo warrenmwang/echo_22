{
 "cells": [
  {
   "cell_type": "code",
   "execution_count": 1,
   "id": "f44869f1-f6f8-4003-9f90-ce4e0af75bc5",
   "metadata": {},
   "outputs": [],
   "source": [
    "model_name = \"Original_Pretrained_R2plus1DMotionSegNet.pth\"\n",
    "\n",
    "# model_name = \"dropout_v2_0_25_R2plus1DMotionSegNet.pth\"\n",
    "# model_name = \"dropout_v3_0_10_R2plus1DMotionSegNet.pth\""
   ]
  },
  {
   "cell_type": "code",
   "execution_count": 2,
   "id": "6415a79f-6c3b-47e7-8d4a-985a42b5dcd3",
   "metadata": {},
   "outputs": [
    {
     "name": "stdout",
     "output_type": "stream",
     "text": [
      "/home/wang/workspace/JupyterNoteBooksAll/fully-automated-multi-heartbeat-echocardiography-video-segmentation-and-motion-tracking\n"
     ]
    },
    {
     "name": "stderr",
     "output_type": "stream",
     "text": [
      "100%|██████████| 16/16 [00:01<00:00, 14.92it/s]\n"
     ]
    }
   ],
   "source": [
    "import os\n",
    "os.chdir(\"../..\")\n",
    "print(os.getcwd())\n",
    "\n",
    "%config Completer.use_jedi = False\n",
    "\n",
    "import SimpleITK as itk\n",
    "from LabelFusion.wrapper import fuse_images\n",
    "\n",
    "import echonet\n",
    "from echonet.datasets import Echo\n",
    "\n",
    "import torch.nn.functional as F\n",
    "from torchvision.models.video import r2plus1d_18\n",
    "from torch.utils.data import Dataset, DataLoader, Subset\n",
    "from multiprocessing import cpu_count\n",
    "\n",
    "from src.utils.torch_utils import TransformDataset, torch_collate\n",
    "from src.utils.echo_utils import get2dPucks\n",
    "from src.utils.camus_validate import cleanupSegmentation\n",
    "from src.transform_utils import generate_2dmotion_field\n",
    "from src.visualization_utils import categorical_dice\n",
    "from src.loss_functions import huber_loss, convert_to_1hot, convert_to_1hot_tensor\n",
    "from src.echonet_dataset import EDESpairs, EchoNetDynamicDataset\n",
    "\n",
    "from src.model.R2plus1D_18_MotionNet import R2plus1D_18_MotionNet\n",
    "\n",
    "# v2 dropout (in place before motion heads, forgot to define in forward pass function, but still saw diff, weird.)\n",
    "from src.model.dropout_v2_0_00_R2plus1D_18_MotionNet import dropout_v2_0_00_R2plus1D_18_MotionNet\n",
    "from src.model.dropout_v2_0_10_R2plus1D_18_MotionNet import dropout_v2_0_10_R2plus1D_18_MotionNet\n",
    "from src.model.dropout_v2_0_25_R2plus1D_18_MotionNet import dropout_v2_0_25_R2plus1D_18_MotionNet\n",
    "from src.model.dropout_v2_0_50_R2plus1D_18_MotionNet import dropout_v2_0_50_R2plus1D_18_MotionNet\n",
    "from src.model.dropout_v2_0_75_R2plus1D_18_MotionNet import dropout_v2_0_75_R2plus1D_18_MotionNet\n",
    "# v3 dropout (one dropout layer defined in forward pass func, this should've been the correct way to do it.)\n",
    "from src.model.dropout_v3_0_00_R2plus1D_18_MotionNet import dropout_v3_0_00_R2plus1D_18_MotionNet\n",
    "from src.model.dropout_v3_0_10_R2plus1D_18_MotionNet import dropout_v3_0_10_R2plus1D_18_MotionNet\n",
    "from src.model.dropout_v3_0_25_R2plus1D_18_MotionNet import dropout_v3_0_25_R2plus1D_18_MotionNet\n",
    "from src.model.dropout_v3_0_50_R2plus1D_18_MotionNet import dropout_v3_0_50_R2plus1D_18_MotionNet\n",
    "from src.model.dropout_v3_0_75_R2plus1D_18_MotionNet import dropout_v3_0_75_R2plus1D_18_MotionNet\n",
    "# v4 dropout (4 dropout layers in different places in the forward func, I'm going to guess more \"generalizable\")\n",
    "from src.model.dropout_v4_0_00_R2plus1D_18_MotionNet import dropout_v4_0_00_R2plus1D_18_MotionNet\n",
    "from src.model.dropout_v4_0_10_R2plus1D_18_MotionNet import dropout_v4_0_10_R2plus1D_18_MotionNet\n",
    "from src.model.dropout_v4_0_25_R2plus1D_18_MotionNet import dropout_v4_0_25_R2plus1D_18_MotionNet\n",
    "from src.model.dropout_v4_0_50_R2plus1D_18_MotionNet import dropout_v4_0_50_R2plus1D_18_MotionNet\n",
    "from src.model.dropout_v4_0_75_R2plus1D_18_MotionNet import dropout_v4_0_75_R2plus1D_18_MotionNet\n",
    "\n",
    "# for finding lv seg borders\n",
    "import cv2 as cv\n",
    "\n",
    "\n",
    "# from src.visualization_utils import categorical_dice\n",
    "\n",
    "import numpy as np\n",
    "from scipy.signal import find_peaks\n",
    "import matplotlib.pyplot as plt\n",
    "\n",
    "import torch\n",
    "import torch.nn as nn\n",
    "import torch.optim as optim\n",
    "\n",
    "import random\n",
    "import pickle\n",
    "import time\n",
    "\n",
    "tic, toc = (time.time, time.time)\n",
    "\n",
    "\n",
    "device = 'cuda' if torch.cuda.is_available() else 'cpu'\n",
    "device\n",
    "\n",
    "\n",
    "batch_size = 4\n",
    "num_workers = max(4, cpu_count()//2)\n",
    "\n",
    "\n",
    "def worker_init_fn_valid(worker_id):                                                          \n",
    "    np.random.seed(np.random.get_state()[1][0] + worker_id)\n",
    "    \n",
    "\n",
    "def worker_init_fn(worker_id):\n",
    "    # See here: https://pytorch.org/docs/stable/notes/randomness.html#dataloader\n",
    "    # and the original post of the problem: https://github.com/pytorch/pytorch/issues/5059#issuecomment-817373837\n",
    "    worker_seed = torch.initial_seed() % 2 ** 32\n",
    "    print(f'worker_seed: {worker_seed}')\n",
    "    np.random.seed(worker_seed)\n",
    "    random.seed(worker_seed)\n",
    "    \n",
    "\n",
    "def permuter(list1, list2):\n",
    "    for i1 in list1:\n",
    "        for i2 in list2:\n",
    "            yield (i1, i2)\n",
    "            \n",
    "\n",
    "param_trainLoader = {'collate_fn': torch_collate,\n",
    "                     'batch_size': batch_size,\n",
    "                     'num_workers': max(4, cpu_count()//2),\n",
    "                     'worker_init_fn': worker_init_fn}\n",
    "\n",
    "param_testLoader = {'collate_fn': torch_collate,\n",
    "                    'batch_size': batch_size,\n",
    "                    'shuffle': False,\n",
    "                    'num_workers': max(4, cpu_count()//2),\n",
    "                    'worker_init_fn': worker_init_fn}\n",
    "\n",
    "paramLoader = {'train': param_trainLoader,\n",
    "               'valid': param_testLoader,\n",
    "               'test':  param_testLoader}\n",
    "\n",
    "\n",
    "with open(\"fold_indexes/stanford_valid_sampled_indices\", \"rb\") as infile:\n",
    "    valid_mask = pickle.load(infile)\n",
    "infile.close()\n",
    "\n",
    "# full_dataset = EchoNetDynamicDataset(split='val', clip_length=\"full\", subset_indices=valid_mask, period=1)\n",
    "test_dataset = EchoNetDynamicDataset(split='test', clip_length=\"full\", raise_for_es_ed=False, period=1)\n",
    "# random_test_dataset = EchoNetDynamicDataset(split='test', clip_length=32, raise_for_es_ed=True, period=1)"
   ]
  },
  {
   "cell_type": "code",
   "execution_count": 3,
   "id": "b37108e2-f9ab-468d-a902-153a2aa80c47",
   "metadata": {},
   "outputs": [
    {
     "name": "stdout",
     "output_type": "stream",
     "text": [
      "Original_Pretrained_R2plus1DMotionSegNet.pth has 31575731 parameters.\n"
     ]
    }
   ],
   "source": [
    "model_save_path = f\"save_models/{model_name}\"\n",
    "    \n",
    "if model_name == 'Original_Pretrained_R2plus1DMotionSegNet.pth':\n",
    "    model_template_obj = R2plus1D_18_MotionNet()\n",
    "elif model_name == 'dropout_v2_0_00_R2plus1DMotionSegNet.pth':\n",
    "    model_template_obj = dropout_v2_0_00_R2plus1D_18_MotionNet()\n",
    "elif model_name == 'dropout_v2_0_10_R2plus1DMotionSegNet.pth':\n",
    "    model_template_obj = dropout_v2_0_10_R2plus1D_18_MotionNet()\n",
    "elif model_name == 'dropout_v2_0_25_R2plus1DMotionSegNet.pth':\n",
    "    model_template_obj = dropout_v2_0_25_R2plus1D_18_MotionNet()\n",
    "\n",
    "\n",
    "elif model_name == \"dropout_v3_0_00_R2plus1DMotionSegNet.pth\":\n",
    "    model_template_obj = dropout_v3_0_00_R2plus1D_18_MotionNet()\n",
    "elif model_name == \"dropout_v3_0_10_R2plus1DMotionSegNet.pth\":\n",
    "    model_template_obj = dropout_v3_0_10_R2plus1D_18_MotionNet()\n",
    "elif model_name == \"dropout_v3_0_25_R2plus1DMotionSegNet.pth\":\n",
    "    model_template_obj = dropout_v3_0_25_R2plus1D_18_MotionNet()\n",
    "elif model_name == \"dropout_v4_0_00_R2plus1DMotionSegNet.pth\":\n",
    "    model_template_obj = dropout_v4_0_00_R2plus1D_18_MotionNet()\n",
    "elif model_name == \"dropout_v4_0_10_R2plus1DMotionSegNet.pth\":\n",
    "    model_template_obj = dropout_v4_0_10_R2plus1D_18_MotionNet()\n",
    "elif model_name == \"dropout_v4_0_25_R2plus1DMotionSegNet.pth\":\n",
    "    model_template_obj = dropout_v4_0_25_R2plus1D_18_MotionNet()\n",
    "\n",
    "\n",
    "model = torch.nn.DataParallel(model_template_obj)\n",
    "\n",
    "model.to(\"cuda\")\n",
    "torch.cuda.empty_cache()\n",
    "model.load_state_dict(torch.load(model_save_path)[\"model\"])\n",
    "print(f'{model_name} has {sum(p.numel() for p in model.parameters() if p.requires_grad)} parameters.')\n",
    "model.eval();"
   ]
  },
  {
   "cell_type": "code",
   "execution_count": 4,
   "id": "16e86896-0a39-4823-8fe9-465e641f8c91",
   "metadata": {},
   "outputs": [],
   "source": [
    "from src.strain import *"
   ]
  },
  {
   "cell_type": "code",
   "execution_count": 5,
   "id": "8bc6aa5c-2ba7-446f-b585-5941a9313a4d",
   "metadata": {},
   "outputs": [],
   "source": [
    "%matplotlib widget"
   ]
  },
  {
   "cell_type": "code",
   "execution_count": 8,
   "id": "eb5cf437-eda9-4875-98a1-972370a2989b",
   "metadata": {},
   "outputs": [
    {
     "data": {
      "application/vnd.jupyter.widget-view+json": {
       "model_id": "f21d6c8325854b97b0d852130de8a146",
       "version_major": 2,
       "version_minor": 0
      },
      "image/png": "[encoded data removed]",
      "text/html": [
       "\n",
       "            <div style=\"display: inline-block;\">\n",
       "                <div class=\"jupyter-widgets widget-label\" style=\"text-align: center;\">\n",
       "                    Figure\n",
       "                </div>\n",
       "                <img src='data:image/png;base64,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' width=800.0/>\n",
       "            </div>\n",
       "        "
      ],
      "text/plain": [
       "Canvas(toolbar=Toolbar(toolitems=[('Home', 'Reset original view', 'home', 'home'), ('Back', 'Back to previous …"
      ]
     },
     "metadata": {},
     "output_type": "display_data"
    },
    {
     "data": {
      "application/vnd.jupyter.widget-view+json": {
       "model_id": "8454ddf76fd0405e940bbc21b787abc2",
       "version_major": 2,
       "version_minor": 0
      },
      "image/png": "[encoded data removed]",
      "text/html": [
       "\n",
       "            <div style=\"display: inline-block;\">\n",
       "                <div class=\"jupyter-widgets widget-label\" style=\"text-align: center;\">\n",
       "                    Figure\n",
       "                </div>\n",
       "                <img src='data:image/png;base64,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' width=800.0/>\n",
       "            </div>\n",
       "        "
      ],
      "text/plain": [
       "Canvas(toolbar=Toolbar(toolitems=[('Home', 'Reset original view', 'home', 'home'), ('Back', 'Back to previous …"
      ]
     },
     "metadata": {},
     "output_type": "display_data"
    },
    {
     "data": {
      "application/vnd.jupyter.widget-view+json": {
       "model_id": "8453d44de57749439d4e0b256ee94e62",
       "version_major": 2,
       "version_minor": 0
      },
      "image/png": "[encoded data removed]",
      "text/html": [
       "\n",
       "            <div style=\"display: inline-block;\">\n",
       "                <div class=\"jupyter-widgets widget-label\" style=\"text-align: center;\">\n",
       "                    Figure\n",
       "                </div>\n",
       "                <img src='data:image/png;base64,iVBORw0KGgoAAAANSUhEUgAAAyAAAAEsCAYAAAA7Ldc6AAAABHNCSVQICAgIfAhkiAAAAAlwSFlzAAAPYQAAD2EBqD+naQAAADh0RVh0U29mdHdhcmUAbWF0cGxvdGxpYiB2ZXJzaW9uMy4xLjMsIGh0dHA6Ly9tYXRwbG90bGliLm9yZy+AADFEAAAd00lEQVR4nO3df5BdZX0/8PeSH0tCswshZDcrEFdnK2IohUCjAU1ayCoKlKEqSmmTKg6MCWWLP0Kk1I0z7jZpTX8QQGAYQJFCp0OQtlRcBRZotN0GVAwO0DFCBLZBCLsJobuQnP7B1/tlTQIrSc69Ca/XzJnJec5zzn6eeUjY933OObeuKIoiAAAAJdiv2gUAAABvHgIIAABQGgEEAAAojQACAACURgABAABKI4AAAAClEUAAAIDSCCAAAEBpBBAAAKA0AggAAFAaAQQAACiNAAIAAJRGAAEAAEojgAAAAKURQAAAgNIIIAC8rtWrV6ezszPPP//8iPa5c+dm7ty5lf0tW7aks7Mz99xzz3bXuP7661NXV5ef/exne7ZYAGra2GoXAEDtW716dZYuXZoFCxbkwAMPrLRfccUVI/pt2bIlS5cuTZIRwQQAfkkAAeANO/LII6tdAgB7GbdgAfCaOjs787nPfS5J0tramrq6utTV1eWee+4ZcQvWz372sxxyyCFJkqVLl1b6LViw4DWv/53vfCcnnXRSGhoaMnHixJxwwgn57ne/uyeHBEAVCSAAvKZzzz03F1xwQZLk1ltvzfe+971873vfy7HHHjui37Rp0/Ktb30rSfLJT36y0u/SSy/d6bVvvPHGtLe3p6GhITfccEP+8R//MZMnT8773/9+IQRgH+UWLABe06GHHprDDz88SXLMMcfkrW996w771dfXZ+bMmZVz3v3ud7/mdbds2ZILL7wwp556alatWlVp/+AHP5hjjz02X/jCF/If//Efu2cQANQMKyAAVMXq1avz3HPPZf78+Xn55Zcr27Zt2/KBD3wgfX19eeGFF6pdJgC7mRUQAKrif/7nf5IkH/7wh3fa57nnnssBBxxQVkkAlEAAAaAqpkyZkiS57LLLdnq7VlNTU5klAVACAQSA11VfX58kefHFF3dLvyQ54YQTcuCBB+bhhx/OokWLdr1IAPYKAggAr+uoo45Kkvzd3/1d5s+fn3HjxuUd73jHdv0mTZqU6dOn55vf/GZOOumkTJ48OVOmTNnhg+u/8Ru/kcsuuyzz58/Pc889lw9/+MOZOnVqnnnmmfzwhz/MM888kyuvvHJPDw2AknkIHYDXNXfu3CxZsiT//M//nBNPPDHHH3981qxZs8O+1157bSZOnJjTTz89xx9/fDo7O3d63XPOOSd33313Nm/enPPOOy8nn3xyLrzwwjzwwAM56aST9tBoAKimuqIoimoXAQAAvDlYAQEAAEojgAAAAKURQAAAgNIIIAAAQGkEEGCPuOKKK9La2pr9998/M2fOzH333VftkgCAGiCAALvdLbfcko6OjlxyySV58MEH8973vjennHJKnnjiiWqXBgBUmdfwArvdrFmzcuyxx474Erl3vvOdOeOMM9Ld3f2652/bti1PPfVUJk2alLq6uj1ZKvBrKIoimzZtSktLS/bbz2eYwBvjm9CB3Wp4eDhr1qzJxRdfPKK9vb09q1ev3uE5Q0NDGRoaquw/+eSTOfLII/doncAbt379+hx66KHVLgPYS/n4AtitfvGLX2Tr1q1pamoa0d7U1JT+/v4dntPd3Z3GxsbKJnxAbZs0aVK1SwD2YgIIsEf86q1TRVHs9HaqJUuWZGBgoLKtX7++jBKBN8itkcCucAsWsFtNmTIlY8aM2W61Y8OGDdutivxSfX196uvryygPAKgyKyDAbjV+/PjMnDkzPT09I9p7enoye/bsKlUFANQKKyDAbnfRRRflj/7oj3LcccflPe95T66++uo88cQTOf/886tdGgBQZQIIsNudddZZefbZZ/OlL30pTz/9dGbMmJE77rgj06dPr3ZpAECV+R4QoOYMDg6msbGx2mUAOzEwMJCGhoZqlwHspTwDAgAAlEYAAQAASiOAAAAApRFAAACA0gggAABAaQQQAACgNAIIAABQGgEEAAAojQACAACURgABAABKI4AAAAClEUAAAIDSCCAAAEBpBBAAAKA0AggAAFAaAQQAACiNAAIAAJRGAAEAAEojgAAAAKURQAAAgNIIIAAAQGkEEAAAoDQCCAAAUBoBBAAAKI0AAgAAlEYAAQAASiOAAAAApRFAAACA0gggAABAaQQQAACgNAIIMGrd3d05/vjjM2nSpEydOjVnnHFGHnnkkRF9iqJIZ2dnWlpaMmHChMydOzdr166tUsUAQK0RQIBR6+3tzcKFC/P9738/PT09efnll9Pe3p4XXnih0mf58uVZsWJFVq5cmb6+vjQ3N2fevHnZtGlTFSsHAGpFXVEURbWLAPZOzzzzTKZOnZre3t68733vS1EUaWlpSUdHRxYvXpwkGRoaSlNTU5YtW5bzzjtvVNcdHBxMY2Pjniwd2AUDAwNpaGiodhnAXsoKCPCGDQwMJEkmT56cJFm3bl36+/vT3t5e6VNfX585c+Zk9erVO73O0NBQBgcHR2wAwL5JAAHekKIoctFFF+XEE0/MjBkzkiT9/f1JkqamphF9m5qaKsd2pLu7O42NjZXtsMMO23OFAwBVJYAAb8iiRYvyox/9KP/wD/+w3bG6uroR+0VRbNf2akuWLMnAwEBlW79+/W6vFwCoDWOrXQCw97ngggty++235957782hhx5aaW9ubk7yykrItGnTKu0bNmzYblXk1err61NfX7/nCgYAaoYVEGDUiqLIokWLcuutt+auu+5Ka2vriOOtra1pbm5OT09PpW14eDi9vb2ZPXt22eUCADXICggwagsXLsxNN92Ub37zm5k0aVLluY7GxsZMmDAhdXV16ejoSFdXV9ra2tLW1paurq5MnDgxZ599dpWrBwBqgdfwAqO2s+c4rrvuuixYsCDJK6skS5cuzVVXXZWNGzdm1qxZufzyyysPqo+G1/BCbfMaXmBXCCBAzRFAoLYJIMCu8AwIAABQGgEEAAAojQACAACURgABAABKI4AAAAClEUAAAIDSCCAAAEBpBBAAAKA0AggAAFAaAQQAACiNAAIAAJRGAAEAAEojgAAAAKURQAAAgNIIIAAAQGkEEAAAoDQCCAAAUBoBBAAAKI0AAgAAlEYAAQAASiOAAAAApRFAAACA0gggAABAaQQQAACgNAIIAABQGgEEAAAojQACAACURgABAABKI4AAAAClEUAAAIDSCCDAG9bd3Z26urp0dHRU2oqiSGdnZ1paWjJhwoTMnTs3a9eurWKVAEAtEUCAN6Svry9XX311fuu3fmtE+/Lly7NixYqsXLkyfX19aW5uzrx587Jp06YqVQoA1BIBBPi1bd68OX/4h3+Ya665JgcddFClvSiK/O3f/m0uueSSnHnmmZkxY0ZuuOGGbNmyJTfddFMVKwYAaoUAAvzaFi5cmA996EM5+eSTR7SvW7cu/f39aW9vr7TV19dnzpw5Wb16ddllAgA1aGy1CwD2LjfffHMeeOCB9PX1bXesv78/SdLU1DSivampKY8//vhOrzk0NJShoaHK/uDg4G6qFgCoNVZAgFFbv359Lrzwwtx4443Zf//9d9qvrq5uxH5RFNu1vVp3d3caGxsr22GHHbbbagYAaosAAozamjVrsmHDhsycOTNjx47N2LFj09vbm7//+7/P2LFjKysfv1wJ+aUNGzZstyryakuWLMnAwEBlW79+/R4dBwBQPW7BAkbtpJNOykMPPTSi7U/+5E9yxBFHZPHixXnb296W5ubm9PT05JhjjkmSDA8Pp7e3N8uWLdvpdevr61NfX79HawcAaoMAAozapEmTMmPGjBFtBxxwQA4++OBKe0dHR7q6utLW1pa2trZ0dXVl4sSJOfvss6tRMgBQYwQQYLf6/Oc/nxdffDGf/vSns3HjxsyaNSvf/va3M2nSpGqXBgDUgLqiKIpqFwHwaoODg2lsbKx2GcBODAwMpKGhodplAHspD6EDAAClEUAAAIDSCCAAAEBpBBAAAKA0AggAAFAaAQQAACiNAAIAAJRGAAEAAEojgAAAAKURQAAAgNIIIAAAQGkEEAAAoDQCCAAAUBoBBAAAKI0AAgAAlEYAAQAASiOAAAAApRFAAACA0gggAABAaQQQAACgNAIIAABQGgEEAAAojQACAACURgABAABKI4AAAAClEUAAAIDSCCAAAEBpBBAAAKA0AggAAFAaAQQAACiNAAL8Wp588smcc845OfjggzNx4sT89m//dtasWVM5XhRFOjs709LSkgkTJmTu3LlZu3ZtFSsGAGqJAAKM2saNG3PCCSdk3Lhx+bd/+7c8/PDD+cpXvpIDDzyw0mf58uVZsWJFVq5cmb6+vjQ3N2fevHnZtGlTFSsHAGpFXVEURbWLAPYOF198cf793/8999133w6PF0WRlpaWdHR0ZPHixUmSoaGhNDU1ZdmyZTnvvPNG9XMGBwfT2Ni42+oGdq+BgYE0NDRUuwxgL2UFBBi122+/Pccdd1w+8pGPZOrUqTnmmGNyzTXXVI6vW7cu/f39aW9vr7TV19dnzpw5Wb16dTVKBgBqjAACjNpPf/rTXHnllWlra8udd96Z888/P3/6p3+ar33ta0mS/v7+JElTU9OI85qamirHdmRoaCiDg4MjNgBg3zS22gUAe49t27bluOOOS1dXV5LkmGOOydq1a3PllVfmj//4jyv96urqRpxXFMV2ba/W3d2dpUuX7pmiAYCaYgUEGLVp06blyCOPHNH2zne+M0888USSpLm5OUm2W+3YsGHDdqsir7ZkyZIMDAxUtvXr1+/mytkVRVFkX35ccF8fH0CtEUCAUTvhhBPyyCOPjGh79NFHM3369CRJa2trmpub09PTUzk+PDyc3t7ezJ49e6fXra+vT0NDw4gNANg3uQULGLU/+7M/y+zZs9PV1ZWPfvSj+c///M9cffXVufrqq5O8cutVR0dHurq60tbWlra2tnR1dWXixIk5++yzq1w9AFALvIYX+LX8y7/8S5YsWZLHHnssra2tueiii/KpT32qcrwoiixdujRXXXVVNm7cmFmzZuXyyy/PjBkzRv0zvIa3tvzyfxOv9RzP3mxfH9+e4DW8wK4QQICaI4DUhjfLL+ZvlnHuTgIIsCs8AwIAAJRGAAEAAEojgAAAAKURQAAAgNIIIAAAQGkEEAAAoDQCCAAAUBoBBAAAKI0AAgAAlEYAAQAASiOAAAAApRFAAACA0gggAABAacZWuwAAalNdXV2SpCiKEfsAsCusgAAAAKURQAAAgNIIIAAAQGk8AwLAa9rXn/3Y18cHUGusgAAAAKURQAAAgNIIIAAAQGkEEAAAoDQCCAAAUBoBBAAAKI0AAgAAlEYAAQAASiOAAAAApRFAAACA0gggAABAaQQQAACgNAIIAABQGgEEGLWXX345f/7nf57W1tZMmDAhb3vb2/KlL30p27Ztq/QpiiKdnZ1paWnJhAkTMnfu3Kxdu7aKVQMAtUQAAUZt2bJl+epXv5qVK1fmJz/5SZYvX56/+qu/ymWXXVbps3z58qxYsSIrV65MX19fmpubM2/evGzatKmKlQMAtaKuKIqi2kUAe4dTTz01TU1Nufbaayttf/AHf5CJEyfm61//eoqiSEtLSzo6OrJ48eIkydDQUJqamrJs2bKcd955o/o5g4ODaWxs3CNjAHbdwMBAGhoaql0GsJeyAgKM2oknnpjvfve7efTRR5MkP/zhD3P//ffngx/8YJJk3bp16e/vT3t7e+Wc+vr6zJkzJ6tXr97pdYeGhjI4ODhiAwD2TWOrXQCw91i8eHEGBgZyxBFHZMyYMdm6dWu+/OUv5+Mf/3iSpL+/P0nS1NQ04rympqY8/vjjO71ud3d3li5duucKBwBqhhUQYNRuueWW3HjjjbnpppvywAMP5IYbbshf//Vf54YbbhjRr66ubsR+URTbtb3akiVLMjAwUNnWr1+/R+oHAKrPCggwap/73Ody8cUX52Mf+1iS5Kijjsrjjz+e7u7uzJ8/P83NzUleWQmZNm1a5bwNGzZstyryavX19amvr9+zxQMANcEKCDBqW7ZsyX77jfxnY8yYMZXX8La2tqa5uTk9PT2V48PDw+nt7c3s2bNLrRUAqE1WQIBRO+200/LlL385hx9+eN71rnflwQcfzIoVK/KJT3wiySu3XnV0dKSrqyttbW1pa2tLV1dXJk6cmLPPPrvK1QMAtcBreIFR27RpUy699NKsWrUqGzZsSEtLSz7+8Y/nL/7iLzJ+/PgkrzzvsXTp0lx11VXZuHFjZs2alcsvvzwzZswY9c/xGl6obV7DC+wKAQSoOQII1DYBBNgVngEBAABKI4AAAAClEUAAAIDSCCAAAEBpBBAAAKA0AggAAFAaAQQAACiNAAIAAJRGAAEAAEojgAAAAKURQAAAgNIIIAAAQGkEEAAAoDQCCAAAUBoBBAAAKI0AAgAAlEYAAQAASiOAAAAApRFAAACA0gggAABAaQQQAACgNAIIAABQGgEEAAAojQACAACURgABAABKI4AAAAClEUAAAIDSCCAAAEBpBBAAAKA0AggAAFAaAQSouPfee3PaaaelpaUldXV1ue2220YcL4oinZ2daWlpyYQJEzJ37tysXbt2RJ+hoaFccMEFmTJlSg444ICcfvrp+fnPf17mMACAGiaAABUvvPBCjj766KxcuXKHx5cvX54VK1Zk5cqV6evrS3Nzc+bNm5dNmzZV+nR0dGTVqlW5+eabc//992fz5s059dRTs3Xr1rKGAQDUsLqiKIpqFwHUnrq6uqxatSpnnHFGkldWP1paWtLR0ZHFixcneWW1o6mpKcuWLct5552XgYGBHHLIIfn617+es846K0ny1FNP5bDDDssdd9yR97///aP62YODg2lsbNwzAwN22cDAQBoaGqpdBrCXsgICjMq6devS39+f9vb2Slt9fX3mzJmT1atXJ0nWrFmTl156aUSflpaWzJgxo9JnR4aGhjI4ODhiAwD2TQIIMCr9/f1JkqamphHtTU1NlWP9/f0ZP358DjrooJ322ZHu7u40NjZWtsMOO2w3Vw8A1AoBBPi11NXVjdgvimK7tl/1en2WLFmSgYGByrZ+/frdUisAUHsEEGBUmpubk2S7lYwNGzZUVkWam5szPDycjRs37rTPjtTX16ehoWHEBgDsmwQQYFRaW1vT3Nycnp6eStvw8HB6e3sze/bsJMnMmTMzbty4EX2efvrp/PjHP670AQDe3MZWuwCgdmzevDn//d//Xdlft25dfvCDH2Ty5Mk5/PDD09HRka6urrS1taWtrS1dXV2ZOHFizj777CRJY2NjPvnJT+Yzn/lMDj744EyePDmf/exnc9RRR+Xkk0+u1rAAgBoigAAV//Vf/5Xf/d3frexfdNFFSZL58+fn+uuvz+c///m8+OKL+fSnP52NGzdm1qxZ+fa3v51JkyZVzvmbv/mbjB07Nh/96Efz4osv5qSTTsr111+fMWPGlD4eAKD2+B4QoOb4HhCobb4HBNgVngEBAABKI4AAAAClEUAAAIDSCCAAAEBpBBAAAKA0AggAAFAaAQQAACiNAAIAAJRGAAEAAEojgAAAAKURQAAAgNIIIAAAQGkEEAAAoDQCCAAAUBoBBAAAKI0AAgAAlEYAAWpOURTVLgF4Df6OArtCAAFqzqZNm6pdAvAa/B0FdkVd4WMMoMZs27YtjzzySI488sisX78+DQ0N1S5plwwODuawww7bJ8aS7Fvj2ZfGkuz58RRFkU2bNqWlpSX77eczTOCNGVvtAgB+1X777Ze3vOUtSZKGhoZ94hfDZN8aS7JvjWdfGkuyZ8fT2Ni4R64LvHn4+AIAACiNAAIAAJRmTGdnZ2e1iwDYkTFjxmTu3LkZO3bvv1t0XxpLsm+NZ18aS7LvjQfY93gIHQAAKI1bsAAAgNIIIAAAQGkEEAAAoDQCCAAAUBoBBKg5V1xxRVpbW7P//vtn5syZue+++6pd0uvq7u7O8ccfn0mTJmXq1Kk544wz8sgjj4zos2DBgtTV1Y3Y3v3ud1ep4tfW2dm5Xa3Nzc2V40VRpLOzMy0tLZkwYULmzp2btWvXVrHinXvrW9+63Vjq6uqycOHCJLU/L/fee29OO+20tLS0pK6uLrfddtuI46OZi6GhoVxwwQWZMmVKDjjggJx++un5+c9/XuYwACoEEKCm3HLLLeno6Mgll1ySBx98MO9973tzyimn5Iknnqh2aa+pt7c3CxcuzPe///309PTk5ZdfTnt7e1544YUR/T7wgQ/k6aefrmx33HFHlSp+fe9617tG1PrQQw9Vji1fvjwrVqzIypUr09fXl+bm5sybNy+bNm2qYsU71tfXN2IcPT09SZKPfOQjlT61PC8vvPBCjj766KxcuXKHx0czFx0dHVm1alVuvvnm3H///dm8eXNOPfXUbN26taxhAPx/BUAN+Z3f+Z3i/PPPH9F2xBFHFBdffHGVKnpjNmzYUCQpent7K23z588vfv/3f7+KVY3eF7/4xeLoo4/e4bFt27YVzc3NxV/+5V9W2v73f/+3aGxsLL761a+WVeIbduGFFxZvf/vbi23bthVFsXfNS5Ji1apVlf3RzMXzzz9fjBs3rrj55psrfZ588sliv/32K771rW+VVzzA/2MFBKgZw8PDWbNmTdrb20e0t7e3Z/Xq1VWq6o0ZGBhIkkyePHlE+z333JOpU6fmN3/zN/OpT30qGzZsqEZ5o/LYY4+lpaUlra2t+djHPpaf/vSnSZJ169alv79/xDzV19dnzpw5NT9Pw8PDufHGG/OJT3widXV1lfa9aV5ebTRzsWbNmrz00ksj+rS0tGTGjBk1P1/AvkkAAWrGL37xi2zdujVNTU0j2puamtLf31+lqn59RVHkoosuyoknnpgZM2ZU2k855ZR84xvfyF133ZWvfOUr6evry+/93u9laGioitXu2KxZs/K1r30td955Z6655pr09/dn9uzZefbZZytzsTfO02233Zbnn38+CxYsqLTtTfPyq0YzF/39/Rk/fnwOOuignfYBKNPYahcA8Kte/cl08sov9L/aVssWLVqUH/3oR7n//vtHtJ911lmVP8+YMSPHHXdcpk+fnn/913/NmWeeWXaZr+mUU06p/Pmoo47Ke97znrz97W/PDTfcUHlAe2+cp2uvvTannHJKWlpaKm1707zszBuZi71hvoB9kxUQoGZMmTIlY8aM2e5T2Q0bNmz3CW+tuuCCC3L77bfn7rvvzqGHHvqafadNm5bp06fnscceK6m6N+6AAw7IUUcdlccee6zyNqy9bZ4ef/zxfOc738m55577mv32pnkZzVw0NzdneHg4Gzdu3GkfgDIJIEDNGD9+fGbOnFl5S9Ev9fT0ZPbs2VWqanSKosiiRYty66235q677kpra+vrnvPss89m/fr1mTZtWgkV7pqhoaH85Cc/ybRp09La2prm5uYR8zQ8PJze3t6anqfrrrsuU6dOzYc+9KHX7Lc3zcto5mLmzJkZN27ciD5PP/10fvzjH9f0fAH7rjGdnZ2d1S4C4JcaGhpy6aWX5i1veUv233//dHV15e677851112XAw88sNrl7dTChQvzjW98I//0T/+UlpaWbN68OZs3b86YMWMybty4bN68OV/4whcyadKkbN26NT/4wQ9y7rnn5qWXXsrKlStTX19f7SGM8NnPfjb19fUpiiKPPvpoFi1alEcffTRXXXVVDjzwwGzdujXd3d15xzveka1bt+Yzn/lMnnzyyVx99dU1N5Yk2bZtWxYsWJBzzjlnxMPYe8O8bN68OQ8//HD6+/tz1VVXZdasWZkwYUKGh4dHNRf7779/nnrqqaxcuTJHH310BgYGcv7552fSpElZtmxZ9tvPZ5FAyar4Bi6AHbr88suL6dOnF+PHjy+OPfbYEa+yrVVJdrhdd911RVEUxZYtW4r29vbikEMOKcaNG1ccfvjhxfz584snnniiuoXvxFlnnVVMmzatGDduXNHS0lKceeaZxdq1ayvHt23bVnzxi18smpubi/r6+uJ973tf8dBDD1Wx4td25513FkmKRx55ZET73jAvd9999w7/25o/f35RFKObixdffLFYtGhRMXny5GLChAnFqaeeWlNjBN5c6oqiKKoTfQAAgDcb664AAEBpBBAAAKA0AggAAFAaAQQAACiNAAIAAJRGAAEAAEojgAAAAKURQAAAgNIIIAAAQGkEEAAAoDQCCAAAUJr/AwSVbccp0SxdAAAAAElFTkSuQmCC' width=800.0/>\n",
       "            </div>\n",
       "        "
      ],
      "text/plain": [
       "Canvas(toolbar=Toolbar(toolitems=[('Home', 'Reset original view', 'home', 'home'), ('Back', 'Back to previous …"
      ]
     },
     "metadata": {},
     "output_type": "display_data"
    }
   ],
   "source": [
    "N = 3\n",
    "test_pat_index = 0\n",
    "\n",
    "curr_clip_segmentations, curr_clip_motions, delta_ed_es, clip_index, ed_label, es_label = get_seg_and_warp_data(model = model,\n",
    "                                                                                            test_dataset = test_dataset,\n",
    "                                                                                            test_pat_index = test_pat_index)\n",
    "    \n",
    "ed_raw_seg_out = curr_clip_segmentations[:,0,...]\n",
    "\n",
    "ed_one_hot_seg_out = one_hot(ed_raw_seg_out)\n",
    "\n",
    "split_points = get_split_points(ed_one_hot_seg_out, N, top_bottom_index(ed_one_hot_seg_out))\n",
    "\n",
    "I = ed_one_hot_seg_out\n",
    "\n",
    "I = cut_basal_plane_out(give_boundary(I))\n",
    "\n",
    "I_regional_splits = [None for i in range(N)]\n",
    "\n",
    "import copy\n",
    "for i in range(N):\n",
    "    I_copy = copy.deepcopy(I)\n",
    "\n",
    "    start = split_points[i]\n",
    "    end = split_points[i+1]\n",
    "\n",
    "    I_copy[0:start, 0:I_copy.shape[1]] = 0\n",
    "    I_copy[end:I_copy.shape[0], 0:I_copy.shape[1]] = 0\n",
    "    \n",
    "    I_regional_splits[i] = I_copy\n",
    "    \n",
    "    vis_single(I_copy, cmap='gray')"
   ]
  },
  {
   "cell_type": "code",
   "execution_count": 9,
   "id": "8be7f0b0-1d3f-4d4d-8e59-474d19a055b5",
   "metadata": {},
   "outputs": [],
   "source": [
    "def get_distance(x2,y2,x1,y1):\n",
    "    return np.sqrt((x2-x1)**2 + (y2-y1)**2)"
   ]
  },
  {
   "cell_type": "code",
   "execution_count": 15,
   "id": "65fdcfa4-d623-40ac-9c2a-6992675c69df",
   "metadata": {},
   "outputs": [
    {
     "data": {
      "text/plain": [
       "array([0., 1.])"
      ]
     },
     "execution_count": 15,
     "metadata": {},
     "output_type": "execute_result"
    }
   ],
   "source": []
  },
  {
   "cell_type": "code",
   "execution_count": null,
   "id": "d0dfc681-78ff-4f8b-aebd-3f747a4b69c0",
   "metadata": {},
   "outputs": [],
   "source": []
  },
  {
   "cell_type": "code",
   "execution_count": null,
   "id": "d1a973de-a142-45cd-bcf7-6649964fba73",
   "metadata": {},
   "outputs": [],
   "source": []
  }
 ],
 "metadata": {
  "kernelspec": {
   "display_name": "Python 3",
   "language": "python",
   "name": "python3"
  },
  "language_info": {
   "codemirror_mode": {
    "name": "ipython",
    "version": 3
   },
   "file_extension": ".py",
   "mimetype": "text/x-python",
   "name": "python",
   "nbconvert_exporter": "python",
   "pygments_lexer": "ipython3",
   "version": "3.7.6"
  }
 },
 "nbformat": 4,
 "nbformat_minor": 5
}
