{
 "cells": [
  {
   "cell_type": "code",
   "execution_count": 1,
   "id": "4f0afdf5-eb7a-470c-80b2-2e84d3bd8757",
   "metadata": {},
   "outputs": [],
   "source": [
    "import os\n",
    "os.chdir(\"../..\")"
   ]
  },
  {
   "cell_type": "code",
   "execution_count": 2,
   "id": "senior-anger",
   "metadata": {},
   "outputs": [],
   "source": [
    "%config Completer.use_jedi = False\n",
    "\n",
    "import SimpleITK as itk\n",
    "from LabelFusion.wrapper import fuse_images\n",
    "\n",
    "import echonet\n",
    "from echonet.datasets import Echo\n",
    "\n",
    "import torch.nn.functional as F\n",
    "from torchvision.models.video import r2plus1d_18\n",
    "from torch.utils.data import Dataset, DataLoader, Subset\n",
    "from multiprocessing import cpu_count\n",
    "\n",
    "from src.utils.torch_utils import TransformDataset, torch_collate\n",
    "# from src.utils.echo_utils import get2dPucks ### We are using a debugging version!!\n",
    "from src.utils.camus_validate import cleanupSegmentation\n",
    "from src.transform_utils import generate_2dmotion_field\n",
    "from src.visualization_utils import categorical_dice\n",
    "from src.loss_functions import huber_loss, convert_to_1hot, convert_to_1hot_tensor\n",
    "from src.echonet_dataset import EDESpairs, EchoNetDynamicDataset\n",
    "from src.model.R2plus1D_18_MotionNet import R2plus1D_18_MotionNet\n",
    "# from src.visualization_utils import categorical_dice\n",
    "\n",
    "import numpy as np\n",
    "from scipy.signal import find_peaks\n",
    "import matplotlib.pyplot as plt\n",
    "\n",
    "import torch\n",
    "import torch.nn as nn\n",
    "import torch.optim as optim\n",
    "\n",
    "import random\n",
    "import pickle\n",
    "import time\n",
    "\n",
    "tic, toc = (time.time, time.time)"
   ]
  },
  {
   "cell_type": "code",
   "execution_count": 3,
   "id": "58a16a1d-e105-4c07-afc0-cb0480d10089",
   "metadata": {},
   "outputs": [],
   "source": [
    "%matplotlib widget\n",
    "from src.strain import *\n",
    "\n",
    "# for get2dpucks\n",
    "from skimage.transform import (resize, \n",
    "                               rescale)\n",
    "from skimage.segmentation import find_boundaries"
   ]
  },
  {
   "cell_type": "code",
   "execution_count": 4,
   "id": "defensive-defensive",
   "metadata": {},
   "outputs": [],
   "source": [
    "batch_size = 4\n",
    "num_workers = max(4, cpu_count()//2)\n",
    "\n",
    "\n",
    "def worker_init_fn_valid(worker_id):                                                          \n",
    "    np.random.seed(np.random.get_state()[1][0] + worker_id)\n",
    "    \n",
    "\n",
    "def worker_init_fn(worker_id):\n",
    "    # See here: https://pytorch.org/docs/stable/notes/randomness.html#dataloader\n",
    "    # and the original post of the problem: https://github.com/pytorch/pytorch/issues/5059#issuecomment-817373837\n",
    "    worker_seed = torch.initial_seed() % 2 ** 32\n",
    "    np.random.seed(worker_seed)\n",
    "    random.seed(worker_seed)\n",
    "    \n",
    "\n",
    "def permuter(list1, list2):\n",
    "    for i1 in list1:\n",
    "        for i2 in list2:\n",
    "            yield (i1, i2)\n",
    "            \n",
    "\n",
    "param_trainLoader = {'collate_fn': torch_collate,\n",
    "                     'batch_size': batch_size,\n",
    "                     'num_workers': max(4, cpu_count()//2),\n",
    "                     'worker_init_fn': worker_init_fn}\n",
    "\n",
    "param_testLoader = {'collate_fn': torch_collate,\n",
    "                    'batch_size': batch_size,\n",
    "                    'shuffle': False,\n",
    "                    'num_workers': max(4, cpu_count()//2),\n",
    "                    'worker_init_fn': worker_init_fn}\n",
    "\n",
    "paramLoader = {'train': param_trainLoader,\n",
    "               'valid': param_testLoader,\n",
    "               'test':  param_testLoader}"
   ]
  },
  {
   "cell_type": "code",
   "execution_count": 5,
   "id": "expanded-suspect",
   "metadata": {},
   "outputs": [
    {
     "name": "stderr",
     "output_type": "stream",
     "text": [
      "100%|██████████| 16/16 [00:01<00:00, 13.52it/s]\n"
     ]
    }
   ],
   "source": [
    "with open(\"fold_indexes/stanford_valid_sampled_indices\", \"rb\") as infile:\n",
    "    valid_mask = pickle.load(infile)\n",
    "infile.close()\n",
    "\n",
    "test_dataset = EchoNetDynamicDataset(split='test', clip_length=\"full\", raise_for_es_ed=False, period=1)"
   ]
  },
  {
   "cell_type": "code",
   "execution_count": 6,
   "id": "acknowledged-cardiff",
   "metadata": {},
   "outputs": [
    {
     "name": "stdout",
     "output_type": "stream",
     "text": [
      "R2+1D MotionNet has 31575731 parameters.\n"
     ]
    }
   ],
   "source": [
    "model_save_path = \"save_models/Original_Pretrained_R2plus1DMotionSegNet.pth\"\n",
    "\n",
    "model = torch.nn.DataParallel(R2plus1D_18_MotionNet())\n",
    "model.to(\"cuda\")\n",
    "torch.cuda.empty_cache()\n",
    "model.load_state_dict(torch.load(model_save_path)[\"model\"])\n",
    "print(f'R2+1D MotionNet has {sum(p.numel() for p in model.parameters() if p.requires_grad)} parameters.')\n",
    "\n",
    "model.eval();"
   ]
  },
  {
   "cell_type": "code",
   "execution_count": 7,
   "id": "c481c1f3-9b7d-46e8-b8bd-ba60dbf71b38",
   "metadata": {},
   "outputs": [],
   "source": [
    "test_pat_index = 55\n",
    "\n",
    "video, (filename, EF, es_clip_index, ed_clip_index, es_index, ed_index, es_frame, ed_frame, es_label, ed_label) = test_dataset[test_pat_index]"
   ]
  },
  {
   "cell_type": "code",
   "execution_count": 8,
   "id": "14f4149e-68d9-4be0-8797-fd941552eebb",
   "metadata": {},
   "outputs": [],
   "source": [
    "# let's try to use 9 pucks, if we divide into N=3 sections, we define each section to be 3 pucks\n",
    "def get2dPucks(abin, apix, npucks=9, vis=False, debug=False):\n",
    "    '''\n",
    "    get2dPucks(abin, apix): Return the linear extent of the binary structure,\n",
    "    as well as a sequence of radii about that extent.\n",
    "    '''\n",
    "    \n",
    "    all_puck_endpoints = []\n",
    "    \n",
    "    \n",
    "    # Empty bin?\n",
    "    if ~np.any(abin):\n",
    "        return 1.0, np.zeros((npucks,))\n",
    "    \n",
    "    x,y = np.where(abin>0)\n",
    "    X = np.stack([x,y]) # Coords of all non-zero pixels., 2 x N\n",
    "    if X.shape[1] < 1: # no pixels, doesn't seem to be a problem usually. \n",
    "        return (0.0, np.zeros((npucks,)))\n",
    "    # Scale dimensions\n",
    "    X = np.multiply(X, np.array(apix)[:, None]) # Need a broadcastable shape, here 2 x 1\n",
    "    try:\n",
    "        val, vec = np.linalg.eig(np.cov(X, rowvar=True))\n",
    "    except:\n",
    "        return (0.0, np.zeros((npucks,)))\n",
    "    \n",
    "    # Make sure we're in decreasing order of importance.\n",
    "    eigorder = np.argsort(val)[-1::-1]\n",
    "    vec = vec[:, eigorder]\n",
    "    val = val[eigorder]\n",
    "    \n",
    "    if debug:\n",
    "        print(f'eigorder: {eigorder}')\n",
    "        print(f'vec: {vec}')\n",
    "        print(f'val: {val}')\n",
    "    \n",
    "    # Negate the eigenvectors for consistency. Let's say y should be positive eig0,\n",
    "    # and x should be positive for eig1. I'm not sure if that's what I'm doing here,\n",
    "    # but just trying to be consistent.\n",
    "    if vec[0,0] < 0:\n",
    "        vec[:,0] = -1.0*vec[:,0]\n",
    "    if vec[1,1] < 0:\n",
    "        vec[:,1] = -1.0*vec[:,1]\n",
    "    \n",
    "    if debug:\n",
    "        print('negated eigenvectors for consistency')\n",
    "        print(f'vec: {vec}')\n",
    "    \n",
    "    mu = np.expand_dims(np.mean(X, axis=1), axis=1)\n",
    "    \n",
    "    if debug:\n",
    "        print(f'mu: {mu}')\n",
    "    \n",
    "    # Now mu is 2 x 1 mean pixel coord \n",
    "    # val is eigenvalues, vec is 2 x 2 right eigvectors (by column), all in matrix ij format\n",
    "    \n",
    "    # Use the boundary to get the radii.\n",
    "    # Project the boundary pixel coords into the eigenspace.\n",
    "    B = find_boundaries(abin, mode='thick')\n",
    "    Xb = np.stack(np.where(B))\n",
    "    Xb = np.multiply(Xb, np.array(apix)[:, None]) # space coords again.\n",
    "    proj = np.dot((Xb-mu).T,vec) \n",
    "    # proj is M x 2, the projections onto 0 and 1 eigs of the M boundary coords.\n",
    "    \n",
    "    if debug:\n",
    "        print(f'B: {B}')\n",
    "        print(f'Xb: {Xb}')\n",
    "        print(f'proj: {proj}')\n",
    "    \n",
    "    \n",
    "    # Now get min max in the first principal direction. That's L! Just L[0] here.\n",
    "    L_min, L_max = np.min(proj, axis=0), np.max(proj, axis=0)\n",
    "    L = L_max - L_min\n",
    "    \n",
    "    if debug:\n",
    "        print(f'L_min: {L_min}')\n",
    "        print(f'L_max: {L_max}')\n",
    "        print(f'L: {L}')\n",
    "    \n",
    "    # Partition along the principal axis. The secondary axis represents the radii.\n",
    "    L_partition = np.linspace(L_min[0], L_max[0], npucks+1)\n",
    "    \n",
    "    if debug:\n",
    "        print(f'L_partition: {L_partition}')\n",
    "    \n",
    "    R = []\n",
    "    A = np.copy(proj)\n",
    "    for i in range(len(L_partition)-1):\n",
    "        # Select those boundary points whose projection on the major axis\n",
    "        # is within the thresholds. \n",
    "        which = np.logical_and(A[:,0] >= L_partition[i],\n",
    "                               A[:,0] < L_partition[i+1])\n",
    "        # here which could be empty, if there are multiple components to the binary,\n",
    "        # which will happen without cleaning for the largest connected component and \n",
    "        # such. r will be nan, here I replace with zero.\n",
    "        # In fact, this math really only works well with nice convex objects.\n",
    "        if len(which) == 0:\n",
    "            r = 0\n",
    "        else:\n",
    "            r = np.median(np.abs(A[:,1][which]))\n",
    "        R.append(r)\n",
    "    \n",
    "    if debug:\n",
    "        print(f'R: {R}')\n",
    "        print(f'A: {A}')\n",
    "\n",
    "        print('return vals:')\n",
    "        print(f'L[0]: {L[0]}')\n",
    "        print(f'np.array(R): {np.array(R)}')\n",
    "\n",
    "    \n",
    "    if vis:\n",
    "        # Some visualization code I didn't know where else to put!\n",
    "        # B is still in image coords, while mu and the vec and L's are in mm? Use extent.\n",
    "        # extent = (-0.5, apix[1]*B.shape[1]-0.5, -0.5, apix[0]*B.shape[0]-0.5)# (left, right, bottom, top)\n",
    "        \n",
    "        # This got me pretty confused. The issue is that if apix is something other than (1,1), then \n",
    "        # B needs to be scaled accordingly. \n",
    "        # If apix is significantly less than 1,1, then the 0 order and no anti-aliasing could\n",
    "        # leave little of the boundary left. Though it would only affect the vis, as the calculation\n",
    "        # above scaled the boundary points to double, instead of this which returns pixels.\n",
    "        abin_scaled = rescale(abin, apix, order=0, \n",
    "                              preserve_range=True, \n",
    "                              anti_aliasing=False, \n",
    "                              multichannel=False)\n",
    "        Bscaled = find_boundaries(abin_scaled, mode='thick')\n",
    "        \n",
    "        if debug:\n",
    "            print(f'abin_scaled: {abin_scaled}')\n",
    "            print(f'Bscaled: {Bscaled}')\n",
    "        \n",
    "        plt.figure(figsize=(5,5))\n",
    "        plt.imshow(Bscaled) # , origin='upper', extent=extent)\n",
    "        \n",
    "        plt.gca().set_aspect('equal')\n",
    "        plt.axis('equal')\n",
    "        \n",
    "\n",
    "        # Plot the mean and principal projections. But plot needs xy (euclid) instead of ij (matrix)!!!\n",
    "        # Stupid, keeping the sliced out dimension with None here.\n",
    "        pca0 = np.array([mu + L_min[0]*vec[:,0, None], mu + L_max[0]*vec[:,0, None]])\n",
    "        pca1 = np.array([mu + L_min[1]*vec[:,1, None], mu + L_max[1]*vec[:,1, None]])\n",
    "        \n",
    "        if debug:\n",
    "            print(f'pca0: {pca0}')\n",
    "            print(f'pca1: {pca1}')\n",
    "\n",
    "        # Notice the x and y coord reversed. \n",
    "        \n",
    "        # these are only the end points of the major and minor axes I think ? \n",
    "        # plt.scatter(x=mu[1], y=mu[0], s=30, marker='*') # what is this one? ?? -- hard to tell, no visual difference?\n",
    "        plt.scatter(x=pca0[:,1], y=pca0[:,0], c = [[.2, .4, .2], [.6, .9, .6]]) # Dark green to light green (top to bottom of the major axis)\n",
    "        plt.scatter(x=pca1[:,1], y=pca1[:,0], c = [[.4, .2, .2], [.9, .6, .6]]) # Dark red to light red (left to right of the minor axis)\n",
    "        \n",
    "        if debug:\n",
    "            print('scatter 1:')\n",
    "            print(f'x={mu[1]}, y={mu[0]}, s=30, marker=\\'*\\'')\n",
    "            print('scatter 2:')\n",
    "            print(f'x={pca0[:,1]}, y={pca0[:,0]}, c = [[.2, .4, .2], [.6, .9, .6]]')\n",
    "            print(f'scatter 3:')\n",
    "            print(f'x={pca1[:,1]}, y={pca1[:,0]}, c = [[.4, .2, .2], [.9, .6, .6]]')\n",
    "\n",
    "        # these are lines of the actual major and minor axes\n",
    "        plt.plot(pca0[:,1], pca0[:,0], 'g--') # major axis (top to bottom)\n",
    "        plt.plot(pca1[:,1], pca1[:,0], 'r--') # minor axis (left to right)\n",
    "        \n",
    "        if debug:\n",
    "            print(f'plot 1:')\n",
    "            print(f'{pca0[:,1]}, {pca0[:,0]}, \\'g--\\'')\n",
    "\n",
    "            print(f'plot 2:')\n",
    "            print(f'pca1[:,1], pca1[:,0], \\'r--\\'')\n",
    "\n",
    "        if debug:\n",
    "            print('for loop looping over range ( len(L_partition) - 1)')\n",
    "            \n",
    "            \n",
    "        # this plots all of the points of the individual lines of the npucks \n",
    "        for i in range(len(L_partition)-1):\n",
    "            \n",
    "            extent = (L_partition[i]+L_partition[i+1])/2\n",
    "            points = np.array([mu + extent*vec[:,0, None] - R[i]*vec[:,1, None], # negative radius\n",
    "                               mu + extent*vec[:,0, None] + R[i]*vec[:,1, None]]) # positive radius\n",
    "            \n",
    "            \n",
    "            plt.plot(points[:,1], points[:,0])\n",
    "            \n",
    "            all_puck_endpoints.append(np.transpose(points))\n",
    "            \n",
    "            \n",
    "            # print(f'i: {i}\\npoints: {points}')\n",
    "            # print(f'points[:,1], points[:,0]: {points[:,1], points[:,0]}')\n",
    "            \n",
    "            if debug:\n",
    "                print(f'i={i}')\n",
    "                print(f'extent: {extent}')\n",
    "                print(f'points: {points}')\n",
    "                print(f'plot with ({points[:,1]} , {points[:,0]})')\n",
    "            \n",
    "            \n",
    "        \n",
    "        plt.gca().set_aspect('equal')\n",
    "        plt.axis('equal')\n",
    "#         plt.axis('square')\n",
    "\n",
    "        # title 2d area and approximation.\n",
    "        plt.suptitle('Actual scaled area {:.2f}, approx {:.2f}'.format(np.prod(apix)*abin.sum(), \n",
    "                                                                       (L[0]/npucks)*2*np.sum(R)))\n",
    "#         plt.tight_layout()\n",
    "    \n",
    "    return L[0], np.array(R), np.array(all_puck_endpoints)"
   ]
  },
  {
   "cell_type": "code",
   "execution_count": 9,
   "id": "0700244b-87e9-4de8-9ad6-56e393a1e59f",
   "metadata": {},
   "outputs": [
    {
     "data": {
      "application/vnd.jupyter.widget-view+json": {
       "model_id": "cd0f90f2a39e421982fe005d89d9ae17",
       "version_major": 2,
       "version_minor": 0
      },
      "image/png": "[encoded data removed]",
      "text/html": [
       "\n",
       "            <div style=\"display: inline-block;\">\n",
       "                <div class=\"jupyter-widgets widget-label\" style=\"text-align: center;\">\n",
       "                    Figure\n",
       "                </div>\n",
       "                <img src='data:image/png;base64,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' width=500.0/>\n",
       "            </div>\n",
       "        "
      ],
      "text/plain": [
       "Canvas(toolbar=Toolbar(toolitems=[('Home', 'Reset original view', 'home', 'home'), ('Back', 'Back to previous …"
      ]
     },
     "metadata": {},
     "output_type": "display_data"
    }
   ],
   "source": [
    "I = ed_label\n",
    "\n",
    "length_I, radius_I, points_I = get2dPucks((I == 1).astype('int'), (1.0, 1.0), vis=True, debug=False)\n",
    "\n",
    "I = give_boundary_no_basal_plane(ed_label)"
   ]
  },
  {
   "cell_type": "code",
   "execution_count": 10,
   "id": "formed-cookie",
   "metadata": {},
   "outputs": [
    {
     "data": {
      "text/plain": [
       "(71.0028454560969,\n",
       " array([ 4.60282279, 10.27377881, 12.98911437, 14.1711838 , 15.2068915 ,\n",
       "        16.22136337, 16.76408883, 15.28840218,  7.72995894]),\n",
       " (9, 1, 2, 2))"
      ]
     },
     "execution_count": 10,
     "metadata": {},
     "output_type": "execute_result"
    }
   ],
   "source": [
    "length_I, radius_I, points_I.shape"
   ]
  },
  {
   "cell_type": "code",
   "execution_count": 11,
   "id": "configured-chaos",
   "metadata": {},
   "outputs": [
    {
     "data": {
      "text/plain": [
       "<matplotlib.collections.PathCollection at 0x7f1b2b1c52d0>"
      ]
     },
     "execution_count": 11,
     "metadata": {},
     "output_type": "execute_result"
    },
    {
     "data": {
      "application/vnd.jupyter.widget-view+json": {
       "model_id": "c4e91c68b3504d42987205a785d7d8ff",
       "version_major": 2,
       "version_minor": 0
      },
      "image/png": "[encoded data removed]",
      "text/html": [
       "\n",
       "            <div style=\"display: inline-block;\">\n",
       "                <div class=\"jupyter-widgets widget-label\" style=\"text-align: center;\">\n",
       "                    Figure\n",
       "                </div>\n",
       "                <img src='data:image/png;base64,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' width=640.0/>\n",
       "            </div>\n",
       "        "
      ],
      "text/plain": [
       "Canvas(toolbar=Toolbar(toolitems=[('Home', 'Reset original view', 'home', 'home'), ('Back', 'Back to previous …"
      ]
     },
     "metadata": {},
     "output_type": "display_data"
    }
   ],
   "source": [
    "plt.figure()\n",
    "plt.imshow(I)\n",
    "plt.scatter(points_I[:, 0, 1], points_I[:, 0, 0])"
   ]
  },
  {
   "cell_type": "code",
   "execution_count": 12,
   "id": "ed41d41f-5449-4a0f-ba8b-4ba7f3c0db0f",
   "metadata": {},
   "outputs": [
    {
     "data": {
      "text/plain": [
       "<matplotlib.collections.PathCollection at 0x7f1b2ba8eb10>"
      ]
     },
     "execution_count": 12,
     "metadata": {},
     "output_type": "execute_result"
    },
    {
     "data": {
      "application/vnd.jupyter.widget-view+json": {
       "model_id": "e853a4980cdb48349f8f103c7ef86593",
       "version_major": 2,
       "version_minor": 0
      },
      "image/png": "[encoded data removed]",
      "text/html": [
       "\n",
       "            <div style=\"display: inline-block;\">\n",
       "                <div class=\"jupyter-widgets widget-label\" style=\"text-align: center;\">\n",
       "                    Figure\n",
       "                </div>\n",
       "                <img src='data:image/png;base64,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' width=640.0/>\n",
       "            </div>\n",
       "        "
      ],
      "text/plain": [
       "Canvas(toolbar=Toolbar(toolitems=[('Home', 'Reset original view', 'home', 'home'), ('Back', 'Back to previous …"
      ]
     },
     "metadata": {},
     "output_type": "display_data"
    }
   ],
   "source": [
    "plt.figure()\n",
    "plt.imshow(I)\n",
    "plt.scatter(points_I[:, 0, 1], points_I[:, 0, 0])"
   ]
  },
  {
   "cell_type": "code",
   "execution_count": 13,
   "id": "7c0e3808-b7c7-4e90-8bde-032ed461ac01",
   "metadata": {},
   "outputs": [
    {
     "data": {
      "text/plain": [
       "[2, 5, 8]"
      ]
     },
     "execution_count": 13,
     "metadata": {},
     "output_type": "execute_result"
    }
   ],
   "source": [
    "N = 3\n",
    "indeces_for_slice_points = []\n",
    "for i in range(len(points_I)-1, 0, -N):\n",
    "    indeces_for_slice_points.append(i)\n",
    "indeces_for_slice_points.sort()\n",
    "indeces_for_slice_points"
   ]
  },
  {
   "cell_type": "code",
   "execution_count": 14,
   "id": "31a77213-4d39-4549-8c7c-27f372c2314c",
   "metadata": {},
   "outputs": [],
   "source": [
    "slice_points = []\n",
    "\n",
    "for i in indeces_for_slice_points:\n",
    "    slice_points.append(points_I[i, 0, ...])\n",
    "    \n",
    "slice_points = np.array(slice_points)"
   ]
  },
  {
   "cell_type": "code",
   "execution_count": 15,
   "id": "c047a800-e743-4c5c-bf61-1f0afcd54932",
   "metadata": {},
   "outputs": [
    {
     "name": "stdout",
     "output_type": "stream",
     "text": [
      "[[[48.41488607 44.17987968]\n",
      "  [40.37906493 66.00977091]]\n",
      "\n",
      " [[72.29281427 67.00395657]\n",
      "  [41.04838221 73.05710763]]\n",
      "\n",
      " [[94.25953644 91.73923948]\n",
      "  [53.28452022 68.53762364]]]\n"
     ]
    },
    {
     "data": {
      "text/plain": [
       "(3, 2, 2)"
      ]
     },
     "execution_count": 15,
     "metadata": {},
     "output_type": "execute_result"
    }
   ],
   "source": [
    "print(slice_points)\n",
    "slice_points.shape"
   ]
  },
  {
   "cell_type": "code",
   "execution_count": 16,
   "id": "2fc6b446-48b5-4d01-a2df-3c1efbd0c1a0",
   "metadata": {},
   "outputs": [
    {
     "name": "stdout",
     "output_type": "stream",
     "text": [
      "48.41488607110273 40.37906492729051\n"
     ]
    }
   ],
   "source": [
    "x,y = slice_points[0][0][0], slice_points[0][1][0]\n",
    "print(x,y)"
   ]
  },
  {
   "cell_type": "code",
   "execution_count": 17,
   "id": "74d147db-a95d-4d2d-9fb3-d7daaee585a5",
   "metadata": {},
   "outputs": [
    {
     "data": {
      "text/plain": [
       "<matplotlib.collections.PathCollection at 0x7f1b2c86a250>"
      ]
     },
     "execution_count": 17,
     "metadata": {},
     "output_type": "execute_result"
    },
    {
     "data": {
      "application/vnd.jupyter.widget-view+json": {
       "model_id": "2849780ed5964d6193a6ca8a43242c3c",
       "version_major": 2,
       "version_minor": 0
      },
      "image/png": "[encoded data removed]",
      "text/html": [
       "\n",
       "            <div style=\"display: inline-block;\">\n",
       "                <div class=\"jupyter-widgets widget-label\" style=\"text-align: center;\">\n",
       "                    Figure\n",
       "                </div>\n",
       "                <img src='data:image/png;base64,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' width=640.0/>\n",
       "            </div>\n",
       "        "
      ],
      "text/plain": [
       "Canvas(toolbar=Toolbar(toolitems=[('Home', 'Reset original view', 'home', 'home'), ('Back', 'Back to previous …"
      ]
     },
     "metadata": {},
     "output_type": "display_data"
    }
   ],
   "source": [
    "plt.figure()\n",
    "plt.imshow(I)\n",
    "plt.scatter(slice_points[:, 1], slice_points[:, 0]) # plot in x,y --- stored in i,j"
   ]
  },
  {
   "cell_type": "code",
   "execution_count": 18,
   "id": "55d5a369-7a2c-446c-b0cc-652305fe89f3",
   "metadata": {},
   "outputs": [
    {
     "data": {
      "text/plain": [
       "(array([[[48.41488607, 44.17987968],\n",
       "         [40.37906493, 66.00977091]],\n",
       " \n",
       "        [[72.29281427, 67.00395657],\n",
       "         [41.04838221, 73.05710763]],\n",
       " \n",
       "        [[94.25953644, 91.73923948],\n",
       "         [53.28452022, 68.53762364]]]),\n",
       " (3, 2, 2))"
      ]
     },
     "execution_count": 18,
     "metadata": {},
     "output_type": "execute_result"
    }
   ],
   "source": [
    "slice_points, slice_points.shape"
   ]
  },
  {
   "cell_type": "code",
   "execution_count": 19,
   "id": "a3313cf4-b32b-40b1-83b4-0b77393df38f",
   "metadata": {},
   "outputs": [
    {
     "data": {
      "text/plain": [
       "array([[48.41488607, 44.17987968],\n",
       "       [40.37906493, 66.00977091]])"
      ]
     },
     "execution_count": 19,
     "metadata": {},
     "output_type": "execute_result"
    }
   ],
   "source": [
    "slice_points[0]"
   ]
  },
  {
   "cell_type": "code",
   "execution_count": 20,
   "id": "5dfdb310-b363-4373-94c6-ee9988f8a787",
   "metadata": {},
   "outputs": [],
   "source": [
    "# note that it is not (i,j) that is being stored! it is (i_0, i_1) lol....\n",
    "# let's re-store it in another variable that's more intuitive\n",
    "\n",
    "divide_points = [] # (i,j)\n",
    "divide_points_i_vals = [] # i\n",
    "divide_points_j_vals = [] # j\n",
    "\n",
    "for a in slice_points:\n",
    "    divide_points.append([ [a[0][0], a[1][0]] , [a[0][1], a[1][1]] ])\n",
    "    divide_points_i_vals.append(a[0][0])\n",
    "    divide_points_i_vals.append(a[0][1])\n",
    "    divide_points_j_vals.append(a[1][0])\n",
    "    divide_points_j_vals.append(a[1][1])\n",
    "\n",
    "divide_points = np.array(divide_points)"
   ]
  },
  {
   "cell_type": "code",
   "execution_count": 21,
   "id": "fb99d426-4ac7-403e-886d-0921fd87c60b",
   "metadata": {},
   "outputs": [
    {
     "data": {
      "text/plain": [
       "((3, 2, 2),\n",
       " array([[[48.41488607, 40.37906493],\n",
       "         [44.17987968, 66.00977091]],\n",
       " \n",
       "        [[72.29281427, 41.04838221],\n",
       "         [67.00395657, 73.05710763]],\n",
       " \n",
       "        [[94.25953644, 53.28452022],\n",
       "         [91.73923948, 68.53762364]]]))"
      ]
     },
     "execution_count": 21,
     "metadata": {},
     "output_type": "execute_result"
    }
   ],
   "source": [
    "divide_points.shape, divide_points # ( (i,j), (i,j) ) .."
   ]
  },
  {
   "cell_type": "code",
   "execution_count": 22,
   "id": "54f3e052-66be-46b5-ad64-62eb913d0f25",
   "metadata": {},
   "outputs": [],
   "source": [
    "# need to transform the image pixels into a set of points (i,j)\n",
    "I_point_set = []\n",
    "I_point_set_i_vals = []\n",
    "I_point_set_j_vals = []\n",
    "\n",
    "for i in range(I.shape[0]):\n",
    "    for j in range(I.shape[1]):\n",
    "        if I[i][j] == 1:\n",
    "            I_point_set.append([i,j])\n",
    "            I_point_set_i_vals.append(i)\n",
    "            I_point_set_j_vals.append(j)\n",
    "\n",
    "I_point_set = np.array(I_point_set)"
   ]
  },
  {
   "cell_type": "code",
   "execution_count": 23,
   "id": "25fb90b7-a3b6-4435-9b96-229cffffc7e6",
   "metadata": {},
   "outputs": [
    {
     "data": {
      "text/plain": [
       "((124, 2), 124)"
      ]
     },
     "execution_count": 23,
     "metadata": {},
     "output_type": "execute_result"
    }
   ],
   "source": [
    "I_point_set.shape, np.count_nonzero(I == 1) # count should match"
   ]
  },
  {
   "cell_type": "code",
   "execution_count": 24,
   "id": "a2945d00-376e-43f9-8565-f56f5880b0b1",
   "metadata": {},
   "outputs": [
    {
     "data": {
      "application/vnd.jupyter.widget-view+json": {
       "model_id": "d7528083a39140748c9753ac77de8c62",
       "version_major": 2,
       "version_minor": 0
      },
      "image/png": "[encoded data removed]",
      "text/html": [
       "\n",
       "            <div style=\"display: inline-block;\">\n",
       "                <div class=\"jupyter-widgets widget-label\" style=\"text-align: center;\">\n",
       "                    Figure\n",
       "                </div>\n",
       "                <img src='data:image/png;base64,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' width=300.0/>\n",
       "            </div>\n",
       "        "
      ],
      "text/plain": [
       "Canvas(toolbar=Toolbar(toolitems=[('Home', 'Reset original view', 'home', 'home'), ('Back', 'Back to previous …"
      ]
     },
     "metadata": {},
     "output_type": "display_data"
    }
   ],
   "source": [
    "fig, ax = plt.subplots(1,1, figsize=(3,4))\n",
    "ax.scatter(I_point_set_j_vals, I_point_set_i_vals, marker='.', color='b', zorder=1)\n",
    "ax.scatter(divide_points_j_vals, divide_points_i_vals, marker='.', color='r', zorder=2)\n",
    "ax.invert_yaxis()"
   ]
  },
  {
   "cell_type": "markdown",
   "id": "363098c9-b717-46fb-a683-0c2addb91d2f",
   "metadata": {},
   "source": [
    "Now we need to check whether the set of points representing the lv is above or below the imaginary line drawn by each pair of slice points. We can do this by checking the sign value of taking the determinant of this matrix: \n",
    "$$\\begin{bmatrix} x_2 - x_1 & x_3 - x_1 \\\\ y_2 - y_1 & y_3 - y_1 \\end{bmatrix} $$\n",
    "where $(x_1, y_1)$ and $(x_2, y_2)$ are the pair of points representing the imaginary line between them and $(x_3, y_3)$ represents the point to be checked. \n",
    "\n",
    "- $> 0 $ then above line\n",
    "- $< 0 $ then below line\n",
    "- $= 0 $ then on line\n",
    "\n",
    "This is taken from this [stackoverflow](https://stackoverflow.com/a/3461499/19266332)."
   ]
  },
  {
   "cell_type": "markdown",
   "id": "061ca5ed-ea95-4ca4-a7b7-29ed070f0b19",
   "metadata": {},
   "source": [
    "## The whole point of using the 2d pucks is to slice it NOT horizontally.\n",
    "## we want to slice it slanted however much the minor axis is angled"
   ]
  },
  {
   "cell_type": "code",
   "execution_count": 25,
   "id": "76f650d8-5788-45eb-b921-6561fef0b801",
   "metadata": {},
   "outputs": [],
   "source": [
    "def is_point_above_below_line(p1, p2, p3):\n",
    "    '''\n",
    "    input: p1, p2, p3 -- iterables containing (x,y)\n",
    "        p1 and p2 represent line and p3 is point to be checked\n",
    "        note that this is supposed to be in euclidean space (x,y) \n",
    "        if points are in (i,j) please convert them first into (x,y)\n",
    "        x = j, y = i\n",
    "    output:\n",
    "        +1 for above line\n",
    "        -1 for below line\n",
    "        0 for on the line\n",
    "    '''\n",
    "    a = (p2[0] - p1[0])*(p3[1] - p1[1]) - (p2[1] - p1[1])*(p3[0] - p1[0])\n",
    "    if a > 0:\n",
    "        return 1\n",
    "    elif a < 0:\n",
    "        return -1\n",
    "    else:\n",
    "        return 0"
   ]
  },
  {
   "cell_type": "code",
   "execution_count": 26,
   "id": "817c23eb-81dc-46de-8dd6-d5c905dc0b91",
   "metadata": {},
   "outputs": [],
   "source": [
    "def ij_to_xy(p):\n",
    "    '''\n",
    "    input: p - (i,j)\n",
    "    output: p - (x,y)\n",
    "    x = j, y = i\n",
    "    '''\n",
    "    return np.array([p[1], p[0]])"
   ]
  },
  {
   "cell_type": "code",
   "execution_count": 27,
   "id": "b7edf75a-fc00-422d-8ddf-f8638a7f6533",
   "metadata": {},
   "outputs": [
    {
     "data": {
      "text/plain": [
       "(array([48.41488607, 40.37906493]),\n",
       " array([44.17987968, 66.00977091]),\n",
       " array([40.37906493, 48.41488607]))"
      ]
     },
     "execution_count": 27,
     "metadata": {},
     "output_type": "execute_result"
    }
   ],
   "source": [
    "divide_points[0][0], divide_points[0][1], ij_to_xy(divide_points[0][0])"
   ]
  },
  {
   "cell_type": "code",
   "execution_count": 28,
   "id": "87b6a654-4cf5-47b5-844c-cf16411acaca",
   "metadata": {},
   "outputs": [],
   "source": [
    "# get top points\n",
    "\n",
    "I_top_points = []\n",
    "p1 = ij_to_xy(divide_points[0][0])\n",
    "p2 = ij_to_xy(divide_points[0][1])\n",
    "\n",
    "for point in I_point_set:\n",
    "    # print(point)\n",
    "    p3 = ij_to_xy(point)\n",
    "\n",
    "    foo = is_point_above_below_line(p1, p2, p3)\n",
    "    \n",
    "    # only want points BELOW this line for the top region\n",
    "    # store coords as ij\n",
    "    # want below the line because we flipped the yaxis for viewing.... sigh\n",
    "    if foo == -1:\n",
    "        I_top_points.append(point)\n",
    "        \n",
    "I_top_points = np.array(I_top_points)"
   ]
  },
  {
   "cell_type": "code",
   "execution_count": 29,
   "id": "6e52ba72-dc32-45f8-b243-4c66a9d84c12",
   "metadata": {},
   "outputs": [
    {
     "data": {
      "text/plain": [
       "(42, 2)"
      ]
     },
     "execution_count": 29,
     "metadata": {},
     "output_type": "execute_result"
    }
   ],
   "source": [
    "I_top_points.shape"
   ]
  },
  {
   "cell_type": "code",
   "execution_count": 30,
   "id": "709dd914-d183-4512-a28e-677c83be6a19",
   "metadata": {},
   "outputs": [
    {
     "data": {
      "application/vnd.jupyter.widget-view+json": {
       "model_id": "d469f09e6eef4fa78d5569ddec55c3de",
       "version_major": 2,
       "version_minor": 0
      },
      "image/png": "[encoded data removed]",
      "text/html": [
       "\n",
       "            <div style=\"display: inline-block;\">\n",
       "                <div class=\"jupyter-widgets widget-label\" style=\"text-align: center;\">\n",
       "                    Figure\n",
       "                </div>\n",
       "                <img src='data:image/png;base64,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' width=300.0/>\n",
       "            </div>\n",
       "        "
      ],
      "text/plain": [
       "Canvas(toolbar=Toolbar(toolitems=[('Home', 'Reset original view', 'home', 'home'), ('Back', 'Back to previous …"
      ]
     },
     "metadata": {},
     "output_type": "display_data"
    }
   ],
   "source": [
    "fig, ax = plt.subplots(1,1, figsize=(3,4))\n",
    "ax.scatter(I_top_points[:, 1], I_top_points[:, 0], marker='.', color='b', zorder=2)\n",
    "ax.scatter(divide_points_j_vals, divide_points_i_vals, marker='.', color='r', zorder=3)\n",
    "ax.invert_yaxis()"
   ]
  },
  {
   "cell_type": "code",
   "execution_count": 31,
   "id": "2ee25ba2-775b-4547-909a-8a31dae32a57",
   "metadata": {},
   "outputs": [],
   "source": [
    "I_regional_point_sets = [0 for i in range(N)]\n",
    "\n",
    "# divide_points = np.insert(divide_points, 0, np.array([ [0,0] , [I.shape[1] - 1, 0] ]), axis=0) # inserting coordinates in (i,j) format\n"
   ]
  },
  {
   "cell_type": "code",
   "execution_count": 32,
   "id": "ae21143a-9474-4545-b921-f1ac6a903933",
   "metadata": {},
   "outputs": [
    {
     "data": {
      "text/plain": [
       "[0, 0, 0]"
      ]
     },
     "execution_count": 32,
     "metadata": {},
     "output_type": "execute_result"
    }
   ],
   "source": [
    "I_regional_point_sets"
   ]
  },
  {
   "cell_type": "code",
   "execution_count": 33,
   "id": "cdbe5076-5217-4633-bf1b-3fd0fed779ab",
   "metadata": {},
   "outputs": [
    {
     "data": {
      "text/plain": [
       "array([[[48.41488607, 40.37906493],\n",
       "        [44.17987968, 66.00977091]],\n",
       "\n",
       "       [[72.29281427, 41.04838221],\n",
       "        [67.00395657, 73.05710763]],\n",
       "\n",
       "       [[94.25953644, 53.28452022],\n",
       "        [91.73923948, 68.53762364]]])"
      ]
     },
     "execution_count": 33,
     "metadata": {},
     "output_type": "execute_result"
    }
   ],
   "source": [
    "divide_points"
   ]
  },
  {
   "cell_type": "code",
   "execution_count": 40,
   "id": "03d8bc4d-8806-47da-8aa9-cc09a76b937f",
   "metadata": {},
   "outputs": [
    {
     "name": "stdout",
     "output_type": "stream",
     "text": [
      "points in region i=0: 42\n",
      "[40.37906493 48.41488607] [66.00977091 44.17987968]\n",
      "points in region i=1: 47\n",
      "[40.37906493 48.41488607] [66.00977091 44.17987968] | [41.04838221 72.29281427] [73.05710763 67.00395657]\n",
      "points in region i=2: 35\n",
      "[41.04838221 72.29281427] [73.05710763 67.00395657] | [53.28452022 94.25953644] [68.53762364 91.73923948]\n"
     ]
    }
   ],
   "source": [
    "# let's try to get all of the regions automatically\n",
    "# we'll want to do some kind of \"inbetween two lines\" -- a combination of above this line and below this line.\n",
    "\n",
    "# first insert a pair of coordinates at the edges of the image\n",
    "\n",
    "N = 3\n",
    "\n",
    "for i in range(N):\n",
    "    curr_region_point_set = []\n",
    "    tmp_point_count = 0\n",
    "    \n",
    "    # first region\n",
    "    if i == 0:\n",
    "        p1 = ij_to_xy(divide_points[i][0])\n",
    "        p2 = ij_to_xy(divide_points[i][1])\n",
    "        \n",
    "        for point in I_point_set:\n",
    "            p3 = ij_to_xy(point)\n",
    "        \n",
    "            if is_point_above_below_line(p1, p2, p3) == -1:\n",
    "                curr_region_point_set.append(point)\n",
    "                tmp_point_count += 1\n",
    "                \n",
    "        print(f'points in region i={i}: {tmp_point_count}')\n",
    "        print(f'{p1} {p2}')\n",
    "        \n",
    "    # 2nd and + regions\n",
    "    else:\n",
    "        start_p1 = ij_to_xy(divide_points[i-1][0])\n",
    "        start_p2 = ij_to_xy(divide_points[i-1][1])\n",
    "\n",
    "        end_p1 = ij_to_xy(divide_points[i][0])\n",
    "        end_p2 = ij_to_xy(divide_points[i][1])\n",
    "\n",
    "        # look at the entire point set representing the entire lv\n",
    "        for point in I_point_set:\n",
    "            p3 = ij_to_xy(point)\n",
    "\n",
    "            check_1 = is_point_above_below_line(start_p1, start_p2, p3)\n",
    "            check_2 = is_point_above_below_line(end_p1, end_p2, p3)\n",
    "\n",
    "            # print(check_1, check_2)\n",
    "\n",
    "            # above the first line and below the second line\n",
    "            # save point in (i,j) format\n",
    "            if check_1 == 1 and check_2 == -1:\n",
    "                curr_region_point_set.append(point)\n",
    "                tmp_point_count += 1\n",
    "\n",
    "        print(f'points in region i={i}: {tmp_point_count}')\n",
    "        print(f'{start_p1} {start_p2} | {end_p1} {end_p2}')\n",
    "    \n",
    "    # save curr region point set\n",
    "    I_regional_point_sets[i] = np.array(curr_region_point_set)\n",
    "    \n",
    "I_regional_point_sets = np.array(I_regional_point_sets)"
   ]
  },
  {
   "cell_type": "code",
   "execution_count": 41,
   "id": "3a01cef4-a38c-402e-8149-33907aeebca5",
   "metadata": {},
   "outputs": [],
   "source": [
    "# divide_points_j_vals.append(0)\n",
    "# divide_points_i_vals.append(0)\n",
    "\n",
    "# divide_points_j_vals.append(112)\n",
    "# divide_points_i_vals.append(0)"
   ]
  },
  {
   "cell_type": "code",
   "execution_count": 42,
   "id": "6982798c-fd52-4f3c-a2a0-9c2051b09fff",
   "metadata": {},
   "outputs": [
    {
     "data": {
      "text/plain": [
       "((3,),\n",
       " array([array([[28, 49],\n",
       "        [28, 50],\n",
       "        [28, 51],\n",
       "        [28, 52],\n",
       "        [28, 53],\n",
       "        [28, 54],\n",
       "        [29, 49],\n",
       "        [29, 55],\n",
       "        [30, 48],\n",
       "        [30, 56],\n",
       "        [31, 47],\n",
       "        [31, 57],\n",
       "        [32, 46],\n",
       "        [32, 58],\n",
       "        [33, 46],\n",
       "        [33, 59],\n",
       "        [34, 45],\n",
       "        [34, 60],\n",
       "        [35, 44],\n",
       "        [35, 60],\n",
       "        [36, 44],\n",
       "        [36, 61],\n",
       "        [37, 43],\n",
       "        [37, 62],\n",
       "        [38, 43],\n",
       "        [38, 62],\n",
       "        [39, 42],\n",
       "        [39, 63],\n",
       "        [40, 42],\n",
       "        [40, 63],\n",
       "        [41, 42],\n",
       "        [41, 64],\n",
       "        [42, 42],\n",
       "        [42, 64],\n",
       "        [43, 41],\n",
       "        [43, 65],\n",
       "        [44, 41],\n",
       "        [44, 66],\n",
       "        [45, 41],\n",
       "        [46, 40],\n",
       "        [47, 41],\n",
       "        [48, 41]]),\n",
       "        array([[45, 66],\n",
       "        [46, 67],\n",
       "        [47, 67],\n",
       "        [48, 68],\n",
       "        [49, 41],\n",
       "        [49, 68],\n",
       "        [50, 41],\n",
       "        [50, 69],\n",
       "        [51, 41],\n",
       "        [51, 69],\n",
       "        [52, 41],\n",
       "        [52, 69],\n",
       "        [53, 41],\n",
       "        [53, 69],\n",
       "        [54, 42],\n",
       "        [54, 69],\n",
       "        [55, 42],\n",
       "        [55, 69],\n",
       "        [56, 42],\n",
       "        [56, 69],\n",
       "        [57, 42],\n",
       "        [57, 70],\n",
       "        [58, 42],\n",
       "        [58, 70],\n",
       "        [59, 42],\n",
       "        [59, 70],\n",
       "        [60, 42],\n",
       "        [60, 71],\n",
       "        [61, 42],\n",
       "        [61, 71],\n",
       "        [62, 42],\n",
       "        [62, 71],\n",
       "        [63, 42],\n",
       "        [63, 71],\n",
       "        [64, 41],\n",
       "        [64, 72],\n",
       "        [65, 41],\n",
       "        [65, 72],\n",
       "        [66, 41],\n",
       "        [66, 72],\n",
       "        [67, 41],\n",
       "        [67, 72],\n",
       "        [68, 41],\n",
       "        [69, 41],\n",
       "        [70, 41],\n",
       "        [71, 41],\n",
       "        [72, 41]]),\n",
       "        array([[68, 72],\n",
       "        [69, 72],\n",
       "        [70, 72],\n",
       "        [71, 73],\n",
       "        [72, 73],\n",
       "        [73, 41],\n",
       "        [73, 73],\n",
       "        [74, 41],\n",
       "        [74, 73],\n",
       "        [75, 41],\n",
       "        [75, 73],\n",
       "        [76, 41],\n",
       "        [76, 73],\n",
       "        [77, 41],\n",
       "        [77, 73],\n",
       "        [78, 41],\n",
       "        [78, 73],\n",
       "        [79, 41],\n",
       "        [79, 73],\n",
       "        [80, 41],\n",
       "        [80, 73],\n",
       "        [81, 41],\n",
       "        [81, 74],\n",
       "        [82, 41],\n",
       "        [82, 74],\n",
       "        [83, 42],\n",
       "        [83, 74],\n",
       "        [84, 42],\n",
       "        [84, 74],\n",
       "        [85, 42],\n",
       "        [85, 74],\n",
       "        [86, 42],\n",
       "        [86, 74],\n",
       "        [87, 42],\n",
       "        [87, 74]])], dtype=object))"
      ]
     },
     "execution_count": 42,
     "metadata": {},
     "output_type": "execute_result"
    }
   ],
   "source": [
    "I_regional_point_sets.shape, I_regional_point_sets"
   ]
  },
  {
   "cell_type": "code",
   "execution_count": 43,
   "id": "1246e33a-e2b9-45e2-8206-db40d7e80feb",
   "metadata": {},
   "outputs": [
    {
     "data": {
      "text/plain": [
       "((42, 2), (47, 2), (35, 2))"
      ]
     },
     "execution_count": 43,
     "metadata": {},
     "output_type": "execute_result"
    }
   ],
   "source": [
    "I_regional_point_sets[0].shape, I_regional_point_sets[1].shape, I_regional_point_sets[2].shape"
   ]
  },
  {
   "cell_type": "code",
   "execution_count": 44,
   "id": "65884509-7a1b-473d-9ad3-b929efb0850f",
   "metadata": {},
   "outputs": [
    {
     "data": {
      "text/plain": [
       "(3, 2, 2)"
      ]
     },
     "execution_count": 44,
     "metadata": {},
     "output_type": "execute_result"
    }
   ],
   "source": [
    "divide_points.shape"
   ]
  },
  {
   "cell_type": "code",
   "execution_count": 45,
   "id": "68a369fa-a522-4176-86cb-54f258706ae7",
   "metadata": {},
   "outputs": [
    {
     "data": {
      "text/plain": [
       "array([[[48.41488607, 40.37906493],\n",
       "        [44.17987968, 66.00977091]],\n",
       "\n",
       "       [[72.29281427, 41.04838221],\n",
       "        [67.00395657, 73.05710763]],\n",
       "\n",
       "       [[94.25953644, 53.28452022],\n",
       "        [91.73923948, 68.53762364]]])"
      ]
     },
     "execution_count": 45,
     "metadata": {},
     "output_type": "execute_result"
    }
   ],
   "source": [
    "divide_points"
   ]
  },
  {
   "cell_type": "code",
   "execution_count": 46,
   "id": "dfcc92b3-6a01-415d-984b-ec171653ae98",
   "metadata": {},
   "outputs": [
    {
     "data": {
      "application/vnd.jupyter.widget-view+json": {
       "model_id": "3effbc70c2bd418d943c351332b705be",
       "version_major": 2,
       "version_minor": 0
      },
      "image/png": "[encoded data removed]",
      "text/html": [
       "\n",
       "            <div style=\"display: inline-block;\">\n",
       "                <div class=\"jupyter-widgets widget-label\" style=\"text-align: center;\">\n",
       "                    Figure\n",
       "                </div>\n",
       "                <img src='data:image/png;base64,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' width=300.0/>\n",
       "            </div>\n",
       "        "
      ],
      "text/plain": [
       "Canvas(toolbar=Toolbar(toolitems=[('Home', 'Reset original view', 'home', 'home'), ('Back', 'Back to previous …"
      ]
     },
     "metadata": {},
     "output_type": "display_data"
    }
   ],
   "source": [
    "fig, ax = plt.subplots(1,1, figsize=(3,4))\n",
    "ax.scatter(I_regional_point_sets[0][:, 1], I_regional_point_sets[0][:, 0], marker='.', color='b', zorder=2)\n",
    "ax.scatter(divide_points_j_vals, divide_points_i_vals, marker='.', color='r', zorder=3)\n",
    "ax.invert_yaxis()"
   ]
  },
  {
   "cell_type": "code",
   "execution_count": 47,
   "id": "873f2deb-339d-4faf-a91e-a32917ad1e89",
   "metadata": {},
   "outputs": [
    {
     "data": {
      "application/vnd.jupyter.widget-view+json": {
       "model_id": "c8054845abb24878a45d59a8aaa07605",
       "version_major": 2,
       "version_minor": 0
      },
      "image/png": "[encoded data removed]",
      "text/html": [
       "\n",
       "            <div style=\"display: inline-block;\">\n",
       "                <div class=\"jupyter-widgets widget-label\" style=\"text-align: center;\">\n",
       "                    Figure\n",
       "                </div>\n",
       "                <img src='data:image/png;base64,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' width=300.0/>\n",
       "            </div>\n",
       "        "
      ],
      "text/plain": [
       "Canvas(toolbar=Toolbar(toolitems=[('Home', 'Reset original view', 'home', 'home'), ('Back', 'Back to previous …"
      ]
     },
     "metadata": {},
     "output_type": "display_data"
    }
   ],
   "source": [
    "fig, ax = plt.subplots(1,1, figsize=(3,4))\n",
    "ax.scatter(I_regional_point_sets[1][:, 1], I_regional_point_sets[1][:, 0], marker='.', color='b', zorder=2)\n",
    "ax.scatter(divide_points_j_vals, divide_points_i_vals, marker='.', color='r', zorder=3)\n",
    "ax.invert_yaxis()"
   ]
  },
  {
   "cell_type": "code",
   "execution_count": 48,
   "id": "6a3b0327-5ac2-4f28-9c47-3e89a5412620",
   "metadata": {},
   "outputs": [
    {
     "data": {
      "application/vnd.jupyter.widget-view+json": {
       "model_id": "c297d1b56adb40c98e46b72661b51db5",
       "version_major": 2,
       "version_minor": 0
      },
      "image/png": "[encoded data removed]",
      "text/html": [
       "\n",
       "            <div style=\"display: inline-block;\">\n",
       "                <div class=\"jupyter-widgets widget-label\" style=\"text-align: center;\">\n",
       "                    Figure\n",
       "                </div>\n",
       "                <img src='data:image/png;base64,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' width=300.0/>\n",
       "            </div>\n",
       "        "
      ],
      "text/plain": [
       "Canvas(toolbar=Toolbar(toolitems=[('Home', 'Reset original view', 'home', 'home'), ('Back', 'Back to previous …"
      ]
     },
     "metadata": {},
     "output_type": "display_data"
    }
   ],
   "source": [
    "fig, ax = plt.subplots(1,1, figsize=(3,4))\n",
    "ax.scatter(I_regional_point_sets[2][:, 1], I_regional_point_sets[2][:, 0], marker='.', color='b', zorder=2)\n",
    "ax.scatter(divide_points_j_vals, divide_points_i_vals, marker='.', color='r', zorder=3)\n",
    "ax.invert_yaxis()"
   ]
  },
  {
   "cell_type": "code",
   "execution_count": null,
   "id": "75fe786a-d957-44e3-b12a-8d7229d69a28",
   "metadata": {},
   "outputs": [],
   "source": []
  },
  {
   "cell_type": "code",
   "execution_count": null,
   "id": "0a5e8fee-60bf-4733-afac-cb01c5956a17",
   "metadata": {},
   "outputs": [],
   "source": [
    "# # i think it would be easiest to just slice by taking the pixels in the section above the lowest of the pair of pixels for each radii line \n",
    "# # instead of somehow drawing a slanted line btwn the two points\n",
    "\n",
    "# lower_points = []\n",
    "\n",
    "# for i in range(slice_points.shape[0]):\n",
    "#     x = slice_points[i]\n",
    "#     i_1, i_2 = x[0][0], x[0][1]\n",
    "#     if i_1 > i_2:\n",
    "#         x = x[:, 0]\n",
    "#     else:\n",
    "#         x = x[:, 1]\n",
    "#     lower_points.append(x)\n",
    "# lower_points = np.array(lower_points)\n",
    "# print(lower_points.shape)"
   ]
  },
  {
   "cell_type": "code",
   "execution_count": null,
   "id": "6f1daa42-a8e6-4d3b-a5e5-5d65358ed21f",
   "metadata": {},
   "outputs": [],
   "source": [
    "# lower_points"
   ]
  },
  {
   "cell_type": "code",
   "execution_count": null,
   "id": "4bec7a09-20a1-43d4-981f-daf35b55ef83",
   "metadata": {},
   "outputs": [],
   "source": [
    "# lower_points = lower_points.astype('int')\n",
    "# lower_points"
   ]
  },
  {
   "cell_type": "code",
   "execution_count": null,
   "id": "b384e0a4-3339-45f5-8f05-289f3b21f45f",
   "metadata": {},
   "outputs": [],
   "source": [
    "# plt.figure()\n",
    "# plt.imshow(give_boundary_no_basal_plane(ed_label))\n",
    "# plt.scatter(lower_points[:, 1], lower_points[:, 0]) # plot in x,y --- stored in i,j"
   ]
  },
  {
   "cell_type": "code",
   "execution_count": null,
   "id": "3559a677-725c-45bb-943f-1b9e5e195c1d",
   "metadata": {},
   "outputs": [],
   "source": [
    "# lower_points = np.insert(lower_points, 0, [0,0], axis=0)\n",
    "\n",
    "# I = give_boundary_no_basal_plane(I)\n",
    "\n",
    "# import copy\n",
    "\n",
    "# I_regional_splits = [0 for i in range(N)]\n",
    "\n",
    "# for i in range(N):\n",
    "#     I_copy = copy.deepcopy(I)\n",
    "    \n",
    "#     start = lower_points[i][0]\n",
    "#     end = lower_points[i+1][0]\n",
    "\n",
    "#     I_copy[0:start, 0:I_copy.shape[1]] = 0\n",
    "#     I_copy[end:I_copy.shape[0], 0:I_copy.shape[1]] = 0\n",
    "    \n",
    "#     I_regional_splits[i] = I_copy\n",
    "    \n",
    "#     vis_single(I_copy, cmap='gray')"
   ]
  }
 ],
 "metadata": {
  "kernelspec": {
   "display_name": "Python 3",
   "language": "python",
   "name": "python3"
  },
  "language_info": {
   "codemirror_mode": {
    "name": "ipython",
    "version": 3
   },
   "file_extension": ".py",
   "mimetype": "text/x-python",
   "name": "python",
   "nbconvert_exporter": "python",
   "pygments_lexer": "ipython3",
   "version": "3.7.6"
  }
 },
 "nbformat": 4,
 "nbformat_minor": 5
}
