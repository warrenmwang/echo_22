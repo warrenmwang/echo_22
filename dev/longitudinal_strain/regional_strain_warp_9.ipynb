{
 "cells": [
  {
   "cell_type": "code",
   "execution_count": 1,
   "id": "4eabc7c6-e238-46ee-b093-4e985d0d0c51",
   "metadata": {},
   "outputs": [],
   "source": [
    "model_name = \"Original_Pretrained_R2plus1DMotionSegNet.pth\"\n",
    "\n",
    "# model_name = \"dropout_v2_0_25_R2plus1DMotionSegNet.pth\"\n",
    "# model_name = \"dropout_v3_0_10_R2plus1DMotionSegNet.pth\""
   ]
  },
  {
   "cell_type": "code",
   "execution_count": 2,
   "id": "ad7acfb6-44a2-4294-b3a6-4f6d781d7814",
   "metadata": {},
   "outputs": [
    {
     "name": "stdout",
     "output_type": "stream",
     "text": [
      "/home/wang/workspace/JupyterNoteBooksAll/fully-automated-multi-heartbeat-echocardiography-video-segmentation-and-motion-tracking\n"
     ]
    },
    {
     "name": "stderr",
     "output_type": "stream",
     "text": [
      "100%|██████████| 16/16 [00:01<00:00, 14.25it/s]\n"
     ]
    }
   ],
   "source": [
    "import os\n",
    "os.chdir(\"../..\")\n",
    "print(os.getcwd())\n",
    "\n",
    "%config Completer.use_jedi = False\n",
    "\n",
    "import SimpleITK as itk\n",
    "from LabelFusion.wrapper import fuse_images\n",
    "\n",
    "import echonet\n",
    "from echonet.datasets import Echo\n",
    "\n",
    "import torch.nn.functional as F\n",
    "from torchvision.models.video import r2plus1d_18\n",
    "from torch.utils.data import Dataset, DataLoader, Subset\n",
    "from multiprocessing import cpu_count\n",
    "\n",
    "from src.utils.torch_utils import TransformDataset, torch_collate\n",
    "from src.utils.echo_utils import get2dPucks\n",
    "from src.utils.camus_validate import cleanupSegmentation\n",
    "from src.transform_utils import generate_2dmotion_field\n",
    "from src.visualization_utils import categorical_dice\n",
    "from src.loss_functions import huber_loss, convert_to_1hot, convert_to_1hot_tensor\n",
    "from src.echonet_dataset import EDESpairs, EchoNetDynamicDataset\n",
    "\n",
    "from src.model.R2plus1D_18_MotionNet import R2plus1D_18_MotionNet\n",
    "\n",
    "# v2 dropout (in place before motion heads, forgot to define in forward pass function, but still saw diff, weird.)\n",
    "from src.model.dropout_v2_0_00_R2plus1D_18_MotionNet import dropout_v2_0_00_R2plus1D_18_MotionNet\n",
    "from src.model.dropout_v2_0_10_R2plus1D_18_MotionNet import dropout_v2_0_10_R2plus1D_18_MotionNet\n",
    "from src.model.dropout_v2_0_25_R2plus1D_18_MotionNet import dropout_v2_0_25_R2plus1D_18_MotionNet\n",
    "from src.model.dropout_v2_0_50_R2plus1D_18_MotionNet import dropout_v2_0_50_R2plus1D_18_MotionNet\n",
    "from src.model.dropout_v2_0_75_R2plus1D_18_MotionNet import dropout_v2_0_75_R2plus1D_18_MotionNet\n",
    "# v3 dropout (one dropout layer defined in forward pass func, this should've been the correct way to do it.)\n",
    "from src.model.dropout_v3_0_00_R2plus1D_18_MotionNet import dropout_v3_0_00_R2plus1D_18_MotionNet\n",
    "from src.model.dropout_v3_0_10_R2plus1D_18_MotionNet import dropout_v3_0_10_R2plus1D_18_MotionNet\n",
    "from src.model.dropout_v3_0_25_R2plus1D_18_MotionNet import dropout_v3_0_25_R2plus1D_18_MotionNet\n",
    "from src.model.dropout_v3_0_50_R2plus1D_18_MotionNet import dropout_v3_0_50_R2plus1D_18_MotionNet\n",
    "from src.model.dropout_v3_0_75_R2plus1D_18_MotionNet import dropout_v3_0_75_R2plus1D_18_MotionNet\n",
    "# v4 dropout (4 dropout layers in different places in the forward func, I'm going to guess more \"generalizable\")\n",
    "from src.model.dropout_v4_0_00_R2plus1D_18_MotionNet import dropout_v4_0_00_R2plus1D_18_MotionNet\n",
    "from src.model.dropout_v4_0_10_R2plus1D_18_MotionNet import dropout_v4_0_10_R2plus1D_18_MotionNet\n",
    "from src.model.dropout_v4_0_25_R2plus1D_18_MotionNet import dropout_v4_0_25_R2plus1D_18_MotionNet\n",
    "from src.model.dropout_v4_0_50_R2plus1D_18_MotionNet import dropout_v4_0_50_R2plus1D_18_MotionNet\n",
    "from src.model.dropout_v4_0_75_R2plus1D_18_MotionNet import dropout_v4_0_75_R2plus1D_18_MotionNet\n",
    "\n",
    "# for finding lv seg borders\n",
    "import cv2 as cv\n",
    "\n",
    "\n",
    "# from src.visualization_utils import categorical_dice\n",
    "\n",
    "import numpy as np\n",
    "from scipy.signal import find_peaks\n",
    "import matplotlib.pyplot as plt\n",
    "\n",
    "import torch\n",
    "import torch.nn as nn\n",
    "import torch.optim as optim\n",
    "\n",
    "import random\n",
    "import pickle\n",
    "import time\n",
    "\n",
    "tic, toc = (time.time, time.time)\n",
    "\n",
    "\n",
    "device = 'cuda' if torch.cuda.is_available() else 'cpu'\n",
    "device\n",
    "\n",
    "\n",
    "batch_size = 4\n",
    "num_workers = max(4, cpu_count()//2)\n",
    "\n",
    "\n",
    "def worker_init_fn_valid(worker_id):                                                          \n",
    "    np.random.seed(np.random.get_state()[1][0] + worker_id)\n",
    "    \n",
    "\n",
    "def worker_init_fn(worker_id):\n",
    "    # See here: https://pytorch.org/docs/stable/notes/randomness.html#dataloader\n",
    "    # and the original post of the problem: https://github.com/pytorch/pytorch/issues/5059#issuecomment-817373837\n",
    "    worker_seed = torch.initial_seed() % 2 ** 32\n",
    "    print(f'worker_seed: {worker_seed}')\n",
    "    np.random.seed(worker_seed)\n",
    "    random.seed(worker_seed)\n",
    "    \n",
    "\n",
    "def permuter(list1, list2):\n",
    "    for i1 in list1:\n",
    "        for i2 in list2:\n",
    "            yield (i1, i2)\n",
    "            \n",
    "\n",
    "param_trainLoader = {'collate_fn': torch_collate,\n",
    "                     'batch_size': batch_size,\n",
    "                     'num_workers': max(4, cpu_count()//2),\n",
    "                     'worker_init_fn': worker_init_fn}\n",
    "\n",
    "param_testLoader = {'collate_fn': torch_collate,\n",
    "                    'batch_size': batch_size,\n",
    "                    'shuffle': False,\n",
    "                    'num_workers': max(4, cpu_count()//2),\n",
    "                    'worker_init_fn': worker_init_fn}\n",
    "\n",
    "paramLoader = {'train': param_trainLoader,\n",
    "               'valid': param_testLoader,\n",
    "               'test':  param_testLoader}\n",
    "\n",
    "\n",
    "with open(\"fold_indexes/stanford_valid_sampled_indices\", \"rb\") as infile:\n",
    "    valid_mask = pickle.load(infile)\n",
    "infile.close()\n",
    "\n",
    "# full_dataset = EchoNetDynamicDataset(split='val', clip_length=\"full\", subset_indices=valid_mask, period=1)\n",
    "test_dataset = EchoNetDynamicDataset(split='test', clip_length=\"full\", raise_for_es_ed=False, period=1)\n",
    "# random_test_dataset = EchoNetDynamicDataset(split='test', clip_length=32, raise_for_es_ed=True, period=1)"
   ]
  },
  {
   "cell_type": "code",
   "execution_count": 3,
   "id": "0394b360-100b-4ffc-a17e-79b3040cc6de",
   "metadata": {},
   "outputs": [
    {
     "name": "stdout",
     "output_type": "stream",
     "text": [
      "Original_Pretrained_R2plus1DMotionSegNet.pth has 31575731 parameters.\n"
     ]
    }
   ],
   "source": [
    "model_save_path = f\"save_models/{model_name}\"\n",
    "    \n",
    "if model_name == 'Original_Pretrained_R2plus1DMotionSegNet.pth':\n",
    "    model_template_obj = R2plus1D_18_MotionNet()\n",
    "elif model_name == 'dropout_v2_0_00_R2plus1DMotionSegNet.pth':\n",
    "    model_template_obj = dropout_v2_0_00_R2plus1D_18_MotionNet()\n",
    "elif model_name == 'dropout_v2_0_10_R2plus1DMotionSegNet.pth':\n",
    "    model_template_obj = dropout_v2_0_10_R2plus1D_18_MotionNet()\n",
    "elif model_name == 'dropout_v2_0_25_R2plus1DMotionSegNet.pth':\n",
    "    model_template_obj = dropout_v2_0_25_R2plus1D_18_MotionNet()\n",
    "\n",
    "\n",
    "elif model_name == \"dropout_v3_0_00_R2plus1DMotionSegNet.pth\":\n",
    "    model_template_obj = dropout_v3_0_00_R2plus1D_18_MotionNet()\n",
    "elif model_name == \"dropout_v3_0_10_R2plus1DMotionSegNet.pth\":\n",
    "    model_template_obj = dropout_v3_0_10_R2plus1D_18_MotionNet()\n",
    "elif model_name == \"dropout_v3_0_25_R2plus1DMotionSegNet.pth\":\n",
    "    model_template_obj = dropout_v3_0_25_R2plus1D_18_MotionNet()\n",
    "elif model_name == \"dropout_v4_0_00_R2plus1DMotionSegNet.pth\":\n",
    "    model_template_obj = dropout_v4_0_00_R2plus1D_18_MotionNet()\n",
    "elif model_name == \"dropout_v4_0_10_R2plus1DMotionSegNet.pth\":\n",
    "    model_template_obj = dropout_v4_0_10_R2plus1D_18_MotionNet()\n",
    "elif model_name == \"dropout_v4_0_25_R2plus1DMotionSegNet.pth\":\n",
    "    model_template_obj = dropout_v4_0_25_R2plus1D_18_MotionNet()\n",
    "\n",
    "\n",
    "model = torch.nn.DataParallel(model_template_obj)\n",
    "\n",
    "model.to(\"cuda\")\n",
    "torch.cuda.empty_cache()\n",
    "model.load_state_dict(torch.load(model_save_path)[\"model\"])\n",
    "print(f'{model_name} has {sum(p.numel() for p in model.parameters() if p.requires_grad)} parameters.')\n",
    "model.eval();"
   ]
  },
  {
   "cell_type": "code",
   "execution_count": 4,
   "id": "ce4ab3b3-3138-4153-aa16-4090af3905a5",
   "metadata": {},
   "outputs": [],
   "source": [
    "from src.strain import *"
   ]
  },
  {
   "cell_type": "code",
   "execution_count": 5,
   "id": "b9d1e970-da55-4ab0-9661-c85d6b31cad5",
   "metadata": {},
   "outputs": [],
   "source": [
    "%matplotlib widget"
   ]
  },
  {
   "cell_type": "code",
   "execution_count": 6,
   "id": "6ad32b70-a425-4f3c-8b1c-8e72e4eaab00",
   "metadata": {},
   "outputs": [],
   "source": [
    "N = 3\n",
    "test_pat_index = 0\n",
    "\n",
    "curr_clip_segmentations, curr_clip_motions, delta_ed_es, clip_index, ed_label, es_label = get_seg_and_warp_data(model = model,\n",
    "                                                                                            test_dataset = test_dataset,\n",
    "                                                                                            test_pat_index = test_pat_index)\n",
    "    \n",
    "ed_raw_seg_out = curr_clip_segmentations[:,0,...]\n",
    "\n",
    "ed_one_hot_seg_out = one_hot(ed_raw_seg_out)\n"
   ]
  },
  {
   "cell_type": "code",
   "execution_count": 7,
   "id": "4c5f6f06-d2b4-4b98-b8a3-2266aa926644",
   "metadata": {},
   "outputs": [
    {
     "name": "stderr",
     "output_type": "stream",
     "text": [
      "/home/wang/workspace/JupyterNoteBooksAll/fully-automated-multi-heartbeat-echocardiography-video-segmentation-and-motion-tracking/src/strain.py:1070: VisibleDeprecationWarning: Creating an ndarray from ragged nested sequences (which is a list-or-tuple of lists-or-tuples-or ndarrays with different lengths or shapes) is deprecated. If you meant to do this, you must specify 'dtype=object' when creating the ndarray\n",
      "  I_regional_point_sets = np.array(I_regional_point_sets)\n"
     ]
    }
   ],
   "source": [
    "I = ed_one_hot_seg_out\n",
    "\n",
    "I_regional_point_sets = image_to_regional_point_sets(I)"
   ]
  },
  {
   "cell_type": "code",
   "execution_count": 8,
   "id": "00062202-9487-47bf-9e98-9f52a14a5151",
   "metadata": {},
   "outputs": [
    {
     "data": {
      "application/vnd.jupyter.widget-view+json": {
       "model_id": "f753bb27d0b34fd19b6871c6acde7998",
       "version_major": 2,
       "version_minor": 0
      },
      "image/png": "[encoded data removed]",
      "text/html": [
       "\n",
       "            <div style=\"display: inline-block;\">\n",
       "                <div class=\"jupyter-widgets widget-label\" style=\"text-align: center;\">\n",
       "                    Figure\n",
       "                </div>\n",
       "                <img src='data:image/png;base64,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' width=800.0/>\n",
       "            </div>\n",
       "        "
      ],
      "text/plain": [
       "Canvas(toolbar=Toolbar(toolitems=[('Home', 'Reset original view', 'home', 'home'), ('Back', 'Back to previous …"
      ]
     },
     "metadata": {},
     "output_type": "display_data"
    }
   ],
   "source": [
    "vis_single(I, cmap='gray')"
   ]
  },
  {
   "cell_type": "code",
   "execution_count": 9,
   "id": "4c68e66b-58f8-4b5a-93d8-2e0a31e7097f",
   "metadata": {},
   "outputs": [
    {
     "data": {
      "application/vnd.jupyter.widget-view+json": {
       "model_id": "2806c20c6bd14b98b2eff22204e210eb",
       "version_major": 2,
       "version_minor": 0
      },
      "image/png": "[encoded data removed]",
      "text/html": [
       "\n",
       "            <div style=\"display: inline-block;\">\n",
       "                <div class=\"jupyter-widgets widget-label\" style=\"text-align: center;\">\n",
       "                    Figure\n",
       "                </div>\n",
       "                <img src='data:image/png;base64,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' width=1000.0/>\n",
       "            </div>\n",
       "        "
      ],
      "text/plain": [
       "Canvas(toolbar=Toolbar(toolitems=[('Home', 'Reset original view', 'home', 'home'), ('Back', 'Back to previous …"
      ]
     },
     "metadata": {},
     "output_type": "display_data"
    }
   ],
   "source": [
    "vis_three_point_sets(I_regional_point_sets)"
   ]
  },
  {
   "cell_type": "code",
   "execution_count": 10,
   "id": "3e310125-e574-4ace-81bc-edfbb2f317af",
   "metadata": {},
   "outputs": [
    {
     "name": "stdout",
     "output_type": "stream",
     "text": [
      "(36, 2)\n",
      "(39, 2)\n",
      "(30, 2)\n"
     ]
    }
   ],
   "source": [
    "for i in range(N):\n",
    "    print(I_regional_point_sets[i].shape)"
   ]
  },
  {
   "cell_type": "markdown",
   "id": "feb28b9c-05b7-431f-ad05-3f9b80384b3f",
   "metadata": {},
   "source": [
    "## Warping the point set forward in time from frame `0` to frame `1` is easy. \n",
    "## Warping from frame `1` to further frames is difficult because we need to interpolate the vector fields from their integer locations to our frame `1` and beyond frames floating point positions"
   ]
  },
  {
   "cell_type": "code",
   "execution_count": 11,
   "id": "2f5e8a6f-385d-4b21-91b5-757ec1a7951b",
   "metadata": {},
   "outputs": [],
   "source": [
    "I_apical_point_set = I_regional_point_sets[0]\n",
    "\n",
    "coords = I_apical_point_set\n",
    "\n",
    "coords_multiple_frames = np.array([coords]).astype(float)"
   ]
  },
  {
   "cell_type": "code",
   "execution_count": 12,
   "id": "c88d825f-17d7-4693-8a26-6227a384c4cd",
   "metadata": {},
   "outputs": [],
   "source": [
    "frame = 0\n",
    "\n",
    "# warp forward all the current points\n",
    "coords_1 = []\n",
    "for _ in range(len(coords)):\n",
    "    pair = coords[_]\n",
    "\n",
    "    i_0,j_0 = pair[0],pair[1]\n",
    "\n",
    "    # forward change in y\n",
    "    delta_i = curr_clip_motions[1][frame][i_0][j_0]\n",
    "\n",
    "    # forward change in x\n",
    "    delta_j = curr_clip_motions[0][frame][i_0][j_0]\n",
    "\n",
    "    i_1, j_1 = i_0 + delta_i , j_0 + delta_j\n",
    "    \n",
    "    # print(i_1, j_1)\n",
    "\n",
    "    coords_1.append([i_1, j_1])\n",
    "\n",
    "coords_1 = np.array(coords_1)\n",
    "\n",
    "coords_multiple_frames = np.insert(coords_multiple_frames, 1, coords_1, axis=0)\n",
    "\n",
    "coords_multiple_frames = coords_multiple_frames"
   ]
  },
  {
   "cell_type": "code",
   "execution_count": 13,
   "id": "b6f7aa67-80b6-4642-ba4d-6818bea85c73",
   "metadata": {},
   "outputs": [
    {
     "data": {
      "text/plain": [
       "(2, 36, 2)"
      ]
     },
     "execution_count": 13,
     "metadata": {},
     "output_type": "execute_result"
    }
   ],
   "source": [
    "coords_multiple_frames.shape"
   ]
  },
  {
   "cell_type": "code",
   "execution_count": 14,
   "id": "ff8763e9-ccb9-48e6-8840-22523865ef58",
   "metadata": {},
   "outputs": [],
   "source": [
    "def cart2pol(x, y):\n",
    "    rho = np.sqrt(x**2 + y**2)\n",
    "    phi = np.arctan2(y, x)\n",
    "    # return(rho, phi)\n",
    "    return np.array([rho, phi])\n",
    "\n",
    "def pol2cart(rho, phi):\n",
    "    x = rho * np.cos(phi)\n",
    "    y = rho * np.sin(phi)\n",
    "    # return(x, y)\n",
    "    # return np.vstack([x, y]).T\n",
    "    return np.array([rho, phi])"
   ]
  },
  {
   "cell_type": "code",
   "execution_count": 15,
   "id": "3748684c-503a-4c07-81cf-3608fcacb55f",
   "metadata": {},
   "outputs": [],
   "source": [
    "def vec2pol(v):\n",
    "    '''\n",
    "    input:\n",
    "        v - ((i, j), (del_i, del_j))\n",
    "        magnitude of this vector is described by the |v| = sqrt(del_x^2 + del_y^2)\n",
    "    output:\n",
    "        v - ((i, j), (rho, theta))\n",
    "    '''\n",
    "    delta_x = v[1][1]\n",
    "    delta_y = v[1][0]\n",
    "    \n",
    "    v[1] = cart2pol(delta_x, delta_y)\n",
    "    return v"
   ]
  },
  {
   "cell_type": "code",
   "execution_count": 16,
   "id": "90a17213-d54c-41bc-8841-b30b310b7c2e",
   "metadata": {},
   "outputs": [
    {
     "data": {
      "text/plain": [
       "(4, 32, 112, 112)"
      ]
     },
     "execution_count": 16,
     "metadata": {},
     "output_type": "execute_result"
    }
   ],
   "source": [
    "curr_clip_motions.shape"
   ]
  },
  {
   "cell_type": "code",
   "execution_count": 17,
   "id": "7a07cc65-ece1-4b6b-8735-f32e9ccc2069",
   "metadata": {},
   "outputs": [],
   "source": [
    "# getting the forward vectors at frame = 1\n",
    "motion_vectors = {}\n",
    "frame = 1\n",
    "\n",
    "for i in range(curr_clip_motions.shape[2]):\n",
    "    for j in range(curr_clip_motions.shape[3]):\n",
    "        \n",
    "        if i not in motion_vectors:\n",
    "            motion_vectors[i] = {}\n",
    "\n",
    "        motion_vectors[i][j] = [curr_clip_motions[0][frame][i][j], curr_clip_motions[1][frame][i][j]]"
   ]
  },
  {
   "cell_type": "code",
   "execution_count": 18,
   "id": "22b2446b-7f20-4d14-8333-e91c7767b1de",
   "metadata": {},
   "outputs": [
    {
     "data": {
      "text/plain": [
       "array([23.02076344, 47.97884218])"
      ]
     },
     "execution_count": 18,
     "metadata": {},
     "output_type": "execute_result"
    }
   ],
   "source": [
    "point = coords_multiple_frames[1][0] # one point at frame 1, need to now warp using frame 1 vectors\n",
    "point"
   ]
  },
  {
   "cell_type": "code",
   "execution_count": 19,
   "id": "d8cec135-57ee-4d86-abff-64e0e0b064a8",
   "metadata": {},
   "outputs": [],
   "source": [
    "# need vectors at this i,j\n",
    "# first get the 4 vectors surrounding this vector\n",
    "inted_i, inted_j = int(point[0]), int(point[1])\n",
    "surround_vectors = [ [inted_i, inted_j],\n",
    "                     [inted_i, inted_j+1],\n",
    "                     [inted_i+1, inted_j],\n",
    "                     [inted_i+1, inted_j+1] ]\n",
    "\n",
    "# get the distance from the current point to each surrounding vector\n",
    "def get_distance(x2,y2,x1,y1):\n",
    "    return np.sqrt((x2-x1)**2 + (y2-y1)**2)\n",
    "\n",
    "def distance_btwn_points(p0,p1):\n",
    "    x2 = p1[0]\n",
    "    y2 = p1[1]\n",
    "    x1 = p0[0]\n",
    "    y1 = p0[1]\n",
    "    return get_distance(x2,y2,x1,y1)\n",
    "    \n",
    "\n",
    "distances = []\n",
    "p0 = ij_to_xy(point)\n",
    "for i in range(len(surround_vectors)):\n",
    "    i_ = surround_vectors[i][0]\n",
    "    j_ = surround_vectors[i][1]\n",
    "    \n",
    "    p1 = ij_to_xy([i_, j_])\n",
    "    \n",
    "    distances.append(distance_btwn_points(p0,p1))"
   ]
  },
  {
   "cell_type": "code",
   "execution_count": 20,
   "id": "bff0422d-2402-49a3-a07b-ec3092376d69",
   "metadata": {},
   "outputs": [],
   "source": [
    "distances = distances / np.sum(distances)\n",
    "weights = 1.0 - distances\n",
    "weights = weights / np.sum(weights)"
   ]
  },
  {
   "cell_type": "code",
   "execution_count": 21,
   "id": "40e5b005-eb5b-494f-8c00-6bc6ac4fa3f3",
   "metadata": {},
   "outputs": [
    {
     "data": {
      "text/plain": [
       "(array([0.23657109, 0.33040356, 0.19649407, 0.23653129]), 1.0000000000000002)"
      ]
     },
     "execution_count": 21,
     "metadata": {},
     "output_type": "execute_result"
    }
   ],
   "source": [
    "weights, np.sum(weights)"
   ]
  },
  {
   "cell_type": "code",
   "execution_count": 22,
   "id": "8f5397f4-8f5c-4f10-8345-18ed6892ea48",
   "metadata": {},
   "outputs": [],
   "source": [
    "# assuming our weights is correct, let us apply the interpolation on the vectors\n",
    "surround_vectors_with_displacement_in_cart = []\n",
    "for i,j in surround_vectors:\n",
    "    \n",
    "    forward_x = motion_vectors[i][j][0]\n",
    "    forward_y = motion_vectors[i][j][1]\n",
    "    \n",
    "    forward_i = forward_y\n",
    "    forward_j = forward_x\n",
    "    \n",
    "    surround_vectors_with_displacement_in_cart.append( [[i,j],[forward_i, forward_j]] )\n",
    "    \n",
    "surround_vectors_with_displacement_in_cart = np.array(surround_vectors_with_displacement_in_cart)"
   ]
  },
  {
   "cell_type": "code",
   "execution_count": 23,
   "id": "df8e57e7-11bb-4d96-b374-0f16054f2ee9",
   "metadata": {},
   "outputs": [
    {
     "data": {
      "text/plain": [
       "array([[[ 2.30000000e+01,  4.70000000e+01],\n",
       "        [ 2.39034574e-02, -3.85991931e-02]],\n",
       "\n",
       "       [[ 2.30000000e+01,  4.80000000e+01],\n",
       "        [ 1.26686990e-02, -2.62218639e-02]],\n",
       "\n",
       "       [[ 2.40000000e+01,  4.70000000e+01],\n",
       "        [ 3.01304497e-02, -4.47502658e-02]],\n",
       "\n",
       "       [[ 2.40000000e+01,  4.80000000e+01],\n",
       "        [ 4.02379446e-02,  1.80606805e-02]]])"
      ]
     },
     "execution_count": 23,
     "metadata": {},
     "output_type": "execute_result"
    }
   ],
   "source": [
    "surround_vectors_with_displacement_in_cart"
   ]
  },
  {
   "cell_type": "code",
   "execution_count": 24,
   "id": "e3f5a22d-24b8-47e5-98fd-fa98f5480777",
   "metadata": {},
   "outputs": [
    {
     "data": {
      "text/plain": [
       "(4, 2, 2)"
      ]
     },
     "execution_count": 24,
     "metadata": {},
     "output_type": "execute_result"
    }
   ],
   "source": [
    "surround_vectors_with_displacement_in_cart.shape"
   ]
  },
  {
   "cell_type": "code",
   "execution_count": 25,
   "id": "c3906f36-a82c-497b-be2a-ba5111472cda",
   "metadata": {},
   "outputs": [],
   "source": [
    "# convert into polar\n",
    "surround_vectors_with_displacement_in_polar = []\n",
    "for v in surround_vectors_with_displacement_in_cart:\n",
    "    surround_vectors_with_displacement_in_polar.append(vec2pol(v))\n",
    "    \n",
    "surround_vectors_with_displacement_in_polar = np.array(surround_vectors_with_displacement_in_polar)"
   ]
  },
  {
   "cell_type": "code",
   "execution_count": 26,
   "id": "e3bca19d-7f7b-43a3-b92c-e335eca1f247",
   "metadata": {},
   "outputs": [],
   "source": [
    "surround_vectors_with_displacement_in_polar_just_rho_theta = surround_vectors_with_displacement_in_polar[: , 1, ...]"
   ]
  },
  {
   "cell_type": "code",
   "execution_count": 27,
   "id": "afd2e99a-6fc5-4855-bbfd-fae00b733981",
   "metadata": {},
   "outputs": [
    {
     "data": {
      "text/plain": [
       "(array([[0.04540124, 2.58712187],\n",
       "        [0.02912185, 2.69152788],\n",
       "        [0.0539484 , 2.54901032],\n",
       "        [0.04410533, 1.14890165]]),\n",
       " (4, 2))"
      ]
     },
     "execution_count": 27,
     "metadata": {},
     "output_type": "execute_result"
    }
   ],
   "source": [
    "surround_vectors_with_displacement_in_polar_just_rho_theta, surround_vectors_with_displacement_in_polar_just_rho_theta.shape"
   ]
  },
  {
   "cell_type": "code",
   "execution_count": 28,
   "id": "bf7aadce-a282-48b1-b5b9-ce189626f4d8",
   "metadata": {},
   "outputs": [
    {
     "data": {
      "text/plain": [
       "(array([0.23657109, 0.33040356, 0.19649407, 0.23653129]), (4,))"
      ]
     },
     "execution_count": 28,
     "metadata": {},
     "output_type": "execute_result"
    }
   ],
   "source": [
    "weights, weights.shape"
   ]
  },
  {
   "cell_type": "code",
   "execution_count": 29,
   "id": "47f54ec8-4084-4f85-957f-b330c4c39413",
   "metadata": {},
   "outputs": [],
   "source": [
    "# do linear interpolation on the rho, theta (leave the i,j coords alone!)\n",
    "def linear_interp(weights, vectors):\n",
    "    x = []\n",
    "    y = []\n",
    "    for i,v in enumerate(vectors):\n",
    "        x.append(weights[i]*v[0])\n",
    "        y.append(weights[i]*v[1])\n",
    "    return np.array([np.sum(x), np.sum(y)])"
   ]
  },
  {
   "cell_type": "code",
   "execution_count": 31,
   "id": "cb9d2fb3-8e4d-440d-8557-62a788a5880e",
   "metadata": {},
   "outputs": [],
   "source": [
    "point_displacement_in_polar = linear_interp(weights, surround_vectors_with_displacement_in_polar_just_rho_theta)\n",
    "\n",
    "point_displacement_in_cart =  pol2cart(point_displacement_in_polar[0], point_displacement_in_polar[1]) # this will be in xy\n",
    "point_displacement_in_cart = ij_to_xy(point_displacement_in_cart) # now in ij"
   ]
  },
  {
   "cell_type": "code",
   "execution_count": 32,
   "id": "61a2cc25-9a2e-4a3c-a538-1be4244806c1",
   "metadata": {},
   "outputs": [
    {
     "data": {
      "text/plain": [
       "array([2.27394522, 0.04139542])"
      ]
     },
     "execution_count": 32,
     "metadata": {},
     "output_type": "execute_result"
    }
   ],
   "source": [
    "point_displacement_in_cart"
   ]
  },
  {
   "cell_type": "code",
   "execution_count": 33,
   "id": "b34674ad-5cb9-45c0-a261-2658387b96c8",
   "metadata": {},
   "outputs": [],
   "source": [
    "# i,j rooted at the old point\n",
    "# delta_i, delta_j is the new interpolated displacement \n",
    "new_vector = np.array([point, point_displacement_in_cart])"
   ]
  },
  {
   "cell_type": "code",
   "execution_count": 34,
   "id": "bc2d5b43-8a44-4e4b-9ba5-4dca03d69d74",
   "metadata": {},
   "outputs": [
    {
     "data": {
      "text/plain": [
       "array([[2.30207634e+01, 4.79788422e+01],\n",
       "       [2.27394522e+00, 4.13954166e-02]])"
      ]
     },
     "execution_count": 34,
     "metadata": {},
     "output_type": "execute_result"
    }
   ],
   "source": [
    "new_vector"
   ]
  },
  {
   "cell_type": "code",
   "execution_count": 35,
   "id": "c6f9c637-f0b6-407c-8a69-88b92b462fdb",
   "metadata": {},
   "outputs": [],
   "source": [
    "# assuming I didn't fuck something up, these are our delta_i, delta_j (maybe they are instead delta_x, delta_y)\n",
    "# create new point (frame 1 point + displacement we just created)\n",
    "\n",
    "new_point = new_vector[0] + new_vector[1]"
   ]
  },
  {
   "cell_type": "code",
   "execution_count": 36,
   "id": "7a3b5402-f8f4-40d1-b6d1-66ad2bee7cd8",
   "metadata": {},
   "outputs": [
    {
     "data": {
      "text/plain": [
       "array([25.29470866, 48.0202376 ])"
      ]
     },
     "execution_count": 36,
     "metadata": {},
     "output_type": "execute_result"
    }
   ],
   "source": [
    "new_point"
   ]
  },
  {
   "cell_type": "markdown",
   "id": "053ffd36-753d-4a40-b0be-7439e8e5ae76",
   "metadata": {},
   "source": [
    "## Well, let's first see if our vector interpolation is plausible"
   ]
  },
  {
   "cell_type": "code",
   "execution_count": 37,
   "id": "27d98e6b-631f-4c86-9745-5f24a1ae44e5",
   "metadata": {},
   "outputs": [],
   "source": [
    "def check_interpolate(surround_vectors, new_vector):\n",
    "    '''\n",
    "    assume data format: ((i, j), (delta_i, delta_j)) for all vectors\n",
    "    \n",
    "    surround_vectors (4,2,2)\n",
    "    new_vector (2,2)\n",
    "\n",
    "    always the headeache of knowing (i probably messed it up at some point)\n",
    "    x = j\n",
    "    y = i\n",
    "    '''\n",
    "    \n",
    "    x = surround_vectors[:, 0, 1]\n",
    "    y = surround_vectors[:, 0, 0]\n",
    "    \n",
    "    x_1 = new_vector[0, 1]\n",
    "    y_1 = new_vector[0, 0]\n",
    "    \n",
    "    delta_x = surround_vectors[:, 1, 1]\n",
    "    delta_y = surround_vectors[:, 1, 0]\n",
    "    \n",
    "    delta_x_1 = new_vector[1, 1]\n",
    "    delta_y_1 = new_vector[1, 0]\n",
    "    \n",
    "    f, ax = plt.subplots(1,1,figsize=(5,5))\n",
    "    ax.quiver(x, y, delta_x, delta_y, color='k', linewidth=0.7)\n",
    "    ax.quiver(x_1, y_1, delta_x_1, delta_y_1, color='b', linewidth=0.7)\n",
    "    ax.invert_yaxis()"
   ]
  },
  {
   "cell_type": "code",
   "execution_count": 38,
   "id": "9ba12d84-1229-472d-a4d3-eb23818cf757",
   "metadata": {},
   "outputs": [
    {
     "data": {
      "application/vnd.jupyter.widget-view+json": {
       "model_id": "99951c6ca6e44d03a3767035b9fe2537",
       "version_major": 2,
       "version_minor": 0
      },
      "image/png": "[encoded data removed]",
      "text/html": [
       "\n",
       "            <div style=\"display: inline-block;\">\n",
       "                <div class=\"jupyter-widgets widget-label\" style=\"text-align: center;\">\n",
       "                    Figure\n",
       "                </div>\n",
       "                <img src='data:image/png;base64,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' width=500.0/>\n",
       "            </div>\n",
       "        "
      ],
      "text/plain": [
       "Canvas(toolbar=Toolbar(toolitems=[('Home', 'Reset original view', 'home', 'home'), ('Back', 'Back to previous …"
      ]
     },
     "metadata": {},
     "output_type": "display_data"
    }
   ],
   "source": [
    "check_interpolate(surround_vectors_with_displacement_in_cart, new_vector)"
   ]
  },
  {
   "cell_type": "code",
   "execution_count": null,
   "id": "fce12f1c-8c2c-408e-b8b4-9a11e1217226",
   "metadata": {},
   "outputs": [],
   "source": []
  }
 ],
 "metadata": {
  "kernelspec": {
   "display_name": "Python 3",
   "language": "python",
   "name": "python3"
  },
  "language_info": {
   "codemirror_mode": {
    "name": "ipython",
    "version": 3
   },
   "file_extension": ".py",
   "mimetype": "text/x-python",
   "name": "python",
   "nbconvert_exporter": "python",
   "pygments_lexer": "ipython3",
   "version": "3.7.6"
  }
 },
 "nbformat": 4,
 "nbformat_minor": 5
}
