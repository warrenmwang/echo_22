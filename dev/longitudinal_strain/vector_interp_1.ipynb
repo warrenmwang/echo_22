{
 "cells": [
  {
   "cell_type": "code",
   "execution_count": 1,
   "id": "938e6962-52f6-4596-a1a6-92ab4b850717",
   "metadata": {},
   "outputs": [],
   "source": [
    "import numpy as np\n",
    "from scipy.interpolate import interpn"
   ]
  },
  {
   "cell_type": "code",
   "execution_count": 2,
   "id": "103626ad-2406-4475-833f-6e098ba1cdfd",
   "metadata": {},
   "outputs": [],
   "source": [
    "def value_func_3d(x, y, z):\n",
    "    return 2 * x + 3 * y - z"
   ]
  },
  {
   "cell_type": "code",
   "execution_count": 3,
   "id": "51d44daf-b701-4264-abdb-83d1d6b28df7",
   "metadata": {},
   "outputs": [],
   "source": [
    "x = np.linspace(0, 4, 5)\n",
    "\n",
    "y = np.linspace(0, 5, 6)\n",
    "\n",
    "z = np.linspace(0, 6, 7)\n",
    "\n",
    "points = (x, y, z)\n",
    "\n",
    "values = value_func_3d(*np.meshgrid(*points, indexing='ij'))"
   ]
  },
  {
   "cell_type": "code",
   "execution_count": 6,
   "id": "70c5fa84-ee79-4685-81c2-fb7dc15969a2",
   "metadata": {},
   "outputs": [],
   "source": [
    "point = np.array([2.21, 3.12, 1.15])"
   ]
  },
  {
   "cell_type": "code",
   "execution_count": 8,
   "id": "d9ac4fe8-20e7-4e09-a2ae-4a106f7a04cb",
   "metadata": {},
   "outputs": [
    {
     "name": "stdout",
     "output_type": "stream",
     "text": [
      "[12.63]\n"
     ]
    }
   ],
   "source": [
    "print(interpn(points, values, point))"
   ]
  },
  {
   "cell_type": "code",
   "execution_count": null,
   "id": "dd6eeeea-6f6a-4ea0-95d5-1c436a0a2214",
   "metadata": {},
   "outputs": [],
   "source": []
  }
 ],
 "metadata": {
  "kernelspec": {
   "display_name": "Python 3",
   "language": "python",
   "name": "python3"
  },
  "language_info": {
   "codemirror_mode": {
    "name": "ipython",
    "version": 3
   },
   "file_extension": ".py",
   "mimetype": "text/x-python",
   "name": "python",
   "nbconvert_exporter": "python",
   "pygments_lexer": "ipython3",
   "version": "3.7.6"
  }
 },
 "nbformat": 4,
 "nbformat_minor": 5
}
