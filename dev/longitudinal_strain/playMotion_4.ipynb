{
 "cells": [
  {
   "cell_type": "code",
   "execution_count": 1,
   "id": "7cecde8c-48a3-42e4-b2d7-080ce155d411",
   "metadata": {},
   "outputs": [],
   "source": [
    "model_names = [\"Original_Pretrained_R2plus1DMotionSegNet.pth\"]"
   ]
  },
  {
   "cell_type": "code",
   "execution_count": 2,
   "id": "9fa33cb4-0215-424c-9294-b127fadfff48",
   "metadata": {},
   "outputs": [
    {
     "name": "stdout",
     "output_type": "stream",
     "text": [
      "/home/wang/workspace/JupyterNoteBooksAll/fully-automated-multi-heartbeat-echocardiography-video-segmentation-and-motion-tracking\n"
     ]
    },
    {
     "data": {
      "text/plain": [
       "'cuda'"
      ]
     },
     "execution_count": 2,
     "metadata": {},
     "output_type": "execute_result"
    }
   ],
   "source": [
    "import os\n",
    "os.chdir(\"/home/wang/workspace/JupyterNoteBooksAll/fully-automated-multi-heartbeat-echocardiography-video-segmentation-and-motion-tracking\")\n",
    "print(os.getcwd())\n",
    "\n",
    "%config Completer.use_jedi = False\n",
    "\n",
    "import SimpleITK as itk\n",
    "from LabelFusion.wrapper import fuse_images\n",
    "\n",
    "import echonet\n",
    "from echonet.datasets import Echo\n",
    "\n",
    "import torch.nn.functional as F\n",
    "from torchvision.models.video import r2plus1d_18\n",
    "from torch.utils.data import Dataset, DataLoader, Subset\n",
    "from multiprocessing import cpu_count\n",
    "\n",
    "from src.utils.torch_utils import TransformDataset, torch_collate\n",
    "from src.utils.echo_utils import get2dPucks\n",
    "from src.utils.camus_validate import cleanupSegmentation\n",
    "from src.transform_utils import generate_2dmotion_field\n",
    "from src.visualization_utils import categorical_dice\n",
    "from src.loss_functions import huber_loss, convert_to_1hot, convert_to_1hot_tensor\n",
    "from src.echonet_dataset import EDESpairs, EchoNetDynamicDataset\n",
    "\n",
    "from src.model.R2plus1D_18_MotionNet import R2plus1D_18_MotionNet\n",
    "\n",
    "# v1 dropout, not in place dropout\n",
    "from src.model.dropout_0_10_R2plus1D_18_MotionNet import dropout_0_10_R2plus1D_18_MotionNet\n",
    "from src.model.dropout_0_25_R2plus1D_18_MotionNet import dropout_0_25_R2plus1D_18_MotionNet\n",
    "from src.model.dropout_0_50_R2plus1D_18_MotionNet import dropout_0_50_R2plus1D_18_MotionNet\n",
    "from src.model.dropout_0_75_R2plus1D_18_MotionNet import dropout_0_75_R2plus1D_18_MotionNet\n",
    "\n",
    "# v2 dropout (in place before motion heads)\n",
    "from src.model.dropout_v2_0_00_R2plus1D_18_MotionNet import dropout_v2_0_00_R2plus1D_18_MotionNet\n",
    "from src.model.dropout_v2_0_10_R2plus1D_18_MotionNet import dropout_v2_0_10_R2plus1D_18_MotionNet\n",
    "from src.model.dropout_v2_0_25_R2plus1D_18_MotionNet import dropout_v2_0_25_R2plus1D_18_MotionNet\n",
    "\n",
    "\n",
    "\n",
    "# from src.visualization_utils import categorical_dice\n",
    "\n",
    "import numpy as np\n",
    "from scipy.signal import find_peaks\n",
    "import matplotlib.pyplot as plt\n",
    "\n",
    "import torch\n",
    "import torch.nn as nn\n",
    "import torch.optim as optim\n",
    "\n",
    "import random\n",
    "import pickle\n",
    "import time\n",
    "\n",
    "tic, toc = (time.time, time.time)\n",
    "\n",
    "\n",
    "device = 'cuda' if torch.cuda.is_available() else 'cpu'\n",
    "device"
   ]
  },
  {
   "cell_type": "code",
   "execution_count": 3,
   "id": "fc78b14c-f5b6-483d-814f-ee5285b17697",
   "metadata": {},
   "outputs": [],
   "source": [
    "batch_size = 4\n",
    "num_workers = max(4, cpu_count()//2)\n",
    "\n",
    "\n",
    "def worker_init_fn_valid(worker_id):                                                          \n",
    "    np.random.seed(np.random.get_state()[1][0] + worker_id)\n",
    "    \n",
    "\n",
    "def worker_init_fn(worker_id):\n",
    "    # See here: https://pytorch.org/docs/stable/notes/randomness.html#dataloader\n",
    "    # and the original post of the problem: https://github.com/pytorch/pytorch/issues/5059#issuecomment-817373837\n",
    "    worker_seed = torch.initial_seed() % 2 ** 32\n",
    "    print(f'worker_seed: {worker_seed}')\n",
    "    np.random.seed(worker_seed)\n",
    "    random.seed(worker_seed)\n",
    "    \n",
    "\n",
    "def permuter(list1, list2):\n",
    "    for i1 in list1:\n",
    "        for i2 in list2:\n",
    "            yield (i1, i2)\n",
    "            \n",
    "\n",
    "param_trainLoader = {'collate_fn': torch_collate,\n",
    "                     'batch_size': batch_size,\n",
    "                     'num_workers': max(4, cpu_count()//2),\n",
    "                     'worker_init_fn': worker_init_fn}\n",
    "\n",
    "param_testLoader = {'collate_fn': torch_collate,\n",
    "                    'batch_size': batch_size,\n",
    "                    'shuffle': False,\n",
    "                    'num_workers': max(4, cpu_count()//2),\n",
    "                    'worker_init_fn': worker_init_fn}\n",
    "\n",
    "paramLoader = {'train': param_trainLoader,\n",
    "               'valid': param_testLoader,\n",
    "               'test':  param_testLoader}"
   ]
  },
  {
   "cell_type": "code",
   "execution_count": 4,
   "id": "41ae6af9-9774-4ad3-a87a-6b64cab7d7a2",
   "metadata": {},
   "outputs": [
    {
     "name": "stderr",
     "output_type": "stream",
     "text": [
      "100%|██████████| 16/16 [00:01<00:00, 13.87it/s]\n",
      "100%|██████████| 16/16 [00:01<00:00, 14.42it/s]\n",
      "100%|██████████| 16/16 [00:01<00:00, 13.64it/s]\n"
     ]
    }
   ],
   "source": [
    "with open(\"fold_indexes/stanford_valid_sampled_indices\", \"rb\") as infile:\n",
    "    valid_mask = pickle.load(infile)\n",
    "infile.close()\n",
    "\n",
    "full_dataset = EchoNetDynamicDataset(split='val', clip_length=\"full\", subset_indices=valid_mask, period=1)\n",
    "test_dataset = EchoNetDynamicDataset(split='test', clip_length=\"full\", raise_for_es_ed=False, period=1)\n",
    "random_test_dataset = EchoNetDynamicDataset(split='test', clip_length=32, raise_for_es_ed=True, period=1)\n",
    "\n"
   ]
  },
  {
   "cell_type": "code",
   "execution_count": 5,
   "id": "6789ac42-9f6f-4e7e-a22d-1106d1524fe2",
   "metadata": {},
   "outputs": [
    {
     "name": "stdout",
     "output_type": "stream",
     "text": [
      "Original_Pretrained_R2plus1DMotionSegNet.pth has 31575731 parameters.\n",
      "1\n"
     ]
    }
   ],
   "source": [
    "loaded_in_models = []\n",
    "\n",
    "for model_name in model_names:\n",
    "    model_save_path = f\"save_models/{model_name}\"\n",
    "     \n",
    "    \n",
    "    if model_name == 'Original_Pretrained_R2plus1DMotionSegNet.pth':\n",
    "        model_template_obj = R2plus1D_18_MotionNet()\n",
    "    elif model_name == 'dropout_v2_0_00_R2plus1DMotionSegNet.pth':\n",
    "        model_template_obj = dropout_v2_0_00_R2plus1D_18_MotionNet()\n",
    "        \n",
    "    elif model_name == \"dropout_v3_0_00_R2plus1D_18_MotionNet.pth\":\n",
    "        model_template_obj = dropout_v3_0_00_R2plus1D_18_MotionNet()\n",
    "    elif model_name == \"dropout_v3_0_10_R2plus1D_18_MotionNet.pth\":\n",
    "        model_template_obj = dropout_v3_0_10_R2plus1D_18_MotionNet()\n",
    "    elif model_name == \"dropout_v3_0_25_R2plus1D_18_MotionNet.pth\":\n",
    "        model_template_obj = dropout_v3_0_25_R2plus1D_18_MotionNet()\n",
    "    elif model_name == \"dropout_v4_0_00_R2plus1D_18_MotionNet.pth\":\n",
    "        model_template_obj = dropout_v4_0_00_R2plus1D_18_MotionNet()\n",
    "    elif model_name == \"dropout_v4_0_10_R2plus1D_18_MotionNet.pth\":\n",
    "        model_template_obj = dropout_v4_0_10_R2plus1D_18_MotionNet()\n",
    "    elif model_name == \"dropout_v4_0_25_R2plus1D_18_MotionNet.pth\":\n",
    "        model_template_obj = dropout_v4_0_25_R2plus1D_18_MotionNet()\n",
    "\n",
    "\n",
    "    model = torch.nn.DataParallel(model_template_obj)\n",
    "\n",
    "\n",
    "    \n",
    "    model.to(\"cuda\")\n",
    "    torch.cuda.empty_cache()\n",
    "    model.load_state_dict(torch.load(model_save_path)[\"model\"])\n",
    "    print(f'{model_name} has {sum(p.numel() for p in model.parameters() if p.requires_grad)} parameters.')\n",
    "    model.eval();\n",
    "    \n",
    "    loaded_in_models.append((model_name, model))\n",
    "\n",
    "print(len(loaded_in_models))"
   ]
  },
  {
   "cell_type": "code",
   "execution_count": 6,
   "id": "09537a64-1b63-43d5-b125-c3b73682d181",
   "metadata": {},
   "outputs": [],
   "source": [
    "# test_pat_index = np.random.randint(len(test_dataset))\n",
    "test_pat_index = 0 \n",
    "\n",
    "video, (filename, EF, es_clip_index, ed_clip_index, es_index, ed_index, es_frame, ed_frame, es_label, ed_label) = test_dataset[test_pat_index]"
   ]
  },
  {
   "cell_type": "code",
   "execution_count": 7,
   "id": "37d7d3a8-132b-4de0-b8b3-465bb4aff94f",
   "metadata": {},
   "outputs": [
    {
     "data": {
      "text/plain": [
       "<matplotlib.image.AxesImage at 0x7f80f79bf250>"
      ]
     },
     "execution_count": 7,
     "metadata": {},
     "output_type": "execute_result"
    },
    {
     "data": {
      "image/png": "[encoded data removed]",
      "text/plain": [
       "<Figure size 432x288 with 1 Axes>"
      ]
     },
     "metadata": {
      "needs_background": "light"
     },
     "output_type": "display_data"
    }
   ],
   "source": [
    "plt.imshow(ed_label, cmap='gray')"
   ]
  },
  {
   "cell_type": "code",
   "execution_count": 8,
   "id": "5b996da1-990d-4beb-8489-dc11d0a50ed9",
   "metadata": {},
   "outputs": [],
   "source": [
    "def divide_to_consecutive_clips(video, clip_length=32, interpolate_last=False):\n",
    "    source_video = video.copy()\n",
    "    video_length = video.shape[1]\n",
    "    left = video_length % clip_length\n",
    "    if left != 0 and interpolate_last:\n",
    "        source_video = torch.Tensor(source_video).unsqueeze(0)\n",
    "        source_video = F.interpolate(source_video, size=(int(np.round(video_length / clip_length) * clip_length), 112, 112),\n",
    "                                     mode=\"trilinear\", align_corners=False)\n",
    "        source_video = source_video.squeeze(0).squeeze(0)\n",
    "        source_video = source_video.numpy()\n",
    "    \n",
    "    videos = np.empty(shape=(1, 3, clip_length, 112, 112))\n",
    "\n",
    "    for start in range(0, int(clip_length * np.round(video_length / clip_length)), clip_length):\n",
    "        one_clip = source_video[:, start: start + clip_length]\n",
    "        one_clip = np.expand_dims(one_clip, 0)\n",
    "        videos = np.concatenate([videos, one_clip])\n",
    "    return videos[1:]\n",
    "\n",
    "\n",
    "# goes thru a video and annotates where we can start clips given video length, clip length, etc.\n",
    "def get_all_possible_start_points(ed_index, es_index, video_length, clip_length):\n",
    "    assert es_index - ed_index > 0, \"not a ED to ES clip pair\"\n",
    "    possible_shift = clip_length - (es_index - ed_index)\n",
    "    allowed_right = video_length - es_index\n",
    "    if allowed_right < possible_shift:\n",
    "        return np.arange(ed_index - possible_shift + 1, video_length - clip_length + 1)\n",
    "    if possible_shift < 0:\n",
    "        return np.array([ed_index])\n",
    "    elif ed_index < possible_shift:\n",
    "        return np.arange(ed_index + 1)\n",
    "    else:\n",
    "        return np.arange(ed_index - possible_shift + 1, ed_index + 1)"
   ]
  },
  {
   "cell_type": "code",
   "execution_count": 9,
   "id": "354b5dd6-dde1-4547-8736-027dd81da214",
   "metadata": {},
   "outputs": [
    {
     "name": "stdout",
     "output_type": "stream",
     "text": [
      "16\n",
      "[117 118 119 120 121 122 123 124 125 126 127 128 129 130 131 132]\n"
     ]
    }
   ],
   "source": [
    "possible_starts = get_all_possible_start_points(ed_index, es_index, video.shape[1], clip_length=32)\n",
    "print(len(possible_starts))\n",
    "print(possible_starts)"
   ]
  },
  {
   "cell_type": "code",
   "execution_count": 10,
   "id": "fba2cf69-1c82-4639-9175-44286fc7800a",
   "metadata": {},
   "outputs": [
    {
     "data": {
      "text/plain": [
       "(132, 148)"
      ]
     },
     "execution_count": 10,
     "metadata": {},
     "output_type": "execute_result"
    }
   ],
   "source": [
    "ed_index, es_index"
   ]
  },
  {
   "cell_type": "code",
   "execution_count": 11,
   "id": "bdf5da00-f18d-40b0-b6e4-1db86e10ec9a",
   "metadata": {},
   "outputs": [
    {
     "data": {
      "text/plain": [
       "16"
      ]
     },
     "execution_count": 11,
     "metadata": {},
     "output_type": "execute_result"
    }
   ],
   "source": [
    "delta_ed_es = es_index - ed_index\n",
    "delta_ed_es"
   ]
  },
  {
   "cell_type": "code",
   "execution_count": 12,
   "id": "ebb7551b-1fff-4821-b66b-b5e2526387da",
   "metadata": {},
   "outputs": [],
   "source": [
    "# segment using all models\n",
    "all_segmentation_outputs = []\n",
    "all_motion_outputs = []\n",
    "\n",
    "# for each model, segment the clips\n",
    "for name, model in loaded_in_models:\n",
    "    \n",
    "    segmentation_outputs = np.empty(shape=(1, 2, 32, 112, 112))\n",
    "    motion_outputs = np.empty(shape=(1, 4, 32, 112, 112))\n",
    "    for start in possible_starts:\n",
    "        one_clip = np.expand_dims(video[:, start: start + 32], 0)\n",
    "        segmentation_output, motion_output = model(torch.Tensor(one_clip))\n",
    "        segmentation_outputs = np.concatenate([segmentation_outputs, segmentation_output.cpu().detach().numpy()])\n",
    "        motion_outputs = np.concatenate([motion_outputs, motion_output.cpu().detach().numpy()])\n",
    "    segmentation_outputs = segmentation_outputs[1:]\n",
    "    motion_outputs = motion_outputs[1:]\n",
    "    \n",
    "    # save \n",
    "    all_segmentation_outputs.append(segmentation_outputs)\n",
    "    all_motion_outputs.append(motion_outputs)\n"
   ]
  },
  {
   "cell_type": "code",
   "execution_count": 13,
   "id": "b0cd63fb-ae30-441f-b3d6-28fc12116086",
   "metadata": {},
   "outputs": [
    {
     "data": {
      "text/plain": [
       "((16, 2, 32, 112, 112), (16, 4, 32, 112, 112))"
      ]
     },
     "execution_count": 13,
     "metadata": {},
     "output_type": "execute_result"
    }
   ],
   "source": [
    "motion_trackings = all_motion_outputs[0]\n",
    "segmentations = all_segmentation_outputs[0]\n",
    "segmentations.shape, motion_trackings.shape"
   ]
  },
  {
   "cell_type": "code",
   "execution_count": 34,
   "id": "301a22b4-15c2-4c0f-82a7-42704f54732b",
   "metadata": {},
   "outputs": [
    {
     "data": {
      "text/plain": [
       "((2, 32, 112, 112), (4, 32, 112, 112))"
      ]
     },
     "execution_count": 34,
     "metadata": {},
     "output_type": "execute_result"
    }
   ],
   "source": [
    "segmentations_1 = segmentations[-1]\n",
    "motions_1 = motion_trackings[-1]\n",
    "\n",
    "segmentations_1.shape, motions_1.shape"
   ]
  },
  {
   "cell_type": "code",
   "execution_count": 14,
   "id": "067f94c4-5c12-47f9-840d-2d94466733b4",
   "metadata": {},
   "outputs": [],
   "source": [
    "new_segmentations = np.argmax(segmentations, 1)"
   ]
  },
  {
   "cell_type": "code",
   "execution_count": 15,
   "id": "bb9f5494-8372-40e0-9777-6e9ef050184e",
   "metadata": {},
   "outputs": [
    {
     "data": {
      "text/plain": [
       "(16, 32, 112, 112)"
      ]
     },
     "execution_count": 15,
     "metadata": {},
     "output_type": "execute_result"
    }
   ],
   "source": [
    "new_segmentations.shape"
   ]
  },
  {
   "cell_type": "code",
   "execution_count": 16,
   "id": "b5c05061-2c6e-4982-81a7-7755fe907419",
   "metadata": {},
   "outputs": [
    {
     "data": {
      "text/plain": [
       "<matplotlib.colorbar.Colorbar at 0x7f80fede7fd0>"
      ]
     },
     "execution_count": 16,
     "metadata": {},
     "output_type": "execute_result"
    },
    {
     "data": {
      "image/png": "[encoded data removed]",
      "text/plain": [
       "<Figure size 432x288 with 2 Axes>"
      ]
     },
     "metadata": {
      "needs_background": "light"
     },
     "output_type": "display_data"
    }
   ],
   "source": [
    "plt.imshow(new_segmentations[0][0], cmap=\"gray\")\n",
    "plt.colorbar()"
   ]
  },
  {
   "cell_type": "code",
   "execution_count": 17,
   "id": "830e1f7d-d1fb-4b28-9d80-4f7131758ef0",
   "metadata": {},
   "outputs": [
    {
     "data": {
      "text/plain": [
       "((16, 32, 112, 112), (16, 4, 32, 112, 112))"
      ]
     },
     "execution_count": 17,
     "metadata": {},
     "output_type": "execute_result"
    }
   ],
   "source": [
    "new_segmentations.shape, motion_trackings.shape"
   ]
  },
  {
   "cell_type": "code",
   "execution_count": 18,
   "id": "86d3aed9-7031-4070-a826-7a93736b1105",
   "metadata": {},
   "outputs": [
    {
     "data": {
      "text/plain": [
       "((32, 112, 112), (4, 32, 112, 112))"
      ]
     },
     "execution_count": 18,
     "metadata": {},
     "output_type": "execute_result"
    }
   ],
   "source": [
    "segmentation_last_clip_in_consecutive_clips_list = new_segmentations[-1]\n",
    "motions_last_clip_in_consecutive_clips_list = motion_trackings[-1]\n",
    "segmentation_last_clip_in_consecutive_clips_list.shape, motions_last_clip_in_consecutive_clips_list.shape"
   ]
  },
  {
   "cell_type": "code",
   "execution_count": 19,
   "id": "3c0fcbce-1514-4ba3-b34b-244913d6d55d",
   "metadata": {
    "collapsed": true,
    "jupyter": {
     "outputs_hidden": true
    },
    "tags": []
   },
   "outputs": [
    {
     "data": {
      "text/plain": [
       "<matplotlib.colorbar.Colorbar at 0x7f80f4574610>"
      ]
     },
     "execution_count": 19,
     "metadata": {},
     "output_type": "execute_result"
    },
    {
     "data": {
      "image/png": "[encoded data removed]",
      "text/plain": [
       "<Figure size 432x288 with 2 Axes>"
      ]
     },
     "metadata": {
      "needs_background": "light"
     },
     "output_type": "display_data"
    }
   ],
   "source": [
    "ed_seg_frame = segmentation_last_clip_in_consecutive_clips_list[0]\n",
    "\n",
    "plt.imshow(ed_seg_frame, cmap=\"gray\")\n",
    "plt.colorbar()"
   ]
  },
  {
   "cell_type": "code",
   "execution_count": 20,
   "id": "5af16a74-6e0b-4329-a85d-bdefd621389a",
   "metadata": {
    "tags": []
   },
   "outputs": [
    {
     "data": {
      "text/plain": [
       "<matplotlib.colorbar.Colorbar at 0x7f80f45d8d10>"
      ]
     },
     "execution_count": 20,
     "metadata": {},
     "output_type": "execute_result"
    },
    {
     "data": {
      "image/png": "[encoded data removed]",
      "text/plain": [
       "<Figure size 432x288 with 2 Axes>"
      ]
     },
     "metadata": {
      "needs_background": "light"
     },
     "output_type": "display_data"
    }
   ],
   "source": [
    "es_seg_frame = segmentation_last_clip_in_consecutive_clips_list[delta_ed_es]\n",
    "\n",
    "plt.imshow(es_seg_frame, cmap=\"gray\")\n",
    "plt.colorbar()"
   ]
  },
  {
   "cell_type": "code",
   "execution_count": 21,
   "id": "e64cf3f9-665b-47b2-9872-9a1a84d79f97",
   "metadata": {
    "tags": []
   },
   "outputs": [],
   "source": [
    "def generate_2dmotion_field_PLAY(x, offset):\n",
    "    # Qin's code for joint_motion_seg learning works fine on our purpose too\n",
    "    # Same idea https://discuss.pytorch.org/t/warp-video-frame-from-optical-flow/6013/5\n",
    "    # print(x.shape)\n",
    "    \n",
    "    \n",
    "    x_shape = x.shape\n",
    "    print(f'x_shape: {x_shape}')\n",
    "    \n",
    "    grid_w, grid_h = torch.meshgrid([torch.linspace(-1, 1, x_shape[2]), torch.linspace(-1, 1, x_shape[3])])  # (h, w)\n",
    "    print(f'grid_w.shape (meshgrid): {grid_w.shape}')\n",
    "    print(f'grid_h.shape (meshgrid): {grid_h.shape}')\n",
    "    \n",
    "    # this should just be moving the vars to gpu mem and doing some data type conversion to some\n",
    "    # floating point precision\n",
    "    grid_w = grid_w.cuda().float()\n",
    "    grid_h = grid_h.cuda().float()\n",
    "    \n",
    "    print(f'grid_w.shape .cuda().float(): {grid_w.shape}')\n",
    "    print(f'grid_h.shape .cuda().float(): {grid_h.shape}')\n",
    "\n",
    "    grid_w = nn.Parameter(grid_w, requires_grad=False)\n",
    "    grid_h = nn.Parameter(grid_h, requires_grad=False)\n",
    "    print(f'grid_w.shape (nn.Param): {grid_w.shape}')\n",
    "    print(f'grid_h.shape (nn.Param): {grid_h.shape}')\n",
    "\n",
    "\n",
    "    offset_h, offset_w = torch.split(offset, 1, 1)\n",
    "    \n",
    "    print(f'offset_h.shape (split): {offset_h.shape}')\n",
    "    print(f'offset_w.shape (split): {offset_w.shape}')\n",
    "    \n",
    "    offset_w = offset_w.contiguous().view(-1, int(x_shape[2]), int(x_shape[3]))  # (b*c, h, w)\n",
    "    offset_h = offset_h.contiguous().view(-1, int(x_shape[2]), int(x_shape[3]))  # (b*c, h, w)\n",
    "    \n",
    "    print(f'offset_h.shape (contiguous): {offset_h.shape}')\n",
    "    print(f'offset_w.shape (contiguous): {offset_w.shape}')\n",
    "    \n",
    "    offset_w = grid_w + offset_w\n",
    "    offset_h = grid_h + offset_h\n",
    "    \n",
    "    print(f'offset_w (grid_w + offset_w): {offset_w.shape}')\n",
    "    print(f'offset_h (grid_h + offset_h): {offset_h.shape}')\n",
    "    \n",
    "    offsets = torch.stack((offset_h, offset_w), 3)\n",
    "    \n",
    "    print(f'offsets (stack): {offsets.shape}')\n",
    "\n",
    "    print('leaving generate_2dmotion_field')\n",
    "    return offsets"
   ]
  },
  {
   "cell_type": "code",
   "execution_count": 35,
   "id": "44070e49-f11c-4244-bf1a-e267c3a8390b",
   "metadata": {},
   "outputs": [
    {
     "data": {
      "text/plain": [
       "torch.Size([1, 4, 32, 112, 112])"
      ]
     },
     "execution_count": 35,
     "metadata": {},
     "output_type": "execute_result"
    }
   ],
   "source": [
    "motion_output.shape"
   ]
  },
  {
   "cell_type": "code",
   "execution_count": 22,
   "id": "758249db-6500-481c-ac44-6e7f6a55bc74",
   "metadata": {},
   "outputs": [],
   "source": [
    "frame_index = 0 # first frame in clip\n",
    "\n",
    "forward_motion = motion_output[:, :2, frame_index,...]"
   ]
  },
  {
   "cell_type": "code",
   "execution_count": null,
   "id": "2a0fe613-609b-4e1e-9023-cb0bd1a7ff8f",
   "metadata": {},
   "outputs": [],
   "source": [
    "forward_motion.shape"
   ]
  },
  {
   "cell_type": "code",
   "execution_count": 23,
   "id": "82a35c5b-7999-4616-bc6c-240e2aad3419",
   "metadata": {},
   "outputs": [
    {
     "name": "stdout",
     "output_type": "stream",
     "text": [
      "(2, 32, 112, 112)\n"
     ]
    }
   ],
   "source": [
    "flow_source = segmentations[frame_index]\n",
    "print(flow_source.shape)"
   ]
  },
  {
   "cell_type": "code",
   "execution_count": 24,
   "id": "b3441f85-439e-4c9b-9f02-27f9226aebd8",
   "metadata": {},
   "outputs": [
    {
     "data": {
      "text/plain": [
       "(1, 2, 112, 112)"
      ]
     },
     "execution_count": 24,
     "metadata": {},
     "output_type": "execute_result"
    }
   ],
   "source": [
    "flow_source = np.array([flow_source[:, frame_index, ...]])\n",
    "flow_source.shape"
   ]
  },
  {
   "cell_type": "code",
   "execution_count": 25,
   "id": "2c6e92f3-b241-4aa3-a7e6-58f027e14803",
   "metadata": {},
   "outputs": [
    {
     "name": "stdout",
     "output_type": "stream",
     "text": [
      "x_shape: (1, 2, 112, 112)\n",
      "grid_w.shape (meshgrid): torch.Size([112, 112])\n",
      "grid_h.shape (meshgrid): torch.Size([112, 112])\n",
      "grid_w.shape .cuda().float(): torch.Size([112, 112])\n",
      "grid_h.shape .cuda().float(): torch.Size([112, 112])\n",
      "grid_w.shape (nn.Param): torch.Size([112, 112])\n",
      "grid_h.shape (nn.Param): torch.Size([112, 112])\n",
      "offset_h.shape (split): torch.Size([1, 1, 112, 112])\n",
      "offset_w.shape (split): torch.Size([1, 1, 112, 112])\n",
      "offset_h.shape (contiguous): torch.Size([1, 112, 112])\n",
      "offset_w.shape (contiguous): torch.Size([1, 112, 112])\n",
      "offset_w (grid_w + offset_w): torch.Size([1, 112, 112])\n",
      "offset_h (grid_h + offset_h): torch.Size([1, 112, 112])\n",
      "offsets (stack): torch.Size([1, 112, 112, 2])\n",
      "leaving generate_2dmotion_field\n"
     ]
    }
   ],
   "source": [
    "motion_field = generate_2dmotion_field_PLAY(flow_source, forward_motion)"
   ]
  },
  {
   "cell_type": "code",
   "execution_count": 26,
   "id": "61f97afc-e13c-4165-8380-6b5bf18d80e0",
   "metadata": {},
   "outputs": [],
   "source": [
    "flow_source = torch.from_numpy(flow_source).to(device).float()\n",
    "\n",
    "next_label = F.grid_sample(flow_source, motion_field, align_corners=False, mode=\"bilinear\", padding_mode='border')"
   ]
  },
  {
   "cell_type": "code",
   "execution_count": 27,
   "id": "cdafe414-4674-433c-833d-7464aed62a3f",
   "metadata": {},
   "outputs": [
    {
     "data": {
      "text/plain": [
       "torch.Size([1, 2, 112, 112])"
      ]
     },
     "execution_count": 27,
     "metadata": {},
     "output_type": "execute_result"
    }
   ],
   "source": [
    "next_label.shape"
   ]
  },
  {
   "cell_type": "code",
   "execution_count": 28,
   "id": "99c3f402-24fc-4707-a01d-5dec6523cbb3",
   "metadata": {},
   "outputs": [],
   "source": [
    "next_frame = next_label.cpu().detach().numpy()"
   ]
  },
  {
   "cell_type": "code",
   "execution_count": 29,
   "id": "ddb12c06-6e50-4481-9583-3939e790c8b5",
   "metadata": {},
   "outputs": [
    {
     "data": {
      "text/plain": [
       "numpy.ndarray"
      ]
     },
     "execution_count": 29,
     "metadata": {},
     "output_type": "execute_result"
    }
   ],
   "source": [
    "type(next_frame)"
   ]
  },
  {
   "cell_type": "code",
   "execution_count": 30,
   "id": "ac84746c-f9c6-4b17-98a1-2b58eb164e0e",
   "metadata": {},
   "outputs": [
    {
     "data": {
      "text/plain": [
       "(1, 2, 112, 112)"
      ]
     },
     "execution_count": 30,
     "metadata": {},
     "output_type": "execute_result"
    }
   ],
   "source": [
    "next_frame.shape"
   ]
  },
  {
   "cell_type": "code",
   "execution_count": 31,
   "id": "3d9ae630-e775-4599-8ac8-2c9bc60cedf4",
   "metadata": {},
   "outputs": [
    {
     "data": {
      "text/plain": [
       "<matplotlib.colorbar.Colorbar at 0x7f80ee321c90>"
      ]
     },
     "execution_count": 31,
     "metadata": {},
     "output_type": "execute_result"
    },
    {
     "data": {
      "image/png": "[encoded data removed]",
      "text/plain": [
       "<Figure size 432x288 with 2 Axes>"
      ]
     },
     "metadata": {
      "needs_background": "light"
     },
     "output_type": "display_data"
    }
   ],
   "source": [
    "next_frame = np.argmax(next_frame, 1)\n",
    "\n",
    "plt.imshow(next_frame[0], cmap='gray')\n",
    "plt.colorbar()"
   ]
  },
  {
   "cell_type": "code",
   "execution_count": 33,
   "id": "54000e01-8f73-4e33-b32a-8b3d145e477a",
   "metadata": {},
   "outputs": [
    {
     "data": {
      "text/plain": [
       "<matplotlib.colorbar.Colorbar at 0x7f80ec8bfad0>"
      ]
     },
     "execution_count": 33,
     "metadata": {},
     "output_type": "execute_result"
    },
    {
     "data": {
      "image/png": "[encoded data removed]",
      "text/plain": [
       "<Figure size 720x360 with 9 Axes>"
      ]
     },
     "metadata": {
      "needs_background": "light"
     },
     "output_type": "display_data"
    }
   ],
   "source": [
    "fig, ax = plt.subplots(2, 4, figsize=(10, 5))\n",
    "\n",
    "ed_plus_one_frame = segmentation_last_clip_in_consecutive_clips_list[1]\n",
    "\n",
    "ax[0][0].imshow(ed_label, cmap='gray')\n",
    "ax[0][1].imshow(ed_seg_frame, cmap='gray')\n",
    "ax[0][2].imshow(ed_plus_one_frame, cmap='gray')\n",
    "ax_img = ax[0][3].imshow(next_frame[0], cmap='gray')\n",
    "fig.colorbar(ax_img, ax=ax[0][3])"
   ]
  },
  {
   "cell_type": "markdown",
   "id": "ecd8a936-355a-4754-b417-96720210b973",
   "metadata": {},
   "source": [
    "## Now start from ED seg frame and warp the number frames till we get our pseudo ES frame"
   ]
  },
  {
   "cell_type": "code",
   "execution_count": null,
   "id": "bdcb513b-77d3-4e71-9603-2b65d5c965b4",
   "metadata": {},
   "outputs": [],
   "source": [
    "for i in range(delta_ed_es):\n",
    "    frame_index = i\n",
    "\n",
    "    forward_motion = motions_1[:, :2, frame_index,...]\n",
    "    \n",
    "    flow_source = segmentations_1[frame_index]"
   ]
  }
 ],
 "metadata": {
  "kernelspec": {
   "display_name": "Python 3",
   "language": "python",
   "name": "python3"
  },
  "language_info": {
   "codemirror_mode": {
    "name": "ipython",
    "version": 3
   },
   "file_extension": ".py",
   "mimetype": "text/x-python",
   "name": "python",
   "nbconvert_exporter": "python",
   "pygments_lexer": "ipython3",
   "version": "3.7.6"
  }
 },
 "nbformat": 4,
 "nbformat_minor": 5
}
