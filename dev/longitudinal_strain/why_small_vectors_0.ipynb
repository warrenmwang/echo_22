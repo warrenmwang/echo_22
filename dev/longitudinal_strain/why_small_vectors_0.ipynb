{
 "cells": [
  {
   "cell_type": "markdown",
   "id": "70cdb72a-4d2f-40f9-9ce6-7ba6837a52b8",
   "metadata": {},
   "source": [
    "## Here we look into how it is possible for the model to produce good segmentations while our motion tracking is simply put too small to produce such an effect\n",
    "\n",
    "### First, let's compare the model's `ED` and `ES` point sets with the ground truth's `ED` and `ES`"
   ]
  },
  {
   "cell_type": "code",
   "execution_count": 1,
   "id": "1eb63c9f-29f6-4801-9dda-20e9f2613dc3",
   "metadata": {},
   "outputs": [],
   "source": [
    "model_name = \"Original_Pretrained_R2plus1DMotionSegNet.pth\"\n",
    "\n",
    "# model_name = \"dropout_v2_0_25_R2plus1DMotionSegNet.pth\"\n",
    "# model_name = \"dropout_v3_0_10_R2plus1DMotionSegNet.pth\""
   ]
  },
  {
   "cell_type": "code",
   "execution_count": 2,
   "id": "2e689960-860b-4d0d-811b-1701c245b08f",
   "metadata": {},
   "outputs": [
    {
     "name": "stdout",
     "output_type": "stream",
     "text": [
      "/home/wang/workspace/JupyterNoteBooksAll/fully-automated-multi-heartbeat-echocardiography-video-segmentation-and-motion-tracking\n"
     ]
    },
    {
     "name": "stderr",
     "output_type": "stream",
     "text": [
      "100%|██████████| 16/16 [00:01<00:00, 13.62it/s]\n"
     ]
    }
   ],
   "source": [
    "import os\n",
    "os.chdir(\"../..\")\n",
    "print(os.getcwd())\n",
    "\n",
    "%config Completer.use_jedi = False\n",
    "\n",
    "import SimpleITK as itk\n",
    "from LabelFusion.wrapper import fuse_images\n",
    "\n",
    "import echonet\n",
    "from echonet.datasets import Echo\n",
    "\n",
    "import torch.nn.functional as F\n",
    "from torchvision.models.video import r2plus1d_18\n",
    "from torch.utils.data import Dataset, DataLoader, Subset\n",
    "from multiprocessing import cpu_count\n",
    "\n",
    "from src.utils.torch_utils import TransformDataset, torch_collate\n",
    "from src.utils.echo_utils import get2dPucks\n",
    "from src.utils.camus_validate import cleanupSegmentation\n",
    "from src.transform_utils import generate_2dmotion_field\n",
    "from src.visualization_utils import categorical_dice\n",
    "from src.loss_functions import huber_loss, convert_to_1hot, convert_to_1hot_tensor\n",
    "from src.echonet_dataset import EDESpairs, EchoNetDynamicDataset\n",
    "\n",
    "from src.model.R2plus1D_18_MotionNet import R2plus1D_18_MotionNet\n",
    "\n",
    "# v2 dropout (in place before motion heads, forgot to define in forward pass function, but still saw diff, weird.)\n",
    "from src.model.dropout_v2_0_00_R2plus1D_18_MotionNet import dropout_v2_0_00_R2plus1D_18_MotionNet\n",
    "from src.model.dropout_v2_0_10_R2plus1D_18_MotionNet import dropout_v2_0_10_R2plus1D_18_MotionNet\n",
    "from src.model.dropout_v2_0_25_R2plus1D_18_MotionNet import dropout_v2_0_25_R2plus1D_18_MotionNet\n",
    "from src.model.dropout_v2_0_50_R2plus1D_18_MotionNet import dropout_v2_0_50_R2plus1D_18_MotionNet\n",
    "from src.model.dropout_v2_0_75_R2plus1D_18_MotionNet import dropout_v2_0_75_R2plus1D_18_MotionNet\n",
    "# v3 dropout (one dropout layer defined in forward pass func, this should've been the correct way to do it.)\n",
    "from src.model.dropout_v3_0_00_R2plus1D_18_MotionNet import dropout_v3_0_00_R2plus1D_18_MotionNet\n",
    "from src.model.dropout_v3_0_10_R2plus1D_18_MotionNet import dropout_v3_0_10_R2plus1D_18_MotionNet\n",
    "from src.model.dropout_v3_0_25_R2plus1D_18_MotionNet import dropout_v3_0_25_R2plus1D_18_MotionNet\n",
    "from src.model.dropout_v3_0_50_R2plus1D_18_MotionNet import dropout_v3_0_50_R2plus1D_18_MotionNet\n",
    "from src.model.dropout_v3_0_75_R2plus1D_18_MotionNet import dropout_v3_0_75_R2plus1D_18_MotionNet\n",
    "# v4 dropout (4 dropout layers in different places in the forward func, I'm going to guess more \"generalizable\")\n",
    "from src.model.dropout_v4_0_00_R2plus1D_18_MotionNet import dropout_v4_0_00_R2plus1D_18_MotionNet\n",
    "from src.model.dropout_v4_0_10_R2plus1D_18_MotionNet import dropout_v4_0_10_R2plus1D_18_MotionNet\n",
    "from src.model.dropout_v4_0_25_R2plus1D_18_MotionNet import dropout_v4_0_25_R2plus1D_18_MotionNet\n",
    "from src.model.dropout_v4_0_50_R2plus1D_18_MotionNet import dropout_v4_0_50_R2plus1D_18_MotionNet\n",
    "from src.model.dropout_v4_0_75_R2plus1D_18_MotionNet import dropout_v4_0_75_R2plus1D_18_MotionNet\n",
    "\n",
    "# for finding lv seg borders\n",
    "import cv2 as cv\n",
    "\n",
    "# for storing vector snapshots\n",
    "import copy\n",
    "\n",
    "# from src.visualization_utils import categorical_dice\n",
    "\n",
    "import numpy as np\n",
    "from scipy.signal import find_peaks\n",
    "import matplotlib.pyplot as plt\n",
    "\n",
    "import torch\n",
    "import torch.nn as nn\n",
    "import torch.optim as optim\n",
    "\n",
    "import random\n",
    "import pickle\n",
    "import time\n",
    "\n",
    "tic, toc = (time.time, time.time)\n",
    "\n",
    "\n",
    "device = 'cuda' if torch.cuda.is_available() else 'cpu'\n",
    "device\n",
    "\n",
    "\n",
    "batch_size = 4\n",
    "num_workers = max(4, cpu_count()//2)\n",
    "\n",
    "\n",
    "def worker_init_fn_valid(worker_id):                                                          \n",
    "    np.random.seed(np.random.get_state()[1][0] + worker_id)\n",
    "    \n",
    "\n",
    "def worker_init_fn(worker_id):\n",
    "    # See here: https://pytorch.org/docs/stable/notes/randomness.html#dataloader\n",
    "    # and the original post of the problem: https://github.com/pytorch/pytorch/issues/5059#issuecomment-817373837\n",
    "    worker_seed = torch.initial_seed() % 2 ** 32\n",
    "    print(f'worker_seed: {worker_seed}')\n",
    "    np.random.seed(worker_seed)\n",
    "    random.seed(worker_seed)\n",
    "    \n",
    "\n",
    "def permuter(list1, list2):\n",
    "    for i1 in list1:\n",
    "        for i2 in list2:\n",
    "            yield (i1, i2)\n",
    "            \n",
    "\n",
    "param_trainLoader = {'collate_fn': torch_collate,\n",
    "                     'batch_size': batch_size,\n",
    "                     'num_workers': max(4, cpu_count()//2),\n",
    "                     'worker_init_fn': worker_init_fn}\n",
    "\n",
    "param_testLoader = {'collate_fn': torch_collate,\n",
    "                    'batch_size': batch_size,\n",
    "                    'shuffle': False,\n",
    "                    'num_workers': max(4, cpu_count()//2),\n",
    "                    'worker_init_fn': worker_init_fn}\n",
    "\n",
    "paramLoader = {'train': param_trainLoader,\n",
    "               'valid': param_testLoader,\n",
    "               'test':  param_testLoader}\n",
    "\n",
    "\n",
    "with open(\"fold_indexes/stanford_valid_sampled_indices\", \"rb\") as infile:\n",
    "    valid_mask = pickle.load(infile)\n",
    "infile.close()\n",
    "\n",
    "# full_dataset = EchoNetDynamicDataset(split='val', clip_length=\"full\", subset_indices=valid_mask, period=1)\n",
    "test_dataset = EchoNetDynamicDataset(split='test', clip_length=\"full\", raise_for_es_ed=False, period=1)\n",
    "# random_test_dataset = EchoNetDynamicDataset(split='test', clip_length=32, raise_for_es_ed=True, period=1)"
   ]
  },
  {
   "cell_type": "code",
   "execution_count": 3,
   "id": "18a189e1-b1c9-40b6-aceb-8a6cd57f1737",
   "metadata": {},
   "outputs": [
    {
     "name": "stdout",
     "output_type": "stream",
     "text": [
      "Original_Pretrained_R2plus1DMotionSegNet.pth has 31575731 parameters.\n"
     ]
    }
   ],
   "source": [
    "model_save_path = f\"save_models/{model_name}\"\n",
    "    \n",
    "if model_name == 'Original_Pretrained_R2plus1DMotionSegNet.pth':\n",
    "    model_template_obj = R2plus1D_18_MotionNet()\n",
    "elif model_name == 'dropout_v2_0_00_R2plus1DMotionSegNet.pth':\n",
    "    model_template_obj = dropout_v2_0_00_R2plus1D_18_MotionNet()\n",
    "elif model_name == 'dropout_v2_0_10_R2plus1DMotionSegNet.pth':\n",
    "    model_template_obj = dropout_v2_0_10_R2plus1D_18_MotionNet()\n",
    "elif model_name == 'dropout_v2_0_25_R2plus1DMotionSegNet.pth':\n",
    "    model_template_obj = dropout_v2_0_25_R2plus1D_18_MotionNet()\n",
    "\n",
    "\n",
    "elif model_name == \"dropout_v3_0_00_R2plus1DMotionSegNet.pth\":\n",
    "    model_template_obj = dropout_v3_0_00_R2plus1D_18_MotionNet()\n",
    "elif model_name == \"dropout_v3_0_10_R2plus1DMotionSegNet.pth\":\n",
    "    model_template_obj = dropout_v3_0_10_R2plus1D_18_MotionNet()\n",
    "elif model_name == \"dropout_v3_0_25_R2plus1DMotionSegNet.pth\":\n",
    "    model_template_obj = dropout_v3_0_25_R2plus1D_18_MotionNet()\n",
    "elif model_name == \"dropout_v4_0_00_R2plus1DMotionSegNet.pth\":\n",
    "    model_template_obj = dropout_v4_0_00_R2plus1D_18_MotionNet()\n",
    "elif model_name == \"dropout_v4_0_10_R2plus1DMotionSegNet.pth\":\n",
    "    model_template_obj = dropout_v4_0_10_R2plus1D_18_MotionNet()\n",
    "elif model_name == \"dropout_v4_0_25_R2plus1DMotionSegNet.pth\":\n",
    "    model_template_obj = dropout_v4_0_25_R2plus1D_18_MotionNet()\n",
    "\n",
    "\n",
    "model = torch.nn.DataParallel(model_template_obj)\n",
    "\n",
    "model.to(\"cuda\")\n",
    "torch.cuda.empty_cache()\n",
    "model.load_state_dict(torch.load(model_save_path)[\"model\"])\n",
    "print(f'{model_name} has {sum(p.numel() for p in model.parameters() if p.requires_grad)} parameters.')\n",
    "model.eval();"
   ]
  },
  {
   "cell_type": "code",
   "execution_count": 4,
   "id": "b35309cc-26c4-44f2-bee3-866a564073bd",
   "metadata": {},
   "outputs": [],
   "source": [
    "from src.strain import *"
   ]
  },
  {
   "cell_type": "code",
   "execution_count": 5,
   "id": "350a10d1-aecf-43e1-a9fd-b2d37367f5ed",
   "metadata": {},
   "outputs": [],
   "source": [
    "%matplotlib widget"
   ]
  },
  {
   "cell_type": "markdown",
   "id": "805831e6-4970-4c24-a59d-cfee2a05aea3",
   "metadata": {},
   "source": [
    "functions, functions, functions..."
   ]
  },
  {
   "cell_type": "code",
   "execution_count": 6,
   "id": "d2b778a6-3102-4ba6-b769-731743cf93a2",
   "metadata": {},
   "outputs": [],
   "source": [
    "def vis_single_point_set_from_vectors(ps_vectors):\n",
    "    ''' ps_vectors - (N, ) np array storing vectors with format (x, y, delta_x, delta_y) '''\n",
    "    f, ax = plt.subplots(1, 1, figsize=(4, 5))\n",
    "    x = []\n",
    "    y = []\n",
    "    for v in ps_vectors:\n",
    "        x.append(v.tail_x)\n",
    "        y.append(v.tail_y)\n",
    "    ax.scatter(x, y, marker='.', color='b')\n",
    "    ax.invert_yaxis()"
   ]
  },
  {
   "cell_type": "code",
   "execution_count": 7,
   "id": "7f834cd4-77db-40f4-af45-3b4592208780",
   "metadata": {},
   "outputs": [],
   "source": [
    "def vis_two_vector_point_sets_one_figure(ps1, ps2):\n",
    "    f, ax = plt.subplots(1, 1, figsize=(4, 5))\n",
    "    x = []\n",
    "    y = []\n",
    "    for v in ps1:\n",
    "        x.append(v.tail_x)\n",
    "        y.append(v.tail_y)\n",
    "    ax.scatter(x, y, marker='.', color='b', zorder=2)\n",
    "    x = []\n",
    "    y = []\n",
    "    for v in ps2:\n",
    "        x.append(v.tail_x)\n",
    "        y.append(v.tail_y)\n",
    "    ax.scatter(x, y, marker='.', color='k', zorder=1)\n",
    "    ax.invert_yaxis()\n",
    "    ax.set_title('ps1 Blue | ps2 Black')"
   ]
  },
  {
   "cell_type": "code",
   "execution_count": 8,
   "id": "f2a5a2e3-eaa4-404b-9acc-82c09da71b26",
   "metadata": {},
   "outputs": [],
   "source": [
    "def vis_single_point_set(ps):\n",
    "    ''' ps - (N, 2) stored in (x,y)'''\n",
    "    f, ax = plt.subplots(1, 1, figsize=(4, 5))\n",
    "    ax.scatter(ps[:, 0], ps[:, 1], marker='.', color='b')\n",
    "    ax.invert_yaxis()"
   ]
  },
  {
   "cell_type": "code",
   "execution_count": 9,
   "id": "865e6d4e-cdfb-415e-b278-a55fc4efae51",
   "metadata": {},
   "outputs": [],
   "source": [
    "def image_to_whole_point_set(I):\n",
    "    '''\n",
    "    I - (112, 112) whole image segmentation\n",
    "    points - (N, 2) stored in x, y\n",
    "    '''\n",
    "    I = give_boundary_no_basal_plane(I)\n",
    "    points = []\n",
    "    for i in range(I.shape[0]):\n",
    "        for j in range(I.shape[1]):\n",
    "            if I[i][j] == 1:\n",
    "                points.append(np.array([j, i]))\n",
    "    return np.array(points)"
   ]
  },
  {
   "cell_type": "code",
   "execution_count": 10,
   "id": "83ffe39e-08c1-4234-954b-776920a49e96",
   "metadata": {},
   "outputs": [],
   "source": [
    "def convert_point_set_ij_into_xy(ps_ij):\n",
    "    ''' \n",
    "    converts a point set of shape (M, 2) of points in the (i,j) format into \n",
    "    point set of shape (M, 2) of points in the (x,y) format where\n",
    "    x = j\n",
    "    y = i\n",
    "    \n",
    "    input: ps_ij - (M , 2)\n",
    "    output: ps_xy - (M, 2)\n",
    "        \n",
    "    '''\n",
    "    ps_xy = []\n",
    "    for point in ps_ij:\n",
    "        ps_xy.append(np.array([point[1], point[0]]))\n",
    "    return np.array(ps_xy)"
   ]
  },
  {
   "cell_type": "code",
   "execution_count": 11,
   "id": "00c026f1-0f2c-48d1-8360-7f84e4525d17",
   "metadata": {},
   "outputs": [],
   "source": [
    "def convert_point_set_xy_into_vectors(ps_xy):\n",
    "    '''\n",
    "    converts a single point set passed in of shape (M, 2) into a np array of vector adts of shape (M, ) \n",
    "    vectors will have x,y with zero magnitudes representing deltas\n",
    "    \n",
    "    assumes the Vector ADT class definition is accessible in global scope\n",
    " \n",
    "    input: ps_xy - (M, 2)\n",
    "    output: ps_vectors - (M, )\n",
    "    '''\n",
    "    ps_vectors = []\n",
    "    for point in ps_xy:\n",
    "        ps_vectors.append(Vector(point[0], point[1], 0, 0))\n",
    "    return np.array(ps_vectors)"
   ]
  },
  {
   "cell_type": "code",
   "execution_count": 12,
   "id": "2c931782-b0a7-4d98-a6a4-c9af7ef21eef",
   "metadata": {},
   "outputs": [],
   "source": [
    "def warp_one_vector_forward_once(v, frame, motion):\n",
    "    '''\n",
    "    input: \n",
    "        v - vector to warp\n",
    "            should have base values: (x_i, y_j, 0, 0)\n",
    "        frame - frame integer index\n",
    "        motion - motion object of shape (4, 32, 112, 112)\n",
    "    output:\n",
    "        v_new - vector after warped from given frame\n",
    "            base values: (x_i+1, y_j+1, 0, 0)\n",
    "            \n",
    "    frame given determines what motion tracking information to use\n",
    "    as the frame integer value will be used to index motion\n",
    "    '''\n",
    "    # get surrounding vectors forming the unit square\n",
    "    inted_i, inted_j = int(v.tail_y), int(v.tail_x)\n",
    "    surr_vec_tails = [ [inted_i, inted_j],\n",
    "                       [inted_i, inted_j+1],\n",
    "                       [inted_i+1, inted_j],\n",
    "                       [inted_i+1, inted_j+1] ]\n",
    "    \n",
    "    surround_vectors = []\n",
    "\n",
    "    for _ in surr_vec_tails:\n",
    "        i,j = _[0], _[1]\n",
    "        x = j\n",
    "        y = i\n",
    "\n",
    "        forward_x = motion[0][frame][i][j]\n",
    "        forward_y = motion[1][frame][i][j]\n",
    "\n",
    "        surround_vectors.append(Vector(x, y, forward_x, forward_y))\n",
    "        \n",
    "    # convert magnitudes into polar, bilinearly interpolate new vector magnitude in polar\n",
    "    # to the input vector v's tail_x, tail_y, convert back into \n",
    "    # cartesian, apply the warp, clear out conversion value holders\n",
    "    v_new = vector_bilinear_interpolation(vectors=surround_vectors, new_vector=v)\n",
    "    v_new.update_mag_xy_from_conversion()\n",
    "    v_new.update_tails_from_mags()\n",
    "    \n",
    "    v_new.clear_conversion_mags_xy()\n",
    "    v_new.clear_conversion_mags_rhotheta()\n",
    "    v_new.clear_magnitudes()\n",
    "    \n",
    "    return v_new"
   ]
  },
  {
   "cell_type": "code",
   "execution_count": 13,
   "id": "b4478276-ffbb-4f57-a7d9-10252ab94d01",
   "metadata": {},
   "outputs": [],
   "source": [
    "def warp_one_vector_forward_delta_times(v, motion, delta):\n",
    "    ''' \n",
    "    handles warping forward a single vector specifically delta times and returns the new vector \n",
    "    \n",
    "    input:\n",
    "        v - vector to warp\n",
    "        motion - motion object of shape (4, 32, 112, 112)\n",
    "        delta - integer telling us how many times to warp\n",
    "    '''\n",
    "    for i in range(delta):\n",
    "        v = warp_one_vector_forward_once(v, i, motion)\n",
    "    return v"
   ]
  },
  {
   "cell_type": "code",
   "execution_count": 14,
   "id": "7b25a221-ef49-442a-a35c-cbcb1b743c1f",
   "metadata": {},
   "outputs": [],
   "source": [
    "def warp_one_point_set_forward_delta_times(ps_vectors, motion, delta):\n",
    "    '''\n",
    "    input:\n",
    "        ps_vectors - (M, )\n",
    "            input vectors of base values (x_i, y_i, 0, 0)\n",
    "        motion - motion object of shape (4, 32, 112, 112)\n",
    "        delta - integer telling us how many times to warp\n",
    "    output:\n",
    "        ps_vectors_new - (M, )\n",
    "            new vectors of base values (x_i+delta, y_i+delta, 0, 0)\n",
    "                if save_mag flag is False\n",
    "    '''\n",
    "    ps_vectors = copy.deepcopy(ps_vectors)\n",
    "    \n",
    "    ps_vectors_new = []\n",
    "    for v in ps_vectors:\n",
    "        ps_vectors_new.append(warp_one_vector_forward_delta_times(v, motion, delta))\n",
    "    return np.array(ps_vectors_new)"
   ]
  },
  {
   "cell_type": "code",
   "execution_count": 15,
   "id": "93bfb4a7-4198-4b0c-a653-06762bdc3f2a",
   "metadata": {},
   "outputs": [],
   "source": [
    "N = 3\n",
    "test_pat_index = 0\n",
    "\n",
    "curr_clip_segmentations, curr_clip_motions, delta_ed_es, clip_index, ed_label, es_label = get_seg_and_warp_data(model = model,\n",
    "                                                                                            test_dataset = test_dataset,\n",
    "                                                                                            test_pat_index = test_pat_index)\n",
    "    \n",
    "ed_raw_seg_out = curr_clip_segmentations[:,0,...]\n",
    "ed_one_hot_seg_out = one_hot(ed_raw_seg_out)\n",
    "\n",
    "es_raw_seg_out = curr_clip_segmentations[:,delta_ed_es,...]\n",
    "es_one_hot_seg_out = one_hot(es_raw_seg_out)"
   ]
  },
  {
   "cell_type": "markdown",
   "id": "08b6191d-fdc9-44bd-9169-33b4def605bc",
   "metadata": {},
   "source": [
    "plot the whole point set\n",
    "overlaying model's ED with label ED\n",
    "same for ES"
   ]
  },
  {
   "cell_type": "code",
   "execution_count": 16,
   "id": "234506b4-e3a3-4dd2-9751-cf351bf86b92",
   "metadata": {},
   "outputs": [
    {
     "data": {
      "application/vnd.jupyter.widget-view+json": {
       "model_id": "fb61dd60566c46478a81041cb767375c",
       "version_major": 2,
       "version_minor": 0
      },
      "image/png": "[encoded data removed]",
      "text/html": [
       "\n",
       "            <div style=\"display: inline-block;\">\n",
       "                <div class=\"jupyter-widgets widget-label\" style=\"text-align: center;\">\n",
       "                    Figure\n",
       "                </div>\n",
       "                <img src='data:image/png;base64,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' width=400.0/>\n",
       "            </div>\n",
       "        "
      ],
      "text/plain": [
       "Canvas(toolbar=Toolbar(toolitems=[('Home', 'Reset original view', 'home', 'home'), ('Back', 'Back to previous …"
      ]
     },
     "metadata": {},
     "output_type": "display_data"
    }
   ],
   "source": [
    "ed_model_ps = convert_point_set_xy_into_vectors(image_to_whole_point_set(ed_one_hot_seg_out))\n",
    "ed_label_ps = convert_point_set_xy_into_vectors(image_to_whole_point_set(ed_label))\n",
    "\n",
    "vis_two_vector_point_sets_one_figure(ed_model_ps, ed_label_ps)"
   ]
  },
  {
   "cell_type": "code",
   "execution_count": 17,
   "id": "b26c4454-e953-46a7-ae8e-e187ec43edec",
   "metadata": {},
   "outputs": [
    {
     "data": {
      "application/vnd.jupyter.widget-view+json": {
       "model_id": "6257c1b1e7d5418781f1d33d7db75a34",
       "version_major": 2,
       "version_minor": 0
      },
      "image/png": "[encoded data removed]",
      "text/html": [
       "\n",
       "            <div style=\"display: inline-block;\">\n",
       "                <div class=\"jupyter-widgets widget-label\" style=\"text-align: center;\">\n",
       "                    Figure\n",
       "                </div>\n",
       "                <img src='data:image/png;base64,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' width=400.0/>\n",
       "            </div>\n",
       "        "
      ],
      "text/plain": [
       "Canvas(toolbar=Toolbar(toolitems=[('Home', 'Reset original view', 'home', 'home'), ('Back', 'Back to previous …"
      ]
     },
     "metadata": {},
     "output_type": "display_data"
    }
   ],
   "source": [
    "es_model_ps = convert_point_set_xy_into_vectors(image_to_whole_point_set(es_one_hot_seg_out))\n",
    "es_label_ps = convert_point_set_xy_into_vectors(image_to_whole_point_set(es_label))\n",
    "\n",
    "vis_two_vector_point_sets_one_figure(es_model_ps, es_label_ps)"
   ]
  },
  {
   "cell_type": "markdown",
   "id": "54814e40-a1cf-4eb3-8522-4623ea4990ca",
   "metadata": {},
   "source": [
    "## Ok, that looks reasonable, unlike my previous visualizations of warping `ED` from the model out into a fake `ES` using only the motion tracking information for the regional point sets, or even the entire point set.\n",
    "## The warping for now only works when I do it the exact same way as defined in the functions using torch functional grid sample"
   ]
  },
  {
   "cell_type": "markdown",
   "id": "5a1d496d-fab4-4e66-8086-2c3e7bc4b3ca",
   "metadata": {},
   "source": [
    "It looks like this function generates a grid of (delta_x, delta_y)'s that is added to the starting grid of (x,y)'s."
   ]
  },
  {
   "cell_type": "code",
   "execution_count": 18,
   "id": "aa2dae39-fc10-4abd-aa28-6997c99134f1",
   "metadata": {},
   "outputs": [],
   "source": [
    "def generate_2dmotion_field(x, offset):\n",
    "    # Qin's code for joint_motion_seg learning works fine on our purpose too\n",
    "    # Same idea https://discuss.pytorch.org/t/warp-video-frame-from-optical-flow/6013/5\n",
    "    x_shape = x.size()\n",
    "    grid_w, grid_h = torch.meshgrid([torch.linspace(-1, 1, x_shape[2]), torch.linspace(-1, 1, x_shape[3])])  # (h, w)\n",
    "    grid_w = grid_w.cuda().float()\n",
    "    grid_h = grid_h.cuda().float()\n",
    "\n",
    "    grid_w = nn.Parameter(grid_w, requires_grad=False)\n",
    "    grid_h = nn.Parameter(grid_h, requires_grad=False)\n",
    "\n",
    "    offset_h, offset_w = torch.split(offset, 1, 1)\n",
    "    offset_w = offset_w.contiguous().view(-1, int(x_shape[2]), int(x_shape[3]))  # (b*c, h, w)\n",
    "    offset_h = offset_h.contiguous().view(-1, int(x_shape[2]), int(x_shape[3]))  # (b*c, h, w)\n",
    "\n",
    "    offset_w = grid_w + offset_w\n",
    "    offset_h = grid_h + offset_h\n",
    "    \n",
    "    offsets = torch.stack((offset_h, offset_w), 3)\n",
    "\n",
    "    return offsets"
   ]
  },
  {
   "cell_type": "markdown",
   "id": "41ca1276-37c4-4809-94b5-502b17132948",
   "metadata": {},
   "source": [
    "## This function looks like its a loss with the goal to minimize the magnitude of difference between the back to back vectors.\n",
    "## Idea is that movement should be smooth, not jaggedy or abrupt, so it looks at the derivatives of the vectors ? \n",
    "## Minimize the difference in derivatives ? \n",
    "\n",
    "## Would this not have the side effect of minimizing the magnitude? I guess not, because the derivative is independent of that"
   ]
  },
  {
   "cell_type": "code",
   "execution_count": 19,
   "id": "e724c5d5-efd2-48e4-a332-3dd136acb928",
   "metadata": {},
   "outputs": [],
   "source": [
    "def smoothness_loss(motion_output):\n",
    "    r\"\"\" The smoothness loss computed using the displacement u (motion_field)\n",
    "         motion_output: the output from the motion tracking head shape=N x C(2) x H x W \"\"\"\n",
    "    # Mean \n",
    "    dy = motion_output[:, 0, 1:, :-1] - motion_output[:, 0, :-1, :-1]\n",
    "    dx = motion_output[:, 1, :-1, 1:] - motion_output[:, 1, :-1, :-1]\n",
    "    #loss = dx.abs().mean() + dy.abs().mean()\n",
    "    #loss = torch.mean(torch.sum(dx ** 2 + dy ** 2, dim=(1, 2)))\n",
    "    loss = torch.mean(dx ** 2 + dy ** 2)\n",
    "    \n",
    "    return loss"
   ]
  },
  {
   "cell_type": "markdown",
   "id": "edaf4d29-437b-48bb-b088-fd488b5d6877",
   "metadata": {},
   "source": [
    "## What is this?"
   ]
  },
  {
   "cell_type": "code",
   "execution_count": 20,
   "id": "18f57703-7e47-48b7-b0ea-c09a0e3e8ff7",
   "metadata": {},
   "outputs": [],
   "source": [
    "def OTA_loss(source_image, motion_field, regulator_gamma=10):\n",
    "    r\"\"\" The appearance level motion tracking loss\n",
    "         source_image: The echo image sequence. \n",
    "         motion_field: The output from the motion tracking head shape=N x C (4) x D (10) x H x W\n",
    "         regulator_gamma: A trade-off parameter for smoothness loss\n",
    "    \"\"\"\n",
    "    corre_loss = 0\n",
    "    smooth_loss = 0\n",
    "    for index in range(source_image.shape[2] - 1):\n",
    "        forward_motion = motion_field[:, :2, index,...]\n",
    "        #backward_motion = motion_field[:, 2:, index,...]\n",
    "        backward_motion = motion_field[:, 2:, index + 1,...]\n",
    "        \n",
    "        grid_forward = generate_2dmotion_field(source_image[:, :, index,...], forward_motion)\n",
    "        grid_backward = generate_2dmotion_field(source_image[:, :, index + 1,...], backward_motion)\n",
    "        \n",
    "        pred_image_forward = F.grid_sample(source_image[:, :, index,...], grid_forward, align_corners=False, mode='bilinear', padding_mode='border')\n",
    "        pred_image_backward = F.grid_sample(source_image[:, :, index + 1,...], grid_backward, align_corners=False, mode='bilinear', padding_mode='border')\n",
    "        \n",
    "        corre_loss += local_cross_correlation(source_image[:, :, index + 1,...], pred_image_forward, 4)\n",
    "        corre_loss += local_cross_correlation(source_image[:, :, index,...], pred_image_backward, 4)\n",
    "        \n",
    "        smooth_loss += smoothness_loss(forward_motion)\n",
    "        smooth_loss += smoothness_loss(backward_motion)\n",
    "        #smooth_loss += huber_loss(forward_motion)\n",
    "        #smooth_loss += huber_loss(backward_motion)\n",
    "    \n",
    "    return (-1 / (2 * (source_image.shape[2] - 1))) * corre_loss + (regulator_gamma / (2 * (source_image.shape[2] - 1))) * smooth_loss"
   ]
  },
  {
   "cell_type": "markdown",
   "id": "0bc96bc4-a23f-42e7-a911-848331e70b19",
   "metadata": {},
   "source": [
    "## I'm not sure what the goal is. I have already shown that the raw motion tracking output is useless for direct application. But I need to show that it is somehow useful because in the loss functions it is being used.\n",
    "## Also, let's create visualizations of what is happening when the loss function warps the frames"
   ]
  }
 ],
 "metadata": {
  "kernelspec": {
   "display_name": "Python 3",
   "language": "python",
   "name": "python3"
  },
  "language_info": {
   "codemirror_mode": {
    "name": "ipython",
    "version": 3
   },
   "file_extension": ".py",
   "mimetype": "text/x-python",
   "name": "python",
   "nbconvert_exporter": "python",
   "pygments_lexer": "ipython3",
   "version": "3.7.6"
  }
 },
 "nbformat": 4,
 "nbformat_minor": 5
}
