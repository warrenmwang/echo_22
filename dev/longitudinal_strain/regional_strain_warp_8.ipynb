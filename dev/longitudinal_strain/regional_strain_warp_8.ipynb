{
 "cells": [
  {
   "cell_type": "code",
   "execution_count": 1,
   "id": "930275e0-f39f-43ab-a9d4-d07ae236b1d6",
   "metadata": {},
   "outputs": [],
   "source": [
    "model_name = \"Original_Pretrained_R2plus1DMotionSegNet.pth\"\n",
    "\n",
    "# model_name = \"dropout_v2_0_25_R2plus1DMotionSegNet.pth\"\n",
    "# model_name = \"dropout_v3_0_10_R2plus1DMotionSegNet.pth\""
   ]
  },
  {
   "cell_type": "code",
   "execution_count": 2,
   "id": "ed03f2ac-fe7f-49aa-9623-db88d12d5e6c",
   "metadata": {},
   "outputs": [
    {
     "name": "stdout",
     "output_type": "stream",
     "text": [
      "/home/wang/workspace/JupyterNoteBooksAll/fully-automated-multi-heartbeat-echocardiography-video-segmentation-and-motion-tracking\n"
     ]
    },
    {
     "name": "stderr",
     "output_type": "stream",
     "text": [
      "100%|██████████| 16/16 [00:01<00:00, 14.17it/s]\n"
     ]
    }
   ],
   "source": [
    "import os\n",
    "os.chdir(\"../..\")\n",
    "print(os.getcwd())\n",
    "\n",
    "%config Completer.use_jedi = False\n",
    "\n",
    "import SimpleITK as itk\n",
    "from LabelFusion.wrapper import fuse_images\n",
    "\n",
    "import echonet\n",
    "from echonet.datasets import Echo\n",
    "\n",
    "import torch.nn.functional as F\n",
    "from torchvision.models.video import r2plus1d_18\n",
    "from torch.utils.data import Dataset, DataLoader, Subset\n",
    "from multiprocessing import cpu_count\n",
    "\n",
    "from src.utils.torch_utils import TransformDataset, torch_collate\n",
    "from src.utils.echo_utils import get2dPucks\n",
    "from src.utils.camus_validate import cleanupSegmentation\n",
    "from src.transform_utils import generate_2dmotion_field\n",
    "from src.visualization_utils import categorical_dice\n",
    "from src.loss_functions import huber_loss, convert_to_1hot, convert_to_1hot_tensor\n",
    "from src.echonet_dataset import EDESpairs, EchoNetDynamicDataset\n",
    "\n",
    "from src.model.R2plus1D_18_MotionNet import R2plus1D_18_MotionNet\n",
    "\n",
    "# v2 dropout (in place before motion heads, forgot to define in forward pass function, but still saw diff, weird.)\n",
    "from src.model.dropout_v2_0_00_R2plus1D_18_MotionNet import dropout_v2_0_00_R2plus1D_18_MotionNet\n",
    "from src.model.dropout_v2_0_10_R2plus1D_18_MotionNet import dropout_v2_0_10_R2plus1D_18_MotionNet\n",
    "from src.model.dropout_v2_0_25_R2plus1D_18_MotionNet import dropout_v2_0_25_R2plus1D_18_MotionNet\n",
    "from src.model.dropout_v2_0_50_R2plus1D_18_MotionNet import dropout_v2_0_50_R2plus1D_18_MotionNet\n",
    "from src.model.dropout_v2_0_75_R2plus1D_18_MotionNet import dropout_v2_0_75_R2plus1D_18_MotionNet\n",
    "# v3 dropout (one dropout layer defined in forward pass func, this should've been the correct way to do it.)\n",
    "from src.model.dropout_v3_0_00_R2plus1D_18_MotionNet import dropout_v3_0_00_R2plus1D_18_MotionNet\n",
    "from src.model.dropout_v3_0_10_R2plus1D_18_MotionNet import dropout_v3_0_10_R2plus1D_18_MotionNet\n",
    "from src.model.dropout_v3_0_25_R2plus1D_18_MotionNet import dropout_v3_0_25_R2plus1D_18_MotionNet\n",
    "from src.model.dropout_v3_0_50_R2plus1D_18_MotionNet import dropout_v3_0_50_R2plus1D_18_MotionNet\n",
    "from src.model.dropout_v3_0_75_R2plus1D_18_MotionNet import dropout_v3_0_75_R2plus1D_18_MotionNet\n",
    "# v4 dropout (4 dropout layers in different places in the forward func, I'm going to guess more \"generalizable\")\n",
    "from src.model.dropout_v4_0_00_R2plus1D_18_MotionNet import dropout_v4_0_00_R2plus1D_18_MotionNet\n",
    "from src.model.dropout_v4_0_10_R2plus1D_18_MotionNet import dropout_v4_0_10_R2plus1D_18_MotionNet\n",
    "from src.model.dropout_v4_0_25_R2plus1D_18_MotionNet import dropout_v4_0_25_R2plus1D_18_MotionNet\n",
    "from src.model.dropout_v4_0_50_R2plus1D_18_MotionNet import dropout_v4_0_50_R2plus1D_18_MotionNet\n",
    "from src.model.dropout_v4_0_75_R2plus1D_18_MotionNet import dropout_v4_0_75_R2plus1D_18_MotionNet\n",
    "\n",
    "# for finding lv seg borders\n",
    "import cv2 as cv\n",
    "\n",
    "\n",
    "# from src.visualization_utils import categorical_dice\n",
    "\n",
    "import numpy as np\n",
    "from scipy.signal import find_peaks\n",
    "import matplotlib.pyplot as plt\n",
    "\n",
    "import torch\n",
    "import torch.nn as nn\n",
    "import torch.optim as optim\n",
    "\n",
    "import random\n",
    "import pickle\n",
    "import time\n",
    "\n",
    "tic, toc = (time.time, time.time)\n",
    "\n",
    "\n",
    "device = 'cuda' if torch.cuda.is_available() else 'cpu'\n",
    "device\n",
    "\n",
    "\n",
    "batch_size = 4\n",
    "num_workers = max(4, cpu_count()//2)\n",
    "\n",
    "\n",
    "def worker_init_fn_valid(worker_id):                                                          \n",
    "    np.random.seed(np.random.get_state()[1][0] + worker_id)\n",
    "    \n",
    "\n",
    "def worker_init_fn(worker_id):\n",
    "    # See here: https://pytorch.org/docs/stable/notes/randomness.html#dataloader\n",
    "    # and the original post of the problem: https://github.com/pytorch/pytorch/issues/5059#issuecomment-817373837\n",
    "    worker_seed = torch.initial_seed() % 2 ** 32\n",
    "    print(f'worker_seed: {worker_seed}')\n",
    "    np.random.seed(worker_seed)\n",
    "    random.seed(worker_seed)\n",
    "    \n",
    "\n",
    "def permuter(list1, list2):\n",
    "    for i1 in list1:\n",
    "        for i2 in list2:\n",
    "            yield (i1, i2)\n",
    "            \n",
    "\n",
    "param_trainLoader = {'collate_fn': torch_collate,\n",
    "                     'batch_size': batch_size,\n",
    "                     'num_workers': max(4, cpu_count()//2),\n",
    "                     'worker_init_fn': worker_init_fn}\n",
    "\n",
    "param_testLoader = {'collate_fn': torch_collate,\n",
    "                    'batch_size': batch_size,\n",
    "                    'shuffle': False,\n",
    "                    'num_workers': max(4, cpu_count()//2),\n",
    "                    'worker_init_fn': worker_init_fn}\n",
    "\n",
    "paramLoader = {'train': param_trainLoader,\n",
    "               'valid': param_testLoader,\n",
    "               'test':  param_testLoader}\n",
    "\n",
    "\n",
    "with open(\"fold_indexes/stanford_valid_sampled_indices\", \"rb\") as infile:\n",
    "    valid_mask = pickle.load(infile)\n",
    "infile.close()\n",
    "\n",
    "# full_dataset = EchoNetDynamicDataset(split='val', clip_length=\"full\", subset_indices=valid_mask, period=1)\n",
    "test_dataset = EchoNetDynamicDataset(split='test', clip_length=\"full\", raise_for_es_ed=False, period=1)\n",
    "# random_test_dataset = EchoNetDynamicDataset(split='test', clip_length=32, raise_for_es_ed=True, period=1)"
   ]
  },
  {
   "cell_type": "code",
   "execution_count": 3,
   "id": "12b762a4-3a5d-4dd3-99a6-cab812ebccb3",
   "metadata": {},
   "outputs": [
    {
     "name": "stdout",
     "output_type": "stream",
     "text": [
      "Original_Pretrained_R2plus1DMotionSegNet.pth has 31575731 parameters.\n"
     ]
    }
   ],
   "source": [
    "model_save_path = f\"save_models/{model_name}\"\n",
    "    \n",
    "if model_name == 'Original_Pretrained_R2plus1DMotionSegNet.pth':\n",
    "    model_template_obj = R2plus1D_18_MotionNet()\n",
    "elif model_name == 'dropout_v2_0_00_R2plus1DMotionSegNet.pth':\n",
    "    model_template_obj = dropout_v2_0_00_R2plus1D_18_MotionNet()\n",
    "elif model_name == 'dropout_v2_0_10_R2plus1DMotionSegNet.pth':\n",
    "    model_template_obj = dropout_v2_0_10_R2plus1D_18_MotionNet()\n",
    "elif model_name == 'dropout_v2_0_25_R2plus1DMotionSegNet.pth':\n",
    "    model_template_obj = dropout_v2_0_25_R2plus1D_18_MotionNet()\n",
    "\n",
    "\n",
    "elif model_name == \"dropout_v3_0_00_R2plus1DMotionSegNet.pth\":\n",
    "    model_template_obj = dropout_v3_0_00_R2plus1D_18_MotionNet()\n",
    "elif model_name == \"dropout_v3_0_10_R2plus1DMotionSegNet.pth\":\n",
    "    model_template_obj = dropout_v3_0_10_R2plus1D_18_MotionNet()\n",
    "elif model_name == \"dropout_v3_0_25_R2plus1DMotionSegNet.pth\":\n",
    "    model_template_obj = dropout_v3_0_25_R2plus1D_18_MotionNet()\n",
    "elif model_name == \"dropout_v4_0_00_R2plus1DMotionSegNet.pth\":\n",
    "    model_template_obj = dropout_v4_0_00_R2plus1D_18_MotionNet()\n",
    "elif model_name == \"dropout_v4_0_10_R2plus1DMotionSegNet.pth\":\n",
    "    model_template_obj = dropout_v4_0_10_R2plus1D_18_MotionNet()\n",
    "elif model_name == \"dropout_v4_0_25_R2plus1DMotionSegNet.pth\":\n",
    "    model_template_obj = dropout_v4_0_25_R2plus1D_18_MotionNet()\n",
    "\n",
    "\n",
    "model = torch.nn.DataParallel(model_template_obj)\n",
    "\n",
    "model.to(\"cuda\")\n",
    "torch.cuda.empty_cache()\n",
    "model.load_state_dict(torch.load(model_save_path)[\"model\"])\n",
    "print(f'{model_name} has {sum(p.numel() for p in model.parameters() if p.requires_grad)} parameters.')\n",
    "model.eval();"
   ]
  },
  {
   "cell_type": "code",
   "execution_count": 4,
   "id": "5eb2bb4f-d0b3-41a3-ad7c-faaa0ef453e4",
   "metadata": {},
   "outputs": [],
   "source": [
    "from src.strain import *"
   ]
  },
  {
   "cell_type": "code",
   "execution_count": 5,
   "id": "4eb886e7-db1e-4463-8ff9-0fc8b14aa6d3",
   "metadata": {},
   "outputs": [],
   "source": [
    "%matplotlib widget"
   ]
  },
  {
   "cell_type": "code",
   "execution_count": 6,
   "id": "176d1084-6826-4a6c-97bb-42e589777294",
   "metadata": {},
   "outputs": [],
   "source": [
    "N = 3\n",
    "test_pat_index = 0\n",
    "\n",
    "curr_clip_segmentations, curr_clip_motions, delta_ed_es, clip_index, ed_label, es_label = get_seg_and_warp_data(model = model,\n",
    "                                                                                            test_dataset = test_dataset,\n",
    "                                                                                            test_pat_index = test_pat_index)\n",
    "    \n",
    "ed_raw_seg_out = curr_clip_segmentations[:,0,...]\n",
    "\n",
    "ed_one_hot_seg_out = one_hot(ed_raw_seg_out)\n"
   ]
  },
  {
   "cell_type": "code",
   "execution_count": 7,
   "id": "bbc464a2-8fb4-42ad-8ac4-8a49c5fe8e94",
   "metadata": {},
   "outputs": [
    {
     "name": "stderr",
     "output_type": "stream",
     "text": [
      "/home/wang/workspace/JupyterNoteBooksAll/fully-automated-multi-heartbeat-echocardiography-video-segmentation-and-motion-tracking/src/strain.py:1070: VisibleDeprecationWarning: Creating an ndarray from ragged nested sequences (which is a list-or-tuple of lists-or-tuples-or ndarrays with different lengths or shapes) is deprecated. If you meant to do this, you must specify 'dtype=object' when creating the ndarray\n",
      "  I_regional_point_sets = np.array(I_regional_point_sets)\n"
     ]
    }
   ],
   "source": [
    "I = ed_one_hot_seg_out\n",
    "\n",
    "I_regional_point_sets = image_to_regional_point_sets(I)"
   ]
  },
  {
   "cell_type": "code",
   "execution_count": 8,
   "id": "ea89bdfd-6672-4082-a22f-b5e4109249d2",
   "metadata": {},
   "outputs": [
    {
     "data": {
      "application/vnd.jupyter.widget-view+json": {
       "model_id": "a33306950b044e2f9c2dac284da4fb75",
       "version_major": 2,
       "version_minor": 0
      },
      "image/png": "[encoded data removed]",
      "text/html": [
       "\n",
       "            <div style=\"display: inline-block;\">\n",
       "                <div class=\"jupyter-widgets widget-label\" style=\"text-align: center;\">\n",
       "                    Figure\n",
       "                </div>\n",
       "                <img src='data:image/png;base64,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' width=800.0/>\n",
       "            </div>\n",
       "        "
      ],
      "text/plain": [
       "Canvas(toolbar=Toolbar(toolitems=[('Home', 'Reset original view', 'home', 'home'), ('Back', 'Back to previous …"
      ]
     },
     "metadata": {},
     "output_type": "display_data"
    }
   ],
   "source": [
    "vis_single(I, cmap='gray')"
   ]
  },
  {
   "cell_type": "code",
   "execution_count": 9,
   "id": "ea13eb7f-914a-4dd7-8506-f4e118040a8c",
   "metadata": {},
   "outputs": [
    {
     "data": {
      "application/vnd.jupyter.widget-view+json": {
       "model_id": "6899300e3abe412bb391cb159bb17bbb",
       "version_major": 2,
       "version_minor": 0
      },
      "image/png": "[encoded data removed]",
      "text/html": [
       "\n",
       "            <div style=\"display: inline-block;\">\n",
       "                <div class=\"jupyter-widgets widget-label\" style=\"text-align: center;\">\n",
       "                    Figure\n",
       "                </div>\n",
       "                <img src='data:image/png;base64,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' width=1000.0/>\n",
       "            </div>\n",
       "        "
      ],
      "text/plain": [
       "Canvas(toolbar=Toolbar(toolitems=[('Home', 'Reset original view', 'home', 'home'), ('Back', 'Back to previous …"
      ]
     },
     "metadata": {},
     "output_type": "display_data"
    }
   ],
   "source": [
    "vis_three_point_sets(I_regional_point_sets)"
   ]
  },
  {
   "cell_type": "code",
   "execution_count": 10,
   "id": "e1c88cbd-b9a6-40e7-8cdb-5ee42b26438c",
   "metadata": {},
   "outputs": [
    {
     "name": "stdout",
     "output_type": "stream",
     "text": [
      "(36, 2)\n",
      "(39, 2)\n",
      "(30, 2)\n"
     ]
    }
   ],
   "source": [
    "for i in range(N):\n",
    "    print(I_regional_point_sets[i].shape)"
   ]
  },
  {
   "cell_type": "markdown",
   "id": "f254d32a-3431-44b5-af30-a2d101733dcc",
   "metadata": {},
   "source": [
    "## Warping the point set forward in time from frame `0` to frame `1` is easy. \n",
    "## Warping from frame `1` to further frames is difficult because we need to interpolate the vector fields from their integer locations to our frame `1` and beyond frames floating point positions"
   ]
  },
  {
   "cell_type": "code",
   "execution_count": 11,
   "id": "137eaaa5-13fd-4078-9119-784ebae5c0d6",
   "metadata": {},
   "outputs": [],
   "source": [
    "# def foo(coords, delta_ed_es, curr_clip_motions):\n",
    "#     '''\n",
    "#     input:\n",
    "#         coords - (N, 2) ndarray not tensor\n",
    "#         delta_ed_es - int\n",
    "#         curr_clip_motions - (4, 32, 112, 112)\n",
    "#     output:\n",
    "#         coords_return - (delta_ed_es, N, 2)\n",
    "#             stores the location of the point sets at every frame from 0 to delta_ed_es\n",
    "#     '''\n",
    "#     coords_return = None\n",
    "#     in_coords_len = coords.shape[0]\n",
    "    \n",
    "#     for frame in range(delta_ed_es):\n",
    "#         # first warp from ED -> ED+1\n",
    "#         if frame == 0:\n",
    "#             # warp forward all the current points\n",
    "#             coords_1 = []\n",
    "#             for _ in range(len(coords)):\n",
    "#                 pair = coords[_]\n",
    "\n",
    "#                 i_0,j_0 = pair[0],pair[1]\n",
    "\n",
    "#                 # forward change in y\n",
    "#                 delta_i = curr_clip_motions[1][frame][i_0][j_0]\n",
    "\n",
    "#                 # forward change in x\n",
    "#                 delta_j = curr_clip_motions[0][frame][i_0][j_0]\n",
    "\n",
    "#                 i_1, j_1 = i_0 + delta_i , j_0 + delta_j\n",
    "\n",
    "#                 coords_1.append([i_1, j_1])\n",
    "#             # for second iteration\n",
    "#             coords_return = coords_1\n",
    "#         else:\n",
    "#             # all other warps starting from ED+1 -> ED+2\n",
    "#             # to final warp ED+(n-1) -> ED+n\n",
    "#             # TODO\n",
    "            "
   ]
  },
  {
   "cell_type": "code",
   "execution_count": 12,
   "id": "2bc4d5a1-5399-473c-b4cb-a38230797638",
   "metadata": {},
   "outputs": [],
   "source": [
    "I_apical_point_set = I_regional_point_sets[0]\n",
    "\n",
    "coords = I_apical_point_set\n",
    "\n",
    "coords_multiple_frames = np.array([coords]).astype(float)"
   ]
  },
  {
   "cell_type": "code",
   "execution_count": 13,
   "id": "2408d3fe-c758-4434-a0e8-0867c3f94c24",
   "metadata": {},
   "outputs": [],
   "source": [
    "frame = 0\n",
    "\n",
    "# warp forward all the current points\n",
    "coords_1 = []\n",
    "for _ in range(len(coords)):\n",
    "    pair = coords[_]\n",
    "\n",
    "    i_0,j_0 = pair[0],pair[1]\n",
    "\n",
    "    # forward change in y\n",
    "    delta_i = curr_clip_motions[1][frame][i_0][j_0]\n",
    "\n",
    "    # forward change in x\n",
    "    delta_j = curr_clip_motions[0][frame][i_0][j_0]\n",
    "\n",
    "    i_1, j_1 = i_0 + delta_i , j_0 + delta_j\n",
    "    \n",
    "    # print(i_1, j_1)\n",
    "\n",
    "    coords_1.append([i_1, j_1])\n",
    "\n",
    "coords_1 = np.array(coords_1)\n",
    "\n",
    "coords_multiple_frames = np.insert(coords_multiple_frames, 1, coords_1, axis=0)\n",
    "\n",
    "coords_multiple_frames = coords_multiple_frames"
   ]
  },
  {
   "cell_type": "code",
   "execution_count": 14,
   "id": "5b2f2f42-5be3-422a-9159-49b5c306cf43",
   "metadata": {},
   "outputs": [
    {
     "data": {
      "text/plain": [
       "(2, 36, 2)"
      ]
     },
     "execution_count": 14,
     "metadata": {},
     "output_type": "execute_result"
    }
   ],
   "source": [
    "coords_multiple_frames.shape"
   ]
  },
  {
   "cell_type": "code",
   "execution_count": 15,
   "id": "f3999a3b-bb3e-43d1-bc52-16afa5ce47a0",
   "metadata": {},
   "outputs": [
    {
     "data": {
      "text/plain": [
       "(array([23., 48.]), array([23.02076343, 47.97884216]))"
      ]
     },
     "execution_count": 15,
     "metadata": {},
     "output_type": "execute_result"
    }
   ],
   "source": [
    "coords_multiple_frames[0][0], coords_multiple_frames[1][0]"
   ]
  },
  {
   "cell_type": "code",
   "execution_count": 16,
   "id": "c77fce60-637e-4674-9855-be3c33ca5408",
   "metadata": {},
   "outputs": [
    {
     "data": {
      "text/plain": [
       "(array([23., 49.]), array([23.02719518, 48.99810717]))"
      ]
     },
     "execution_count": 16,
     "metadata": {},
     "output_type": "execute_result"
    }
   ],
   "source": [
    "coords_multiple_frames[0][1], coords_multiple_frames[1][1]"
   ]
  },
  {
   "cell_type": "code",
   "execution_count": 17,
   "id": "19667847-e170-4d06-9cc7-9baed00967d1",
   "metadata": {},
   "outputs": [
    {
     "data": {
      "text/plain": [
       "(array([27., 47.]), array([27.03639373, 47.0468244 ]))"
      ]
     },
     "execution_count": 17,
     "metadata": {},
     "output_type": "execute_result"
    }
   ],
   "source": [
    "coords_multiple_frames[0][15], coords_multiple_frames[1][15]"
   ]
  },
  {
   "cell_type": "code",
   "execution_count": 18,
   "id": "7e48c9b0-74fe-4eb3-8916-14c8ba33f617",
   "metadata": {},
   "outputs": [
    {
     "data": {
      "text/plain": [
       "(2, 36, 2)"
      ]
     },
     "execution_count": 18,
     "metadata": {},
     "output_type": "execute_result"
    }
   ],
   "source": [
    "coords_multiple_frames.shape"
   ]
  },
  {
   "cell_type": "markdown",
   "id": "58a8a65e-5cef-4729-b68e-2d47633b06db",
   "metadata": {},
   "source": [
    "## Now first warp is complete.\n",
    "## Next, need to interpolate the subsequent vector field so that the warp can be applied to the current point positions\n",
    "\n",
    "## Alternative approaches using mathematics established for solving other problems include: [SLERP](https://en.wikipedia.org/wiki/Slerp) and [Quarternions](https://en.wikipedia.org/wiki/Quaternion)\n",
    "### [3blue1brown & BenEater's interactive tools](https://eater.net/quaternions) for understanding quarternions have been helpful, but I'm not sure how much time to put in for that \n",
    "\n",
    "## However, I have tried to understand them, and while I don't get them fully, I don't know if they have potential for solving this specific problem"
   ]
  },
  {
   "cell_type": "code",
   "execution_count": 19,
   "id": "da4e7d5e-a11d-404b-a09d-20906ad75069",
   "metadata": {},
   "outputs": [],
   "source": [
    "from scipy.interpolate import interpn"
   ]
  },
  {
   "cell_type": "code",
   "execution_count": 20,
   "id": "2c590027-7966-43cf-8c38-ef6835ae930e",
   "metadata": {},
   "outputs": [],
   "source": [
    "def cart2pol(x, y):\n",
    "    rho = np.sqrt(x**2 + y**2)\n",
    "    phi = np.arctan2(y, x)\n",
    "    # return(rho, phi)\n",
    "    return np.vstack([rho, phi]).T\n",
    "\n",
    "def pol2cart(rho, phi):\n",
    "    x = rho * np.cos(phi)\n",
    "    y = rho * np.sin(phi)\n",
    "    # return(x, y)\n",
    "    return np.vstack([x, y]).T"
   ]
  },
  {
   "cell_type": "code",
   "execution_count": 21,
   "id": "0a303cb2-3150-4d1d-b34e-c6a28cdfef29",
   "metadata": {},
   "outputs": [],
   "source": [
    "def vec2pol(v):\n",
    "    '''\n",
    "    input:\n",
    "        v - ((i, j), (del_i, del_j))\n",
    "        magnitude of this vector is described by the |v| = sqrt(del_x^2 + del_y^2)\n",
    "    output:\n",
    "        v - ((i, j), (rho, theta))\n",
    "    '''\n",
    "    delta_x = v[1][1]\n",
    "    delta_y = v[1][0]\n",
    "    \n",
    "    v[1] = cart2pol(delta_x, delta_y)\n",
    "    return v"
   ]
  },
  {
   "cell_type": "code",
   "execution_count": 22,
   "id": "750d755f-7953-480a-9cb6-678415634b1d",
   "metadata": {},
   "outputs": [
    {
     "data": {
      "text/plain": [
       "(4, 32, 112, 112)"
      ]
     },
     "execution_count": 22,
     "metadata": {},
     "output_type": "execute_result"
    }
   ],
   "source": [
    "curr_clip_motions.shape"
   ]
  },
  {
   "cell_type": "code",
   "execution_count": 23,
   "id": "afaf5912-0f19-41ce-a702-7a1a1130f16e",
   "metadata": {},
   "outputs": [],
   "source": [
    "# getting the forward vectors at frame = 1\n",
    "motion_vectors = {}\n",
    "frame = 1\n",
    "\n",
    "for i in range(curr_clip_motions.shape[2]):\n",
    "    for j in range(curr_clip_motions.shape[3]):\n",
    "        \n",
    "        if i not in motion_vectors:\n",
    "            motion_vectors[i] = {}\n",
    "\n",
    "        motion_vectors[i][j] = [curr_clip_motions[0][frame][i][j], curr_clip_motions[1][frame][i][j]]\n",
    "        \n",
    "        # v = [[i,j], [curr_clip_motions[0][frame][i][j], curr_clip_motions[1][frame][i][j]]]\n",
    "        # motion_vectors.append(v)\n",
    "\n",
    "# motion_vectors = np.array(motion_vectors)"
   ]
  },
  {
   "cell_type": "code",
   "execution_count": 24,
   "id": "a72a4d76-c37b-4ad9-981f-613546cb9e8b",
   "metadata": {},
   "outputs": [],
   "source": [
    "# for i in range(len(motion_vectors)):\n",
    "#     motion_vectors[i] = vec2pol(motion_vectors[i])"
   ]
  },
  {
   "cell_type": "code",
   "execution_count": 25,
   "id": "0b814e55-a5fd-479f-bbe3-6df19134c29f",
   "metadata": {},
   "outputs": [],
   "source": [
    "# motion_vectors[0]"
   ]
  },
  {
   "cell_type": "code",
   "execution_count": 26,
   "id": "6b5e0373-d5d8-4703-9a25-cc718a5186fb",
   "metadata": {},
   "outputs": [],
   "source": [
    "# motion_vectors.shape"
   ]
  },
  {
   "cell_type": "code",
   "execution_count": 27,
   "id": "35678ed4-d376-44f7-94c3-339482d7e5df",
   "metadata": {},
   "outputs": [
    {
     "data": {
      "text/plain": [
       "array([23.02076343, 47.97884216])"
      ]
     },
     "execution_count": 27,
     "metadata": {},
     "output_type": "execute_result"
    }
   ],
   "source": [
    "point = coords_multiple_frames[1][0] # one point at frame 1, need to now warp using frame 1 vectors\n",
    "point"
   ]
  },
  {
   "cell_type": "code",
   "execution_count": 28,
   "id": "490512e4-5774-41b4-9f2b-20cd25f7e9d7",
   "metadata": {},
   "outputs": [],
   "source": [
    "# need vectors at this i,j\n",
    "# first get the 4 vectors surrounding this vector\n",
    "inted_i, inted_j = int(point[0]), int(point[1])\n",
    "surround_vectors = [ [inted_i, inted_j],\n",
    "                     [inted_i, inted_j+1],\n",
    "                     [inted_i+1, inted_j],\n",
    "                     [inted_i+1, inted_j+1] ]\n",
    "\n",
    "# get the distance from the current point to each surrounding vector\n",
    "def get_distance(x2,y2,x1,y1):\n",
    "    return np.sqrt((x2-x1)**2 + (y2-y1)**2)\n",
    "\n",
    "def distance_btwn_points(p0,p1):\n",
    "    x2 = p1[0]\n",
    "    y2 = p1[1]\n",
    "    x1 = p0[0]\n",
    "    y1 = p0[1]\n",
    "    return get_distance(x2,y2,x1,y1)\n",
    "    \n",
    "\n",
    "distances = []\n",
    "p0 = ij_to_xy(point)\n",
    "for i in range(len(surround_vectors)):\n",
    "    i_ = surround_vectors[i][0]\n",
    "    j_ = surround_vectors[i][1]\n",
    "    \n",
    "    p1 = ij_to_xy([i_, j_])\n",
    "    \n",
    "    distances.append(distance_btwn_points(p0,p1))"
   ]
  },
  {
   "cell_type": "code",
   "execution_count": 29,
   "id": "371e773e-2b4e-442b-b176-5cc06806aea5",
   "metadata": {},
   "outputs": [
    {
     "data": {
      "text/plain": [
       "[[23, 47], [23, 48], [24, 47], [24, 48]]"
      ]
     },
     "execution_count": 29,
     "metadata": {},
     "output_type": "execute_result"
    }
   ],
   "source": [
    "surround_vectors"
   ]
  },
  {
   "cell_type": "code",
   "execution_count": 30,
   "id": "24f9ca32-254b-4845-a36c-135f43546621",
   "metadata": {},
   "outputs": [
    {
     "data": {
      "text/plain": [
       "[0.9790623543612463,\n",
       " 0.02964412692312461,\n",
       " 1.3845707754530165,\n",
       " 0.9794651156484416]"
      ]
     },
     "execution_count": 30,
     "metadata": {},
     "output_type": "execute_result"
    }
   ],
   "source": [
    "distances"
   ]
  },
  {
   "cell_type": "code",
   "execution_count": 31,
   "id": "919b4b18-8341-4e99-86cf-966ba7a6aa2f",
   "metadata": {},
   "outputs": [],
   "source": [
    "distances = distances / np.sum(distances)"
   ]
  },
  {
   "cell_type": "code",
   "execution_count": 32,
   "id": "1f97550e-bb13-4643-9f20-0d0eb924d875",
   "metadata": {},
   "outputs": [
    {
     "data": {
      "text/plain": [
       "array([0.29028673, 0.00878932, 0.4105178 , 0.29040615])"
      ]
     },
     "execution_count": 32,
     "metadata": {},
     "output_type": "execute_result"
    }
   ],
   "source": [
    "distances"
   ]
  },
  {
   "cell_type": "code",
   "execution_count": 33,
   "id": "2323b063-bb34-488b-9204-1dae71bb8b6c",
   "metadata": {},
   "outputs": [
    {
     "data": {
      "text/plain": [
       "1.0"
      ]
     },
     "execution_count": 33,
     "metadata": {},
     "output_type": "execute_result"
    }
   ],
   "source": [
    "np.sum(distances)"
   ]
  },
  {
   "cell_type": "code",
   "execution_count": 34,
   "id": "96ff7e92-7477-4046-8d9b-e5a0ad1b7607",
   "metadata": {},
   "outputs": [
    {
     "data": {
      "text/plain": [
       "array([0.70971327, 0.99121068, 0.5894822 , 0.70959385])"
      ]
     },
     "execution_count": 34,
     "metadata": {},
     "output_type": "execute_result"
    }
   ],
   "source": [
    "weights = 1.0 - distances\n",
    "weights"
   ]
  },
  {
   "cell_type": "code",
   "execution_count": 35,
   "id": "b3d3de7f-f820-439c-aafc-9a526949cf41",
   "metadata": {},
   "outputs": [
    {
     "data": {
      "text/plain": [
       "array([0.23657109, 0.33040356, 0.19649407, 0.23653128])"
      ]
     },
     "execution_count": 35,
     "metadata": {},
     "output_type": "execute_result"
    }
   ],
   "source": [
    "weights = weights / np.sum(weights)\n",
    "weights"
   ]
  },
  {
   "cell_type": "code",
   "execution_count": 36,
   "id": "b8da425b-124c-4371-b380-da257ca1780f",
   "metadata": {},
   "outputs": [
    {
     "data": {
      "text/plain": [
       "1.0"
      ]
     },
     "execution_count": 36,
     "metadata": {},
     "output_type": "execute_result"
    }
   ],
   "source": [
    "np.sum(weights)"
   ]
  },
  {
   "cell_type": "code",
   "execution_count": 37,
   "id": "58079b88-5fec-4927-ba09-2ec1462eae3d",
   "metadata": {},
   "outputs": [],
   "source": [
    "# assuming our weights is correct, let us apply the interpolation on the vectors\n",
    "surround_vectors_with_displacement_in_cart = []\n",
    "for i,j in surround_vectors:\n",
    "    \n",
    "    forward_x = motion_vectors[i][j][0]\n",
    "    forward_y = motion_vectors[i][j][1]\n",
    "    \n",
    "    forward_i = forward_y\n",
    "    forward_j = forward_x\n",
    "    \n",
    "    surround_vectors_with_displacement_in_cart.append( [[i,j],[forward_i, forward_j]] )\n",
    "    \n",
    "surround_vectors_with_displacement_in_cart = np.array(surround_vectors_with_displacement_in_cart)"
   ]
  },
  {
   "cell_type": "code",
   "execution_count": 38,
   "id": "d33f2b3c-601f-49c8-8a94-d973a5d10647",
   "metadata": {},
   "outputs": [
    {
     "data": {
      "text/plain": [
       "array([[[ 2.30000000e+01,  4.70000000e+01],\n",
       "        [ 2.39035543e-02, -3.85992154e-02]],\n",
       "\n",
       "       [[ 2.30000000e+01,  4.80000000e+01],\n",
       "        [ 1.26686618e-02, -2.62219310e-02]],\n",
       "\n",
       "       [[ 2.40000000e+01,  4.70000000e+01],\n",
       "        [ 3.01304422e-02, -4.47503254e-02]],\n",
       "\n",
       "       [[ 2.40000000e+01,  4.80000000e+01],\n",
       "        [ 4.02380340e-02,  1.80606991e-02]]])"
      ]
     },
     "execution_count": 38,
     "metadata": {},
     "output_type": "execute_result"
    }
   ],
   "source": [
    "surround_vectors_with_displacement_in_cart"
   ]
  },
  {
   "cell_type": "code",
   "execution_count": 39,
   "id": "0050532b-6c1a-446d-86fd-b456224af06a",
   "metadata": {},
   "outputs": [
    {
     "data": {
      "text/plain": [
       "(4, 2, 2)"
      ]
     },
     "execution_count": 39,
     "metadata": {},
     "output_type": "execute_result"
    }
   ],
   "source": [
    "surround_vectors_with_displacement_in_cart.shape"
   ]
  },
  {
   "cell_type": "code",
   "execution_count": 40,
   "id": "4d16afeb-0177-4de0-a38d-e701915a7a6a",
   "metadata": {},
   "outputs": [],
   "source": [
    "# convert into polar\n",
    "surround_vectors_with_displacement_in_polar = []\n",
    "for v in surround_vectors_with_displacement_in_cart:\n",
    "    surround_vectors_with_displacement_in_polar.append(vec2pol(v))\n",
    "    \n",
    "surround_vectors_with_displacement_in_polar = np.array(surround_vectors_with_displacement_in_polar)"
   ]
  },
  {
   "cell_type": "code",
   "execution_count": 41,
   "id": "a75b4d69-e834-4a7e-ab34-1e2125b22633",
   "metadata": {},
   "outputs": [],
   "source": [
    "surround_vectors_with_displacement_in_polar_just_rho_theta = surround_vectors_with_displacement_in_polar[: , 1, ...]"
   ]
  },
  {
   "cell_type": "code",
   "execution_count": 42,
   "id": "8ae7d3fc-ed99-4ab8-802d-0e85ba51c6c4",
   "metadata": {},
   "outputs": [
    {
     "data": {
      "text/plain": [
       "(array([[0.04540131, 2.58712032],\n",
       "        [0.02912189, 2.69153004],\n",
       "        [0.05394845, 2.54901105],\n",
       "        [0.04410542, 1.1489021 ]]),\n",
       " (4, 2))"
      ]
     },
     "execution_count": 42,
     "metadata": {},
     "output_type": "execute_result"
    }
   ],
   "source": [
    "surround_vectors_with_displacement_in_polar_just_rho_theta, surround_vectors_with_displacement_in_polar_just_rho_theta.shape"
   ]
  },
  {
   "cell_type": "code",
   "execution_count": 43,
   "id": "dfb49adf-0fcb-4732-8a18-ddc5660cf089",
   "metadata": {},
   "outputs": [
    {
     "data": {
      "text/plain": [
       "(array([0.23657109, 0.33040356, 0.19649407, 0.23653128]), (4,))"
      ]
     },
     "execution_count": 43,
     "metadata": {},
     "output_type": "execute_result"
    }
   ],
   "source": [
    "weights, weights.shape"
   ]
  },
  {
   "cell_type": "code",
   "execution_count": 44,
   "id": "d1ec4b31-7d0c-428f-a00d-ef10b633d286",
   "metadata": {},
   "outputs": [],
   "source": [
    "# do linear interpolation on the rho, theta (leave the i,j coords alone!)\n",
    "def linear_interp(weights, vectors):\n",
    "    x = []\n",
    "    y = []\n",
    "    for i,v in enumerate(vectors):\n",
    "        x.append(weights[i]*v[0])\n",
    "        y.append(weights[i]*v[1])\n",
    "    return np.array([np.sum(x), np.sum(y)])"
   ]
  },
  {
   "cell_type": "code",
   "execution_count": 45,
   "id": "14416b20-def1-47e1-b144-3340d099f7ab",
   "metadata": {},
   "outputs": [],
   "source": [
    "point_displacement_in_polar = linear_interp(weights, surround_vectors_with_displacement_in_polar_just_rho_theta)\n",
    "\n",
    "point_displacement_in_cart =  pol2cart(point_displacement_in_polar[0], point_displacement_in_polar[1])[0] # this will be in xy\n",
    "point_displacement_in_cart = ij_to_xy(point_displacement_in_cart) # now in ij"
   ]
  },
  {
   "cell_type": "code",
   "execution_count": 46,
   "id": "36e1ceff-6cfc-425c-bb45-bbe409ee3b0c",
   "metadata": {},
   "outputs": [
    {
     "data": {
      "text/plain": [
       "array([ 0.03157686, -0.02676728])"
      ]
     },
     "execution_count": 46,
     "metadata": {},
     "output_type": "execute_result"
    }
   ],
   "source": [
    "point_displacement_in_cart"
   ]
  },
  {
   "cell_type": "code",
   "execution_count": 47,
   "id": "86396d10-30dc-4f80-9ec8-66857bd425c7",
   "metadata": {},
   "outputs": [],
   "source": [
    "# i,j rooted at the old point\n",
    "# delta_i, delta_j is the new interpolated displacement \n",
    "new_vector = np.array([point, point_displacement_in_cart])"
   ]
  },
  {
   "cell_type": "code",
   "execution_count": 48,
   "id": "fbde3cb9-b60c-41a7-9bc4-07cf3928f00d",
   "metadata": {},
   "outputs": [
    {
     "data": {
      "text/plain": [
       "array([[ 2.30207634e+01,  4.79788422e+01],\n",
       "       [ 3.15768613e-02, -2.67672824e-02]])"
      ]
     },
     "execution_count": 48,
     "metadata": {},
     "output_type": "execute_result"
    }
   ],
   "source": [
    "new_vector"
   ]
  },
  {
   "cell_type": "code",
   "execution_count": 49,
   "id": "2c233398-2e23-4ad0-9942-2646aa7b2a07",
   "metadata": {},
   "outputs": [],
   "source": [
    "# assuming I didn't fuck something up, these are our delta_i, delta_j (maybe they are instead delta_x, delta_y)\n",
    "# create new point (frame 1 point + displacement we just created)\n",
    "\n",
    "new_point = new_vector[0] + new_vector[1]"
   ]
  },
  {
   "cell_type": "code",
   "execution_count": 50,
   "id": "987b3528-18df-49da-9cf6-3ad54d3ad0bc",
   "metadata": {},
   "outputs": [
    {
     "data": {
      "text/plain": [
       "array([23.05234029, 47.95207488])"
      ]
     },
     "execution_count": 50,
     "metadata": {},
     "output_type": "execute_result"
    }
   ],
   "source": [
    "new_point"
   ]
  },
  {
   "cell_type": "markdown",
   "id": "fc2b76a4-3790-4934-a482-d03d5721a745",
   "metadata": {},
   "source": [
    "## Well, let's first see if our vector interpolation is plausible"
   ]
  },
  {
   "cell_type": "code",
   "execution_count": 64,
   "id": "61bee346-b273-4824-b352-0c6553a7fb7e",
   "metadata": {},
   "outputs": [],
   "source": [
    "def check_interpolate(surround_vectors, new_vector):\n",
    "    '''\n",
    "    assume data format: ((i, j), (delta_i, delta_j)) for all vectors\n",
    "    \n",
    "    surround_vectors (4,2,2)\n",
    "    new_vector (2,2)\n",
    "\n",
    "    always the headeache of knowing\n",
    "    x = j\n",
    "    y = i\n",
    "\n",
    "    '''\n",
    "    \n",
    "    x = surround_vectors[:, 0, 1]\n",
    "    y = surround_vectors[:, 0, 0]\n",
    "    \n",
    "    x_1 = new_vector[0, 1]\n",
    "    y_1 = new_vector[0, 0]\n",
    "    \n",
    "    delta_x = surround_vectors[:, 1, 1]\n",
    "    delta_y = surround_vectors[:, 1, 0]\n",
    "    \n",
    "    delta_x_1 = new_vector[1, 1]\n",
    "    delta_y_1 = new_vector[1, 0]\n",
    "    \n",
    "    plt.figure()\n",
    "    plt.quiver(x, y, delta_x, delta_y, color='k', linewidth=0.7)\n",
    "    plt.quiver(x_1, y_1, delta_x_1, delta_y_1, color='b', linewidth=0.7)\n",
    "    plt.show()"
   ]
  },
  {
   "cell_type": "code",
   "execution_count": 65,
   "id": "5719330e-739d-4178-ab16-358e5f606bca",
   "metadata": {},
   "outputs": [
    {
     "data": {
      "application/vnd.jupyter.widget-view+json": {
       "model_id": "01b86618d79e4f5d8ef56d5973f21af8",
       "version_major": 2,
       "version_minor": 0
      },
      "image/png": "[encoded data removed]",
      "text/html": [
       "\n",
       "            <div style=\"display: inline-block;\">\n",
       "                <div class=\"jupyter-widgets widget-label\" style=\"text-align: center;\">\n",
       "                    Figure\n",
       "                </div>\n",
       "                <img src='data:image/png;base64,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' width=640.0/>\n",
       "            </div>\n",
       "        "
      ],
      "text/plain": [
       "Canvas(toolbar=Toolbar(toolitems=[('Home', 'Reset original view', 'home', 'home'), ('Back', 'Back to previous …"
      ]
     },
     "metadata": {},
     "output_type": "display_data"
    }
   ],
   "source": [
    "check_interpolate(surround_vectors_with_displacement_in_cart, new_vector)"
   ]
  },
  {
   "cell_type": "markdown",
   "id": "ee505dde-cf06-48f4-a971-10c4dcd66121",
   "metadata": {},
   "source": [
    "# BE CAREFUL: your vectors are describing forward X,Y direction but you are storing your vectors in i,j format!!!"
   ]
  },
  {
   "cell_type": "markdown",
   "id": "a1676c7c-77c8-42fd-9f24-561116b9e23e",
   "metadata": {},
   "source": [
    "## we have vectors at (i,j, $\\rho$, $\\theta$) describing forward x,y motion of point at i,j\n",
    "## i,j are integer values\n",
    "\n",
    "## "
   ]
  }
 ],
 "metadata": {
  "kernelspec": {
   "display_name": "Python 3",
   "language": "python",
   "name": "python3"
  },
  "language_info": {
   "codemirror_mode": {
    "name": "ipython",
    "version": 3
   },
   "file_extension": ".py",
   "mimetype": "text/x-python",
   "name": "python",
   "nbconvert_exporter": "python",
   "pygments_lexer": "ipython3",
   "version": "3.7.6"
  }
 },
 "nbformat": 4,
 "nbformat_minor": 5
}
