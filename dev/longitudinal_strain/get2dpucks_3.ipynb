{
 "cells": [
  {
   "cell_type": "code",
   "execution_count": 1,
   "id": "663fffd6-3e77-47c3-a7e9-69a9a435649b",
   "metadata": {},
   "outputs": [],
   "source": [
    "import os\n",
    "os.chdir(\"../..\")"
   ]
  },
  {
   "cell_type": "code",
   "execution_count": 2,
   "id": "6f6c0299-7d75-4f66-b2bd-5e7e52351d3c",
   "metadata": {},
   "outputs": [],
   "source": [
    "%config Completer.use_jedi = False\n",
    "\n",
    "import SimpleITK as itk\n",
    "from LabelFusion.wrapper import fuse_images\n",
    "\n",
    "import echonet\n",
    "from echonet.datasets import Echo\n",
    "\n",
    "import torch.nn.functional as F\n",
    "from torchvision.models.video import r2plus1d_18\n",
    "from torch.utils.data import Dataset, DataLoader, Subset\n",
    "from multiprocessing import cpu_count\n",
    "\n",
    "from src.utils.torch_utils import TransformDataset, torch_collate\n",
    "# from src.utils.echo_utils import get2dPucks ### We are using a debugging version!!\n",
    "from src.utils.camus_validate import cleanupSegmentation\n",
    "from src.transform_utils import generate_2dmotion_field\n",
    "from src.visualization_utils import categorical_dice\n",
    "from src.loss_functions import huber_loss, convert_to_1hot, convert_to_1hot_tensor\n",
    "from src.echonet_dataset import EDESpairs, EchoNetDynamicDataset\n",
    "from src.model.R2plus1D_18_MotionNet import R2plus1D_18_MotionNet\n",
    "# from src.visualization_utils import categorical_dice\n",
    "\n",
    "import numpy as np\n",
    "from scipy.signal import find_peaks\n",
    "import matplotlib.pyplot as plt\n",
    "\n",
    "import torch\n",
    "import torch.nn as nn\n",
    "import torch.optim as optim\n",
    "\n",
    "import random\n",
    "import pickle\n",
    "import time\n",
    "\n",
    "tic, toc = (time.time, time.time)"
   ]
  },
  {
   "cell_type": "code",
   "execution_count": 3,
   "id": "b7412429-8679-4f97-b4dc-d53b53de15de",
   "metadata": {},
   "outputs": [],
   "source": [
    "%matplotlib widget\n",
    "from src.strain import *\n",
    "\n",
    "# for get2dpucks\n",
    "from skimage.transform import (resize, \n",
    "                               rescale)\n",
    "from skimage.segmentation import find_boundaries"
   ]
  },
  {
   "cell_type": "code",
   "execution_count": 4,
   "id": "82c674e6-5fa0-4272-81f1-a5b8f3240031",
   "metadata": {},
   "outputs": [],
   "source": [
    "batch_size = 4\n",
    "num_workers = max(4, cpu_count()//2)\n",
    "\n",
    "\n",
    "def worker_init_fn_valid(worker_id):                                                          \n",
    "    np.random.seed(np.random.get_state()[1][0] + worker_id)\n",
    "    \n",
    "\n",
    "def worker_init_fn(worker_id):\n",
    "    # See here: https://pytorch.org/docs/stable/notes/randomness.html#dataloader\n",
    "    # and the original post of the problem: https://github.com/pytorch/pytorch/issues/5059#issuecomment-817373837\n",
    "    worker_seed = torch.initial_seed() % 2 ** 32\n",
    "    np.random.seed(worker_seed)\n",
    "    random.seed(worker_seed)\n",
    "    \n",
    "\n",
    "def permuter(list1, list2):\n",
    "    for i1 in list1:\n",
    "        for i2 in list2:\n",
    "            yield (i1, i2)\n",
    "            \n",
    "\n",
    "param_trainLoader = {'collate_fn': torch_collate,\n",
    "                     'batch_size': batch_size,\n",
    "                     'num_workers': max(4, cpu_count()//2),\n",
    "                     'worker_init_fn': worker_init_fn}\n",
    "\n",
    "param_testLoader = {'collate_fn': torch_collate,\n",
    "                    'batch_size': batch_size,\n",
    "                    'shuffle': False,\n",
    "                    'num_workers': max(4, cpu_count()//2),\n",
    "                    'worker_init_fn': worker_init_fn}\n",
    "\n",
    "paramLoader = {'train': param_trainLoader,\n",
    "               'valid': param_testLoader,\n",
    "               'test':  param_testLoader}"
   ]
  },
  {
   "cell_type": "code",
   "execution_count": 5,
   "id": "b6423b15-d1ed-42a7-99d4-f4bcca363e5d",
   "metadata": {},
   "outputs": [
    {
     "name": "stderr",
     "output_type": "stream",
     "text": [
      "100%|██████████| 16/16 [00:01<00:00, 13.17it/s]\n"
     ]
    }
   ],
   "source": [
    "with open(\"fold_indexes/stanford_valid_sampled_indices\", \"rb\") as infile:\n",
    "    valid_mask = pickle.load(infile)\n",
    "infile.close()\n",
    "\n",
    "test_dataset = EchoNetDynamicDataset(split='test', clip_length=\"full\", raise_for_es_ed=False, period=1)"
   ]
  },
  {
   "cell_type": "code",
   "execution_count": 6,
   "id": "399de79e-845d-48d1-843c-b5ac63ca38e9",
   "metadata": {},
   "outputs": [
    {
     "name": "stdout",
     "output_type": "stream",
     "text": [
      "R2+1D MotionNet has 31575731 parameters.\n"
     ]
    }
   ],
   "source": [
    "model_save_path = \"save_models/Original_Pretrained_R2plus1DMotionSegNet.pth\"\n",
    "\n",
    "model = torch.nn.DataParallel(R2plus1D_18_MotionNet())\n",
    "model.to(\"cuda\")\n",
    "torch.cuda.empty_cache()\n",
    "model.load_state_dict(torch.load(model_save_path)[\"model\"])\n",
    "print(f'R2+1D MotionNet has {sum(p.numel() for p in model.parameters() if p.requires_grad)} parameters.')\n",
    "\n",
    "model.eval();"
   ]
  },
  {
   "cell_type": "code",
   "execution_count": 7,
   "id": "dc95b8c8-23b5-4c0c-b619-bdda0382c712",
   "metadata": {},
   "outputs": [],
   "source": [
    "test_pat_index = 0\n",
    "\n",
    "video, (filename, EF, es_clip_index, ed_clip_index, es_index, ed_index, es_frame, ed_frame, es_label, ed_label) = test_dataset[test_pat_index]"
   ]
  },
  {
   "cell_type": "code",
   "execution_count": 8,
   "id": "c14bad40-88d1-4e2e-a5d2-6e1283fc2b01",
   "metadata": {},
   "outputs": [],
   "source": [
    "def image_to_regional_point_sets(I, N=3):\n",
    "    '''\n",
    "    input:\n",
    "        I - image (112, 112) unique vals of (0,1)\n",
    "        N - number of regions to slice\n",
    "            note if this should be changed get2dPuckEndpoints npucks param needs to be divisible by N\n",
    "    '''\n",
    "    \n",
    "    radiiEndpoints_I = get2dPuckEndpoints((I == 1).astype('int'), (1.0, 1.0), npucks=9)\n",
    "\n",
    "    I = give_boundary_no_basal_plane(ed_label)\n",
    "    \n",
    "    # get the indeces of where we'll slice\n",
    "    indeces_for_slice_points = []\n",
    "    for i in range(len(radiiEndpoints_I)-1, 0, -N):\n",
    "        indeces_for_slice_points.append(i)\n",
    "    indeces_for_slice_points.sort()\n",
    "\n",
    "    # get the actual points of where we'll slice\n",
    "    slice_points = []\n",
    "    for i in indeces_for_slice_points:\n",
    "        slice_points.append(radiiEndpoints_I[i, 0, ...])\n",
    "    slice_points = np.array(slice_points)\n",
    "\n",
    "    # reorganize our points to be stored as (i,j)\n",
    "    divide_points = [] # (i,j)\n",
    "    for a in slice_points:\n",
    "        divide_points.append([ [a[0][0], a[1][0]] , [a[0][1], a[1][1]] ])\n",
    "        \n",
    "    # convert input image into points\n",
    "    I_point_set = []\n",
    "    for i in range(I.shape[0]):\n",
    "        for j in range(I.shape[1]):\n",
    "            if I[i][j] == 1:\n",
    "                I_point_set.append([i,j])\n",
    "\n",
    "                \n",
    "    # split input image point set into the regional point sets\n",
    "    I_regional_point_sets = [0 for i in range(N)]\n",
    "    for i in range(N):\n",
    "        curr_region_point_set = []\n",
    "        tmp_point_count = 0\n",
    "\n",
    "        # first region\n",
    "        if i == 0:\n",
    "            p1 = ij_to_xy(divide_points[i][0])\n",
    "            p2 = ij_to_xy(divide_points[i][1])\n",
    "\n",
    "            for point in I_point_set:\n",
    "                p3 = ij_to_xy(point)\n",
    "\n",
    "                if is_point_above_below_line(p1, p2, p3) == -1:\n",
    "                    curr_region_point_set.append(point)\n",
    "                    tmp_point_count += 1\n",
    "\n",
    "            print(f'points in region i={i}: {tmp_point_count}')\n",
    "            print(f'{p1} {p2}')\n",
    "\n",
    "        # 2nd and + regions\n",
    "        else:\n",
    "            start_p1 = ij_to_xy(divide_points[i-1][0])\n",
    "            start_p2 = ij_to_xy(divide_points[i-1][1])\n",
    "\n",
    "            end_p1 = ij_to_xy(divide_points[i][0])\n",
    "            end_p2 = ij_to_xy(divide_points[i][1])\n",
    "\n",
    "            # look at the entire point set representing the entire lv\n",
    "            for point in I_point_set:\n",
    "                p3 = ij_to_xy(point)\n",
    "\n",
    "                check_1 = is_point_above_below_line(start_p1, start_p2, p3)\n",
    "                check_2 = is_point_above_below_line(end_p1, end_p2, p3)\n",
    "\n",
    "                # print(check_1, check_2)\n",
    "\n",
    "                # above the first line and below the second line\n",
    "                # save point in (i,j) format\n",
    "                if check_1 == 1 and check_2 == -1:\n",
    "                    curr_region_point_set.append(point)\n",
    "                    tmp_point_count += 1\n",
    "\n",
    "            print(f'points in region i={i}: {tmp_point_count}')\n",
    "            print(f'{start_p1} {start_p2} | {end_p1} {end_p2}')\n",
    "\n",
    "        # save curr region point set\n",
    "        I_regional_point_sets[i] = np.array(curr_region_point_set)\n",
    "\n",
    "    I_regional_point_sets = np.array(I_regional_point_sets)\n",
    "    \n",
    "    return I_regional_point_sets"
   ]
  },
  {
   "cell_type": "code",
   "execution_count": 9,
   "id": "a8ff0a42-da5d-43d3-8432-a32d4d9a2978",
   "metadata": {},
   "outputs": [
    {
     "name": "stdout",
     "output_type": "stream",
     "text": [
      "points in region i=0: 36\n",
      "[48.05716979 38.44081952] [68.001712   35.98958544]\n",
      "points in region i=1: 39\n",
      "[48.05716979 38.44081952] [68.001712   35.98958544] | [47.52191566 58.24401858] [73.316329   55.07382072]\n",
      "points in region i=2: 34\n",
      "[47.52191566 58.24401858] [73.316329   55.07382072] | [54.88647627 77.07631067] [70.73113125 75.12896298]\n"
     ]
    },
    {
     "name": "stderr",
     "output_type": "stream",
     "text": [
      "/opt/anaconda3/envs/dynamic37-wang/lib/python3.7/site-packages/ipykernel_launcher.py:88: VisibleDeprecationWarning: Creating an ndarray from ragged nested sequences (which is a list-or-tuple of lists-or-tuples-or ndarrays with different lengths or shapes) is deprecated. If you meant to do this, you must specify 'dtype=object' when creating the ndarray\n"
     ]
    }
   ],
   "source": [
    "I_regional_point_sets = image_to_regional_point_sets(ed_label)"
   ]
  },
  {
   "cell_type": "code",
   "execution_count": 11,
   "id": "25af6f77-f355-4238-9471-b295bdc31c0e",
   "metadata": {},
   "outputs": [
    {
     "data": {
      "application/vnd.jupyter.widget-view+json": {
       "model_id": "15d3256a49354cd0ab2ac4485fd81cec",
       "version_major": 2,
       "version_minor": 0
      },
      "image/png": "[encoded data removed]",
      "text/html": [
       "\n",
       "            <div style=\"display: inline-block;\">\n",
       "                <div class=\"jupyter-widgets widget-label\" style=\"text-align: center;\">\n",
       "                    Figure\n",
       "                </div>\n",
       "                <img src='data:image/png;base64,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' width=1000.0/>\n",
       "            </div>\n",
       "        "
      ],
      "text/plain": [
       "Canvas(toolbar=Toolbar(toolitems=[('Home', 'Reset original view', 'home', 'home'), ('Back', 'Back to previous …"
      ]
     },
     "metadata": {},
     "output_type": "display_data"
    }
   ],
   "source": [
    "fig, ax = plt.subplots(1,3, figsize=(10,7), sharex = True, sharey = True)\n",
    "ax[0].scatter(I_regional_point_sets[0][:, 1], I_regional_point_sets[0][:, 0], marker='.', color='b', zorder=2)\n",
    "# ax[0].scatter(divide_points_j_vals, divide_points_i_vals, marker='.', color='r', zorder=3)\n",
    "ax[0].invert_yaxis()\n",
    "\n",
    "ax[1].scatter(I_regional_point_sets[1][:, 1], I_regional_point_sets[1][:, 0], marker='.', color='b', zorder=2)\n",
    "# ax[1].scatter(divide_points_j_vals, divide_points_i_vals, marker='.', color='r', zorder=3)\n",
    "ax[1].invert_yaxis()\n",
    "\n",
    "ax[2].scatter(I_regional_point_sets[2][:, 1], I_regional_point_sets[2][:, 0], marker='.', color='b', zorder=2)\n",
    "# ax[2].scatter(divide_points_j_vals, divide_points_i_vals, marker='.', color='r', zorder=3)\n",
    "ax[2].invert_yaxis()"
   ]
  },
  {
   "cell_type": "code",
   "execution_count": null,
   "id": "4aa3bb10-b28c-4d43-b934-8d6f5adef860",
   "metadata": {},
   "outputs": [],
   "source": []
  }
 ],
 "metadata": {
  "kernelspec": {
   "display_name": "Python 3",
   "language": "python",
   "name": "python3"
  },
  "language_info": {
   "codemirror_mode": {
    "name": "ipython",
    "version": 3
   },
   "file_extension": ".py",
   "mimetype": "text/x-python",
   "name": "python",
   "nbconvert_exporter": "python",
   "pygments_lexer": "ipython3",
   "version": "3.7.6"
  }
 },
 "nbformat": 4,
 "nbformat_minor": 5
}
