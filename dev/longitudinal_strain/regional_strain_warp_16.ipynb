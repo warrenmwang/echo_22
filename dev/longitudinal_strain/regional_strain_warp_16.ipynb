{
 "cells": [
  {
   "cell_type": "code",
   "execution_count": 1,
   "id": "59c55b74-7db7-4b2f-830f-b85993216aed",
   "metadata": {},
   "outputs": [],
   "source": [
    "model_name = \"Original_Pretrained_R2plus1DMotionSegNet.pth\"\n",
    "\n",
    "# model_name = \"dropout_v2_0_25_R2plus1DMotionSegNet.pth\"\n",
    "# model_name = \"dropout_v3_0_10_R2plus1DMotionSegNet.pth\""
   ]
  },
  {
   "cell_type": "code",
   "execution_count": 2,
   "id": "328c4e05-7ced-4b23-8b5e-79d298552b9b",
   "metadata": {},
   "outputs": [
    {
     "name": "stdout",
     "output_type": "stream",
     "text": [
      "/home/wang/workspace/JupyterNoteBooksAll/fully-automated-multi-heartbeat-echocardiography-video-segmentation-and-motion-tracking\n"
     ]
    },
    {
     "name": "stderr",
     "output_type": "stream",
     "text": [
      "100%|██████████| 16/16 [00:01<00:00, 13.46it/s]\n"
     ]
    }
   ],
   "source": [
    "import os\n",
    "os.chdir(\"../..\")\n",
    "print(os.getcwd())\n",
    "\n",
    "%config Completer.use_jedi = False\n",
    "\n",
    "import SimpleITK as itk\n",
    "from LabelFusion.wrapper import fuse_images\n",
    "\n",
    "import echonet\n",
    "from echonet.datasets import Echo\n",
    "\n",
    "import torch.nn.functional as F\n",
    "from torchvision.models.video import r2plus1d_18\n",
    "from torch.utils.data import Dataset, DataLoader, Subset\n",
    "from multiprocessing import cpu_count\n",
    "\n",
    "from src.utils.torch_utils import TransformDataset, torch_collate\n",
    "from src.utils.echo_utils import get2dPucks\n",
    "from src.utils.camus_validate import cleanupSegmentation\n",
    "from src.transform_utils import generate_2dmotion_field\n",
    "from src.visualization_utils import categorical_dice\n",
    "from src.loss_functions import huber_loss, convert_to_1hot, convert_to_1hot_tensor\n",
    "from src.echonet_dataset import EDESpairs, EchoNetDynamicDataset\n",
    "\n",
    "from src.model.R2plus1D_18_MotionNet import R2plus1D_18_MotionNet\n",
    "\n",
    "# v2 dropout (in place before motion heads, forgot to define in forward pass function, but still saw diff, weird.)\n",
    "from src.model.dropout_v2_0_00_R2plus1D_18_MotionNet import dropout_v2_0_00_R2plus1D_18_MotionNet\n",
    "from src.model.dropout_v2_0_10_R2plus1D_18_MotionNet import dropout_v2_0_10_R2plus1D_18_MotionNet\n",
    "from src.model.dropout_v2_0_25_R2plus1D_18_MotionNet import dropout_v2_0_25_R2plus1D_18_MotionNet\n",
    "from src.model.dropout_v2_0_50_R2plus1D_18_MotionNet import dropout_v2_0_50_R2plus1D_18_MotionNet\n",
    "from src.model.dropout_v2_0_75_R2plus1D_18_MotionNet import dropout_v2_0_75_R2plus1D_18_MotionNet\n",
    "# v3 dropout (one dropout layer defined in forward pass func, this should've been the correct way to do it.)\n",
    "from src.model.dropout_v3_0_00_R2plus1D_18_MotionNet import dropout_v3_0_00_R2plus1D_18_MotionNet\n",
    "from src.model.dropout_v3_0_10_R2plus1D_18_MotionNet import dropout_v3_0_10_R2plus1D_18_MotionNet\n",
    "from src.model.dropout_v3_0_25_R2plus1D_18_MotionNet import dropout_v3_0_25_R2plus1D_18_MotionNet\n",
    "from src.model.dropout_v3_0_50_R2plus1D_18_MotionNet import dropout_v3_0_50_R2plus1D_18_MotionNet\n",
    "from src.model.dropout_v3_0_75_R2plus1D_18_MotionNet import dropout_v3_0_75_R2plus1D_18_MotionNet\n",
    "# v4 dropout (4 dropout layers in different places in the forward func, I'm going to guess more \"generalizable\")\n",
    "from src.model.dropout_v4_0_00_R2plus1D_18_MotionNet import dropout_v4_0_00_R2plus1D_18_MotionNet\n",
    "from src.model.dropout_v4_0_10_R2plus1D_18_MotionNet import dropout_v4_0_10_R2plus1D_18_MotionNet\n",
    "from src.model.dropout_v4_0_25_R2plus1D_18_MotionNet import dropout_v4_0_25_R2plus1D_18_MotionNet\n",
    "from src.model.dropout_v4_0_50_R2plus1D_18_MotionNet import dropout_v4_0_50_R2plus1D_18_MotionNet\n",
    "from src.model.dropout_v4_0_75_R2plus1D_18_MotionNet import dropout_v4_0_75_R2plus1D_18_MotionNet\n",
    "\n",
    "# for finding lv seg borders\n",
    "import cv2 as cv\n",
    "\n",
    "# for storing vector snapshots\n",
    "import copy\n",
    "\n",
    "# from src.visualization_utils import categorical_dice\n",
    "\n",
    "import numpy as np\n",
    "from scipy.signal import find_peaks\n",
    "import matplotlib.pyplot as plt\n",
    "\n",
    "import torch\n",
    "import torch.nn as nn\n",
    "import torch.optim as optim\n",
    "\n",
    "import random\n",
    "import pickle\n",
    "import time\n",
    "\n",
    "tic, toc = (time.time, time.time)\n",
    "\n",
    "\n",
    "device = 'cuda' if torch.cuda.is_available() else 'cpu'\n",
    "device\n",
    "\n",
    "\n",
    "batch_size = 4\n",
    "num_workers = max(4, cpu_count()//2)\n",
    "\n",
    "\n",
    "def worker_init_fn_valid(worker_id):                                                          \n",
    "    np.random.seed(np.random.get_state()[1][0] + worker_id)\n",
    "    \n",
    "\n",
    "def worker_init_fn(worker_id):\n",
    "    # See here: https://pytorch.org/docs/stable/notes/randomness.html#dataloader\n",
    "    # and the original post of the problem: https://github.com/pytorch/pytorch/issues/5059#issuecomment-817373837\n",
    "    worker_seed = torch.initial_seed() % 2 ** 32\n",
    "    print(f'worker_seed: {worker_seed}')\n",
    "    np.random.seed(worker_seed)\n",
    "    random.seed(worker_seed)\n",
    "    \n",
    "\n",
    "def permuter(list1, list2):\n",
    "    for i1 in list1:\n",
    "        for i2 in list2:\n",
    "            yield (i1, i2)\n",
    "            \n",
    "\n",
    "param_trainLoader = {'collate_fn': torch_collate,\n",
    "                     'batch_size': batch_size,\n",
    "                     'num_workers': max(4, cpu_count()//2),\n",
    "                     'worker_init_fn': worker_init_fn}\n",
    "\n",
    "param_testLoader = {'collate_fn': torch_collate,\n",
    "                    'batch_size': batch_size,\n",
    "                    'shuffle': False,\n",
    "                    'num_workers': max(4, cpu_count()//2),\n",
    "                    'worker_init_fn': worker_init_fn}\n",
    "\n",
    "paramLoader = {'train': param_trainLoader,\n",
    "               'valid': param_testLoader,\n",
    "               'test':  param_testLoader}\n",
    "\n",
    "\n",
    "with open(\"fold_indexes/stanford_valid_sampled_indices\", \"rb\") as infile:\n",
    "    valid_mask = pickle.load(infile)\n",
    "infile.close()\n",
    "\n",
    "# full_dataset = EchoNetDynamicDataset(split='val', clip_length=\"full\", subset_indices=valid_mask, period=1)\n",
    "test_dataset = EchoNetDynamicDataset(split='test', clip_length=\"full\", raise_for_es_ed=False, period=1)\n",
    "# random_test_dataset = EchoNetDynamicDataset(split='test', clip_length=32, raise_for_es_ed=True, period=1)"
   ]
  },
  {
   "cell_type": "code",
   "execution_count": 3,
   "id": "9976b06c-89ce-44b6-9197-7d387c6a67cc",
   "metadata": {},
   "outputs": [
    {
     "name": "stdout",
     "output_type": "stream",
     "text": [
      "Original_Pretrained_R2plus1DMotionSegNet.pth has 31575731 parameters.\n"
     ]
    }
   ],
   "source": [
    "model_save_path = f\"save_models/{model_name}\"\n",
    "    \n",
    "if model_name == 'Original_Pretrained_R2plus1DMotionSegNet.pth':\n",
    "    model_template_obj = R2plus1D_18_MotionNet()\n",
    "elif model_name == 'dropout_v2_0_00_R2plus1DMotionSegNet.pth':\n",
    "    model_template_obj = dropout_v2_0_00_R2plus1D_18_MotionNet()\n",
    "elif model_name == 'dropout_v2_0_10_R2plus1DMotionSegNet.pth':\n",
    "    model_template_obj = dropout_v2_0_10_R2plus1D_18_MotionNet()\n",
    "elif model_name == 'dropout_v2_0_25_R2plus1DMotionSegNet.pth':\n",
    "    model_template_obj = dropout_v2_0_25_R2plus1D_18_MotionNet()\n",
    "\n",
    "\n",
    "elif model_name == \"dropout_v3_0_00_R2plus1DMotionSegNet.pth\":\n",
    "    model_template_obj = dropout_v3_0_00_R2plus1D_18_MotionNet()\n",
    "elif model_name == \"dropout_v3_0_10_R2plus1DMotionSegNet.pth\":\n",
    "    model_template_obj = dropout_v3_0_10_R2plus1D_18_MotionNet()\n",
    "elif model_name == \"dropout_v3_0_25_R2plus1DMotionSegNet.pth\":\n",
    "    model_template_obj = dropout_v3_0_25_R2plus1D_18_MotionNet()\n",
    "elif model_name == \"dropout_v4_0_00_R2plus1DMotionSegNet.pth\":\n",
    "    model_template_obj = dropout_v4_0_00_R2plus1D_18_MotionNet()\n",
    "elif model_name == \"dropout_v4_0_10_R2plus1DMotionSegNet.pth\":\n",
    "    model_template_obj = dropout_v4_0_10_R2plus1D_18_MotionNet()\n",
    "elif model_name == \"dropout_v4_0_25_R2plus1DMotionSegNet.pth\":\n",
    "    model_template_obj = dropout_v4_0_25_R2plus1D_18_MotionNet()\n",
    "\n",
    "\n",
    "model = torch.nn.DataParallel(model_template_obj)\n",
    "\n",
    "model.to(\"cuda\")\n",
    "torch.cuda.empty_cache()\n",
    "model.load_state_dict(torch.load(model_save_path)[\"model\"])\n",
    "print(f'{model_name} has {sum(p.numel() for p in model.parameters() if p.requires_grad)} parameters.')\n",
    "model.eval();"
   ]
  },
  {
   "cell_type": "code",
   "execution_count": 4,
   "id": "26d72661-5f74-49a8-9526-dbac8524c3a3",
   "metadata": {},
   "outputs": [],
   "source": [
    "from src.strain import *"
   ]
  },
  {
   "cell_type": "code",
   "execution_count": 5,
   "id": "804c47d2-2703-4f3b-9e89-7580290c8f0a",
   "metadata": {},
   "outputs": [],
   "source": [
    "%matplotlib widget"
   ]
  },
  {
   "cell_type": "code",
   "execution_count": 6,
   "id": "a0879cbe-e855-49f1-85f9-eec02fad22c5",
   "metadata": {},
   "outputs": [],
   "source": [
    "N = 3\n",
    "test_pat_index = 0\n",
    "\n",
    "curr_clip_segmentations, curr_clip_motions, delta_ed_es, clip_index, ed_label, es_label = get_seg_and_warp_data(model = model,\n",
    "                                                                                            test_dataset = test_dataset,\n",
    "                                                                                            test_pat_index = test_pat_index)\n",
    "    \n",
    "ed_raw_seg_out = curr_clip_segmentations[:,0,...]\n",
    "\n",
    "ed_one_hot_seg_out = one_hot(ed_raw_seg_out)\n"
   ]
  },
  {
   "cell_type": "code",
   "execution_count": 7,
   "id": "1f676db0-6172-4b95-9ad4-bd8cf10bf23c",
   "metadata": {},
   "outputs": [
    {
     "name": "stderr",
     "output_type": "stream",
     "text": [
      "/home/wang/workspace/JupyterNoteBooksAll/fully-automated-multi-heartbeat-echocardiography-video-segmentation-and-motion-tracking/src/strain.py:1154: VisibleDeprecationWarning: Creating an ndarray from ragged nested sequences (which is a list-or-tuple of lists-or-tuples-or ndarrays with different lengths or shapes) is deprecated. If you meant to do this, you must specify 'dtype=object' when creating the ndarray\n",
      "  I_regional_point_sets = np.array(I_regional_point_sets)\n"
     ]
    }
   ],
   "source": [
    "I = ed_one_hot_seg_out\n",
    "# I = ed_label\n",
    "\n",
    "I_regional_point_sets = image_to_regional_point_sets(I)"
   ]
  },
  {
   "cell_type": "code",
   "execution_count": 13,
   "id": "ddac6b37-3cc1-4cb4-b38a-70fd660d4713",
   "metadata": {},
   "outputs": [
    {
     "data": {
      "application/vnd.jupyter.widget-view+json": {
       "model_id": "4f85140fe8cb40b294b2452e032dd080",
       "version_major": 2,
       "version_minor": 0
      },
      "image/png": "[encoded data removed]",
      "text/html": [
       "\n",
       "            <div style=\"display: inline-block;\">\n",
       "                <div class=\"jupyter-widgets widget-label\" style=\"text-align: center;\">\n",
       "                    Figure\n",
       "                </div>\n",
       "                <img src='data:image/png;base64,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' width=800.0/>\n",
       "            </div>\n",
       "        "
      ],
      "text/plain": [
       "Canvas(toolbar=Toolbar(toolitems=[('Home', 'Reset original view', 'home', 'home'), ('Back', 'Back to previous …"
      ]
     },
     "metadata": {},
     "output_type": "display_data"
    }
   ],
   "source": [
    "vis_single(I, cmap='gray')"
   ]
  },
  {
   "cell_type": "code",
   "execution_count": 14,
   "id": "aee84a4b-be48-4ac0-aa4c-d25eddc2d35f",
   "metadata": {},
   "outputs": [
    {
     "data": {
      "application/vnd.jupyter.widget-view+json": {
       "model_id": "cfde3cfec9dd4f24b916e1b053313b26",
       "version_major": 2,
       "version_minor": 0
      },
      "image/png": "[encoded data removed]",
      "text/html": [
       "\n",
       "            <div style=\"display: inline-block;\">\n",
       "                <div class=\"jupyter-widgets widget-label\" style=\"text-align: center;\">\n",
       "                    Figure\n",
       "                </div>\n",
       "                <img src='data:image/png;base64,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' width=1000.0/>\n",
       "            </div>\n",
       "        "
      ],
      "text/plain": [
       "Canvas(toolbar=Toolbar(toolitems=[('Home', 'Reset original view', 'home', 'home'), ('Back', 'Back to previous …"
      ]
     },
     "metadata": {},
     "output_type": "display_data"
    }
   ],
   "source": [
    "vis_three_point_sets(I_regional_point_sets)"
   ]
  },
  {
   "cell_type": "code",
   "execution_count": 10,
   "id": "3cfeaa47-88a9-4759-98d4-85436e891760",
   "metadata": {},
   "outputs": [
    {
     "name": "stdout",
     "output_type": "stream",
     "text": [
      "(36, 2)\n",
      "(39, 2)\n",
      "(30, 2)\n"
     ]
    }
   ],
   "source": [
    "for i in range(N):\n",
    "    print(I_regional_point_sets[i].shape)"
   ]
  },
  {
   "cell_type": "code",
   "execution_count": 11,
   "id": "c198683f-18ec-4f38-9177-038f3e740812",
   "metadata": {},
   "outputs": [
    {
     "data": {
      "text/plain": [
       "16"
      ]
     },
     "execution_count": 11,
     "metadata": {},
     "output_type": "execute_result"
    }
   ],
   "source": [
    "delta_ed_es"
   ]
  },
  {
   "cell_type": "markdown",
   "id": "7e2eaacd-4f6d-4a52-9464-3bf355f0ff5a",
   "metadata": {},
   "source": [
    "## Loop over all point sets\n",
    "## Apply warp from `ED` to `ES` frame for all points in this point set."
   ]
  },
  {
   "cell_type": "code",
   "execution_count": 12,
   "id": "b91a9b39-e71f-4aaf-aff7-65877a7a3929",
   "metadata": {},
   "outputs": [
    {
     "ename": "TypeError",
     "evalue": "unsupported operand type(s) for +: 'float' and 'NoneType'",
     "output_type": "error",
     "traceback": [
      "\u001b[0;31m---------------------------------------------------------------------------\u001b[0m",
      "\u001b[0;31mTypeError\u001b[0m                                 Traceback (most recent call last)",
      "\u001b[0;32m<ipython-input-12-52065b06dc17>\u001b[0m in \u001b[0;36m<module>\u001b[0;34m\u001b[0m\n\u001b[1;32m     14\u001b[0m \u001b[0;34m\u001b[0m\u001b[0m\n\u001b[1;32m     15\u001b[0m     \u001b[0;32mfor\u001b[0m \u001b[0mind_of_point_to_warp\u001b[0m \u001b[0;32min\u001b[0m \u001b[0mrange\u001b[0m\u001b[0;34m(\u001b[0m\u001b[0mcoords_multiple_frames\u001b[0m\u001b[0;34m.\u001b[0m\u001b[0mshape\u001b[0m\u001b[0;34m[\u001b[0m\u001b[0;36m1\u001b[0m\u001b[0;34m]\u001b[0m\u001b[0;34m)\u001b[0m\u001b[0;34m:\u001b[0m\u001b[0;34m\u001b[0m\u001b[0;34m\u001b[0m\u001b[0m\n\u001b[0;32m---> 16\u001b[0;31m         \u001b[0mall_new_vectors\u001b[0m \u001b[0;34m=\u001b[0m \u001b[0mwarp_one_vector_forward_till_ES\u001b[0m\u001b[0;34m(\u001b[0m\u001b[0mcoords_multiple_frames\u001b[0m\u001b[0;34m,\u001b[0m \u001b[0mind_of_point_to_warp\u001b[0m\u001b[0;34m,\u001b[0m \u001b[0mdelta_ed_es\u001b[0m\u001b[0;34m,\u001b[0m \u001b[0mcurr_clip_motions\u001b[0m\u001b[0;34m)\u001b[0m\u001b[0;34m\u001b[0m\u001b[0;34m\u001b[0m\u001b[0m\n\u001b[0m\u001b[1;32m     17\u001b[0m         \u001b[0mpoint_set_all_vectors\u001b[0m\u001b[0;34m.\u001b[0m\u001b[0mappend\u001b[0m\u001b[0;34m(\u001b[0m\u001b[0mall_new_vectors\u001b[0m\u001b[0;34m)\u001b[0m\u001b[0;34m\u001b[0m\u001b[0;34m\u001b[0m\u001b[0m\n\u001b[1;32m     18\u001b[0m \u001b[0;34m\u001b[0m\u001b[0m\n",
      "\u001b[0;32m~/workspace/JupyterNoteBooksAll/fully-automated-multi-heartbeat-echocardiography-video-segmentation-and-motion-tracking/src/strain.py\u001b[0m in \u001b[0;36mwarp_one_vector_forward_till_ES\u001b[0;34m(coords_multiple_frames, ind_of_point_to_warp, delta_ed_es, curr_clip_motions)\u001b[0m\n\u001b[1;32m   1358\u001b[0m         \u001b[0mnew_vector\u001b[0m \u001b[0;34m=\u001b[0m \u001b[0mvector_bilinear_interpolation\u001b[0m\u001b[0;34m(\u001b[0m\u001b[0msurround_vectors\u001b[0m\u001b[0;34m,\u001b[0m \u001b[0mnew_vector\u001b[0m\u001b[0;34m)\u001b[0m\u001b[0;34m\u001b[0m\u001b[0;34m\u001b[0m\u001b[0m\n\u001b[1;32m   1359\u001b[0m \u001b[0;34m\u001b[0m\u001b[0m\n\u001b[0;32m-> 1360\u001b[0;31m         \u001b[0mnew_vector\u001b[0m\u001b[0;34m.\u001b[0m\u001b[0mtail_x\u001b[0m \u001b[0;34m+=\u001b[0m \u001b[0mnew_vector\u001b[0m\u001b[0;34m.\u001b[0m\u001b[0mmag_x\u001b[0m\u001b[0;34m\u001b[0m\u001b[0;34m\u001b[0m\u001b[0m\n\u001b[0m\u001b[1;32m   1361\u001b[0m         \u001b[0mnew_vector\u001b[0m\u001b[0;34m.\u001b[0m\u001b[0mtail_y\u001b[0m \u001b[0;34m+=\u001b[0m \u001b[0mnew_vector\u001b[0m\u001b[0;34m.\u001b[0m\u001b[0mmag_y\u001b[0m\u001b[0;34m\u001b[0m\u001b[0;34m\u001b[0m\u001b[0m\n\u001b[1;32m   1362\u001b[0m \u001b[0;34m\u001b[0m\u001b[0m\n",
      "\u001b[0;31mTypeError\u001b[0m: unsupported operand type(s) for +: 'float' and 'NoneType'"
     ]
    }
   ],
   "source": [
    "all_point_sets_vectors = []\n",
    "\n",
    "for POINT_SET_IND in range(N):\n",
    "    # get point set\n",
    "    I_curr_point_set = I_regional_point_sets[POINT_SET_IND]\n",
    "    coords = I_curr_point_set\n",
    "    coords_multiple_frames = np.array([coords]).astype(float)\n",
    "    \n",
    "    # warp one frame forward\n",
    "    coords_multiple_frames = preliminary_warp_one_vector_forward(coords_multiple_frames, curr_clip_motions)\n",
    "    \n",
    "    # warp the rest of the frames forward\n",
    "    point_set_all_vectors = []\n",
    "\n",
    "    for ind_of_point_to_warp in range(coords_multiple_frames.shape[1]):\n",
    "        all_new_vectors = warp_one_vector_forward_till_ES(coords_multiple_frames, ind_of_point_to_warp, delta_ed_es, curr_clip_motions)\n",
    "        point_set_all_vectors.append(all_new_vectors)\n",
    "        \n",
    "    # save all the vectors for this point set\n",
    "    all_point_sets_vectors.append(point_set_all_vectors)"
   ]
  },
  {
   "cell_type": "markdown",
   "id": "e5eb6c8f-3073-4647-b22d-e06c8b89437d",
   "metadata": {},
   "source": [
    "## Now, reconstruct and plot the auto-seg warped apical point set at the `ES` frame -- compare it to the auto-seg out `ES` frame apical point set"
   ]
  },
  {
   "cell_type": "code",
   "execution_count": null,
   "id": "19f07479-a7c8-454b-9ff0-b2bfb2e31302",
   "metadata": {},
   "outputs": [],
   "source": [
    "len(all_point_sets_vectors)"
   ]
  },
  {
   "cell_type": "code",
   "execution_count": null,
   "id": "4bf0feb1-49e6-443e-a85a-0d99b4de4245",
   "metadata": {},
   "outputs": [],
   "source": [
    "len(all_point_sets_vectors[0]), len(all_point_sets_vectors[1]), len(all_point_sets_vectors[2])"
   ]
  },
  {
   "cell_type": "code",
   "execution_count": null,
   "id": "5070e708-1d39-4b21-82ea-cfc18ac69315",
   "metadata": {},
   "outputs": [],
   "source": [
    "len(all_point_sets_vectors[0][0])"
   ]
  },
  {
   "cell_type": "code",
   "execution_count": null,
   "id": "e2bab5bf-cf18-4f17-86a2-e221dd59dc84",
   "metadata": {},
   "outputs": [],
   "source": [
    "I_ES_regional_point_sets = [] # stored in x,y format\n",
    "\n",
    "for i in range(N):\n",
    "    curr_points = []\n",
    "    \n",
    "    # get all the vectors/points\n",
    "    foo = all_point_sets_vectors[i]\n",
    "    \n",
    "    # within all the vectors/points, we stored snapshots of this point across frames, we want the last one\n",
    "    for vectors in foo:\n",
    "        v = vectors[-1]\n",
    "        p = [v.tail_x, v.tail_y]\n",
    "        curr_points.append(p)\n",
    "    curr_points = np.array(curr_points)\n",
    "    I_ES_regional_point_sets.append(curr_points)\n",
    "    \n",
    "I_ES_regional_point_sets = np.array(I_ES_regional_point_sets)"
   ]
  },
  {
   "cell_type": "code",
   "execution_count": null,
   "id": "89d2757e-d60a-4e92-ae9e-4c82c37c8fe8",
   "metadata": {},
   "outputs": [],
   "source": [
    "vis_double_three_point_sets(I_regional_point_sets, new_regional_point_sets=I_ES_regional_point_sets, title='ED Blue | ES Red')"
   ]
  },
  {
   "cell_type": "code",
   "execution_count": null,
   "id": "332d67d1-e339-4b3c-b510-8187cad964d1",
   "metadata": {},
   "outputs": [],
   "source": [
    "# we should compare the warp_ES point set against the es_label point set now\n",
    "\n",
    "es_raw_seg_out = curr_clip_segmentations[:,delta_ed_es,...]\n",
    "\n",
    "es_one_hot_seg_out = one_hot(es_raw_seg_out)\n",
    "\n",
    "\n",
    "es_auto_seg_point_set = image_to_regional_point_sets(es_one_hot_seg_out)\n",
    "\n",
    "vis_double_three_point_sets(es_auto_seg_point_set, new_regional_point_sets=I_ES_regional_point_sets, title='ES Auto Seg Blue | Warped ES from ED Auto Seg Red')"
   ]
  },
  {
   "cell_type": "markdown",
   "id": "e5106873-0de8-43e4-8bef-1c7a3e84a67c",
   "metadata": {},
   "source": [
    "## Rewrite how I'm doing the warping, there is some mistake in there that I think I notice\n",
    "## I have a feeling that it would be faster to solve the problem by rewriting, rather than combing thru what I had wrote before and fixing the bug"
   ]
  },
  {
   "cell_type": "code",
   "execution_count": null,
   "id": "68968cc5-da82-4caf-b831-99445bf28f56",
   "metadata": {},
   "outputs": [],
   "source": []
  }
 ],
 "metadata": {
  "kernelspec": {
   "display_name": "Python 3",
   "language": "python",
   "name": "python3"
  },
  "language_info": {
   "codemirror_mode": {
    "name": "ipython",
    "version": 3
   },
   "file_extension": ".py",
   "mimetype": "text/x-python",
   "name": "python",
   "nbconvert_exporter": "python",
   "pygments_lexer": "ipython3",
   "version": "3.7.6"
  }
 },
 "nbformat": 4,
 "nbformat_minor": 5
}
