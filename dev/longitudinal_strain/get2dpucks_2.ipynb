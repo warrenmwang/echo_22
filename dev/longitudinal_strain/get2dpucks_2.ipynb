{
 "cells": [
  {
   "cell_type": "code",
   "execution_count": 1,
   "id": "6728560c-1802-4d74-ad25-7ae3fd61fe8a",
   "metadata": {},
   "outputs": [],
   "source": [
    "import os\n",
    "os.chdir(\"../..\")"
   ]
  },
  {
   "cell_type": "code",
   "execution_count": 2,
   "id": "29d8114b-e94c-4442-b219-ad97a4a2ed15",
   "metadata": {},
   "outputs": [],
   "source": [
    "%config Completer.use_jedi = False\n",
    "\n",
    "import SimpleITK as itk\n",
    "from LabelFusion.wrapper import fuse_images\n",
    "\n",
    "import echonet\n",
    "from echonet.datasets import Echo\n",
    "\n",
    "import torch.nn.functional as F\n",
    "from torchvision.models.video import r2plus1d_18\n",
    "from torch.utils.data import Dataset, DataLoader, Subset\n",
    "from multiprocessing import cpu_count\n",
    "\n",
    "from src.utils.torch_utils import TransformDataset, torch_collate\n",
    "# from src.utils.echo_utils import get2dPucks ### We are using a debugging version!!\n",
    "from src.utils.camus_validate import cleanupSegmentation\n",
    "from src.transform_utils import generate_2dmotion_field\n",
    "from src.visualization_utils import categorical_dice\n",
    "from src.loss_functions import huber_loss, convert_to_1hot, convert_to_1hot_tensor\n",
    "from src.echonet_dataset import EDESpairs, EchoNetDynamicDataset\n",
    "from src.model.R2plus1D_18_MotionNet import R2plus1D_18_MotionNet\n",
    "# from src.visualization_utils import categorical_dice\n",
    "\n",
    "import numpy as np\n",
    "from scipy.signal import find_peaks\n",
    "import matplotlib.pyplot as plt\n",
    "\n",
    "import torch\n",
    "import torch.nn as nn\n",
    "import torch.optim as optim\n",
    "\n",
    "import random\n",
    "import pickle\n",
    "import time\n",
    "\n",
    "tic, toc = (time.time, time.time)"
   ]
  },
  {
   "cell_type": "code",
   "execution_count": 3,
   "id": "b2a62e1a-e4f4-4c6c-aa0d-e7a70a8f63d9",
   "metadata": {},
   "outputs": [],
   "source": [
    "%matplotlib widget\n",
    "from src.strain import *\n",
    "\n",
    "# for get2dpucks\n",
    "from skimage.transform import (resize, \n",
    "                               rescale)\n",
    "from skimage.segmentation import find_boundaries\n",
    "import copy"
   ]
  },
  {
   "cell_type": "code",
   "execution_count": 4,
   "id": "d944fafa-f930-4f14-a398-c29694693aba",
   "metadata": {},
   "outputs": [],
   "source": [
    "batch_size = 4\n",
    "num_workers = max(4, cpu_count()//2)\n",
    "\n",
    "\n",
    "def worker_init_fn_valid(worker_id):                                                          \n",
    "    np.random.seed(np.random.get_state()[1][0] + worker_id)\n",
    "    \n",
    "\n",
    "def worker_init_fn(worker_id):\n",
    "    # See here: https://pytorch.org/docs/stable/notes/randomness.html#dataloader\n",
    "    # and the original post of the problem: https://github.com/pytorch/pytorch/issues/5059#issuecomment-817373837\n",
    "    worker_seed = torch.initial_seed() % 2 ** 32\n",
    "    np.random.seed(worker_seed)\n",
    "    random.seed(worker_seed)\n",
    "    \n",
    "\n",
    "def permuter(list1, list2):\n",
    "    for i1 in list1:\n",
    "        for i2 in list2:\n",
    "            yield (i1, i2)\n",
    "            \n",
    "\n",
    "param_trainLoader = {'collate_fn': torch_collate,\n",
    "                     'batch_size': batch_size,\n",
    "                     'num_workers': max(4, cpu_count()//2),\n",
    "                     'worker_init_fn': worker_init_fn}\n",
    "\n",
    "param_testLoader = {'collate_fn': torch_collate,\n",
    "                    'batch_size': batch_size,\n",
    "                    'shuffle': False,\n",
    "                    'num_workers': max(4, cpu_count()//2),\n",
    "                    'worker_init_fn': worker_init_fn}\n",
    "\n",
    "paramLoader = {'train': param_trainLoader,\n",
    "               'valid': param_testLoader,\n",
    "               'test':  param_testLoader}"
   ]
  },
  {
   "cell_type": "code",
   "execution_count": 5,
   "id": "3b56927d-f0f1-4b7e-b74a-d7d3f5363057",
   "metadata": {},
   "outputs": [
    {
     "name": "stderr",
     "output_type": "stream",
     "text": [
      "100%|██████████| 16/16 [00:01<00:00, 13.08it/s]\n"
     ]
    }
   ],
   "source": [
    "with open(\"fold_indexes/stanford_valid_sampled_indices\", \"rb\") as infile:\n",
    "    valid_mask = pickle.load(infile)\n",
    "infile.close()\n",
    "\n",
    "test_dataset = EchoNetDynamicDataset(split='test', clip_length=\"full\", raise_for_es_ed=False, period=1)"
   ]
  },
  {
   "cell_type": "code",
   "execution_count": 6,
   "id": "73fa49a3-8cb5-4cc8-aa05-5b7c85d2577e",
   "metadata": {},
   "outputs": [
    {
     "name": "stdout",
     "output_type": "stream",
     "text": [
      "R2+1D MotionNet has 31575731 parameters.\n"
     ]
    }
   ],
   "source": [
    "model_save_path = \"save_models/Original_Pretrained_R2plus1DMotionSegNet.pth\"\n",
    "\n",
    "model = torch.nn.DataParallel(R2plus1D_18_MotionNet())\n",
    "model.to(\"cuda\")\n",
    "torch.cuda.empty_cache()\n",
    "model.load_state_dict(torch.load(model_save_path)[\"model\"])\n",
    "print(f'R2+1D MotionNet has {sum(p.numel() for p in model.parameters() if p.requires_grad)} parameters.')\n",
    "\n",
    "model.eval();"
   ]
  },
  {
   "cell_type": "code",
   "execution_count": 7,
   "id": "19148fab-19af-4af8-a642-4f1ffb7ddfb4",
   "metadata": {},
   "outputs": [],
   "source": [
    "test_pat_index = 55\n",
    "\n",
    "video, (filename, EF, es_clip_index, ed_clip_index, es_index, ed_index, es_frame, ed_frame, es_label, ed_label) = test_dataset[test_pat_index]"
   ]
  },
  {
   "cell_type": "code",
   "execution_count": 8,
   "id": "9ff8c3cd-6644-402c-ac67-55b0cf30fa7f",
   "metadata": {},
   "outputs": [],
   "source": [
    "# let's try to use 9 pucks, if we divide into N=3 sections, we define each section to be 3 pucks\n",
    "def get2dPucks(abin, apix, npucks=9):\n",
    "    '''\n",
    "    get2dPucks(abin, apix): Return the linear extent of the binary structure,\n",
    "    as well as a sequence of radii about that extent.\n",
    "    '''\n",
    "    \n",
    "    all_puck_endpoints = []\n",
    "    \n",
    "    # Empty bin?\n",
    "    if ~np.any(abin):\n",
    "        return 1.0, np.zeros((npucks,))\n",
    "    \n",
    "    x,y = np.where(abin>0)\n",
    "    X = np.stack([x,y]) # Coords of all non-zero pixels., 2 x N\n",
    "    if X.shape[1] < 1: # no pixels, doesn't seem to be a problem usually. \n",
    "        return (0.0, np.zeros((npucks,)))\n",
    "    # Scale dimensions\n",
    "    X = np.multiply(X, np.array(apix)[:, None]) # Need a broadcastable shape, here 2 x 1\n",
    "    try:\n",
    "        val, vec = np.linalg.eig(np.cov(X, rowvar=True))\n",
    "    except:\n",
    "        return (0.0, np.zeros((npucks,)))\n",
    "    \n",
    "    # Make sure we're in decreasing order of importance.\n",
    "    eigorder = np.argsort(val)[-1::-1]\n",
    "    vec = vec[:, eigorder]\n",
    "    val = val[eigorder]\n",
    "\n",
    "    \n",
    "    # Negate the eigenvectors for consistency. Let's say y should be positive eig0,\n",
    "    # and x should be positive for eig1. I'm not sure if that's what I'm doing here,\n",
    "    # but just trying to be consistent.\n",
    "    if vec[0,0] < 0:\n",
    "        vec[:,0] = -1.0*vec[:,0]\n",
    "    if vec[1,1] < 0:\n",
    "        vec[:,1] = -1.0*vec[:,1]\n",
    "\n",
    "    \n",
    "    mu = np.expand_dims(np.mean(X, axis=1), axis=1)\n",
    "    \n",
    "    # Now mu is 2 x 1 mean pixel coord \n",
    "    # val is eigenvalues, vec is 2 x 2 right eigvectors (by column), all in matrix ij format\n",
    "    \n",
    "    # Use the boundary to get the radii.\n",
    "    # Project the boundary pixel coords into the eigenspace.\n",
    "    B = find_boundaries(abin, mode='thick')\n",
    "    Xb = np.stack(np.where(B))\n",
    "    Xb = np.multiply(Xb, np.array(apix)[:, None]) # space coords again.\n",
    "    proj = np.dot((Xb-mu).T,vec) \n",
    "    # proj is M x 2, the projections onto 0 and 1 eigs of the M boundary coords.\n",
    "\n",
    "    \n",
    "    # Now get min max in the first principal direction. That's L! Just L[0] here.\n",
    "    L_min, L_max = np.min(proj, axis=0), np.max(proj, axis=0)\n",
    "    L = L_max - L_min\n",
    "\n",
    "    \n",
    "    # Partition along the principal axis. The secondary axis represents the radii.\n",
    "    L_partition = np.linspace(L_min[0], L_max[0], npucks+1)\n",
    "\n",
    "    \n",
    "    R = []\n",
    "    A = np.copy(proj)\n",
    "    for i in range(len(L_partition)-1):\n",
    "        # Select those boundary points whose projection on the major axis\n",
    "        # is within the thresholds. \n",
    "        which = np.logical_and(A[:,0] >= L_partition[i],\n",
    "                               A[:,0] < L_partition[i+1])\n",
    "        # here which could be empty, if there are multiple components to the binary,\n",
    "        # which will happen without cleaning for the largest connected component and \n",
    "        # such. r will be nan, here I replace with zero.\n",
    "        # In fact, this math really only works well with nice convex objects.\n",
    "        if len(which) == 0:\n",
    "            r = 0\n",
    "        else:\n",
    "            r = np.median(np.abs(A[:,1][which]))\n",
    "        R.append(r)\n",
    "\n",
    "    # this plots all of the points of the individual lines of the npucks \n",
    "    for i in range(len(L_partition)-1):\n",
    "\n",
    "        extent = (L_partition[i]+L_partition[i+1])/2\n",
    "        points = np.array([mu + extent*vec[:,0, None] - R[i]*vec[:,1, None], # negative radius\n",
    "                           mu + extent*vec[:,0, None] + R[i]*vec[:,1, None]]) # positive radius\n",
    "\n",
    "        all_puck_endpoints.append(np.transpose(points))\n",
    "                \n",
    "    return L[0], np.array(R), np.array(all_puck_endpoints)"
   ]
  },
  {
   "cell_type": "code",
   "execution_count": 9,
   "id": "88ebfbbf-4ef7-4899-847c-302a2293c513",
   "metadata": {},
   "outputs": [],
   "source": [
    "I = ed_label\n",
    "\n",
    "length_I, radius_I, points_I = get2dPucks((I == 1).astype('int'), (1.0, 1.0))"
   ]
  },
  {
   "cell_type": "code",
   "execution_count": 10,
   "id": "3ae826c9-c99c-4b68-9f1e-15e966a9a69e",
   "metadata": {},
   "outputs": [],
   "source": [
    "I = give_boundary_no_basal_plane(ed_label)"
   ]
  },
  {
   "cell_type": "code",
   "execution_count": 11,
   "id": "f763db0b-9c31-45c3-a1a0-40ef5939c3b2",
   "metadata": {},
   "outputs": [
    {
     "data": {
      "text/plain": [
       "[2, 5, 8]"
      ]
     },
     "execution_count": 11,
     "metadata": {},
     "output_type": "execute_result"
    }
   ],
   "source": [
    "N = 3\n",
    "indeces_for_slice_points = []\n",
    "for i in range(len(points_I)-1, 0, -N):\n",
    "    indeces_for_slice_points.append(i)\n",
    "indeces_for_slice_points.sort()\n",
    "indeces_for_slice_points"
   ]
  },
  {
   "cell_type": "code",
   "execution_count": 12,
   "id": "6f32a4bc-1395-4a08-a88c-1407a2f9e6b9",
   "metadata": {},
   "outputs": [],
   "source": [
    "slice_points = []\n",
    "\n",
    "for i in indeces_for_slice_points:\n",
    "    slice_points.append(points_I[i, 0, ...])\n",
    "    \n",
    "slice_points = np.array(slice_points)"
   ]
  },
  {
   "cell_type": "code",
   "execution_count": 13,
   "id": "de1b4e3b-2c12-4b61-a2dc-8ca0466869ab",
   "metadata": {},
   "outputs": [
    {
     "name": "stdout",
     "output_type": "stream",
     "text": [
      "(3, 2)\n"
     ]
    }
   ],
   "source": [
    "lower_points = []\n",
    "\n",
    "for i in range(slice_points.shape[0]):\n",
    "    x = slice_points[i]\n",
    "    i_1, i_2 = x[0][0], x[0][1]\n",
    "    if i_1 > i_2:\n",
    "        x = x[:, 0]\n",
    "    else:\n",
    "        x = x[:, 1]\n",
    "    lower_points.append(x)\n",
    "lower_points = np.array(lower_points)\n",
    "print(lower_points.shape)"
   ]
  },
  {
   "cell_type": "code",
   "execution_count": 14,
   "id": "4ec1a018-8dd7-414b-9d25-d35f95879a54",
   "metadata": {},
   "outputs": [],
   "source": [
    "lower_points = lower_points.astype('int')"
   ]
  },
  {
   "cell_type": "code",
   "execution_count": 15,
   "id": "ed6b694a-3367-414d-9e96-cbd9a62cff0e",
   "metadata": {},
   "outputs": [
    {
     "data": {
      "application/vnd.jupyter.widget-view+json": {
       "model_id": "6598c244ed9f4367b757650cc0491a84",
       "version_major": 2,
       "version_minor": 0
      },
      "image/png": "[encoded data removed]",
      "text/html": [
       "\n",
       "            <div style=\"display: inline-block;\">\n",
       "                <div class=\"jupyter-widgets widget-label\" style=\"text-align: center;\">\n",
       "                    Figure\n",
       "                </div>\n",
       "                <img src='data:image/png;base64,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' width=800.0/>\n",
       "            </div>\n",
       "        "
      ],
      "text/plain": [
       "Canvas(toolbar=Toolbar(toolitems=[('Home', 'Reset original view', 'home', 'home'), ('Back', 'Back to previous …"
      ]
     },
     "metadata": {},
     "output_type": "display_data"
    },
    {
     "data": {
      "application/vnd.jupyter.widget-view+json": {
       "model_id": "57ab1c2623b945158e39958f4545ddc4",
       "version_major": 2,
       "version_minor": 0
      },
      "image/png": "[encoded data removed]",
      "text/html": [
       "\n",
       "            <div style=\"display: inline-block;\">\n",
       "                <div class=\"jupyter-widgets widget-label\" style=\"text-align: center;\">\n",
       "                    Figure\n",
       "                </div>\n",
       "                <img src='data:image/png;base64,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' width=800.0/>\n",
       "            </div>\n",
       "        "
      ],
      "text/plain": [
       "Canvas(toolbar=Toolbar(toolitems=[('Home', 'Reset original view', 'home', 'home'), ('Back', 'Back to previous …"
      ]
     },
     "metadata": {},
     "output_type": "display_data"
    },
    {
     "data": {
      "application/vnd.jupyter.widget-view+json": {
       "model_id": "6473fd158d3649e69b9626449f41fdaf",
       "version_major": 2,
       "version_minor": 0
      },
      "image/png": "[encoded data removed]",
      "text/html": [
       "\n",
       "            <div style=\"display: inline-block;\">\n",
       "                <div class=\"jupyter-widgets widget-label\" style=\"text-align: center;\">\n",
       "                    Figure\n",
       "                </div>\n",
       "                <img src='data:image/png;base64,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' width=800.0/>\n",
       "            </div>\n",
       "        "
      ],
      "text/plain": [
       "Canvas(toolbar=Toolbar(toolitems=[('Home', 'Reset original view', 'home', 'home'), ('Back', 'Back to previous …"
      ]
     },
     "metadata": {},
     "output_type": "display_data"
    }
   ],
   "source": [
    "lower_points = np.insert(lower_points, 0, [0,0], axis=0)\n",
    "\n",
    "import copy\n",
    "\n",
    "I_regional_splits = [0 for i in range(N)]\n",
    "\n",
    "for i in range(N):\n",
    "    I_copy = copy.deepcopy(I)\n",
    "    \n",
    "    start = lower_points[i][0]\n",
    "    end = lower_points[i+1][0]\n",
    "\n",
    "    I_copy[0:start, 0:I_copy.shape[1]] = 0\n",
    "    I_copy[end:I_copy.shape[0], 0:I_copy.shape[1]] = 0\n",
    "    \n",
    "    I_regional_splits[i] = I_copy\n",
    "    \n",
    "    vis_single(I_copy, cmap='gray')"
   ]
  }
 ],
 "metadata": {
  "kernelspec": {
   "display_name": "Python 3",
   "language": "python",
   "name": "python3"
  },
  "language_info": {
   "codemirror_mode": {
    "name": "ipython",
    "version": 3
   },
   "file_extension": ".py",
   "mimetype": "text/x-python",
   "name": "python",
   "nbconvert_exporter": "python",
   "pygments_lexer": "ipython3",
   "version": "3.7.6"
  }
 },
 "nbformat": 4,
 "nbformat_minor": 5
}
