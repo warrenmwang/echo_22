{
 "cells": [
  {
   "cell_type": "code",
   "execution_count": 1,
   "id": "cd91b5f7-21da-436c-8469-de30be0cac52",
   "metadata": {},
   "outputs": [],
   "source": [
    "import os\n",
    "os.chdir(\"../..\")"
   ]
  },
  {
   "cell_type": "code",
   "execution_count": 2,
   "id": "08170c5c-9b70-41a0-9d69-43987fb37072",
   "metadata": {},
   "outputs": [],
   "source": [
    "%config Completer.use_jedi = False\n",
    "\n",
    "import SimpleITK as itk\n",
    "from LabelFusion.wrapper import fuse_images\n",
    "\n",
    "import echonet\n",
    "from echonet.datasets import Echo\n",
    "\n",
    "import torch.nn.functional as F\n",
    "from torchvision.models.video import r2plus1d_18\n",
    "from torch.utils.data import Dataset, DataLoader, Subset\n",
    "from multiprocessing import cpu_count\n",
    "\n",
    "from src.utils.torch_utils import TransformDataset, torch_collate\n",
    "# from src.utils.echo_utils import get2dPucks ### We are using a debugging version!!\n",
    "from src.utils.camus_validate import cleanupSegmentation\n",
    "from src.transform_utils import generate_2dmotion_field\n",
    "from src.visualization_utils import categorical_dice\n",
    "from src.loss_functions import huber_loss, convert_to_1hot, convert_to_1hot_tensor\n",
    "from src.echonet_dataset import EDESpairs, EchoNetDynamicDataset\n",
    "from src.model.R2plus1D_18_MotionNet import R2plus1D_18_MotionNet\n",
    "# from src.visualization_utils import categorical_dice\n",
    "\n",
    "import numpy as np\n",
    "from scipy.signal import find_peaks\n",
    "import matplotlib.pyplot as plt\n",
    "\n",
    "import torch\n",
    "import torch.nn as nn\n",
    "import torch.optim as optim\n",
    "\n",
    "import random\n",
    "import pickle\n",
    "import time\n",
    "\n",
    "tic, toc = (time.time, time.time)"
   ]
  },
  {
   "cell_type": "code",
   "execution_count": 3,
   "id": "26e0eec7-51ed-4cc7-9e3b-5690fae066da",
   "metadata": {},
   "outputs": [],
   "source": [
    "%matplotlib widget\n",
    "from src.strain import *\n",
    "\n",
    "# for get2dpucks\n",
    "from skimage.transform import (resize, \n",
    "                               rescale)\n",
    "from skimage.segmentation import find_boundaries"
   ]
  },
  {
   "cell_type": "code",
   "execution_count": 4,
   "id": "cb8ba69b-2fd6-4f79-b148-b54423cf1d44",
   "metadata": {},
   "outputs": [],
   "source": [
    "batch_size = 4\n",
    "num_workers = max(4, cpu_count()//2)\n",
    "\n",
    "\n",
    "def worker_init_fn_valid(worker_id):                                                          \n",
    "    np.random.seed(np.random.get_state()[1][0] + worker_id)\n",
    "    \n",
    "\n",
    "def worker_init_fn(worker_id):\n",
    "    # See here: https://pytorch.org/docs/stable/notes/randomness.html#dataloader\n",
    "    # and the original post of the problem: https://github.com/pytorch/pytorch/issues/5059#issuecomment-817373837\n",
    "    worker_seed = torch.initial_seed() % 2 ** 32\n",
    "    np.random.seed(worker_seed)\n",
    "    random.seed(worker_seed)\n",
    "    \n",
    "\n",
    "def permuter(list1, list2):\n",
    "    for i1 in list1:\n",
    "        for i2 in list2:\n",
    "            yield (i1, i2)\n",
    "            \n",
    "\n",
    "param_trainLoader = {'collate_fn': torch_collate,\n",
    "                     'batch_size': batch_size,\n",
    "                     'num_workers': max(4, cpu_count()//2),\n",
    "                     'worker_init_fn': worker_init_fn}\n",
    "\n",
    "param_testLoader = {'collate_fn': torch_collate,\n",
    "                    'batch_size': batch_size,\n",
    "                    'shuffle': False,\n",
    "                    'num_workers': max(4, cpu_count()//2),\n",
    "                    'worker_init_fn': worker_init_fn}\n",
    "\n",
    "paramLoader = {'train': param_trainLoader,\n",
    "               'valid': param_testLoader,\n",
    "               'test':  param_testLoader}"
   ]
  },
  {
   "cell_type": "code",
   "execution_count": 5,
   "id": "d132b286-977d-40ea-8df9-479247ff91de",
   "metadata": {},
   "outputs": [
    {
     "name": "stderr",
     "output_type": "stream",
     "text": [
      "100%|██████████| 16/16 [00:01<00:00, 14.28it/s]\n"
     ]
    }
   ],
   "source": [
    "with open(\"fold_indexes/stanford_valid_sampled_indices\", \"rb\") as infile:\n",
    "    valid_mask = pickle.load(infile)\n",
    "infile.close()\n",
    "\n",
    "test_dataset = EchoNetDynamicDataset(split='test', clip_length=\"full\", raise_for_es_ed=False, period=1)"
   ]
  },
  {
   "cell_type": "code",
   "execution_count": 6,
   "id": "fecc4538-10d3-4b23-8b41-da12d9814d72",
   "metadata": {},
   "outputs": [
    {
     "name": "stdout",
     "output_type": "stream",
     "text": [
      "R2+1D MotionNet has 31575731 parameters.\n"
     ]
    }
   ],
   "source": [
    "model_save_path = \"save_models/Original_Pretrained_R2plus1DMotionSegNet.pth\"\n",
    "\n",
    "model = torch.nn.DataParallel(R2plus1D_18_MotionNet())\n",
    "model.to(\"cuda\")\n",
    "torch.cuda.empty_cache()\n",
    "model.load_state_dict(torch.load(model_save_path)[\"model\"])\n",
    "print(f'R2+1D MotionNet has {sum(p.numel() for p in model.parameters() if p.requires_grad)} parameters.')\n",
    "\n",
    "model.eval();"
   ]
  },
  {
   "cell_type": "code",
   "execution_count": 7,
   "id": "8eee3580-e3dc-4639-9c53-d5020776c94f",
   "metadata": {},
   "outputs": [],
   "source": [
    "test_pat_index = 0\n",
    "\n",
    "video, (filename, EF, es_clip_index, ed_clip_index, es_index, ed_index, es_frame, ed_frame, es_label, ed_label) = test_dataset[test_pat_index]"
   ]
  },
  {
   "cell_type": "code",
   "execution_count": 15,
   "id": "48bfb7ef-df6d-441a-9b1e-dd9d17199035",
   "metadata": {},
   "outputs": [],
   "source": [
    "# let's try to use 9 pucks, if we divide into N=3 sections, we define each section to be 3 pucks\n",
    "def get2dPuckEndpoints(abin, apix, npucks=9):\n",
    "    '''\n",
    "    Originally:\n",
    "        get2dPucks(abin, apix): Return the linear extent of the binary structure,\n",
    "        as well as a sequence of radii about that extent.\n",
    "    Now just used to return the endpoints of the pucks representing the endpoints of the individual\n",
    "    radii parallel to the minor axis\n",
    "    '''\n",
    "    \n",
    "    all_puck_endpoints = []\n",
    "    \n",
    "    \n",
    "    # Empty bin?\n",
    "    if ~np.any(abin):\n",
    "        return 1.0, np.zeros((npucks,))\n",
    "    \n",
    "    x,y = np.where(abin>0)\n",
    "    X = np.stack([x,y]) # Coords of all non-zero pixels., 2 x N\n",
    "    if X.shape[1] < 1: # no pixels, doesn't seem to be a problem usually. \n",
    "        return (0.0, np.zeros((npucks,)))\n",
    "    # Scale dimensions\n",
    "    X = np.multiply(X, np.array(apix)[:, None]) # Need a broadcastable shape, here 2 x 1\n",
    "    try:\n",
    "        val, vec = np.linalg.eig(np.cov(X, rowvar=True))\n",
    "    except:\n",
    "        return (0.0, np.zeros((npucks,)))\n",
    "    \n",
    "    # Make sure we're in decreasing order of importance.\n",
    "    eigorder = np.argsort(val)[-1::-1]\n",
    "    vec = vec[:, eigorder]\n",
    "    val = val[eigorder]\n",
    "    \n",
    "    # Negate the eigenvectors for consistency. Let's say y should be positive eig0,\n",
    "    # and x should be positive for eig1. I'm not sure if that's what I'm doing here,\n",
    "    # but just trying to be consistent.\n",
    "    if vec[0,0] < 0:\n",
    "        vec[:,0] = -1.0*vec[:,0]\n",
    "    if vec[1,1] < 0:\n",
    "        vec[:,1] = -1.0*vec[:,1]\n",
    "    \n",
    "    mu = np.expand_dims(np.mean(X, axis=1), axis=1)\n",
    "    \n",
    "    # Now mu is 2 x 1 mean pixel coord \n",
    "    # val is eigenvalues, vec is 2 x 2 right eigvectors (by column), all in matrix ij format\n",
    "    \n",
    "    # Use the boundary to get the radii.\n",
    "    # Project the boundary pixel coords into the eigenspace.\n",
    "    B = find_boundaries(abin, mode='thick')\n",
    "    Xb = np.stack(np.where(B))\n",
    "    Xb = np.multiply(Xb, np.array(apix)[:, None]) # space coords again.\n",
    "    proj = np.dot((Xb-mu).T,vec) \n",
    "    # proj is M x 2, the projections onto 0 and 1 eigs of the M boundary coords.\n",
    "    \n",
    "    # Now get min max in the first principal direction. That's L! Just L[0] here.\n",
    "    L_min, L_max = np.min(proj, axis=0), np.max(proj, axis=0)\n",
    "    L = L_max - L_min\n",
    "    \n",
    "    # Partition along the principal axis. The secondary axis represents the radii.\n",
    "    L_partition = np.linspace(L_min[0], L_max[0], npucks+1)\n",
    "    \n",
    "    R = []\n",
    "    A = np.copy(proj)\n",
    "    for i in range(len(L_partition)-1):\n",
    "        # Select those boundary points whose projection on the major axis\n",
    "        # is within the thresholds. \n",
    "        which = np.logical_and(A[:,0] >= L_partition[i],\n",
    "                               A[:,0] < L_partition[i+1])\n",
    "        # here which could be empty, if there are multiple components to the binary,\n",
    "        # which will happen without cleaning for the largest connected component and \n",
    "        # such. r will be nan, here I replace with zero.\n",
    "        # In fact, this math really only works well with nice convex objects.\n",
    "        if len(which) == 0:\n",
    "            r = 0\n",
    "        else:\n",
    "            r = np.median(np.abs(A[:,1][which]))\n",
    "        R.append(r)\n",
    "    \n",
    "    # Some visualization code I didn't know where else to put!\n",
    "    # B is still in image coords, while mu and the vec and L's are in mm? Use extent.\n",
    "    # extent = (-0.5, apix[1]*B.shape[1]-0.5, -0.5, apix[0]*B.shape[0]-0.5)# (left, right, bottom, top)\n",
    "\n",
    "    # This got me pretty confused. The issue is that if apix is something other than (1,1), then \n",
    "    # B needs to be scaled accordingly. \n",
    "    # If apix is significantly less than 1,1, then the 0 order and no anti-aliasing could\n",
    "    # leave little of the boundary left. Though it would only affect the vis, as the calculation\n",
    "    # above scaled the boundary points to double, instead of this which returns pixels.\n",
    "    abin_scaled = rescale(abin, apix, order=0, \n",
    "                          preserve_range=True, \n",
    "                          anti_aliasing=False, \n",
    "                          multichannel=False)\n",
    "    Bscaled = find_boundaries(abin_scaled, mode='thick')\n",
    "\n",
    "\n",
    "    # Plot the mean and principal projections. But plot needs xy (euclid) instead of ij (matrix)!!!\n",
    "    # Stupid, keeping the sliced out dimension with None here.\n",
    "    pca0 = np.array([mu + L_min[0]*vec[:,0, None], mu + L_max[0]*vec[:,0, None]])\n",
    "    pca1 = np.array([mu + L_min[1]*vec[:,1, None], mu + L_max[1]*vec[:,1, None]])\n",
    "\n",
    "    # Notice the x and y coord reversed. \n",
    "\n",
    "    # these are only the end points of the major and minor axes I think ? \n",
    "    # plt.scatter(x=mu[1], y=mu[0], s=30, marker='*') # what is this one? ?? -- hard to tell, no visual difference?\n",
    "\n",
    "\n",
    "    # this plots all of the points of the individual lines of the npucks \n",
    "    for i in range(len(L_partition)-1):\n",
    "\n",
    "        extent = (L_partition[i]+L_partition[i+1])/2\n",
    "        points = np.array([mu + extent*vec[:,0, None] - R[i]*vec[:,1, None], # negative radius\n",
    "                           mu + extent*vec[:,0, None] + R[i]*vec[:,1, None]]) # positive radius\n",
    "\n",
    "        all_puck_endpoints.append(np.transpose(points))\n",
    "    \n",
    "    # return L[0], np.array(R), np.array(all_puck_endpoints)\n",
    "    return np.array(all_puck_endpoints)"
   ]
  },
  {
   "cell_type": "code",
   "execution_count": 16,
   "id": "bd71572f-d3c1-49d5-be28-f4b7dd5d59cf",
   "metadata": {},
   "outputs": [],
   "source": [
    "I = ed_label\n",
    "\n",
    "radiiEndpoints_I = get2dPuckEndpoints((I == 1).astype('int'), (1.0, 1.0))\n",
    "\n",
    "I = give_boundary_no_basal_plane(ed_label)"
   ]
  },
  {
   "cell_type": "code",
   "execution_count": 17,
   "id": "186e01c7-4a5d-4026-8fa8-a0bfdecd14af",
   "metadata": {},
   "outputs": [
    {
     "data": {
      "text/plain": [
       "(9, 1, 2, 2)"
      ]
     },
     "execution_count": 17,
     "metadata": {},
     "output_type": "execute_result"
    }
   ],
   "source": [
    "radiiEndpoints_I.shape"
   ]
  },
  {
   "cell_type": "code",
   "execution_count": 18,
   "id": "5f6fa3a6-8de9-4546-a774-4e0b32663838",
   "metadata": {},
   "outputs": [
    {
     "data": {
      "text/plain": [
       "<matplotlib.collections.PathCollection at 0x7f1fff7127d0>"
      ]
     },
     "execution_count": 18,
     "metadata": {},
     "output_type": "execute_result"
    },
    {
     "data": {
      "application/vnd.jupyter.widget-view+json": {
       "model_id": "877fe6c40c5f4532a6f4b1325ef3d299",
       "version_major": 2,
       "version_minor": 0
      },
      "image/png": "[encoded data removed]",
      "text/html": [
       "\n",
       "            <div style=\"display: inline-block;\">\n",
       "                <div class=\"jupyter-widgets widget-label\" style=\"text-align: center;\">\n",
       "                    Figure\n",
       "                </div>\n",
       "                <img src='data:image/png;base64,iVBORw0KGgoAAAANSUhEUgAAAoAAAAHgCAYAAAA10dzkAAAABHNCSVQICAgIfAhkiAAAAAlwSFlzAAAPYQAAD2EBqD+naQAAADh0RVh0U29mdHdhcmUAbWF0cGxvdGxpYiB2ZXJzaW9uMy4xLjMsIGh0dHA6Ly9tYXRwbG90bGliLm9yZy+AADFEAAAgAElEQVR4nO3de3SV1Z3/8c9DDhxyl+s5CSEYamahotWCpoO0hEGiU1DR1daKVtRZs2AAS8pMuQzVIq2JsGaoq4Olo2sGmXEo/uanIHU5SEoh6lAVuVTE/pBMUxIgIXQm5iQhk5Bk//4IOc3JBQLk3J79fq11/nj2eRL22XXRD3s/5/t1jDFGAAAAsMagaE8AAAAAkUUABAAAsAwBEAAAwDIEQAAAAMsQAAEAACxDAAQAALAMARAAAMAyBEAAAADLEAABAAAsQwAEAACwDAEQAADAMgRAAAAAyxAAAQAALEMABAAAsAwBEAAAwDIEQAAAAMsQAAEAACxDAAQAALAMARAAAMAyBEAAAADLEAABAAAsQwAEAACwDAEQAADAMgRAAAAAyxAAAQAALEMABAAAsAwBEAAAwDIEQAAAAMsQAAEAACxDAAQAALAMARAAAMAyBEAAAADLEAABAAAsQwAEAACwDAEQAADAMgRAAAAAyxAAAQAALEMABAAAsAwBEAAAwDIEQAAAAMsQAAEAACxDAAQAALAMARAAAMAyBEAAAADLEAABAAAsQwAEAACwDAEQAADAMgRAAAAAyxAAAQAALEMABAAAsAwBEAAAwDIEQAAAAMsQAAEAACxDAAQAALAMAdBiP/3pT5WTk6OhQ4dq0qRJevfdd6M9JQAAEAEEQEu9+uqrKiws1KpVq3To0CF95Stf0Z//+Z+roqIi2lMDAABh5hhjTLQngcjLy8vTl770JW3cuDE4dv3112vOnDkqLi6+5M+3t7fr9OnTSk1NleM44ZwqACAMjDGqr69XZmamBg1iP8g2nmhPAJHX0tKiAwcOaMWKFSHjBQUF2rdvX68/09zcrObm5uD1qVOndMMNN4R1ngCA8KusrFRWVla0p4EIIwBa6A9/+IPa2trk8/lCxn0+n6qrq3v9meLiYj3zzDM9xqfqa/JocFjmCQAIn1ad13t6S6mpqdGeCqKAAGix7ke3xpg+j3NXrlyppUuXBq8DgYDGjh0rjwbL4xAAASDuXHgAjMd47EQAtNDIkSOVkJDQY7evpqamx65gJ6/XK6/XG4npAQCAMOOpTwsNGTJEkyZNUklJSch4SUmJpkyZEqVZAQCASGEH0FJLly7Vt7/9bU2ePFl/+qd/qhdffFEVFRVasGBBtKcGAADCjABoqQcffFD//d//rTVr1qiqqkoTJ07UW2+9pXHjxkV7agAAIMyoA4grEggElJ6ernzdx5dAACAOtZrz2qs3VFdXp7S0tGhPBxHGM4AAAACWIQACAABYhgAIAABgGQIgAACAZQiAAAAAliEAAgAAWIYACAAAYBkCIAAAgGUIgAAAAJYhAAIAAFiGAAgAAGAZAiAAAIBlCIAAAACWIQACAABYhgAIAABgGQIgAACAZQiAAAAAliEAAgAAWIYACAAAYBkCIAAAgGUIgAAAAJYhAAIAAFiGAAgAAGAZAiAAAIBlCIAAAACWIQACAABYhgAIAABgGQIgAACAZQiAAAAAliEAAgAAWIYACAAAYBkCIAAAgGUIgAAAAJYhAAIAAFiGAAgAAGAZAiAAAIBlCIAAAACWIQACAABYhgAIAABgGQIgAACAZQiAAAAAliEAAgAAWIYACAAAYBkCIAAAgGUIgAAAAJYhAAIAAFiGAAgAAGAZAiAAAIBlCIAAAACWIQACAABYhgAIAABgGQIgAACAZQiAAAAAliEAAgAAWIYACAAAYBkCoAsVFxfrtttuU2pqqkaPHq05c+bo2LFjIfcYY7R69WplZmYqMTFR+fn5Onr0aJRmDAAAIokA6EKlpaVatGiR3n//fZWUlKi1tVUFBQVqbGwM3rNu3TqtX79eGzZs0P79++X3+zVz5kzV19dHceYAACASHGOMifYkEF5nz57V6NGjVVpaqq9+9asyxigzM1OFhYVavny5JKm5uVk+n09r167V/PnzL/k7A4GA0tPTla/75HEGh/sjAAAGWKs5r716Q3V1dUpLS4v2dBBh7ABaoK6uTpI0fPhwSVJ5ebmqq6tVUFAQvMfr9WratGnat29fr7+jublZgUAg5AUAAOITAdDljDFaunSppk6dqokTJ0qSqqurJUk+ny/kXp/PF3yvu+LiYqWnpwdfY8eODe/EAQBA2BAAXW7x4sX6+OOP9fOf/7zHe47jhFwbY3qMdVq5cqXq6uqCr8rKyrDMFwAAhJ8n2hNA+Dz55JPasWOH3nnnHWVlZQXH/X6/pI6dwIyMjOB4TU1Nj13BTl6vV16vN7wTBgAAEcEOoAsZY7R48WK9/vrr+tWvfqWcnJyQ93NycuT3+1VSUhIca2lpUWlpqaZMmRLp6QIAgAhjB9CFFi1apC1btuiNN95Qampq8Lm+9PR0JSYmynEcFRYWqqioSLm5ucrNzVVRUZGSkpI0d+7cKM8eAACEGwHQhTZu3ChJys/PDxnftGmTHnvsMUnSsmXL1NTUpIULF6q2tlZ5eXnatWuXUlNTIzxbAAAQadQBxBWhDiAAxDfqANqNHUAACDPjOGrK8qktJVEJDU1KPHlGDv/2BhBFBEAAceft04cH7HfdlXnLgP2u3jTkZuvsjDy1piUHxzyBRo3a/YFSjleE9c8GgL7wLWAACJOG3GxVzZmu1tSkkPHW1CRVzZmuhtzsKM0MgO0IgAAQBsZxdHZGXsdF9wLrF67Pzrhdpo/i6wAQThwBA4hrFzvC7c+zdxc7Tr6a4+GmLF/IsW8PjqPWtBQ1ZfmUVNl7C0YACBcCIABXivazd20piQN6HwAMJI6AAbhOLDx7l9DQNKD3AcBAIgACcJVYefYu8eQZeQKNUl/lXoyRJ9CgxJNnwjoPAOgNR8AAXOVyn7272HN+V/N8oGOMRu3+QFVzpneEwK6B80IoHLX7Q+oBAogKdgABuEosPXuXcrxCGdv3yFN/LmTcU9+ojO17qAMIIGrYAQTgKrH27F3K8Qoll1XSCQRATCEAAnCVzmfvWlOTej4DKHU8e1ff2K9n7/p7PNyf42BKvQCIJRwBA3CVzmfvJPX8AgbP3gGAJAIgABfi2TsAuDiOgAG4Urifvet67BuubiIAEC4EQACuxbN3ANA7joABAAAsww4gAFylgfq2MABECjuAAAAAliEAAgAAWIYjYACIUcZx6CACICwIgAAQRn2Vi7nU84ANudk6OyNPrWnJwTFPoFGjdn9AHUMAV40jYACIMQ252aqaM72jnV0XralJqpozXQ252VGaGQC3IAACQAwxjqOzM/I6Lrr3Mr5wfXbG7TK99TkGgH7iCBgAIqQ/x8FNWb6QY98eHEetaSlqyvJR5BrAFWMHEABiSFtK4oDeBwC9IQACQAxJaGga0PsAoDccAQOIW23tjs6N9cdlmZS+joPb2h1d/6OvdHwBpLfn/IyRp75RiSfPRGKaAFyKAAggLu0su1lr9t6v6oeGBcfcUCYlYZDRqN0fqGrOdMmY0BB4IdyO2v1h3ARdALGJI2AAcWdn2c1a9Objqm64JmTcLWVSUo5XKGP7Hnnqz4WMe+oblbF9T1wHXACxgR1AAHHFOI7W7L1fHftfvZRJMUZnZ9yu5LLKuN4lSzleoeSySjqBAAgLAiCAuNKU5VN1w7C+b4jDMindu4JcTscQALgSHAEDiCuUSQGAq0cABBBXKJMCAFePI2AAcSXx5Bl5Ao2uLpPSn44hAHA12AEEEFcc01EmRVKwLEoQZVIAoF8IgADiDmVSAODqcAQMIC51lklZ8369ahrTNDo5oKe/nOq6nb++joO7vwcAl4MACCBuOcboy2PLulwTiACgPzgCBgAAsAwBEAAAwDIcAQNAnOj6zJ9xHK35wN3PPwIIHwIgAMSZhtxsnZ2Rp7mvJQfHPPMbNWr3B3wDGkC/cAQMAHGkITdbVXOmdxTC7qI1NUlVc6arITc7SjMDEE8IgAAQJ4zj6OyMvI6L7l1QLlyfnXG7TG8dUgCgCwIgAMSJpiyfWtOSe2+BJ0mOo9a0FDVl+SI7MQBxhwAIAHGiLSVxQO8DYC8CIADEiYSGpgG9D4C9CIAAECcST56RJ9Ao9VHuxZFRRkqtEk+eifDMAMQbAiCAuGIcR+fG+lV/fY7OjfWrrd2eLzw4xmjU7g86LrqFQEcd10/lb6MeIIBLog4ggLjRWf+uNe2P9e++8s95ejp/m+6+7uMozixyUo5XKGP7nh7r4E/5XE9dWIcfi57IAC7OMYZ/KuLyBQIBpaenK1/3yeMMjvZ0YIHO+neSQr4F27nz9cLsTfrxV+051DCOo6Ysn9pSEpXQ0KTEk2eCO39vnz4ccm/XDiJAp1ZzXnv1hurq6pSWlhbt6SDC2AEEEPMuVv/OyJEjox/uvV/Jzg5rjj8dY5RUWR3taQCIU/b8cxlA3LpU/TsjR1UNw6h/BwD9xA4ggJhH/bvL0/3It+uRMMfBACR2AF2vuLhYjuOosLAwOGaM0erVq5WZmanExETl5+fr6NGjUZwlcHHUvwOAgUUAdLH9+/frxRdf1M033xwyvm7dOq1fv14bNmzQ/v375ff7NXPmTNXX10dppsDFUf8OAAYWAdClGhoa9PDDD+ull17SsGHDguPGGD3//PNatWqVHnjgAU2cOFGbN2/WuXPntGXLlijOGOgb9e8AYGARAF1q0aJFmjVrlu68886Q8fLyclVXV6ugoCA45vV6NW3aNO3bt6/P39fc3KxAIBDyAiKps/6dp/5cyLg/5XO9MHuTNXUAAWAg8CUQF9q6dasOHjyo/fv393ivurqjbITPF/ptSZ/PpxMnTvT5O4uLi/XMM88M7ESBy5RyvELJZZUh9e/2/vptJQxi5w8ALgc7gC5TWVmpJUuW6JVXXtHQoUP7vM/pXkvNmB5jXa1cuVJ1dXXBV2Vl5YDNGbgcnfXvUn9brqTKasIfAFwBdgBd5sCBA6qpqdGkSZOCY21tbXrnnXe0YcMGHTt2TFLHTmBGRkbwnpqamh67gl15vV55vd7wTRwAAEQMAdBlZsyYoSNHjoSMPf7445owYYKWL1+u8ePHy+/3q6SkRLfeeqskqaWlRaWlpVq7dm00pgxggHVvE9fW7rBTCiAEAdBlUlNTNXHixJCx5ORkjRgxIjheWFiooqIi5ebmKjc3V0VFRUpKStLcuXOjMWUAA6ghN1tnZ+R1dE654Cv/nKen87fxRRkAQQRACy1btkxNTU1auHChamtrlZeXp127dik1NTXaUwNwFRpys1U1Z3qP8TMN12jRm4/rhdmbojArALHIMYbCWbh8gUBA6enpytd98jiDoz0dWIw2Zx2M4+j387+u1tSkXnsmOzLyp3yu5B/soF4iJEmt5rz26g3V1dUpLS0t2tNBhPEtYABwgaYsX8exbx/f5jdyVNUwTE1ZfX/ZC4A9CIAA4AJtKYkDeh8AdyMAAoALJDQ0Deh9ANyNAAgALpB48ow8gcYevZI7OTLKSKlV4skzEZ4ZgFhEAAQAF3CM0ajdH3RcdAuBjjqun8rfxhdAAEgiAAKII8ZxdG6sX/XX5+jcWL/MRdoX2ijleIUytu+Rp/5cyLg/5XO9MHsTdQABBFEHEEBc6K3AsSfQqJ1lbQSbLlKOVyi5rDKkE8jeX79NJxAAIdgBBBDzOgsct6YmhYy3piZp0ZuPa2fZzVGaWWxyjFFSZbVSf1uupMpqwh+AHtgBBBDTjOPo7Iy8jovuR76OI2OMvrPlm7r2HxO06/Sh4Fs2F4XurutaUDgbgEQABBDjggWO++I4ak1LocAxAFwGjoABxDQKHAPAwCMAAohpFDgGgIFHAAQQ0y5V4FjGyBNooMAxAFwGAiCAmHaxAsed16N2f0iBYwC4DARAADGvrwLHnvpGZWzfo5TjFVGaGQDEJ74FDCAu9FbgOPHkGXb+AOAKEAABxI3OAscAgKtDAAQASxjH0fuV16mmMU2jkwMyjsMOKmApAiAAWKCzl/Lc1/5YVNv/TK2ezt+mu6/7mK4ggGX4EggAuFxfvZTPNFxDL2XAUgRAAHCxi/VSNuq4/uHe+2W691kG4GoEQABwsWAv5T4CnpGjqoZh9FIGLEMABAAXo5cygN4QAAHAxeilDKA3BEAAcLFL9VJ2ZJSRUksvZcAyBEAAcLGL9VJ21HH9VP426gECliEAAoDL9dVL2Z/yuV6YvUl3X/dxlGYGIFooBA0gLhjHoQ/wVeitl/LeX7+thEGsIWAjAiCAmNfZxaI17Y9dLDyBRo3a/YFSjldEcWbxpXsvZcIfYC+OgAHEtL66WLSmJqlqznQ15GZHaWYAEL8IgABi1sW6WHRen51xO10sAOAyEQABxKxLdbGQ46g1LYUuFgBwmQiAAGIWXSwAIDwIgABiFl0sACA8CIAAYtaluljIGHkCDXSxAIDLRAAEELMu1sWi83rU7g+pBwgAl4kACCCm9dXFwlPfqIzte6gDCABXgELQAGJeb10sOjuBvH36cPC+uzJvieIs40/X9eq6jt3fA+A+BEAAcaF7FwsMjM4Wezv+35c0Ojmg28b8Fx1CAAsQAAHAUl1b7BXu7Bjzp9Tq6fxt0Z0YgLDjGUAAsFBfLfbONFyjRW8+Tos9wOUIgABgmYu12DOixR5gAwIgAFjmUi32jGixB7gdARAALEOLPQAEQACwDC32ABAAAcAyl2qx54gWe4DbEQABwDIXa7HniBZ7gA0IgABgob5a7PlTPtcLszfRYg9wOQpBA4gbnV0ruraDw5Xr2mLve5trQjqB/Fi0ggPcjAAIIC507VrRyRNo1M6yNt193cdRnFl862yxd++Ew5e+GYBrcAQMIOb11bWiNTVJi958XDvLbo7SzAAgPhEAAcS0i3Wt6Lz+4d771dZO1woA6C+OgAHEtGDXij4YOapqGKb9p74QwVkBQHxjBxBATOtvN4qaxrQwzwQA3IMACCCm9bcbxejkQJhnAgDuQQB0qVOnTumRRx7RiBEjlJSUpFtuuUUHDhwIvm+M0erVq5WZmanExETl5+fr6NGjUZwx0Lv+dK3ISKnVbWP+K8IzA4D4RQB0odraWt1xxx0aPHiw/uM//kOffvqp/v7v/17XXHNN8J5169Zp/fr12rBhg/bv3y+/36+ZM2eqvr4+ijMHerpY14rO66fytylhEF0rAKC/HGPo9eM2K1as0H/+53/q3Xff7fV9Y4wyMzNVWFio5cuXS5Kam5vl8/m0du1azZ8//5J/RiAQUHp6uvJ1nzzO4AGdP9Cb3usANugnc/9PsA7gXZkULx4ob5/+Y11A1tWdWs157dUbqqurU1oaz9Dahm8Bu9COHTt011136Rvf+IZKS0s1ZswYLVy4UH/5l38pSSovL1d1dbUKCgqCP+P1ejVt2jTt27ev1wDY3Nys5ubm4HUgwPNWiKyuXSu6dgK5+2mKQAPA5eII2IV+97vfaePGjcrNzdXbb7+tBQsW6Dvf+Y7+5V/+RZJUXV0tSfL5fCE/5/P5gu91V1xcrPT09OBr7Nix4f0QQC86u1ak/rZcSZXVcjjACKu2dkfvV16n+utzdG6sX6Z7HUYAcYsdQBdqb2/X5MmTVVRUJEm69dZbdfToUW3cuFGPPvpo8D6n21/mxpgeY51WrlyppUuXBq8DgQAhEHCxnWU3a83e+1XdMEy6p2PME2jUqN0fKOV4RXQnB+CqEQBdKCMjQzfccEPI2PXXX6/XXntNkuT3+yV17ARmZGQE76mpqemxK9jJ6/XK6/WGacbA5eH5tPBqyM3Wojenq/v+amtqkqrmTFfG9j2EQCDOcQTsQnfccYeOHTsWMvbZZ59p3LhxkqScnBz5/X6VlJQE329paVFpaammTJkS0bkCiC2drfc6wl/vrffOzrid42AgzhEAXei73/2u3n//fRUVFamsrExbtmzRiy++qEWLFknqOPotLCxUUVGRtm3bpk8++USPPfaYkpKSNHfu3CjPHkA0/bH1Xh8Bz3HUmpaipqzeTwsAxAeOgF3otttu07Zt27Ry5UqtWbNGOTk5ev755/Xwww8H71m2bJmampq0cOFC1dbWKi8vT7t27VJqamoUZw4g2vrbeq+/9wGITQRAl5o9e7Zmz57d5/uO42j16tVavXp15CYFIOb1t/Vef+8DEJs4AgYABHW23nN6fAXkAmPkCTQo8eSZyE4MwIAiAAIAgrq23usRAi/UXRy1+0NqMAJxjgAIAAiRcrxCL8zeJF/K5yHjnvpGSsAALsEzgACAHu6+7mPNHH9E+099QUsfuynYeo+dP8AdCIAAYt5bJ3+j/ae+oJrGNI1ODqhgzK0EkQhIGGT05bFlSv1tSrSnAmCAEQABxLSG3Gx95Z/v62hJdoFnPi3JAOBq8AwggJjVkJutqjnTVd1wTch4Z0uyhtzsKM0MAOIbARBATOpsSdaBlmQAMJAIgABiUrAlWV8Bj5ZkAHDFCIAAYhItyQAgfAiAAGISLckAIHwIgABiUmdLMvVV7oWWZABwxQiAAGISLckAIHwIgABiVsrxCmVs30NLMgAYYBSCBhDTUo5X6K0nfhHSCeTpL6ey8xdhxnHUlOVTW0oibeEAFyAAAoh5nS3JOjnmlijOxj4Nudk6OyOvoyzPBZ4A3ViAeMYRMACgTzvLblbVnOlqTU0KGacbCxDfCIAAgF61tTtas/f+jovuBbnpxgLENQIgAKBX+099QdUNw+jGArgQARAA0KuaxrR+3Uc3FiD+EAABAL0anRzo1310YwHiDwEQANCr28b8l/wptXRjAVyIAAgA6FXCIKOn87d1XHQPgXRjAeIaARAA0Ke7r/tYGdv3yFN/LmScbixAfKMQNADgolKOVyi5rJJOIICLEAABAJfkGKOkyupoTwPAAOEIGEDcaGt39H7ldaq/PkfnxvopQAwAV4gdQABxYWfZzVqz9/6OwsT3dIzRjxYArgw7gABi3s6ym7XozcdV3XBNyDj9aAHgyhAAAcQ043T0o+34ugH9aAFgIBAAAcS0pixfx7Fv9/DXiX60AHDZeAYQQEzrb59Z+tFenbdPHw65vivzlijNBEAksAMIIKb1t88s/WgBoP8IgABiWuLJM/Kn1MoR/WgBYKAQAAHENMf8sR9tjxBIP1oAuCIEQAAx7+7rPtYLszfJl/J5yDj9aAHgyvAlEABx4e7rPtbM8Ue0/9QXtPSxm+hHCwBXgQAIIOZ1/0ZqqsqjNBP34lu/gF0IgADgUsZx1JTlU1tKIjumAEIQAAHAhRpys3V2Rp5a05KDY/ROBtCJL4EAgMs05Garas50taYmhYzTOxlAJwIgALiIcRydnZHXcdG9PzK9kwFcQAAEABdpyvJ1HPv2FfDonQxABEAAcBV6JwPoDwIgALgIvZMB9AffAgaAC9xQNiXx5Bl5Ao0dXwDp7RjYGHnqG+mdDFiOAAgAck/ZFMcYjdr9garmTO/oldw1BNI7GcAFHAEDsJ7byqakHK9QxvY98tSfCxmndzKATuwAArDaJcumGKOzM25XclllXO2apRyvUHJZZdwfaQMIDwIgAKsFy6b0pUvZlKTK6shNbAA4xsTdnAFEBkfAAKxG2RQANiIAArAaZVMA2IgACMBqnWVT1NezccbIE2igbAoAVyEAArBaZ9kUST1DIGVTALgUARCA9SibAsA2BEAXam1t1fe//33l5OQoMTFR48eP15o1a9Te3h68xxij1atXKzMzU4mJicrPz9fRo0ejOGsgulKOV+jaf/y/GvPznfL/olRjfr5T1/7ja4Q/AK5EGRgXWrt2rX72s59p8+bNuvHGG/XRRx/p8ccfV3p6upYsWSJJWrdundavX6+XX35Zf/Inf6If/ehHmjlzpo4dO6bU1NQofwIgOiibAsAW7AC60K9//Wvdd999mjVrlq699lp9/etfV0FBgT766CNJHbt/zz//vFatWqUHHnhAEydO1ObNm3Xu3Dlt2bIlyrMHAADhRgB0oalTp2r37t367LPPJEm/+c1v9N577+lrX/uaJKm8vFzV1dUqKCgI/ozX69W0adO0b9++Xn9nc3OzAoFAyAsAAMQnjoBdaPny5aqrq9OECROUkJCgtrY2Pfvss3rooYckSdXVHUdcPp8v5Od8Pp9OnDjR6+8sLi7WM888E96JAwCAiGAH0IVeffVVvfLKK9qyZYsOHjyozZs36+/+7u+0efPmkPucbn1PjTE9xjqtXLlSdXV1wVdlZWXY5g8AAMKLHUAX+t73vqcVK1boW9/6liTppptu0okTJ1RcXKx58+bJ7/dL6tgJzMjICP5cTU1Nj13BTl6vV16vN/yTBwAAYccOoAudO3dOgwaF/k+bkJAQLAOTk5Mjv9+vkpKS4PstLS0qLS3VlClTIjpXAAAQeewAutA999yjZ599VtnZ2brxxht16NAhrV+/Xk888YSkjqPfwsJCFRUVKTc3V7m5uSoqKlJSUpLmzp0b5dkDAIBwIwC60D/8wz/oqaee0sKFC1VTU6PMzEzNnz9fTz/9dPCeZcuWqampSQsXLlRtba3y8vK0a9cuagACAGABxxgaXOLyBQIBpaenK1/3yeMMjvZ0AACXqdWc1169obq6OqWlpUV7OogwngEEAACwDAEQAADAMgRAAAAAyxAAAQAALEMABAAAsAwBEAAAwDIEQAAAAMsQAAEAACxDAAQAALAMARAAAMAyBEAAAADLEAABAAAsQwAEAACwDAEQAADAMgRAAAAAyxAAAQAALEMABAAAsAwBEAAAwDIEQAAAAMsQAAEAACxDAAQAALAMARAAAMAyBEAAAADLEAABAAAsQwAEAACwDAEQAADAMgRAAAAAyxAAAQAALEMABAAAsAwBEAAAwDIEQAAAAMsQAAEAACxDAAQAALAMARAAAMAyBEAAAADLEAABAAAsQwAEAACwDAEQAADAMgRAAAAAyxAAAQAALEMABAAAsAwBEAAAwDIEQAAAAMsQAAEAACxDAAQAALAMARAAAMAyBHsMucAAAAwjSURBVEAAAADLEAABAAAsQwAEAACwDAEQAADAMgRAAAAAyxAAAQAALEMABAAAsAwBEAAAwDIEQAAAAMsQAOPMO++8o3vuuUeZmZlyHEfbt28Ped8Yo9WrVyszM1OJiYnKz8/X0aNHQ+5pbm7Wk08+qZEjRyo5OVn33nuvTp48GcmPAQAAoogAGGcaGxv1xS9+URs2bOj1/XXr1mn9+vXasGGD9u/fL7/fr5kzZ6q+vj54T2FhobZt26atW7fqvffeU0NDg2bPnq22trZIfQwAABBFjjHGRHsSuDKO42jbtm2aM2eOpI7dv8zMTBUWFmr58uWSOnb7fD6f1q5dq/nz56uurk6jRo3Sv/7rv+rBBx+UJJ0+fVpjx47VW2+9pbvuuqtff3YgEFB6errydZ88zuDwfEAAQNi0mvPaqzdUV1entLS0aE8HEcYOoIuUl5erurpaBQUFwTGv16tp06Zp3759kqQDBw7o/PnzIfdkZmZq4sSJwXt609zcrEAgEPICAADxiQDoItXV1ZIkn88XMu7z+YLvVVdXa8iQIRo2bFif9/SmuLhY6enpwdfYsWMHePYAACBSCIAu5DhOyLUxpsdYd5e6Z+XKlaqrqwu+KisrB2SuAAAg8giALuL3+yWpx05eTU1NcFfQ7/erpaVFtbW1fd7TG6/Xq7S0tJAXAACITwRAF8nJyZHf71dJSUlwrKWlRaWlpZoyZYokadKkSRo8eHDIPVVVVfrkk0+C9wAAAHfzRHsCuDwNDQ0qKysLXpeXl+vw4cMaPny4srOzVVhYqKKiIuXm5io3N1dFRUVKSkrS3LlzJUnp6en6i7/4C/31X/+1RowYoeHDh+tv/uZvdNNNN+nOO++M1scCAAARRACMMx999JGmT58evF66dKkkad68eXr55Ze1bNkyNTU1aeHChaqtrVVeXp527dql1NTU4M/8+Mc/lsfj0Te/+U01NTVpxowZevnll5WQkBDxzwMAACKPOoC4ItQBBID4Rh1Au/EMIAAAgGUIgAAAAJYhAAIAAFiGAAgAAGAZAiAAAIBlCIAAAACWIQACAABYhgAIAABgGQIgAACAZQiAAAAAliEAAgAAWIYACAAAYBkCIAAAgGUIgAAAAJYhAAIAAFiGAAgAAGAZAiAAAIBlCIAAAACWIQACAABYhgAIAABgGQIgAACAZQiAAAAAliEAAgAAWIYACAAAYBkCIAAAgGUIgAAAAJYhAAIAAFiGAAgAAGAZAiAAAIBlCIAAAACW8UR7AohPxhhJUqvOSybKkwEAXLZWnZf0x7/PYRcCIK5IfX29JOk9vRXlmQAArkZ9fb3S09OjPQ1EmGOI/rgC7e3tOn36tIwxys7OVmVlpdLS0qI9ragJBAIaO3Ys68A6SGIdOrEOHWJ1HYwxqq+vV2ZmpgYN4okw27ADiCsyaNAgZWVlKRAISJLS0tJi6i+2aGEdOrAOHViHDqxDh1hcB3b+7EXkBwAAsAwBEAAAwDIJq1evXh3tSSC+JSQkKD8/Xx6P3U8UsA4dWIcOrEMH1qED64BYw5dAAAAALMMRMAAAgGUIgAAAAJYhAAIAAFiGAAgAAGAZAiCu2E9/+lPl5ORo6NChmjRpkt59991oTymsiouLddtttyk1NVWjR4/WnDlzdOzYsZB7jDFavXq1MjMzlZiYqPz8fB09ejRKM46M4uJiOY6jwsLC4Jgt63Dq1Ck98sgjGjFihJKSknTLLbfowIEDwfdtWIfW1lZ9//vfV05OjhITEzV+/HitWbNG7e3twXvcuA7vvPOO7rnnHmVmZspxHG3fvj3k/f585ubmZj355JMaOXKkkpOTde+99+rkyZOR/BiwmQGuwNatW83gwYPNSy+9ZD799FOzZMkSk5ycbE6cOBHtqYXNXXfdZTZt2mQ++eQTc/jwYTNr1iyTnZ1tGhoagvc899xzJjU11bz22mvmyJEj5sEHHzQZGRkmEAhEcebh8+GHH5prr73W3HzzzWbJkiXBcRvW4X/+53/MuHHjzGOPPWY++OADU15ebn75y1+asrKy4D02rMOPfvQjM2LECPPmm2+a8vJy8+///u8mJSXFPP/888F73LgOb731llm1apV57bXXjCSzbdu2kPf785kXLFhgxowZY0pKSszBgwfN9OnTzRe/+EXT2toa6Y8DCxEAcUVuv/12s2DBgpCxCRMmmBUrVkRpRpFXU1NjJJnS0lJjjDHt7e3G7/eb5557LnjP//7v/5r09HTzs5/9LFrTDJv6+nqTm5trSkpKzLRp04IB0JZ1WL58uZk6dWqf79uyDrNmzTJPPPFEyNgDDzxgHnnkEWOMHevQPQD25zN//vnnZvDgwWbr1q3Be06dOmUGDRpkdu7cGbnJw1ocAeOytbS06MCBAyooKAgZLygo0L59+6I0q8irq6uTJA0fPlySVF5erurq6pB18Xq9mjZtmivXZdGiRZo1a5buvPPOkHFb1mHHjh2aPHmyvvGNb2j06NG69dZb9dJLLwXft2Udpk6dqt27d+uzzz6TJP3mN7/Re++9p6997WuS7FmHrvrzmQ8cOKDz58+H3JOZmamJEye6dl0QWyhJjsv2hz/8QW1tbfL5fCHjPp9P1dXVUZpVZBljtHTpUk2dOlUTJ06UpOBn721dTpw4EfE5htPWrVt18OBB7d+/v8d7tqzD7373O23cuFFLly7V3/7t3+rDDz/Ud77zHXm9Xj366KPWrMPy5ctVV1enCRMmKCEhQW1tbXr22Wf10EMPSbLnv4eu+vOZq6urNWTIEA0bNqzHPbb8PYroIgDiijmOE3JtjOkx5laLFy/Wxx9/rPfee6/He25fl8rKSi1ZskS7du3S0KFD+7zP7evQ3t6uyZMnq6ioSJJ066236ujRo9q4caMeffTR4H1uX4dXX31Vr7zyirZs2aIbb7xRhw8fVmFhoTIzMzVv3rzgfW5fh95cyWe2YV0QGzgCxmUbOXKkEhISevwrtaampse/eN3oySef1I4dO7Rnzx5lZWUFx/1+vyS5fl0OHDigmpoaTZo0SR6PRx6PR6WlpfrJT34ij8cT/KxuX4eMjAzdcMMNIWPXX3+9KioqJNnz38P3vvc9rVixQt/61rd000036dvf/ra++93vqri4WJI969BVfz6z3+9XS0uLamtr+7wHCCcCIC7bkCFDNGnSJJWUlISMl5SUaMqUKVGaVfgZY7R48WK9/vrr+tWvfqWcnJyQ93NycuT3+0PWpaWlRaWlpa5alxkzZujIkSM6fPhw8DV58mQ9/PDDOnz4sMaPH2/FOtxxxx09ygB99tlnGjdunCR7/ns4d+6cBg0K/b+ShISEYBkYW9ahq/585kmTJmnw4MEh91RVVemTTz5x7bogxkTt6yeIa51lYP7pn/7JfPrpp6awsNAkJyeb3//+99GeWtj81V/9lUlPTzd79+41VVVVwde5c+eC9zz33HMmPT3dvP766+bIkSPmoYceivtyF/3R9VvAxtixDh9++KHxeDzm2WefNcePHzf/9m//ZpKSkswrr7wSvMeGdZg3b54ZM2ZMsAzM66+/bkaOHGmWLVsWvMeN61BfX28OHTpkDh06ZCSZ9evXm0OHDgVLYfXnMy9YsMBkZWWZX/7yl+bgwYPmz/7szygDg4ghAOKKvfDCC2bcuHFmyJAh5ktf+lKwHIpbSer1tWnTpuA97e3t5gc/+IHx+/3G6/War371q+bIkSPRm3SEdA+AtqzDL37xCzNx4kTj9XrNhAkTzIsvvhjyvg3rEAgEzJIlS0x2drYZOnSoGT9+vFm1apVpbm4O3uPGddizZ0+vfx/MmzfPGNO/z9zU1GQWL15shg8fbhITE83s2bNNRUVFFD4NbOQYY0x09h4BAAAQDTwDCAAAYBkCIAAAgGUIgAAAAJYhAAIAAFiGAAgAAGAZAiAAAIBlCIAAAACWIQACAABYhgAIAABgGQIgAACAZQiAAAAAliEAAgAAWIYACAAAYBkCIAAAgGUIgAAAAJYhAAIAAFiGAAgAAGAZAiAAAIBlCIAAAACWIQACAABYhgAIAABgGQIgAACAZQiAAAAAliEAAgAAWIYACAAAYBkCIAAAgGUIgAAAAJYhAAIAAFiGAAgAAGAZAiAAAIBlCIAAAACW+f/6ddT91LOjlgAAAABJRU5ErkJggg==' width=640.0/>\n",
       "            </div>\n",
       "        "
      ],
      "text/plain": [
       "Canvas(toolbar=Toolbar(toolitems=[('Home', 'Reset original view', 'home', 'home'), ('Back', 'Back to previous …"
      ]
     },
     "metadata": {},
     "output_type": "display_data"
    }
   ],
   "source": [
    "plt.figure()\n",
    "plt.imshow(I)\n",
    "plt.scatter(radiiEndpoints_I[:, 0, 1], radiiEndpoints_I[:, 0, 0])"
   ]
  },
  {
   "cell_type": "code",
   "execution_count": 19,
   "id": "042fbc21-253c-4f32-a82a-e9ad90f799ae",
   "metadata": {},
   "outputs": [
    {
     "data": {
      "text/plain": [
       "[2, 5, 8]"
      ]
     },
     "execution_count": 19,
     "metadata": {},
     "output_type": "execute_result"
    }
   ],
   "source": [
    "N = 3\n",
    "indeces_for_slice_points = []\n",
    "for i in range(len(radiiEndpoints_I)-1, 0, -N):\n",
    "    indeces_for_slice_points.append(i)\n",
    "indeces_for_slice_points.sort()\n",
    "\n",
    "indeces_for_slice_points"
   ]
  },
  {
   "cell_type": "code",
   "execution_count": 21,
   "id": "ce96d04b-cf42-4c12-97fc-47ecc4e9a399",
   "metadata": {},
   "outputs": [
    {
     "data": {
      "text/plain": [
       "array([[[38.44081952, 35.98958544],\n",
       "        [48.05716979, 68.001712  ]],\n",
       "\n",
       "       [[58.24401858, 55.07382072],\n",
       "        [47.52191566, 73.316329  ]],\n",
       "\n",
       "       [[77.07631067, 75.12896298],\n",
       "        [54.88647627, 70.73113125]]])"
      ]
     },
     "execution_count": 21,
     "metadata": {},
     "output_type": "execute_result"
    }
   ],
   "source": [
    "slice_points = []\n",
    "\n",
    "for i in indeces_for_slice_points:\n",
    "    slice_points.append(radiiEndpoints_I[i, 0, ...])\n",
    "    \n",
    "slice_points = np.array(slice_points)\n",
    "\n",
    "\n",
    "slice_points"
   ]
  },
  {
   "cell_type": "code",
   "execution_count": 22,
   "id": "50f1344f-49b8-4f75-9078-6ea991637be1",
   "metadata": {},
   "outputs": [
    {
     "data": {
      "text/plain": [
       "<matplotlib.collections.PathCollection at 0x7f1fa4fd0450>"
      ]
     },
     "execution_count": 22,
     "metadata": {},
     "output_type": "execute_result"
    },
    {
     "data": {
      "application/vnd.jupyter.widget-view+json": {
       "model_id": "386820dc07b44ddd95b658c70cf028cd",
       "version_major": 2,
       "version_minor": 0
      },
      "image/png": "[encoded data removed]",
      "text/html": [
       "\n",
       "            <div style=\"display: inline-block;\">\n",
       "                <div class=\"jupyter-widgets widget-label\" style=\"text-align: center;\">\n",
       "                    Figure\n",
       "                </div>\n",
       "                <img src='data:image/png;base64,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' width=640.0/>\n",
       "            </div>\n",
       "        "
      ],
      "text/plain": [
       "Canvas(toolbar=Toolbar(toolitems=[('Home', 'Reset original view', 'home', 'home'), ('Back', 'Back to previous …"
      ]
     },
     "metadata": {},
     "output_type": "display_data"
    }
   ],
   "source": [
    "plt.figure()\n",
    "plt.imshow(I)\n",
    "plt.scatter(slice_points[:, 1], slice_points[:, 0]) # plot in x,y --- stored in i,j"
   ]
  },
  {
   "cell_type": "code",
   "execution_count": 23,
   "id": "985cf739-ec1e-4b41-ac9a-30b0c34f5ca6",
   "metadata": {},
   "outputs": [
    {
     "data": {
      "text/plain": [
       "array([[[38.44081952, 48.05716979],\n",
       "        [35.98958544, 68.001712  ]],\n",
       "\n",
       "       [[58.24401858, 47.52191566],\n",
       "        [55.07382072, 73.316329  ]],\n",
       "\n",
       "       [[77.07631067, 54.88647627],\n",
       "        [75.12896298, 70.73113125]]])"
      ]
     },
     "execution_count": 23,
     "metadata": {},
     "output_type": "execute_result"
    }
   ],
   "source": [
    "# note that it is not (i,j) that is being stored! it is (i_0, i_1) lol....\n",
    "# let's re-store it in another variable that's more intuitive\n",
    "\n",
    "divide_points = [] # (i,j)\n",
    "divide_points_i_vals = [] # i\n",
    "divide_points_j_vals = [] # j\n",
    "\n",
    "for a in slice_points:\n",
    "    divide_points.append([ [a[0][0], a[1][0]] , [a[0][1], a[1][1]] ])\n",
    "    divide_points_i_vals.append(a[0][0])\n",
    "    divide_points_i_vals.append(a[0][1])\n",
    "    divide_points_j_vals.append(a[1][0])\n",
    "    divide_points_j_vals.append(a[1][1])\n",
    "\n",
    "divide_points = np.array(divide_points)\n",
    "\n",
    "divide_points"
   ]
  },
  {
   "cell_type": "code",
   "execution_count": 24,
   "id": "41fc6959-4aea-481e-b11f-1019a5e9f978",
   "metadata": {},
   "outputs": [
    {
     "name": "stdout",
     "output_type": "stream",
     "text": [
      "(109, 2) 109\n"
     ]
    }
   ],
   "source": [
    "# need to transform the image pixels into a set of points (i,j)\n",
    "I_point_set = []\n",
    "I_point_set_i_vals = []\n",
    "I_point_set_j_vals = []\n",
    "\n",
    "for i in range(I.shape[0]):\n",
    "    for j in range(I.shape[1]):\n",
    "        if I[i][j] == 1:\n",
    "            I_point_set.append([i,j])\n",
    "            I_point_set_i_vals.append(i)\n",
    "            I_point_set_j_vals.append(j)\n",
    "\n",
    "I_point_set = np.array(I_point_set)\n",
    "\n",
    "print(I_point_set.shape, np.count_nonzero(I == 1)) # number of points count should match"
   ]
  },
  {
   "cell_type": "code",
   "execution_count": 25,
   "id": "96ff1fcf-83e2-452f-8686-bf4ae69552a9",
   "metadata": {},
   "outputs": [
    {
     "data": {
      "application/vnd.jupyter.widget-view+json": {
       "model_id": "328366f421c64f8794fea6561f21fa37",
       "version_major": 2,
       "version_minor": 0
      },
      "image/png": "[encoded data removed]",
      "text/html": [
       "\n",
       "            <div style=\"display: inline-block;\">\n",
       "                <div class=\"jupyter-widgets widget-label\" style=\"text-align: center;\">\n",
       "                    Figure\n",
       "                </div>\n",
       "                <img src='data:image/png;base64,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' width=300.0/>\n",
       "            </div>\n",
       "        "
      ],
      "text/plain": [
       "Canvas(toolbar=Toolbar(toolitems=[('Home', 'Reset original view', 'home', 'home'), ('Back', 'Back to previous …"
      ]
     },
     "metadata": {},
     "output_type": "display_data"
    }
   ],
   "source": [
    "fig, ax = plt.subplots(1,1, figsize=(3,4))\n",
    "ax.scatter(I_point_set_j_vals, I_point_set_i_vals, marker='.', color='b', zorder=1)\n",
    "ax.scatter(divide_points_j_vals, divide_points_i_vals, marker='.', color='r', zorder=2)\n",
    "ax.invert_yaxis()"
   ]
  },
  {
   "cell_type": "markdown",
   "id": "9e45885a-c138-470f-839a-6711a2e548c7",
   "metadata": {},
   "source": [
    "Now we need to check whether the set of points representing the lv is above or below the imaginary line drawn by each pair of slice points. We can do this by checking the sign value of taking the determinant of this matrix: \n",
    "$$\\begin{bmatrix} x_2 - x_1 & x_3 - x_1 \\\\ y_2 - y_1 & y_3 - y_1 \\end{bmatrix} $$\n",
    "where $(x_1, y_1)$ and $(x_2, y_2)$ are the pair of points representing the imaginary line between them and $(x_3, y_3)$ represents the point to be checked. \n",
    "\n",
    "- $> 0 $ then above line\n",
    "- $< 0 $ then below line\n",
    "- $= 0 $ then on line\n",
    "\n",
    "This is taken from this [stackoverflow](https://stackoverflow.com/a/3461499/19266332)."
   ]
  },
  {
   "cell_type": "code",
   "execution_count": 26,
   "id": "362067b5-5f99-4fa7-875c-db97167d7322",
   "metadata": {},
   "outputs": [],
   "source": [
    "def is_point_above_below_line(p1, p2, p3):\n",
    "    '''\n",
    "    input: p1, p2, p3 -- iterables containing (x,y)\n",
    "        p1 and p2 represent line and p3 is point to be checked\n",
    "        note that this is supposed to be in euclidean space (x,y) \n",
    "        if points are in (i,j) please convert them first into (x,y)\n",
    "        x = j, y = i\n",
    "    output:\n",
    "        +1 for above line\n",
    "        -1 for below line\n",
    "        0 for on the line\n",
    "    '''\n",
    "    a = (p2[0] - p1[0])*(p3[1] - p1[1]) - (p2[1] - p1[1])*(p3[0] - p1[0])\n",
    "    if a > 0:\n",
    "        return 1\n",
    "    elif a < 0:\n",
    "        return -1\n",
    "    else:\n",
    "        return 0"
   ]
  },
  {
   "cell_type": "code",
   "execution_count": 27,
   "id": "56bd7ed8-086e-4c85-9524-5777d045c1f3",
   "metadata": {},
   "outputs": [],
   "source": [
    "def ij_to_xy(p):\n",
    "    '''\n",
    "    input: p - (i,j)\n",
    "    output: p - (x,y)\n",
    "    x = j, y = i\n",
    "    '''\n",
    "    return np.array([p[1], p[0]])"
   ]
  },
  {
   "cell_type": "code",
   "execution_count": 28,
   "id": "0db42ec0-44ed-420b-93b6-e8f84d0cb1d9",
   "metadata": {},
   "outputs": [
    {
     "name": "stdout",
     "output_type": "stream",
     "text": [
      "points in region i=0: 36\n",
      "[48.05716979 38.44081952] [68.001712   35.98958544]\n",
      "points in region i=1: 39\n",
      "[48.05716979 38.44081952] [68.001712   35.98958544] | [47.52191566 58.24401858] [73.316329   55.07382072]\n",
      "points in region i=2: 34\n",
      "[47.52191566 58.24401858] [73.316329   55.07382072] | [54.88647627 77.07631067] [70.73113125 75.12896298]\n"
     ]
    },
    {
     "name": "stderr",
     "output_type": "stream",
     "text": [
      "/opt/anaconda3/envs/dynamic37-wang/lib/python3.7/site-packages/ipykernel_launcher.py:51: VisibleDeprecationWarning: Creating an ndarray from ragged nested sequences (which is a list-or-tuple of lists-or-tuples-or ndarrays with different lengths or shapes) is deprecated. If you meant to do this, you must specify 'dtype=object' when creating the ndarray\n"
     ]
    }
   ],
   "source": [
    "I_regional_point_sets = [0 for i in range(N)]\n",
    "\n",
    "for i in range(N):\n",
    "    curr_region_point_set = []\n",
    "    tmp_point_count = 0\n",
    "    \n",
    "    # first region\n",
    "    if i == 0:\n",
    "        p1 = ij_to_xy(divide_points[i][0])\n",
    "        p2 = ij_to_xy(divide_points[i][1])\n",
    "        \n",
    "        for point in I_point_set:\n",
    "            p3 = ij_to_xy(point)\n",
    "        \n",
    "            if is_point_above_below_line(p1, p2, p3) == -1:\n",
    "                curr_region_point_set.append(point)\n",
    "                tmp_point_count += 1\n",
    "                \n",
    "        print(f'points in region i={i}: {tmp_point_count}')\n",
    "        print(f'{p1} {p2}')\n",
    "        \n",
    "    # 2nd and + regions\n",
    "    else:\n",
    "        start_p1 = ij_to_xy(divide_points[i-1][0])\n",
    "        start_p2 = ij_to_xy(divide_points[i-1][1])\n",
    "\n",
    "        end_p1 = ij_to_xy(divide_points[i][0])\n",
    "        end_p2 = ij_to_xy(divide_points[i][1])\n",
    "\n",
    "        # look at the entire point set representing the entire lv\n",
    "        for point in I_point_set:\n",
    "            p3 = ij_to_xy(point)\n",
    "\n",
    "            check_1 = is_point_above_below_line(start_p1, start_p2, p3)\n",
    "            check_2 = is_point_above_below_line(end_p1, end_p2, p3)\n",
    "\n",
    "            # print(check_1, check_2)\n",
    "\n",
    "            # above the first line and below the second line\n",
    "            # save point in (i,j) format\n",
    "            if check_1 == 1 and check_2 == -1:\n",
    "                curr_region_point_set.append(point)\n",
    "                tmp_point_count += 1\n",
    "\n",
    "        print(f'points in region i={i}: {tmp_point_count}')\n",
    "        print(f'{start_p1} {start_p2} | {end_p1} {end_p2}')\n",
    "    \n",
    "    # save curr region point set\n",
    "    I_regional_point_sets[i] = np.array(curr_region_point_set)\n",
    "    \n",
    "I_regional_point_sets = np.array(I_regional_point_sets)"
   ]
  },
  {
   "cell_type": "code",
   "execution_count": 33,
   "id": "f9a5d5be-db29-465e-9dea-3c96be66d605",
   "metadata": {},
   "outputs": [
    {
     "data": {
      "application/vnd.jupyter.widget-view+json": {
       "model_id": "1751a6cb889249ff8f7a241b58a3ece0",
       "version_major": 2,
       "version_minor": 0
      },
      "image/png": "[encoded data removed]",
      "text/html": [
       "\n",
       "            <div style=\"display: inline-block;\">\n",
       "                <div class=\"jupyter-widgets widget-label\" style=\"text-align: center;\">\n",
       "                    Figure\n",
       "                </div>\n",
       "                <img src='data:image/png;base64,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' width=1000.0/>\n",
       "            </div>\n",
       "        "
      ],
      "text/plain": [
       "Canvas(toolbar=Toolbar(toolitems=[('Home', 'Reset original view', 'home', 'home'), ('Back', 'Back to previous …"
      ]
     },
     "metadata": {},
     "output_type": "display_data"
    }
   ],
   "source": [
    "fig, ax = plt.subplots(1,3, figsize=(10,7))\n",
    "ax[0].scatter(I_regional_point_sets[0][:, 1], I_regional_point_sets[0][:, 0], marker='.', color='b', zorder=2)\n",
    "ax[0].scatter(divide_points_j_vals, divide_points_i_vals, marker='.', color='r', zorder=3)\n",
    "ax[0].invert_yaxis()\n",
    "\n",
    "ax[1].scatter(I_regional_point_sets[1][:, 1], I_regional_point_sets[1][:, 0], marker='.', color='b', zorder=2)\n",
    "ax[1].scatter(divide_points_j_vals, divide_points_i_vals, marker='.', color='r', zorder=3)\n",
    "ax[1].invert_yaxis()\n",
    "\n",
    "ax[2].scatter(I_regional_point_sets[2][:, 1], I_regional_point_sets[2][:, 0], marker='.', color='b', zorder=2)\n",
    "ax[2].scatter(divide_points_j_vals, divide_points_i_vals, marker='.', color='r', zorder=3)\n",
    "ax[2].invert_yaxis()"
   ]
  },
  {
   "cell_type": "code",
   "execution_count": null,
   "id": "7968ff24-2502-4334-b3f6-bea0a6e18351",
   "metadata": {},
   "outputs": [],
   "source": []
  }
 ],
 "metadata": {
  "kernelspec": {
   "display_name": "Python 3",
   "language": "python",
   "name": "python3"
  },
  "language_info": {
   "codemirror_mode": {
    "name": "ipython",
    "version": 3
   },
   "file_extension": ".py",
   "mimetype": "text/x-python",
   "name": "python",
   "nbconvert_exporter": "python",
   "pygments_lexer": "ipython3",
   "version": "3.7.6"
  }
 },
 "nbformat": 4,
 "nbformat_minor": 5
}
