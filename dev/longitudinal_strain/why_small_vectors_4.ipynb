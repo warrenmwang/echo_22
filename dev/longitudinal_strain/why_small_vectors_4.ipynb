{
 "cells": [
  {
   "cell_type": "code",
   "execution_count": 1,
   "id": "39d249d0-49f3-400c-a9f9-6ff6f82edecb",
   "metadata": {},
   "outputs": [],
   "source": [
    "import torch"
   ]
  },
  {
   "cell_type": "code",
   "execution_count": 2,
   "id": "c2664f92-c053-4e02-911a-3a8cac8889ed",
   "metadata": {},
   "outputs": [],
   "source": [
    "grid_w, grid_h = torch.meshgrid([torch.linspace(-1, 1, 112), torch.linspace(-1, 1, 112)])"
   ]
  },
  {
   "cell_type": "code",
   "execution_count": 3,
   "id": "881a384a-88ce-4363-936c-e59c964107df",
   "metadata": {},
   "outputs": [],
   "source": [
    "grid_w = grid_w.numpy()"
   ]
  },
  {
   "cell_type": "code",
   "execution_count": 4,
   "id": "ff4cb9e6-b978-4de6-b988-8d3c4f501b98",
   "metadata": {},
   "outputs": [
    {
     "data": {
      "text/plain": [
       "(112, 112)"
      ]
     },
     "execution_count": 4,
     "metadata": {},
     "output_type": "execute_result"
    }
   ],
   "source": [
    "grid_w.shape"
   ]
  },
  {
   "cell_type": "code",
   "execution_count": 5,
   "id": "0c2ff007-6628-4185-942e-f3e9d5fe5876",
   "metadata": {},
   "outputs": [
    {
     "data": {
      "text/plain": [
       "((112, 112), torch.Size([112, 112]))"
      ]
     },
     "execution_count": 5,
     "metadata": {},
     "output_type": "execute_result"
    }
   ],
   "source": [
    "grid_w.shape, grid_h.shape"
   ]
  },
  {
   "cell_type": "code",
   "execution_count": 6,
   "id": "db0cfbe2-43fb-4928-861d-8b0b6e261490",
   "metadata": {},
   "outputs": [
    {
     "data": {
      "text/plain": [
       "(-0.2792793, -0.2792793, -0.26126125)"
      ]
     },
     "execution_count": 6,
     "metadata": {},
     "output_type": "execute_result"
    }
   ],
   "source": [
    "grid_w[40][50], grid_w[40][51], grid_w[41][51]"
   ]
  },
  {
   "cell_type": "code",
   "execution_count": 7,
   "id": "d5304ac8-d1f2-4d96-aee9-6a739e18c110",
   "metadata": {},
   "outputs": [
    {
     "data": {
      "text/plain": [
       "(tensor(-0.0991), tensor(-0.0811), tensor(-0.0811))"
      ]
     },
     "execution_count": 7,
     "metadata": {},
     "output_type": "execute_result"
    }
   ],
   "source": [
    "grid_h[40][50], grid_h[40][51], grid_h[41][51]"
   ]
  },
  {
   "cell_type": "markdown",
   "id": "7329d4cd-aeda-4f59-9954-65789dbdf8cd",
   "metadata": {},
   "source": [
    "we should try to make a meshgrid of values using the linspace and then add them to the motion tracking information each time we pull from that."
   ]
  },
  {
   "cell_type": "code",
   "execution_count": 8,
   "id": "79128a74-e1b1-49d1-93d9-a6fe61bc2d25",
   "metadata": {},
   "outputs": [
    {
     "data": {
      "text/plain": [
       "array([[-1.      , -1.      , -1.      , ..., -1.      , -1.      ,\n",
       "        -1.      ],\n",
       "       [-0.981982, -0.981982, -0.981982, ..., -0.981982, -0.981982,\n",
       "        -0.981982],\n",
       "       [-0.963964, -0.963964, -0.963964, ..., -0.963964, -0.963964,\n",
       "        -0.963964],\n",
       "       ...,\n",
       "       [ 0.963964,  0.963964,  0.963964, ...,  0.963964,  0.963964,\n",
       "         0.963964],\n",
       "       [ 0.981982,  0.981982,  0.981982, ...,  0.981982,  0.981982,\n",
       "         0.981982],\n",
       "       [ 1.      ,  1.      ,  1.      , ...,  1.      ,  1.      ,\n",
       "         1.      ]], dtype=float32)"
      ]
     },
     "execution_count": 8,
     "metadata": {},
     "output_type": "execute_result"
    }
   ],
   "source": [
    "grid_w"
   ]
  },
  {
   "cell_type": "code",
   "execution_count": 9,
   "id": "1e310feb-c2e2-4239-b246-007d453e3e77",
   "metadata": {},
   "outputs": [
    {
     "data": {
      "text/plain": [
       "tensor([[-1.0000, -0.9820, -0.9640,  ...,  0.9640,  0.9820,  1.0000],\n",
       "        [-1.0000, -0.9820, -0.9640,  ...,  0.9640,  0.9820,  1.0000],\n",
       "        [-1.0000, -0.9820, -0.9640,  ...,  0.9640,  0.9820,  1.0000],\n",
       "        ...,\n",
       "        [-1.0000, -0.9820, -0.9640,  ...,  0.9640,  0.9820,  1.0000],\n",
       "        [-1.0000, -0.9820, -0.9640,  ...,  0.9640,  0.9820,  1.0000],\n",
       "        [-1.0000, -0.9820, -0.9640,  ...,  0.9640,  0.9820,  1.0000]])"
      ]
     },
     "execution_count": 9,
     "metadata": {},
     "output_type": "execute_result"
    }
   ],
   "source": [
    "grid_h"
   ]
  },
  {
   "cell_type": "code",
   "execution_count": 10,
   "id": "7ccf78e9-da63-470d-8cd5-cef81be047c2",
   "metadata": {},
   "outputs": [],
   "source": [
    "import matplotlib.pyplot as plt"
   ]
  },
  {
   "cell_type": "code",
   "execution_count": 11,
   "id": "442d83d9-b9b2-47c5-999e-59c9d2ab4ac0",
   "metadata": {},
   "outputs": [
    {
     "data": {
      "text/plain": [
       "<matplotlib.image.AxesImage at 0x7f3ca6561790>"
      ]
     },
     "execution_count": 11,
     "metadata": {},
     "output_type": "execute_result"
    },
    {
     "data": {
      "image/png": "[encoded data removed]",
      "text/plain": [
       "<Figure size 432x288 with 1 Axes>"
      ]
     },
     "metadata": {
      "needs_background": "light"
     },
     "output_type": "display_data"
    }
   ],
   "source": [
    "plt.figure()\n",
    "plt.imshow(grid_w)"
   ]
  },
  {
   "cell_type": "code",
   "execution_count": 12,
   "id": "bdf9ef40-cf4c-494f-8daf-f8c9dee9f134",
   "metadata": {},
   "outputs": [
    {
     "data": {
      "text/plain": [
       "<matplotlib.image.AxesImage at 0x7f3ca4ed6150>"
      ]
     },
     "execution_count": 12,
     "metadata": {},
     "output_type": "execute_result"
    },
    {
     "data": {
      "image/png": "[encoded data removed]",
      "text/plain": [
       "<Figure size 432x288 with 1 Axes>"
      ]
     },
     "metadata": {
      "needs_background": "light"
     },
     "output_type": "display_data"
    }
   ],
   "source": [
    "plt.figure()\n",
    "plt.imshow(grid_h)"
   ]
  },
  {
   "cell_type": "code",
   "execution_count": 13,
   "id": "6a349097-25eb-422f-afcd-e8628ef0913b",
   "metadata": {},
   "outputs": [
    {
     "ename": "NameError",
     "evalue": "name 'motion' is not defined",
     "output_type": "error",
     "traceback": [
      "\u001b[0;31m---------------------------------------------------------------------------\u001b[0m",
      "\u001b[0;31mNameError\u001b[0m                                 Traceback (most recent call last)",
      "\u001b[0;32m<ipython-input-13-2a373f5e3d23>\u001b[0m in \u001b[0;36m<module>\u001b[0;34m\u001b[0m\n\u001b[1;32m      5\u001b[0m \u001b[0mgrid_h\u001b[0m \u001b[0;34m=\u001b[0m \u001b[0mgrid_h\u001b[0m\u001b[0;34m.\u001b[0m\u001b[0mnumpy\u001b[0m\u001b[0;34m(\u001b[0m\u001b[0;34m)\u001b[0m\u001b[0;34m\u001b[0m\u001b[0;34m\u001b[0m\u001b[0m\n\u001b[1;32m      6\u001b[0m \u001b[0;34m\u001b[0m\u001b[0m\n\u001b[0;32m----> 7\u001b[0;31m \u001b[0mcurrent_frame_motion\u001b[0m \u001b[0;34m=\u001b[0m \u001b[0mmotion\u001b[0m\u001b[0;34m[\u001b[0m\u001b[0;34m:\u001b[0m\u001b[0;34m,\u001b[0m \u001b[0mframe\u001b[0m\u001b[0;34m,\u001b[0m \u001b[0;34m...\u001b[0m\u001b[0;34m]\u001b[0m \u001b[0;31m# reduce shape to be (4, 112, 112)\u001b[0m\u001b[0;34m\u001b[0m\u001b[0;34m\u001b[0m\u001b[0m\n\u001b[0m\u001b[1;32m      8\u001b[0m \u001b[0mforward_x\u001b[0m \u001b[0;34m=\u001b[0m \u001b[0mcurrent_frame_motion\u001b[0m\u001b[0;34m[\u001b[0m\u001b[0;36m0\u001b[0m\u001b[0;34m]\u001b[0m \u001b[0;31m# reduce shape to be (112, 112)\u001b[0m\u001b[0;34m\u001b[0m\u001b[0;34m\u001b[0m\u001b[0m\n\u001b[1;32m      9\u001b[0m \u001b[0mforward_y\u001b[0m \u001b[0;34m=\u001b[0m \u001b[0mcurrent_frame_motion\u001b[0m\u001b[0;34m[\u001b[0m\u001b[0;36m1\u001b[0m\u001b[0;34m]\u001b[0m \u001b[0;31m# reduce shape to be (112, 112)\u001b[0m\u001b[0;34m\u001b[0m\u001b[0;34m\u001b[0m\u001b[0m\n",
      "\u001b[0;31mNameError\u001b[0m: name 'motion' is not defined"
     ]
    }
   ],
   "source": [
    "# create the [-1, 1] ranges meshgrids and add them to the raw motion tracking\n",
    "grid_w, grid_h = torch.meshgrid([torch.linspace(-1, 1, 112), torch.linspace(-1, 1, 112)])\n",
    "# grid_w, grid_h = torch.meshgrid([torch.linspace(0, 0, 112), torch.linspace(0, 0, 112)])\n",
    "grid_w = grid_w.numpy()\n",
    "grid_h = grid_h.numpy()\n",
    "\n",
    "current_frame_motion = motion[:, frame, ...] # reduce shape to be (4, 112, 112)\n",
    "forward_x = current_frame_motion[0] # reduce shape to be (112, 112)\n",
    "forward_y = current_frame_motion[1] # reduce shape to be (112, 112)"
   ]
  },
  {
   "cell_type": "code",
   "execution_count": null,
   "id": "6ba08f21-ef06-46b4-9df2-4e2eec62a99e",
   "metadata": {},
   "outputs": [],
   "source": []
  }
 ],
 "metadata": {
  "kernelspec": {
   "display_name": "Python 3",
   "language": "python",
   "name": "python3"
  },
  "language_info": {
   "codemirror_mode": {
    "name": "ipython",
    "version": 3
   },
   "file_extension": ".py",
   "mimetype": "text/x-python",
   "name": "python",
   "nbconvert_exporter": "python",
   "pygments_lexer": "ipython3",
   "version": "3.7.6"
  }
 },
 "nbformat": 4,
 "nbformat_minor": 5
}
