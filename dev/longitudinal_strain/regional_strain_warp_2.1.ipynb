{
 "cells": [
  {
   "cell_type": "markdown",
   "id": "a506ebcf-de0e-4835-8e36-0af6dba5b762",
   "metadata": {},
   "source": [
    "## It seems like the motion tracking information blows up (lose information) if I try to manually adjust the input raw segmentation info before we warp using the motion tracking matrices\n",
    "\n",
    "## Therefore, we need to try another approach, which is going to be we have to keep that we warp the complete raw seg for ED -> whole ES. We need to instead of slicing up the image and warp the individual boundary regions, we need to do some kind of point labeling at each frame.\n",
    "\n",
    "## This assumes it is possible to follow a single pixel as we warp it frame by frame. But what is this pixel?\n",
    "## In the raw segmentation output info there is no pixel, there are only 2 floating point numbers representing the weight whether this position is LV or not LV. \n",
    "\n",
    "## Is it possible to do some kind of point labeling / point registration when we don't even know what is our pixels?\n",
    "## point seg registration is only possible when we have cleanly defined points!!! but we don't actually have any points\n",
    "## we just have say some set of random numbers that get altered to other numbers.\n",
    "## You can't track something like that from my initial understanding\n",
    "## like you can have two pixels side by side with the exact start values that get transformed to different values.\n",
    "\n",
    "5.89734 -> 7.2837, "
   ]
  },
  {
   "cell_type": "markdown",
   "id": "6440eb82-78e3-4ac5-ad26-1f5305f45063",
   "metadata": {},
   "source": [
    "Warp the entire ED frame step by step, keep our attention on the boundary that covers say only the first 30% of the boundary length in terms of the number of pucks stacked from top to bottom (there’s no such thing as infinitely thin slices of pucks in code, unless we’re just using vector magic). We calculate a strain relative to this frame and the previous frame. We do this for all the frames between this and the ED frame. Therefore, if there are n frames between ED and ES, we will have n - 1 strain values. We can take a mean value I guess of these n - 1 strain values and call that the overall regional strain value from ED - > ES for this section. \n"
   ]
  },
  {
   "cell_type": "code",
   "execution_count": null,
   "id": "94aeb1ee-ac07-4429-9509-6b8497f545b6",
   "metadata": {},
   "outputs": [],
   "source": []
  }
 ],
 "metadata": {
  "kernelspec": {
   "display_name": "Python 3",
   "language": "python",
   "name": "python3"
  },
  "language_info": {
   "codemirror_mode": {
    "name": "ipython",
    "version": 3
   },
   "file_extension": ".py",
   "mimetype": "text/x-python",
   "name": "python",
   "nbconvert_exporter": "python",
   "pygments_lexer": "ipython3",
   "version": "3.7.6"
  }
 },
 "nbformat": 4,
 "nbformat_minor": 5
}
