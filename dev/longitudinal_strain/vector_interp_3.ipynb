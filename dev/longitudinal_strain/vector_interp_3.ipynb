{
 "cells": [
  {
   "cell_type": "code",
   "execution_count": 1,
   "id": "a70e05a8-0a37-4bfd-aa3e-85c6557185bd",
   "metadata": {},
   "outputs": [],
   "source": [
    "import numpy as np\n",
    "import matplotlib.pyplot as plt\n",
    "\n",
    "%matplotlib widget"
   ]
  },
  {
   "cell_type": "code",
   "execution_count": 2,
   "id": "2346a85c-6bf1-4c67-a0d1-a2841056504d",
   "metadata": {},
   "outputs": [],
   "source": [
    "def cart2pol(x, y):\n",
    "    rho = np.sqrt(x**2 + y**2)\n",
    "    phi = np.arctan2(y, x)\n",
    "    return rho, phi\n",
    "\n",
    "def pol2cart(rho, theta):\n",
    "    x = rho * np.cos(theta)\n",
    "    y = rho * np.sin(theta)\n",
    "    return x, y"
   ]
  },
  {
   "cell_type": "code",
   "execution_count": 3,
   "id": "72febd60-cbd4-4b86-8e1c-7e4cf74e24d3",
   "metadata": {},
   "outputs": [],
   "source": [
    "class Vector:\n",
    "    def __init__(self, tail_x, tail_y, mag_x, mag_y):\n",
    "        self.tail_x = tail_x\n",
    "        self.tail_y = tail_y\n",
    "        \n",
    "        self.mag_x = mag_x\n",
    "        self.mag_y = mag_y\n",
    "        \n",
    "        # self.head_x = tail_x + mag_x\n",
    "        # self.head_y = tail_y + mag_y\n",
    "        \n",
    "        # for if need convert vector's magnitude into polar coords\n",
    "        self.rho = None\n",
    "        self.theta = None\n",
    "        \n",
    "    def polar(self):\n",
    "        self.rho, self.theta = cart2pol(self.mag_x, self.mag_y)\n",
    "        \n",
    "    def cart(self):\n",
    "        self.mag_x, self.mag_y = pol2cart(self.rho, self.theta)\n",
    "        # update vector head\n",
    "        # self.head_x = self.tail_x + self.mag_x\n",
    "        # self.head_y = self.tail_y + self.mag_y "
   ]
  },
  {
   "cell_type": "code",
   "execution_count": 4,
   "id": "59499579-bd97-4f14-80b4-732831e064a2",
   "metadata": {},
   "outputs": [],
   "source": [
    "def vector_bilinear_interpolation(vectors, new_vector):\n",
    "    \n",
    "    # convert magnitudes to polar\n",
    "    for v in vectors:\n",
    "        v.polar()\n",
    "        \n",
    "    # linearly interpolate top two points\n",
    "    # linearly interpoalte bottom two points\n",
    "    # then linearly interpolate with the two new points\n",
    "    top_vectors = []\n",
    "    bottom_vectors = []\n",
    "\n",
    "    for v in vectors:\n",
    "        if v.tail_y == int(new_vector.tail_y):\n",
    "            bottom_vectors.append(v)\n",
    "        else:\n",
    "            top_vectors.append(v)\n",
    "            \n",
    "    # for first two linearly interps\n",
    "    weight_1 = new_vector.tail_x - top_vectors[0].tail_x\n",
    "    # print(f'weights: {(weight_1, weight_2)}')\n",
    "\n",
    "    # horizontal top\n",
    "    rho_1 = (weight_1 * top_vectors[1].rho) + ((1.0 - weight_1) * top_vectors[0].rho)\n",
    "    theta_1 = (weight_1 * top_vectors[1].theta) + ((1.0 - weight_1) * top_vectors[0].theta)\n",
    "\n",
    "    # horizontal bottom\n",
    "    rho_2 = (weight_1 * bottom_vectors[1].rho) + ((1.0 - weight_1) * bottom_vectors[0].rho)\n",
    "    theta_2 = (weight_1 * bottom_vectors[1].theta) + ((1.0 - weight_1) * bottom_vectors[0].theta)\n",
    "\n",
    "    # final interp\n",
    "    weight_2 = new_vector.tail_y - bottom_vectors[0].tail_y\n",
    "    # vertial\n",
    "    rho_3 = (weight_2 * rho_1) + ((1.0 - weight_2) * rho_2)\n",
    "    theta_3 = (weight_2 * theta_1) + ((1.0 - weight_2) * theta_2)       \n",
    "    \n",
    "    new_vector.rho = rho_3\n",
    "    new_vector.theta = theta_3\n",
    "    new_vector.cart()\n",
    "    \n",
    "    return new_vector"
   ]
  },
  {
   "cell_type": "code",
   "execution_count": 5,
   "id": "bf847e9d-ae75-445b-8fe3-c7ccb97dfcd7",
   "metadata": {},
   "outputs": [],
   "source": [
    "def view_4_vectors_and_interped_vector(vectors, new_vector):\n",
    "    x_tails = []\n",
    "    y_tails = []\n",
    "    x_mags = []\n",
    "    y_mags = []\n",
    "\n",
    "    for v in vectors:\n",
    "        x_tails.append(v.tail_x)\n",
    "        y_tails.append(v.tail_y)\n",
    "\n",
    "        x_mags.append(v.mag_x)\n",
    "        y_mags.append(v.mag_y)\n",
    "        \n",
    "    plt.figure()\n",
    "    plt.quiver(x_tails, y_tails, x_mags, y_mags, color='k', linewidth=0.7)\n",
    "    plt.quiver(new_vector.tail_x, new_vector.tail_y, new_vector.mag_x, new_vector.mag_y, color='b', linewidth=0.7)"
   ]
  },
  {
   "cell_type": "code",
   "execution_count": 26,
   "id": "8d85fffd-0ab6-43d6-a127-f3a587e057bc",
   "metadata": {},
   "outputs": [],
   "source": [
    "vectors = []\n",
    "\n",
    "vectors.append(Vector(0,0,0,1))\n",
    "\n",
    "vectors.append(Vector(0,1,0,1))\n",
    "\n",
    "vectors.append(Vector(1,0,1,0))\n",
    "\n",
    "vectors.append(Vector(1,1,1,0))\n",
    "\n",
    "new_vector = Vector(0, 0, 0, 0)"
   ]
  },
  {
   "cell_type": "code",
   "execution_count": 27,
   "id": "1d3901e4-b2ac-470a-972a-3ca8b5911683",
   "metadata": {},
   "outputs": [],
   "source": [
    "new_vector = vector_bilinear_interpolation(vectors, new_vector)"
   ]
  },
  {
   "cell_type": "code",
   "execution_count": 28,
   "id": "3dbb8ba4-76cb-4976-9e34-3c50d4f0fa53",
   "metadata": {},
   "outputs": [
    {
     "data": {
      "application/vnd.jupyter.widget-view+json": {
       "model_id": "baf75f53a97240e3bc361221f382d3d6",
       "version_major": 2,
       "version_minor": 0
      },
      "image/png": "[encoded data removed]",
      "text/html": [
       "\n",
       "            <div style=\"display: inline-block;\">\n",
       "                <div class=\"jupyter-widgets widget-label\" style=\"text-align: center;\">\n",
       "                    Figure\n",
       "                </div>\n",
       "                <img src='data:image/png;base64,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' width=640.0/>\n",
       "            </div>\n",
       "        "
      ],
      "text/plain": [
       "Canvas(toolbar=Toolbar(toolitems=[('Home', 'Reset original view', 'home', 'home'), ('Back', 'Back to previous …"
      ]
     },
     "metadata": {},
     "output_type": "display_data"
    }
   ],
   "source": [
    "view_4_vectors_and_interped_vector(vectors, new_vector)"
   ]
  },
  {
   "cell_type": "code",
   "execution_count": 9,
   "id": "bf71a0a1-eaf0-45e1-8ace-d2db4136c62c",
   "metadata": {},
   "outputs": [
    {
     "data": {
      "text/plain": [
       "(-5.0, 6.123233995736766e-16)"
      ]
     },
     "execution_count": 9,
     "metadata": {},
     "output_type": "execute_result"
    }
   ],
   "source": [
    "new_vector.mag_x, new_vector.mag_y"
   ]
  },
  {
   "cell_type": "code",
   "execution_count": null,
   "id": "62580738-f859-46ed-8a21-f216ea514226",
   "metadata": {},
   "outputs": [],
   "source": []
  }
 ],
 "metadata": {
  "kernelspec": {
   "display_name": "Python 3",
   "language": "python",
   "name": "python3"
  },
  "language_info": {
   "codemirror_mode": {
    "name": "ipython",
    "version": 3
   },
   "file_extension": ".py",
   "mimetype": "text/x-python",
   "name": "python",
   "nbconvert_exporter": "python",
   "pygments_lexer": "ipython3",
   "version": "3.7.6"
  }
 },
 "nbformat": 4,
 "nbformat_minor": 5
}
