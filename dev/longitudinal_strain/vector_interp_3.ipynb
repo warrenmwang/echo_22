{
 "cells": [
  {
   "cell_type": "code",
   "execution_count": 1,
   "id": "a70e05a8-0a37-4bfd-aa3e-85c6557185bd",
   "metadata": {},
   "outputs": [],
   "source": [
    "import numpy as np\n",
    "import matplotlib.pyplot as plt\n",
    "\n",
    "%matplotlib widget"
   ]
  },
  {
   "cell_type": "code",
   "execution_count": 2,
   "id": "2346a85c-6bf1-4c67-a0d1-a2841056504d",
   "metadata": {},
   "outputs": [],
   "source": [
    "def cart2pol(x, y):\n",
    "    rho = np.sqrt(x**2 + y**2)\n",
    "    phi = np.arctan2(y, x)\n",
    "    return rho, phi\n",
    "\n",
    "def pol2cart(rho, theta):\n",
    "    x = rho * np.cos(theta)\n",
    "    y = rho * np.sin(theta)\n",
    "    return x, y"
   ]
  },
  {
   "cell_type": "code",
   "execution_count": 3,
   "id": "72febd60-cbd4-4b86-8e1c-7e4cf74e24d3",
   "metadata": {},
   "outputs": [],
   "source": [
    "class Vector:\n",
    "    def __init__(self, tail_x, tail_y, mag_x, mag_y):\n",
    "        self.tail_x = tail_x\n",
    "        self.tail_y = tail_y\n",
    "        \n",
    "        self.mag_x = mag_x\n",
    "        self.mag_y = mag_y\n",
    "        \n",
    "        # self.head_x = tail_x + mag_x\n",
    "        # self.head_y = tail_y + mag_y\n",
    "        \n",
    "        # for if need convert vector's magnitude into polar coords\n",
    "        self.rho = None\n",
    "        self.theta = None\n",
    "        \n",
    "    def polar(self):\n",
    "        self.rho, self.theta = cart2pol(self.mag_x, self.mag_y)\n",
    "        \n",
    "    def cart(self):\n",
    "        self.mag_x, self.mag_y = pol2cart(self.rho, self.theta)\n",
    "        # update vector head\n",
    "        # self.head_x = self.tail_x + self.mag_x\n",
    "        # self.head_y = self.tail_y + self.mag_y "
   ]
  },
  {
   "cell_type": "code",
   "execution_count": 4,
   "id": "59499579-bd97-4f14-80b4-732831e064a2",
   "metadata": {},
   "outputs": [],
   "source": [
    "def vector_bilinear_interpolation(vectors, new_vector):\n",
    "    \n",
    "    # convert magnitudes to polar\n",
    "    for v in vectors:\n",
    "        v.polar()\n",
    "        \n",
    "    # linearly interpolate top two points\n",
    "    # linearly interpoalte bottom two points\n",
    "    # then linearly interpolate with the two new points\n",
    "    top_vectors = []\n",
    "    bottom_vectors = []\n",
    "\n",
    "    for v in vectors:\n",
    "        if v.tail_y == int(new_vector.tail_y):\n",
    "            bottom_vectors.append(v)\n",
    "        else:\n",
    "            top_vectors.append(v)\n",
    "            \n",
    "    # for first two linearly interps\n",
    "    weight_1 = new_vector.tail_x - top_vectors[0].tail_x\n",
    "    # print(f'weights: {(weight_1, weight_2)}')\n",
    "\n",
    "    # horizontal top\n",
    "    rho_1 = (weight_1 * top_vectors[1].rho) + ((1.0 - weight_1) * top_vectors[0].rho)\n",
    "    theta_1 = (weight_1 * top_vectors[1].theta) + ((1.0 - weight_1) * top_vectors[0].theta)\n",
    "\n",
    "    # horizontal bottom\n",
    "    rho_2 = (weight_1 * bottom_vectors[1].rho) + ((1.0 - weight_1) * bottom_vectors[0].rho)\n",
    "    theta_2 = (weight_1 * bottom_vectors[1].theta) + ((1.0 - weight_1) * bottom_vectors[0].theta)\n",
    "\n",
    "    # final interp\n",
    "    weight_2 = new_vector.tail_y - bottom_vectors[0].tail_y\n",
    "    # vertial\n",
    "    rho_3 = (weight_2 * rho_1) + ((1.0 - weight_2) * rho_2)\n",
    "    theta_3 = (weight_2 * theta_1) + ((1.0 - weight_2) * theta_2)       \n",
    "    \n",
    "    new_vector.rho = rho_3\n",
    "    new_vector.theta = theta_3\n",
    "    new_vector.cart()\n",
    "    \n",
    "    return new_vector"
   ]
  },
  {
   "cell_type": "code",
   "execution_count": 5,
   "id": "bf847e9d-ae75-445b-8fe3-c7ccb97dfcd7",
   "metadata": {},
   "outputs": [],
   "source": [
    "def view_4_vectors_and_interped_vector(vectors, new_vector):\n",
    "    x_tails = []\n",
    "    y_tails = []\n",
    "    x_mags = []\n",
    "    y_mags = []\n",
    "\n",
    "    for v in vectors:\n",
    "        x_tails.append(v.tail_x)\n",
    "        y_tails.append(v.tail_y)\n",
    "\n",
    "        x_mags.append(v.mag_x)\n",
    "        y_mags.append(v.mag_y)\n",
    "        \n",
    "    plt.figure()\n",
    "    plt.quiver(x_tails, y_tails, x_mags, y_mags, color='k', linewidth=0.7)\n",
    "    plt.quiver(new_vector.tail_x, new_vector.tail_y, new_vector.mag_x, new_vector.mag_y, color='b', linewidth=0.7)"
   ]
  },
  {
   "cell_type": "code",
   "execution_count": 58,
   "id": "8d85fffd-0ab6-43d6-a127-f3a587e057bc",
   "metadata": {},
   "outputs": [],
   "source": [
    "vectors = []\n",
    "\n",
    "vectors.append(Vector(0,0,0,-1))\n",
    "\n",
    "vectors.append(Vector(0,1,0,1))\n",
    "\n",
    "vectors.append(Vector(1,0,1,0))\n",
    "\n",
    "vectors.append(Vector(1,1,-5,0))\n",
    "\n",
    "new_vector = Vector(1, 1, 0, 0)"
   ]
  },
  {
   "cell_type": "code",
   "execution_count": 59,
   "id": "1d3901e4-b2ac-470a-972a-3ca8b5911683",
   "metadata": {},
   "outputs": [],
   "source": [
    "new_vector = vector_bilinear_interpolation(vectors, new_vector)"
   ]
  },
  {
   "cell_type": "code",
   "execution_count": 60,
   "id": "3dbb8ba4-76cb-4976-9e34-3c50d4f0fa53",
   "metadata": {},
   "outputs": [
    {
     "data": {
      "application/vnd.jupyter.widget-view+json": {
       "model_id": "63a8db1dc26f4ec8ba71c593d5686c20",
       "version_major": 2,
       "version_minor": 0
      },
      "image/png": "[encoded data removed]",
      "text/html": [
       "\n",
       "            <div style=\"display: inline-block;\">\n",
       "                <div class=\"jupyter-widgets widget-label\" style=\"text-align: center;\">\n",
       "                    Figure\n",
       "                </div>\n",
       "                <img src='data:image/png;base64,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' width=640.0/>\n",
       "            </div>\n",
       "        "
      ],
      "text/plain": [
       "Canvas(toolbar=Toolbar(toolitems=[('Home', 'Reset original view', 'home', 'home'), ('Back', 'Back to previous …"
      ]
     },
     "metadata": {},
     "output_type": "display_data"
    }
   ],
   "source": [
    "view_4_vectors_and_interped_vector(vectors, new_vector)"
   ]
  },
  {
   "cell_type": "code",
   "execution_count": 61,
   "id": "bf71a0a1-eaf0-45e1-8ace-d2db4136c62c",
   "metadata": {},
   "outputs": [
    {
     "data": {
      "text/plain": [
       "(-5.0, 6.123233995736766e-16)"
      ]
     },
     "execution_count": 61,
     "metadata": {},
     "output_type": "execute_result"
    }
   ],
   "source": [
    "new_vector.mag_x, new_vector.mag_y"
   ]
  },
  {
   "cell_type": "code",
   "execution_count": null,
   "id": "62580738-f859-46ed-8a21-f216ea514226",
   "metadata": {},
   "outputs": [],
   "source": []
  }
 ],
 "metadata": {
  "kernelspec": {
   "display_name": "Python 3",
   "language": "python",
   "name": "python3"
  },
  "language_info": {
   "codemirror_mode": {
    "name": "ipython",
    "version": 3
   },
   "file_extension": ".py",
   "mimetype": "text/x-python",
   "name": "python",
   "nbconvert_exporter": "python",
   "pygments_lexer": "ipython3",
   "version": "3.7.6"
  }
 },
 "nbformat": 4,
 "nbformat_minor": 5
}
