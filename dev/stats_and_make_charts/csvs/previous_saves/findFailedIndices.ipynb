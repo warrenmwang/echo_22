{
 "cells": [
  {
   "cell_type": "code",
   "execution_count": 38,
   "id": "cdef5983-6b91-413d-8a7f-075902cf6a62",
   "metadata": {},
   "outputs": [],
   "source": [
    "indeces_found = []\n",
    "\n",
    "with open('withWarp_Original_Pretrained_R2plus1DMotionSegNet.pthlog.csv', 'r') as file:\n",
    "    lines = file.readlines()\n",
    "    for line in lines:\n",
    "        splits = line.split(',')\n",
    "        try:\n",
    "            ind = int(splits[0])\n",
    "            indeces_found.append(ind)\n",
    "        except:\n",
    "            pass"
   ]
  },
  {
   "cell_type": "code",
   "execution_count": 39,
   "id": "7b848592-97de-44ab-a500-b50fa5fa546a",
   "metadata": {},
   "outputs": [],
   "source": [
    "not_parsed_index = []\n",
    "for i in range(0, 1276):\n",
    "    try:\n",
    "        if i not in indeces_found:\n",
    "            not_parsed_index.append(i)\n",
    "    except:\n",
    "        not_parsed_index.append(i)"
   ]
  },
  {
   "cell_type": "code",
   "execution_count": 40,
   "id": "eb4d7d94-8857-4f11-8520-e6b64c84a572",
   "metadata": {},
   "outputs": [
    {
     "data": {
      "text/plain": [
       "157"
      ]
     },
     "execution_count": 40,
     "metadata": {},
     "output_type": "execute_result"
    }
   ],
   "source": [
    "len(not_parsed_index)"
   ]
  },
  {
   "cell_type": "code",
   "execution_count": 41,
   "id": "ba7c84a8-e518-424d-804c-0930b3814ff7",
   "metadata": {},
   "outputs": [
    {
     "name": "stdout",
     "output_type": "stream",
     "text": [
      "[7, 23, 27, 33, 58, 59, 71, 84, 95, 98, 108, 110, 111, 119, 134, 137, 138, 152, 181, 186, 190, 192, 195, 204, 206, 211, 214, 217, 218, 221, 243, 245, 263, 268, 274, 278, 279, 283, 294, 305, 323, 334, 337, 354, 362, 363, 367, 384, 390, 401, 409, 411, 412, 421, 436, 440, 480, 486, 504, 509, 511, 512, 522, 528, 533, 563, 567, 573, 583, 586, 587, 591, 597, 605, 611, 612, 613, 615, 636, 637, 638, 640, 646, 651, 657, 662, 686, 690, 691, 693, 722, 743, 744, 746, 750, 758, 761, 773, 775, 784, 793, 801, 803, 808, 811, 820, 823, 835, 842, 865, 870, 880, 895, 900, 908, 909, 917, 918, 929, 933, 936, 941, 945, 949, 957, 962, 964, 986, 995, 1023, 1033, 1048, 1050, 1051, 1052, 1054, 1059, 1061, 1065, 1103, 1122, 1146, 1148, 1156, 1161, 1181, 1198, 1215, 1230, 1236, 1239, 1247, 1252, 1255, 1260, 1266, 1272]\n"
     ]
    }
   ],
   "source": [
    "print(not_parsed_index)"
   ]
  },
  {
   "cell_type": "code",
   "execution_count": null,
   "id": "9c86b62e-7721-464b-9396-9e21c3fdad59",
   "metadata": {},
   "outputs": [],
   "source": []
  }
 ],
 "metadata": {
  "kernelspec": {
   "display_name": "Python 3",
   "language": "python",
   "name": "python3"
  },
  "language_info": {
   "codemirror_mode": {
    "name": "ipython",
    "version": 3
   },
   "file_extension": ".py",
   "mimetype": "text/x-python",
   "name": "python",
   "nbconvert_exporter": "python",
   "pygments_lexer": "ipython3",
   "version": "3.7.6"
  }
 },
 "nbformat": 4,
 "nbformat_minor": 5
}
