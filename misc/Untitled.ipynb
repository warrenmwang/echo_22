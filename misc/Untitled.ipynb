{
 "cells": [
  {
   "cell_type": "markdown",
   "id": "ccc2a41e-d8dc-4c3b-a59d-67d34889cde0",
   "metadata": {},
   "source": [
    "# Test to see if can load tensors to GPU...for working on different systems."
   ]
  },
  {
   "cell_type": "code",
   "execution_count": 1,
   "id": "35266613-f23f-458b-a356-dd1dacf447a5",
   "metadata": {},
   "outputs": [
    {
     "name": "stderr",
     "output_type": "stream",
     "text": [
      "/home/wmw015/.local/lib/python3.7/site-packages/tqdm/auto.py:22: TqdmWarning: IProgress not found. Please update jupyter and ipywidgets. See https://ipywidgets.readthedocs.io/en/stable/user_install.html\n",
      "  from .autonotebook import tqdm as notebook_tqdm\n"
     ]
    },
    {
     "name": "stdout",
     "output_type": "stream",
     "text": [
      "cuda\n",
      "created x, y\n",
      "moved x,y to cuda\n",
      "tensor([[ 1.6426, -1.3804, -1.7623,  0.1096, -1.0016, -2.4890, -2.7840,  0.7527,\n",
      "         -2.5542,  0.0981],\n",
      "        [-1.0363, -0.3704,  0.6083,  1.1371, -0.4446, -0.3188, -3.1598, -0.1363,\n",
      "          0.1273,  2.3740],\n",
      "        [ 0.6755,  1.6435, -1.4592,  0.9377, -5.0708, -0.7772,  0.0340,  1.4798,\n",
      "         -0.0396,  0.1690],\n",
      "        [ 0.3365, -0.0104,  0.1418,  0.8380,  1.2772, -0.9415, -0.2974,  0.5269,\n",
      "          1.0548,  2.2014],\n",
      "        [ 2.7101,  0.9824,  0.9183, -0.1493,  0.7729,  0.5193, -0.1066, -0.3703,\n",
      "         -0.0321, -0.3158],\n",
      "        [-1.8609, -0.6007,  1.7218, -0.0275,  0.3282,  1.8494,  0.2126,  0.7396,\n",
      "          0.6568, -1.7361],\n",
      "        [-0.0713, -0.2081,  0.6645,  2.3247,  0.7120, -1.2917, -0.4364, -1.3570,\n",
      "         -1.0162,  0.5780],\n",
      "        [ 0.9908,  1.7684,  0.9246,  0.8051, -1.2312, -0.2965,  1.9404,  0.7522,\n",
      "          2.2017,  0.4355],\n",
      "        [ 0.8829, -2.0453,  2.5549,  1.6449,  1.0951, -1.3389,  0.8498, -1.4032,\n",
      "         -1.6296,  1.9786],\n",
      "        [ 3.5830,  2.8315,  0.8477, -2.2350, -0.6293, -1.7231, -0.3332,  0.3070,\n",
      "         -0.0167,  1.2267]])\n"
     ]
    }
   ],
   "source": [
    "import torch\n",
    "\n",
    "# Check if CUDA is available\n",
    "device = torch.device(\"cuda\" if torch.cuda.is_available() else \"cpu\")\n",
    "print(device)\n",
    "\n",
    "# Create some tensors\n",
    "x = torch.randn(10, 10)\n",
    "y = torch.randn(10, 10)\n",
    "print(\"created x, y\")\n",
    "\n",
    "# Move the tensors to the GPU\n",
    "x = x.to(device)\n",
    "y = y.to(device)\n",
    "print(f\"moved x,y to {device}\")\n",
    "\n",
    "# Perform some operations on the tensors\n",
    "z = x + y\n",
    "\n",
    "# Move the result back to the CPU\n",
    "z = z.to(\"cpu\")\n",
    "\n",
    "# Print the result\n",
    "print(z)"
   ]
  },
  {
   "cell_type": "code",
   "execution_count": null,
   "id": "0f1fe2a9-5116-401f-a40d-8f74a2b960e5",
   "metadata": {},
   "outputs": [],
   "source": []
  }
 ],
 "metadata": {
  "kernelspec": {
   "display_name": "Python 3 (ipykernel)",
   "language": "python",
   "name": "python3"
  },
  "language_info": {
   "codemirror_mode": {
    "name": "ipython",
    "version": 3
   },
   "file_extension": ".py",
   "mimetype": "text/x-python",
   "name": "python",
   "nbconvert_exporter": "python",
   "pygments_lexer": "ipython3",
   "version": "3.7.16"
  }
 },
 "nbformat": 4,
 "nbformat_minor": 5
}
